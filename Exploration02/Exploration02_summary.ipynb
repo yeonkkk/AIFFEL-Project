{
 "cells": [
  {
   "cell_type": "markdown",
   "id": "current-portfolio",
   "metadata": {},
   "source": [
    "## Exploration 02.\n",
    "\n",
    "### Iris의 세 가지 품종, 분류해볼 수 있겠어요?\n",
    "date: 2021.09.28\n",
    "\n",
    "### 1. scikit-learn의 데이터셋\n",
    "\n",
    "**Toy datasets**: boston, iris, diabetes, digits, linnerud, wine, breast cancer<br>\n",
    "**Real world datasets**: olivetti faces, 20newsgroups, covtype, california housing\n",
    "\n",
    "---"
   ]
  },
  {
   "cell_type": "markdown",
   "id": "persistent-volunteer",
   "metadata": {},
   "source": [
    "### 2. 모델 만들기\n",
    "- 필요한 모듈 import\n",
    "- 데이터 준비 및 이해하기\n",
    "- train, test 데이터 분리\n",
    "- 여러 모델로 학습: 가장 좋은 성능 모델 선택하기\n",
    "- 모델 평가"
   ]
  },
  {
   "cell_type": "markdown",
   "id": "designed-spotlight",
   "metadata": {},
   "source": [
    "---\n",
    "### 3. 데이터 준비 및 이해하기\n",
    "\n",
    "`dir()`: 객체가 어떤 변수와 메서드를 가지고 있는지 나열<br>\n",
    "` target_names`: 라벨 이름<br>\n",
    "`DESCR`: 데이터셋 설명<br>\n",
    "`feature_names`: feature에 대한 설명<br>\n",
    "`filename`: 데이터셋 저장 경로"
   ]
  },
  {
   "cell_type": "markdown",
   "id": "positive-chosen",
   "metadata": {},
   "source": [
    "---\n",
    "`pandas`의 `dataframe`에서 정답 컬럼 추가하기"
   ]
  },
  {
   "cell_type": "code",
   "execution_count": null,
   "id": "buried-point",
   "metadata": {},
   "outputs": [],
   "source": [
    "iris_df[\"label\"] = iris.target"
   ]
  },
  {
   "cell_type": "markdown",
   "id": "hispanic-anime",
   "metadata": {},
   "source": [
    "**입력 데이터(문제)** = `feature`, `X` 으로 많이 표현<br>\n",
    "**정답 데이터** = `label`, `target`, `y` 로 많이 표현"
   ]
  },
  {
   "cell_type": "markdown",
   "id": "material-deadline",
   "metadata": {},
   "source": [
    "#### train dataset & test dataset 분리하기\n",
    "`sklearn.model_selection` 패키지의 `train_test_split` 활용<br>\n",
    "`test_size`: test dataset 크기 조절<br>\n",
    "`radom_state`: 각 데이터를 분리하는데 적용되는 랜덤성 결정"
   ]
  },
  {
   "cell_type": "code",
   "execution_count": null,
   "id": "helpful-creature",
   "metadata": {},
   "outputs": [],
   "source": [
    "from sklearn.model_selection import train_test_split\n",
    "\n",
    "X_train, X_test, y_train, y_test = train_test_split(iris_data, \n",
    "                                                    iris_label, \n",
    "                                                    test_size=0.2, \n",
    "                                                    random_state=7)"
   ]
  },
  {
   "cell_type": "markdown",
   "id": "roman-alias",
   "metadata": {},
   "source": [
    "---\n",
    "### 4. 모델 학습\n",
    "\n",
    "- **지도학습(Supervised Learning)**: 정답이 있는 문제 학습\n",
    "    \n",
    "    - 분류(Classification): 입력값의 카테고리 분류\n",
    "    - 회귀(Regression): 입력값에 따라 특정 필드의 수치를 맞춤\n",
    "<br>\n",
    "<br>\n",
    "- **비지도학습(Unsupervised Learning)**: 정답이 없는 문제 학습\n"
   ]
  },
  {
   "cell_type": "markdown",
   "id": "hazardous-break",
   "metadata": {},
   "source": [
    "#### Decision Tree\n",
    "- 직관적이고 분류 문제에 기본적으로 많이 쓰이는 모델(단계별 분류)\n",
    "- 단점 :결정경계가 데이터 축에 수직이어서 특정 데이터에만 잘 작동할 수 있다는 문제<br> \n",
    "→ 해결안: **Random Forest**(여러개의 Decision Tree)\n",
    "\n",
    "<br> \n",
    "`sklearn.tree` 패키지의 `DecisionTreeClassifier` 활용"
   ]
  },
  {
   "cell_type": "code",
   "execution_count": null,
   "id": "upset-temple",
   "metadata": {},
   "outputs": [],
   "source": [
    "from sklearn.tree import DecisionTreeClassifier\n",
    "\n",
    "decision_tree = DecisionTreeClassifier(random_state=32)\n",
    "\n",
    "# 모델 학습\n",
    "decision_tree.fit(X_train, y_train)\n",
    "# 예측\n",
    "y_pred = decision_tree.predict(X_test)\n",
    "\n",
    "# 정확도 확인\n",
    "from sklearn.metrics import accuracy_score\n",
    "\n",
    "accuracy = accuracy_score(y_test, y_pred)"
   ]
  },
  {
   "cell_type": "markdown",
   "id": "affecting-cigarette",
   "metadata": {},
   "source": [
    "#### RandomForest\n",
    "-  Decision Tree 모델을 여러개 합쳐 Decision Tree의 단점 보완\n",
    "- **앙상블(Ensemble)** 기법: 다수의 단일 모델을 사용하여 모델 한 개만 사용할 때의 단점 극복\n",
    "\n",
    "<br> \n",
    "`sklearn.ensemble` 패키지의 `RandomForestClassifier` 활용"
   ]
  },
  {
   "cell_type": "code",
   "execution_count": null,
   "id": "respected-brush",
   "metadata": {},
   "outputs": [],
   "source": [
    "from sklearn.ensemble import RandomForestClassifier\n",
    "\n",
    "random_forest = RandomForestClassifier(random_state=32)\n",
    "random_forest.fit(X_train, y_train)\n",
    "y_pred = random_forest.predict(X_test)"
   ]
  },
  {
   "cell_type": "markdown",
   "id": "finite-satisfaction",
   "metadata": {},
   "source": [
    "---\n",
    "### 5. 이외 scikit-learn 내장 분류 모델\n",
    "\n",
    "- Support Vector Machine (SVM, 서포트 벡터 머신)\n",
    "- Stochastic Gradient Descent Classifier (SGDClassifier)\n",
    "- Logistic Regression(로지스틱 회귀)\n"
   ]
  },
  {
   "cell_type": "markdown",
   "id": "animated-oakland",
   "metadata": {},
   "source": [
    "---\n",
    "### 6. 정확도(accuracy)와 오차행렬(confusion matrix)\n",
    "\n",
    "불균형 데이터에는 **정확도의 함정**이 있을 수 있다.<br>\n",
    "여기서 말하는 정확도의 함정은 **정답의 분포**에 따라 정확도가 모델 성능 평가의 척도가 되지 못할 수 있다는 것\n",
    "\n",
    "<br>\n",
    "\n",
    "#### 오차행렬\n",
    "- **예측에 쓰이는 기준**\n",
    "\n",
    "     - TN(True Negative)\n",
    "     - FP(False Positive)\n",
    "     - FN(False Negative)\n",
    "     - TP(True Positive)\n",
    "     \n",
    " <br>\n",
    " \n",
    "- **오차행렬이 나타내는 성능 지표**\n",
    "\n",
    "    - 정밀도 (Precision)\n",
    "    - 재현율 (Sensitivity, Recall)\n",
    "    - F1 스코어 (f1 score)\n",
    "    - Negative Predictive Value\n",
    "    - Specificity\n",
    "    - Accuracy\n",
    "\n",
    "<br>\n",
    "\n",
    "- **Precision**\n",
    "\n",
    "    - FP가 낮을수록 커짐\n",
    "    - 음성인데 양성으로 판단하는 경우가 적어야 함\n",
    "    - 전체 메일에서 스팸 메일 분류와 같은 모델에서 중요\n",
    "\n",
    "<br>\n",
    "\n",
    "- **Recall**\n",
    "\n",
    "    - FN이 낮을수록 커짐\n",
    "    - 양성인데 음성으로 판단하는 경우가 적어야 함\n",
    "    - 암환자 진단과 같은 모델에서 중요"
   ]
  },
  {
   "cell_type": "code",
   "execution_count": null,
   "id": "exotic-preserve",
   "metadata": {},
   "outputs": [],
   "source": [
    "# 오차행렬\n",
    "from sklearn.metrics import confusion_matrix\n",
    "\n",
    "confusion_matrix(y_test, y_pred)"
   ]
  }
 ],
 "metadata": {
  "kernelspec": {
   "display_name": "Python 3",
   "language": "python",
   "name": "python3"
  },
  "language_info": {
   "codemirror_mode": {
    "name": "ipython",
    "version": 3
   },
   "file_extension": ".py",
   "mimetype": "text/x-python",
   "name": "python",
   "nbconvert_exporter": "python",
   "pygments_lexer": "ipython3",
   "version": "3.7.9"
  }
 },
 "nbformat": 4,
 "nbformat_minor": 5
}
