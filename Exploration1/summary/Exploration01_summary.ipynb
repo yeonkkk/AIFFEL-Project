{
 "cells": [
  {
   "cell_type": "markdown",
   "id": "hawaiian-financing",
   "metadata": {},
   "source": [
    "# Exploration 01. \n",
    "### 인공지능과 가위바위보 하기\n",
    "date: 2021.09.23"
   ]
  },
  {
   "cell_type": "markdown",
   "id": "cultural-consent",
   "metadata": {},
   "source": [
    "## 1. 딥러닝 생성 과정\n",
    "\n",
    "데이터 준비 → 딥러닝 네트워크 설계 → 학습 → 테스트(평가)\n",
    "\n",
    "---"
   ]
  },
  {
   "cell_type": "markdown",
   "id": "hispanic-complexity",
   "metadata": {},
   "source": [
    "## 2. 숫자 손글씨 인식기 만들기 (Sequential Model 이용)\n",
    "\n",
    "### 2-1. Data 준비\n",
    "\n",
    "- Dataset: MNIST 숫자 손글씨 불러오기"
   ]
  },
  {
   "cell_type": "code",
   "execution_count": 3,
   "id": "celtic-election",
   "metadata": {},
   "outputs": [
    {
     "name": "stdout",
     "output_type": "stream",
     "text": [
      "60000\n"
     ]
    }
   ],
   "source": [
    "import tensorflow as tf\n",
    "from tensorflow import keras\n",
    "\n",
    "import numpy as np\n",
    "import matplotlib.pyplot as plt\n",
    "\n",
    "mnist = keras.datasets.mnist\n",
    "\n",
    "# MNIST 데이터를 로드. 다운로드하지 않았다면 다운로드까지 자동으로 진행\n",
    "(x_train, y_train), (x_test, y_test) = mnist.load_data()   \n",
    "\n",
    "print(len(x_train))  # x_train 배열의 크기를 출력"
   ]
  },
  {
   "cell_type": "markdown",
   "id": "confident-banana",
   "metadata": {},
   "source": [
    "- **Matplotlib**\n",
    "    \n",
    "    - 파이썬에서 제공하는 시각화(Visualization) 패키지\n",
    "    -  차트(chart), 플롯(plot) 등 다양한 형태로 데이터를 시각화할 수 있는 기능을 제공"
   ]
  },
  {
   "cell_type": "code",
   "execution_count": 5,
   "id": "stock-interference",
   "metadata": {},
   "outputs": [
    {
     "data": {
      "image/png": "[encoded data removed]",
      "text/plain": [
       "<Figure size 432x288 with 1 Axes>"
      ]
     },
     "metadata": {
      "needs_background": "light"
     },
     "output_type": "display_data"
    },
    {
     "name": "stdout",
     "output_type": "stream",
     "text": [
      "10001 번째 이미지의 숫자는 바로  3 입니다.\n"
     ]
    }
   ],
   "source": [
    "# 이미지 출력해보기\n",
    "index=10000     \n",
    "plt.imshow(x_train[index],cmap=plt.cm.binary)\n",
    "plt.show()\n",
    "print( (index+1), '번째 이미지의 숫자는 바로 ',  y_train[index], '입니다.')"
   ]
  },
  {
   "cell_type": "code",
   "execution_count": 6,
   "id": "opposed-timeline",
   "metadata": {},
   "outputs": [
    {
     "name": "stdout",
     "output_type": "stream",
     "text": [
      "(60000, 28, 28)\n",
      "(10000, 28, 28)\n"
     ]
    }
   ],
   "source": [
    "# 데이터양 확인\n",
    "print(x_train.shape)\n",
    "print(x_test.shape)"
   ]
  },
  {
   "cell_type": "markdown",
   "id": "large-temple",
   "metadata": {},
   "source": [
    "- **검증용 데이터(validataion set) 사용 이유**\n",
    "    - 머신러닝 학습 과정이 정상적으로 진행되고 확인\n",
    "    - 오버피팅이 발생하고 있지 않은지 확인\n",
    "    - 학습을 중단해도 되는지 등을 확인"
   ]
  },
  {
   "cell_type": "markdown",
   "id": "motivated-minnesota",
   "metadata": {},
   "source": [
    "- **데이터 전처리**\n",
    "\n",
    "     - 인공지능 모델을 훈련시키고 사용할 때, 일반적으로 입력은 0~1 사이의 값으로 정규화 시켜주는 것이 좋다.\n",
    "     \n",
    "     - NIST 데이터는 각 픽셀의 값이 0~255 사이 범위에 있으므로 데이터들을 255.0 으로 나누어주면 됨"
   ]
  },
  {
   "cell_type": "code",
   "execution_count": 8,
   "id": "worse-indiana",
   "metadata": {},
   "outputs": [
    {
     "name": "stdout",
     "output_type": "stream",
     "text": [
      "최소값: 0.0  최대값: 1.0\n"
     ]
    }
   ],
   "source": [
    "x_train_norm, x_test_norm = x_train / 255.0, x_test / 255.0\n",
    "print('최소값:',np.min(x_train_norm), ' 최대값:',np.max(x_train_norm))"
   ]
  },
  {
   "cell_type": "markdown",
   "id": "located-conversation",
   "metadata": {},
   "source": [
    "---\n",
    "\n",
    "### 2-2. 딥러닝 네트워크 설계\n",
    "\n",
    "- **Sequential API (tf.keras)**\n",
    "    \n",
    "    - 개발의 자유도는 많이 떨어지지만, 매우 간단하게 딥러닝 모델을 만들어낼 수 있는 방법\n",
    "    - 미리 정의된 딥러닝 레이어(layer)를 손쉽게 추가할 수 있음\n",
    "\n",
    "<br>    \n",
    "\n",
    "- **Conv2D 레이어**\n",
    "\n",
    "    - 첫 인자: 이미지 특징의 수\n",
    "    \n",
    " <br>   \n",
    " \n",
    "- **Dense 레이어**\n",
    "\n",
    "    - 첫 인자: 분류기에 사용되는 뉴런의 수\n",
    "    -  마지막 Dense 레이어의 뉴런 수: 분류해내야 하는 클래스 수\n",
    "\n",
    "<br> \n",
    "\n",
    "`model.summary()`: 딥러닝 네트워크 모델 확인\n",
    "\n",
    "\n"
   ]
  },
  {
   "cell_type": "markdown",
   "id": "prospective-essence",
   "metadata": {},
   "source": [
    "---\n",
    "### 2-3. 딥러닝 네트워크 학습\n",
    "- **네트워크 입력**: (데이터 개수, 이미지 크기 x, 이미지 크기 y, 채널 수)"
   ]
  },
  {
   "cell_type": "code",
   "execution_count": null,
   "id": "premium-photographer",
   "metadata": {},
   "outputs": [],
   "source": [
    "# data reshape (입력 형식에 맞게 조정)\n",
    "# 데이터갯수에 -1을 쓰면 reshape시 자동계산\n",
    "x_train_reshaped=x_train_norm.reshape( -1, 28, 28, 1)\n",
    "x_test_reshaped=x_test_norm.reshape( -1, 28, 28, 1)\n"
   ]
  },
  {
   "cell_type": "code",
   "execution_count": null,
   "id": "australian-blair",
   "metadata": {},
   "outputs": [],
   "source": [
    "# 컴파일\n",
    "model.compile(optimizer='adam',\n",
    "             loss='sparse_categorical_crossentropy',\n",
    "             metrics=['accuracy'])\n",
    "\n",
    "# 모델 훈련\n",
    "model.fit(x_train_reshaped, y_train, epochs=10)"
   ]
  },
  {
   "cell_type": "markdown",
   "id": "human-traffic",
   "metadata": {},
   "source": [
    "`epochs`: 학습 횟수"
   ]
  },
  {
   "cell_type": "markdown",
   "id": "suburban-lesbian",
   "metadata": {},
   "source": [
    "---\n",
    "### 2-4. 성능 확인 (테스트)\n",
    "- 시험용 데이터를 통해 성능을 확인\n",
    "- 잘못 추론한 데이터 확인\n",
    "    - `model.predict()`: model이 입력값을 보고 실제 추론한 확률 분포 출력\n",
    "    "
   ]
  },
  {
   "cell_type": "code",
   "execution_count": null,
   "id": "third-latitude",
   "metadata": {},
   "outputs": [],
   "source": [
    "# 테스트\n",
    "test_loss, test_accuracy = model.evaluate(x_test_reshaped,y_test, verbose=2)\n",
    "print(\"test_loss: {} \".format(test_loss))\n",
    "print(\"test_accuracy: {}\".format(test_accuracy))"
   ]
  },
  {
   "cell_type": "code",
   "execution_count": null,
   "id": "vulnerable-credit",
   "metadata": {},
   "outputs": [],
   "source": [
    "# 추론 데이터 확인하기\n",
    "\n",
    "predicted_result = model.predict(x_test_reshaped)  # model이 추론한 확률값. \n",
    "predicted_labels = np.argmax(predicted_result, axis=1)\n",
    "\n",
    "idx=0  #1번째 x_test를 살펴보자. \n",
    "print('model.predict() 결과 : ', predicted_result[idx])\n",
    "print('model이 추론한 가장 가능성이 높은 결과 : ', predicted_labels[idx])\n",
    "print('실제 데이터의 라벨 : ', y_test[idx])"
   ]
  },
  {
   "cell_type": "markdown",
   "id": "interracial-wedding",
   "metadata": {},
   "source": [
    "---\n",
    "### 2-5. 네트워크 개선\n",
    "\n",
    "**하이퍼파라미터**를 변경하여 구조를 바꾸지 않고 인식률을 변화시킬 수 있다.\n",
    "\n",
    "- 예제에서 변경해볼 수 있는 하이퍼파라미터\n",
    "    - Conv2D 레이어의 입력 이미지 특징 수\n",
    "    - Dense 레이어 뉴런수\n",
    "    - epoch 값 (학습 반복 횟수)"
   ]
  },
  {
   "cell_type": "code",
   "execution_count": null,
   "id": "unsigned-columbus",
   "metadata": {},
   "outputs": [],
   "source": [
    "# 바꿔 볼 수 있는 하이퍼파라미터들\n",
    "n_channel_1=16\n",
    "n_channel_2=32\n",
    "n_dense=32\n",
    "n_train_epoch=10\n",
    "\n",
    "model=keras.models.Sequential()\n",
    "model.add(keras.layers.Conv2D(n_channel_1, (3,3), activation='relu', input_shape=(28,28,1)))\n",
    "model.add(keras.layers.MaxPool2D(2,2))\n",
    "model.add(keras.layers.Conv2D(n_channel_2, (3,3), activation='relu'))\n",
    "model.add(keras.layers.MaxPooling2D((2,2)))\n",
    "model.add(keras.layers.Flatten())\n",
    "model.add(keras.layers.Dense(n_dense, activation='relu'))\n",
    "model.add(keras.layers.Dense(10, activation='softmax'))\n",
    "\n",
    "model.summary()\n",
    "model.compile(optimizer='adam',\n",
    "             loss='sparse_categorical_crossentropy',\n",
    "             metrics=['accuracy'])\n",
    "\n",
    "# 모델 훈련\n",
    "model.fit(x_train_reshaped, y_train, epochs=n_train_epoch)\n",
    "\n",
    "# 모델 시험\n",
    "test_loss, test_accuracy = model.evaluate(x_test_reshaped, y_test, verbose=2)\n",
    "print(\"test_loss: {} \".format(test_loss))\n",
    "print(\"test_accuracy: {}\".format(test_accuracy))"
   ]
  }
 ],
 "metadata": {
  "kernelspec": {
   "display_name": "Python 3",
   "language": "python",
   "name": "python3"
  },
  "language_info": {
   "codemirror_mode": {
    "name": "ipython",
    "version": 3
   },
   "file_extension": ".py",
   "mimetype": "text/x-python",
   "name": "python",
   "nbconvert_exporter": "python",
   "pygments_lexer": "ipython3",
   "version": "3.7.9"
  }
 },
 "nbformat": 4,
 "nbformat_minor": 5
}
