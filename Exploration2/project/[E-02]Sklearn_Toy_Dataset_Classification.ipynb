{
 "cells": [
  {
   "cell_type": "markdown",
   "id": "together-medline",
   "metadata": {},
   "source": [
    "# E-02. Scikit-learn Toy Dataset Classification\n",
    "\n",
    "## 목차\n",
    "\n",
    "### 1.load_digits\n",
    "- 모듈 불러오기\n",
    "- 데이터 준비 및 확인\n",
    "- 데이터 분리 하기\n",
    "- 모델 학습과 예측\n",
    "- 모델 성능 평가\n",
    "\n",
    "### 2.load_wine\n",
    "- 모듈 불러오기\n",
    "- 데이터 준비 및 확인\n",
    "- 데이터 분리 하기\n",
    "- 모델 학습과 예측\n",
    "- 모델 성능 평가\n",
    "\n",
    "### 3.load_breast_cancer\n",
    "- 모듈 불러오기\n",
    "- 데이터 준비 및 확인\n",
    "- 데이터 분리 하기\n",
    "- 모델 학습과 예측\n",
    "- 모델 성능 평가\n",
    "\n",
    "\n",
    "\n",
    "---"
   ]
  },
  {
   "cell_type": "markdown",
   "id": "sonic-norwegian",
   "metadata": {},
   "source": [
    "## Project (1) load_digits : 손글씨 분류\n",
    "\n",
    "### 모듈 불러오기"
   ]
  },
  {
   "cell_type": "code",
   "execution_count": 123,
   "id": "tracked-exclusion",
   "metadata": {},
   "outputs": [],
   "source": [
    "from sklearn.datasets import load_digits\n",
    "from sklearn.model_selection import train_test_split\n",
    "from sklearn.metrics import classification_report, accuracy_score\n",
    "import pandas as pd"
   ]
  },
  {
   "cell_type": "markdown",
   "id": "swedish-catalog",
   "metadata": {},
   "source": [
    "---\n",
    "\n",
    "### 데이터 준비 및 확인\n",
    "\n",
    "- [load_digits 데이터 확인하기](https://scikit-learn.org/stable/modules/generated/sklearn.datasets.load_digits.html#sklearn.datasets.load_digits)\n",
    "\n",
    "<br>\n",
    "\n",
    "`digits`에 데이터를 할당한다.<br>\n",
    "`digits.keys()`를 통해 `digits`의 데이터를 확인해본다.\n",
    "\n",
    "feature data 지정 → `digits_data`<br>\n",
    "target data 지정 → `digits_label`\n",
    "\n",
    "\n",
    "`digits_data.shape`: 해당 데이터에는 1797개의 데이터가 있으며,\n",
    "각 데이터에 64개의 픽셀값이 있다.<br>\n",
    "`target names` 확인: 0부터 9까지의 수"
   ]
  },
  {
   "cell_type": "code",
   "execution_count": 124,
   "id": "approved-school",
   "metadata": {
    "scrolled": true
   },
   "outputs": [
    {
     "name": "stdout",
     "output_type": "stream",
     "text": [
      "(1797, 64)\n",
      "dict_keys(['data', 'target', 'frame', 'feature_names', 'target_names', 'images', 'DESCR'])\n",
      "[0 1 2 3 4 5 6 7 8 9]\n"
     ]
    }
   ],
   "source": [
    "digits = load_digits()\n",
    "digits_data = digits.data\n",
    "digits_label = digits.target\n",
    "\n",
    "print(digits_data.shape)\n",
    "print(digits.keys())\n",
    "print(digits.target_names)"
   ]
  },
  {
   "cell_type": "markdown",
   "id": "compliant-detail",
   "metadata": {},
   "source": [
    "`DESCR`를 이용하여 describe 확인"
   ]
  },
  {
   "cell_type": "code",
   "execution_count": 125,
   "id": "creative-dispute",
   "metadata": {},
   "outputs": [
    {
     "name": "stdout",
     "output_type": "stream",
     "text": [
      ".. _digits_dataset:\n",
      "\n",
      "Optical recognition of handwritten digits dataset\n",
      "--------------------------------------------------\n",
      "\n",
      "**Data Set Characteristics:**\n",
      "\n",
      "    :Number of Instances: 5620\n",
      "    :Number of Attributes: 64\n",
      "    :Attribute Information: 8x8 image of integer pixels in the range 0..16.\n",
      "    :Missing Attribute Values: None\n",
      "    :Creator: E. Alpaydin (alpaydin '@' boun.edu.tr)\n",
      "    :Date: July; 1998\n",
      "\n",
      "This is a copy of the test set of the UCI ML hand-written digits datasets\n",
      "https://archive.ics.uci.edu/ml/datasets/Optical+Recognition+of+Handwritten+Digits\n",
      "\n",
      "The data set contains images of hand-written digits: 10 classes where\n",
      "each class refers to a digit.\n",
      "\n",
      "Preprocessing programs made available by NIST were used to extract\n",
      "normalized bitmaps of handwritten digits from a preprinted form. From a\n",
      "total of 43 people, 30 contributed to the training set and different 13\n",
      "to the test set. 32x32 bitmaps are divided into nonoverlapping blocks of\n",
      "4x4 and the number of on pixels are counted in each block. This generates\n",
      "an input matrix of 8x8 where each element is an integer in the range\n",
      "0..16. This reduces dimensionality and gives invariance to small\n",
      "distortions.\n",
      "\n",
      "For info on NIST preprocessing routines, see M. D. Garris, J. L. Blue, G.\n",
      "T. Candela, D. L. Dimmick, J. Geist, P. J. Grother, S. A. Janet, and C.\n",
      "L. Wilson, NIST Form-Based Handprint Recognition System, NISTIR 5469,\n",
      "1994.\n",
      "\n",
      ".. topic:: References\n",
      "\n",
      "  - C. Kaynak (1995) Methods of Combining Multiple Classifiers and Their\n",
      "    Applications to Handwritten Digit Recognition, MSc Thesis, Institute of\n",
      "    Graduate Studies in Science and Engineering, Bogazici University.\n",
      "  - E. Alpaydin, C. Kaynak (1998) Cascading Classifiers, Kybernetika.\n",
      "  - Ken Tang and Ponnuthurai N. Suganthan and Xi Yao and A. Kai Qin.\n",
      "    Linear dimensionalityreduction using relevance weighted LDA. School of\n",
      "    Electrical and Electronic Engineering Nanyang Technological University.\n",
      "    2005.\n",
      "  - Claudio Gentile. A New Approximate Maximal Margin Classification\n",
      "    Algorithm. NIPS. 2000.\n"
     ]
    }
   ],
   "source": [
    "print(digits.DESCR)"
   ]
  },
  {
   "cell_type": "markdown",
   "id": "confirmed-picking",
   "metadata": {},
   "source": [
    "---\n",
    "### 데이터 분리 하기\n",
    "- 모델 학습용 데이터와 테스트용 데이터를 분리한다.\n",
    "- test 데이터 셋은 전체의 20%로 설정하며, 정렬된 상태가 아닌 랜덤하게 섞어 분리한다."
   ]
  },
  {
   "cell_type": "code",
   "execution_count": 126,
   "id": "ongoing-intersection",
   "metadata": {},
   "outputs": [],
   "source": [
    "X_train, X_test, y_train, y_test = train_test_split(digits_data, \n",
    "                                                    digits_label, \n",
    "                                                    test_size=0.2, \n",
    "                                                    random_state=7)"
   ]
  },
  {
   "cell_type": "markdown",
   "id": "nuclear-upset",
   "metadata": {},
   "source": [
    "---\n",
    "\n",
    "### 모델 학습과 예측\n",
    "\n",
    "- 각 모델들의 정확도 비교를 위해 `digits_accuracy` 딕셔너리를 생성"
   ]
  },
  {
   "cell_type": "code",
   "execution_count": 127,
   "id": "serial-coating",
   "metadata": {},
   "outputs": [],
   "source": [
    "digits_accuracy = {}"
   ]
  },
  {
   "cell_type": "markdown",
   "id": "separated-reasoning",
   "metadata": {},
   "source": [
    "#### Case1. Decision Tree"
   ]
  },
  {
   "cell_type": "code",
   "execution_count": 128,
   "id": "original-offense",
   "metadata": {},
   "outputs": [
    {
     "name": "stdout",
     "output_type": "stream",
     "text": [
      "              precision    recall  f1-score   support\n",
      "\n",
      "           0       1.00      0.98      0.99        43\n",
      "           1       0.81      0.81      0.81        42\n",
      "           2       0.79      0.82      0.80        40\n",
      "           3       0.79      0.91      0.85        34\n",
      "           4       0.83      0.95      0.89        37\n",
      "           5       0.90      0.96      0.93        28\n",
      "           6       0.84      0.93      0.88        28\n",
      "           7       0.96      0.82      0.89        33\n",
      "           8       0.88      0.65      0.75        43\n",
      "           9       0.78      0.78      0.78        32\n",
      "\n",
      "    accuracy                           0.86       360\n",
      "   macro avg       0.86      0.86      0.86       360\n",
      "weighted avg       0.86      0.86      0.85       360\n",
      "\n"
     ]
    }
   ],
   "source": [
    "from sklearn.tree import DecisionTreeClassifier\n",
    "\n",
    "decision_tree = DecisionTreeClassifier(random_state=32)\n",
    "decision_tree.fit(X_train, y_train)\n",
    "y_pred = decision_tree.predict(X_test)\n",
    "\n",
    "digits_accuracy['Decision Tree'] = accuracy_score(y_test, y_pred)\n",
    "print(classification_report(y_test, y_pred))"
   ]
  },
  {
   "cell_type": "markdown",
   "id": "reverse-heavy",
   "metadata": {},
   "source": [
    "#### Case2. Random Forest"
   ]
  },
  {
   "cell_type": "code",
   "execution_count": 129,
   "id": "sorted-carter",
   "metadata": {},
   "outputs": [
    {
     "name": "stdout",
     "output_type": "stream",
     "text": [
      "              precision    recall  f1-score   support\n",
      "\n",
      "           0       1.00      0.98      0.99        43\n",
      "           1       0.93      1.00      0.97        42\n",
      "           2       1.00      1.00      1.00        40\n",
      "           3       1.00      1.00      1.00        34\n",
      "           4       0.93      1.00      0.96        37\n",
      "           5       0.90      0.96      0.93        28\n",
      "           6       1.00      0.96      0.98        28\n",
      "           7       0.94      0.97      0.96        33\n",
      "           8       1.00      0.84      0.91        43\n",
      "           9       0.94      0.94      0.94        32\n",
      "\n",
      "    accuracy                           0.96       360\n",
      "   macro avg       0.96      0.96      0.96       360\n",
      "weighted avg       0.97      0.96      0.96       360\n",
      "\n"
     ]
    }
   ],
   "source": [
    "from sklearn.ensemble import RandomForestClassifier\n",
    "random_forest = RandomForestClassifier(random_state=32)\n",
    "random_forest.fit(X_train, y_train)\n",
    "y_pred = random_forest.predict(X_test)\n",
    "\n",
    "digits_accuracy['Random Forest'] = accuracy_score(y_test, y_pred)\n",
    "print(classification_report(y_test, y_pred))"
   ]
  },
  {
   "cell_type": "markdown",
   "id": "friendly-crime",
   "metadata": {},
   "source": [
    "#### Case3. SVM"
   ]
  },
  {
   "cell_type": "code",
   "execution_count": 130,
   "id": "fallen-south",
   "metadata": {},
   "outputs": [
    {
     "name": "stdout",
     "output_type": "stream",
     "text": [
      "              precision    recall  f1-score   support\n",
      "\n",
      "           0       1.00      1.00      1.00        43\n",
      "           1       0.95      1.00      0.98        42\n",
      "           2       1.00      1.00      1.00        40\n",
      "           3       1.00      1.00      1.00        34\n",
      "           4       1.00      1.00      1.00        37\n",
      "           5       0.93      1.00      0.97        28\n",
      "           6       1.00      1.00      1.00        28\n",
      "           7       1.00      1.00      1.00        33\n",
      "           8       1.00      0.93      0.96        43\n",
      "           9       1.00      0.97      0.98        32\n",
      "\n",
      "    accuracy                           0.99       360\n",
      "   macro avg       0.99      0.99      0.99       360\n",
      "weighted avg       0.99      0.99      0.99       360\n",
      "\n"
     ]
    }
   ],
   "source": [
    "from sklearn import svm\n",
    "svm_model = svm.SVC()\n",
    "\n",
    "svm_model.fit(X_train, y_train)\n",
    "y_pred = svm_model.predict(X_test)\n",
    "\n",
    "digits_accuracy['SVM'] = accuracy_score(y_test, y_pred)\n",
    "\n",
    "print(classification_report(y_test, y_pred))"
   ]
  },
  {
   "cell_type": "markdown",
   "id": "civil-france",
   "metadata": {},
   "source": [
    "#### Case4. SGD Classifier"
   ]
  },
  {
   "cell_type": "code",
   "execution_count": 131,
   "id": "modular-puppy",
   "metadata": {},
   "outputs": [
    {
     "name": "stdout",
     "output_type": "stream",
     "text": [
      "              precision    recall  f1-score   support\n",
      "\n",
      "           0       1.00      1.00      1.00        43\n",
      "           1       0.92      0.86      0.89        42\n",
      "           2       1.00      1.00      1.00        40\n",
      "           3       0.86      0.94      0.90        34\n",
      "           4       0.97      0.97      0.97        37\n",
      "           5       0.85      1.00      0.92        28\n",
      "           6       0.96      0.93      0.95        28\n",
      "           7       0.94      0.97      0.96        33\n",
      "           8       0.95      0.88      0.92        43\n",
      "           9       0.97      0.91      0.94        32\n",
      "\n",
      "    accuracy                           0.94       360\n",
      "   macro avg       0.94      0.95      0.94       360\n",
      "weighted avg       0.95      0.94      0.94       360\n",
      "\n"
     ]
    }
   ],
   "source": [
    "from sklearn.linear_model import SGDClassifier\n",
    "sgd_model = SGDClassifier()\n",
    "\n",
    "sgd_model.fit(X_train, y_train)\n",
    "y_pred = sgd_model.predict(X_test)\n",
    "\n",
    "digits_accuracy['SGD Classifier'] = accuracy_score(y_test, y_pred)\n",
    "\n",
    "print(classification_report(y_test, y_pred))"
   ]
  },
  {
   "cell_type": "markdown",
   "id": "explicit-diameter",
   "metadata": {},
   "source": [
    "#### Case5. Logistic Regression"
   ]
  },
  {
   "cell_type": "code",
   "execution_count": 132,
   "id": "judicial-dress",
   "metadata": {},
   "outputs": [
    {
     "name": "stdout",
     "output_type": "stream",
     "text": [
      "              precision    recall  f1-score   support\n",
      "\n",
      "           0       1.00      1.00      1.00        43\n",
      "           1       0.95      0.95      0.95        42\n",
      "           2       0.98      1.00      0.99        40\n",
      "           3       0.94      0.97      0.96        34\n",
      "           4       0.97      1.00      0.99        37\n",
      "           5       0.82      0.96      0.89        28\n",
      "           6       1.00      0.96      0.98        28\n",
      "           7       0.97      0.97      0.97        33\n",
      "           8       0.92      0.81      0.86        43\n",
      "           9       0.97      0.91      0.94        32\n",
      "\n",
      "    accuracy                           0.95       360\n",
      "   macro avg       0.95      0.95      0.95       360\n",
      "weighted avg       0.95      0.95      0.95       360\n",
      "\n"
     ]
    },
    {
     "name": "stderr",
     "output_type": "stream",
     "text": [
      "/opt/conda/lib/python3.7/site-packages/sklearn/linear_model/_logistic.py:762: ConvergenceWarning: lbfgs failed to converge (status=1):\n",
      "STOP: TOTAL NO. of ITERATIONS REACHED LIMIT.\n",
      "\n",
      "Increase the number of iterations (max_iter) or scale the data as shown in:\n",
      "    https://scikit-learn.org/stable/modules/preprocessing.html\n",
      "Please also refer to the documentation for alternative solver options:\n",
      "    https://scikit-learn.org/stable/modules/linear_model.html#logistic-regression\n",
      "  extra_warning_msg=_LOGISTIC_SOLVER_CONVERGENCE_MSG)\n"
     ]
    }
   ],
   "source": [
    "from sklearn.linear_model import LogisticRegression\n",
    "logistic_model = LogisticRegression()\n",
    "\n",
    "logistic_model.fit(X_train, y_train)\n",
    "y_pred = logistic_model.predict(X_test)\n",
    "\n",
    "digits_accuracy['Logistic Regression'] = accuracy_score(y_test, y_pred)\n",
    "\n",
    "print(classification_report(y_test, y_pred))"
   ]
  },
  {
   "cell_type": "markdown",
   "id": "consolidated-packaging",
   "metadata": {},
   "source": [
    "--- \n",
    "\n",
    "### 모델 성능 평가"
   ]
  },
  {
   "cell_type": "code",
   "execution_count": 133,
   "id": "reverse-hawaiian",
   "metadata": {
    "scrolled": true
   },
   "outputs": [
    {
     "name": "stdout",
     "output_type": "stream",
     "text": [
      "Decision Tree : 0.8555555555555555\n",
      "Random Forest : 0.9638888888888889\n",
      "SVM : 0.9888888888888889\n",
      "SGD Classifier : 0.9444444444444444\n",
      "Logistic Regression : 0.9527777777777777\n"
     ]
    }
   ],
   "source": [
    "for keys, values in digits_accuracy.items():\n",
    "    print(keys,\":\", values)"
   ]
  },
  {
   "cell_type": "markdown",
   "id": "historic-acting",
   "metadata": {},
   "source": [
    "결과를 확인해보면 `SVM`을 사용하였을 때 `98%`로 모델의 성능이 가장 높에 나온 것을 확인할 수 있다.<br>\n",
    "\n",
    "모델의 성능을 평가함에 있어 accuracy도 중요하지만 음성, 양성 데이터에 대한 오답 여부도 매우 중요하다. <br>\n",
    "이는 문제에 따라서 고려해야하는지가 결정되며, 경우에 따라 오차 행렬 성능 지표를 확인하여야한다.<br>\n",
    "\n",
    "<br>\n",
    "\n",
    "해당 문제는 Recall, Precision 등의 오차 행렬 성능 지표에 큰 영향을 받지 않으므로 정확도로 성능을 평가해도 좋을 것이라 판단된다.<br>\n",
    "\n",
    "<br>\n",
    "\n",
    "**최종적으로 정리하자면, Digits 데이터를 활용한 해당 모델은 98%로 가장 높은 정확도를 나타낸 SVM을 사용하는 것이 가장 적합할 것 같다.**"
   ]
  },
  {
   "cell_type": "markdown",
   "id": "excessive-shelter",
   "metadata": {},
   "source": [
    "-----"
   ]
  },
  {
   "cell_type": "markdown",
   "id": "seeing-traveler",
   "metadata": {},
   "source": [
    "## Project (2) load_wine : 와인 분류\n",
    "\n",
    "### 모듈 불러오기"
   ]
  },
  {
   "cell_type": "code",
   "execution_count": 134,
   "id": "timely-father",
   "metadata": {},
   "outputs": [],
   "source": [
    "from sklearn.datasets import load_wine\n",
    "from sklearn.model_selection import train_test_split\n",
    "from sklearn.metrics import classification_report, accuracy_score"
   ]
  },
  {
   "cell_type": "markdown",
   "id": "satellite-closure",
   "metadata": {},
   "source": [
    "---\n",
    "\n",
    "### 데이터 준비 및 확인\n",
    "\n",
    "- [load_wine 데이터 확인하기](https://scikit-learn.org/stable/modules/generated/sklearn.datasets.load_wine.html#sklearn.datasets.load_wine)\n",
    "\n",
    "<br>\n",
    "\n",
    "`wine`에 데이터를 할당한다.<br>\n",
    "\n",
    "`wine.keys()`를 통해 `wine`의 데이터를 확인해본다.\n",
    "\n",
    "feature data 지정 → `wine_data`<br>\n",
    "\n",
    "target data 지정 → `wine_label`\n",
    "\n",
    "`wine_data.shape`: 해당 데이터에는 178개의 데이터가 있으며, 13개의 특성이 있다.<br>\n",
    "`target names` 확인: 3개의 class ('class_0' 'class_1' 'class_2')"
   ]
  },
  {
   "cell_type": "code",
   "execution_count": 158,
   "id": "polish-connection",
   "metadata": {},
   "outputs": [
    {
     "name": "stdout",
     "output_type": "stream",
     "text": [
      "(178, 13)\n",
      "dict_keys(['data', 'target', 'frame', 'target_names', 'DESCR', 'feature_names'])\n",
      "['class_0' 'class_1' 'class_2']\n"
     ]
    }
   ],
   "source": [
    "wine = load_wine()\n",
    "wine_data = wine.data\n",
    "wine_label = wine.target\n",
    "\n",
    "print(wine_data.shape)\n",
    "print(wine.keys())\n",
    "print(wine.target_names)"
   ]
  },
  {
   "cell_type": "markdown",
   "id": "minimal-boating",
   "metadata": {},
   "source": [
    "`DESCR`를 이용하여 describe 확인"
   ]
  },
  {
   "cell_type": "code",
   "execution_count": 136,
   "id": "speaking-diary",
   "metadata": {},
   "outputs": [
    {
     "name": "stdout",
     "output_type": "stream",
     "text": [
      ".. _wine_dataset:\n",
      "\n",
      "Wine recognition dataset\n",
      "------------------------\n",
      "\n",
      "**Data Set Characteristics:**\n",
      "\n",
      "    :Number of Instances: 178 (50 in each of three classes)\n",
      "    :Number of Attributes: 13 numeric, predictive attributes and the class\n",
      "    :Attribute Information:\n",
      " \t\t- Alcohol\n",
      " \t\t- Malic acid\n",
      " \t\t- Ash\n",
      "\t\t- Alcalinity of ash  \n",
      " \t\t- Magnesium\n",
      "\t\t- Total phenols\n",
      " \t\t- Flavanoids\n",
      " \t\t- Nonflavanoid phenols\n",
      " \t\t- Proanthocyanins\n",
      "\t\t- Color intensity\n",
      " \t\t- Hue\n",
      " \t\t- OD280/OD315 of diluted wines\n",
      " \t\t- Proline\n",
      "\n",
      "    - class:\n",
      "            - class_0\n",
      "            - class_1\n",
      "            - class_2\n",
      "\t\t\n",
      "    :Summary Statistics:\n",
      "    \n",
      "    ============================= ==== ===== ======= =====\n",
      "                                   Min   Max   Mean     SD\n",
      "    ============================= ==== ===== ======= =====\n",
      "    Alcohol:                      11.0  14.8    13.0   0.8\n",
      "    Malic Acid:                   0.74  5.80    2.34  1.12\n",
      "    Ash:                          1.36  3.23    2.36  0.27\n",
      "    Alcalinity of Ash:            10.6  30.0    19.5   3.3\n",
      "    Magnesium:                    70.0 162.0    99.7  14.3\n",
      "    Total Phenols:                0.98  3.88    2.29  0.63\n",
      "    Flavanoids:                   0.34  5.08    2.03  1.00\n",
      "    Nonflavanoid Phenols:         0.13  0.66    0.36  0.12\n",
      "    Proanthocyanins:              0.41  3.58    1.59  0.57\n",
      "    Colour Intensity:              1.3  13.0     5.1   2.3\n",
      "    Hue:                          0.48  1.71    0.96  0.23\n",
      "    OD280/OD315 of diluted wines: 1.27  4.00    2.61  0.71\n",
      "    Proline:                       278  1680     746   315\n",
      "    ============================= ==== ===== ======= =====\n",
      "\n",
      "    :Missing Attribute Values: None\n",
      "    :Class Distribution: class_0 (59), class_1 (71), class_2 (48)\n",
      "    :Creator: R.A. Fisher\n",
      "    :Donor: Michael Marshall (MARSHALL%PLU@io.arc.nasa.gov)\n",
      "    :Date: July, 1988\n",
      "\n",
      "This is a copy of UCI ML Wine recognition datasets.\n",
      "https://archive.ics.uci.edu/ml/machine-learning-databases/wine/wine.data\n",
      "\n",
      "The data is the results of a chemical analysis of wines grown in the same\n",
      "region in Italy by three different cultivators. There are thirteen different\n",
      "measurements taken for different constituents found in the three types of\n",
      "wine.\n",
      "\n",
      "Original Owners: \n",
      "\n",
      "Forina, M. et al, PARVUS - \n",
      "An Extendible Package for Data Exploration, Classification and Correlation. \n",
      "Institute of Pharmaceutical and Food Analysis and Technologies,\n",
      "Via Brigata Salerno, 16147 Genoa, Italy.\n",
      "\n",
      "Citation:\n",
      "\n",
      "Lichman, M. (2013). UCI Machine Learning Repository\n",
      "[https://archive.ics.uci.edu/ml]. Irvine, CA: University of California,\n",
      "School of Information and Computer Science. \n",
      "\n",
      ".. topic:: References\n",
      "\n",
      "  (1) S. Aeberhard, D. Coomans and O. de Vel, \n",
      "  Comparison of Classifiers in High Dimensional Settings, \n",
      "  Tech. Rep. no. 92-02, (1992), Dept. of Computer Science and Dept. of  \n",
      "  Mathematics and Statistics, James Cook University of North Queensland. \n",
      "  (Also submitted to Technometrics). \n",
      "\n",
      "  The data was used with many others for comparing various \n",
      "  classifiers. The classes are separable, though only RDA \n",
      "  has achieved 100% correct classification. \n",
      "  (RDA : 100%, QDA 99.4%, LDA 98.9%, 1NN 96.1% (z-transformed data)) \n",
      "  (All results using the leave-one-out technique) \n",
      "\n",
      "  (2) S. Aeberhard, D. Coomans and O. de Vel, \n",
      "  \"THE CLASSIFICATION PERFORMANCE OF RDA\" \n",
      "  Tech. Rep. no. 92-01, (1992), Dept. of Computer Science and Dept. of \n",
      "  Mathematics and Statistics, James Cook University of North Queensland. \n",
      "  (Also submitted to Journal of Chemometrics).\n",
      "\n"
     ]
    }
   ],
   "source": [
    "print(wine.DESCR)"
   ]
  },
  {
   "cell_type": "markdown",
   "id": "specified-charles",
   "metadata": {},
   "source": [
    "---\n",
    "### 데이터 분리 하기\n",
    "- 모델 학습용 데이터와 테스트용 데이터를 분리한다.\n",
    "- test 데이터 셋은 전체의 20%로 설정하며, 정렬된 상태가 아닌 랜덤하게 섞어 분리한다."
   ]
  },
  {
   "cell_type": "code",
   "execution_count": 137,
   "id": "immune-rescue",
   "metadata": {},
   "outputs": [],
   "source": [
    "X_train, X_test, y_train, y_test = train_test_split(wine_data, \n",
    "                                                    wine_label, \n",
    "                                                    test_size=0.2, \n",
    "                                                    random_state=7)"
   ]
  },
  {
   "cell_type": "markdown",
   "id": "suited-course",
   "metadata": {},
   "source": [
    "---\n",
    "\n",
    "### 모델 학습과 예측\n",
    "\n",
    "- 각 모델들의 정확도 비교를 위해 `wine_accuracy` 딕셔너리를 생성"
   ]
  },
  {
   "cell_type": "code",
   "execution_count": 138,
   "id": "engaged-profile",
   "metadata": {},
   "outputs": [],
   "source": [
    "wine_accuracy = {}"
   ]
  },
  {
   "cell_type": "markdown",
   "id": "loaded-vegetarian",
   "metadata": {},
   "source": [
    "#### Case1. Decision Tree"
   ]
  },
  {
   "cell_type": "code",
   "execution_count": 139,
   "id": "intellectual-patient",
   "metadata": {},
   "outputs": [
    {
     "name": "stdout",
     "output_type": "stream",
     "text": [
      "              precision    recall  f1-score   support\n",
      "\n",
      "           0       1.00      1.00      1.00         7\n",
      "           1       0.89      1.00      0.94        17\n",
      "           2       1.00      0.83      0.91        12\n",
      "\n",
      "    accuracy                           0.94        36\n",
      "   macro avg       0.96      0.94      0.95        36\n",
      "weighted avg       0.95      0.94      0.94        36\n",
      "\n"
     ]
    }
   ],
   "source": [
    "from sklearn.tree import DecisionTreeClassifier\n",
    "\n",
    "decision_tree = DecisionTreeClassifier(random_state=32)\n",
    "decision_tree.fit(X_train, y_train)\n",
    "y_pred = decision_tree.predict(X_test)\n",
    "\n",
    "wine_accuracy['Decision Tree'] = accuracy_score(y_test, y_pred)\n",
    "print(classification_report(y_test, y_pred))"
   ]
  },
  {
   "cell_type": "markdown",
   "id": "disturbed-radar",
   "metadata": {},
   "source": [
    "#### Case2. Random Forest"
   ]
  },
  {
   "cell_type": "code",
   "execution_count": 140,
   "id": "pharmaceutical-plumbing",
   "metadata": {},
   "outputs": [
    {
     "name": "stdout",
     "output_type": "stream",
     "text": [
      "              precision    recall  f1-score   support\n",
      "\n",
      "           0       1.00      1.00      1.00         7\n",
      "           1       1.00      1.00      1.00        17\n",
      "           2       1.00      1.00      1.00        12\n",
      "\n",
      "    accuracy                           1.00        36\n",
      "   macro avg       1.00      1.00      1.00        36\n",
      "weighted avg       1.00      1.00      1.00        36\n",
      "\n"
     ]
    }
   ],
   "source": [
    "from sklearn.ensemble import RandomForestClassifier\n",
    "\n",
    "random_forest = RandomForestClassifier(random_state=32)\n",
    "random_forest.fit(X_train, y_train)\n",
    "y_pred = random_forest.predict(X_test)\n",
    "\n",
    "wine_accuracy['Random Forest'] = accuracy_score(y_test, y_pred)\n",
    "print(classification_report(y_test, y_pred))"
   ]
  },
  {
   "cell_type": "markdown",
   "id": "young-weather",
   "metadata": {},
   "source": [
    "#### Case3. SVM"
   ]
  },
  {
   "cell_type": "code",
   "execution_count": 141,
   "id": "comic-medline",
   "metadata": {},
   "outputs": [
    {
     "name": "stdout",
     "output_type": "stream",
     "text": [
      "              precision    recall  f1-score   support\n",
      "\n",
      "           0       0.86      0.86      0.86         7\n",
      "           1       0.58      0.88      0.70        17\n",
      "           2       0.33      0.08      0.13        12\n",
      "\n",
      "    accuracy                           0.61        36\n",
      "   macro avg       0.59      0.61      0.56        36\n",
      "weighted avg       0.55      0.61      0.54        36\n",
      "\n"
     ]
    }
   ],
   "source": [
    "from sklearn import svm\n",
    "svm_model = svm.SVC()\n",
    "\n",
    "svm_model.fit(X_train, y_train)\n",
    "y_pred = svm_model.predict(X_test)\n",
    "\n",
    "wine_accuracy['SVM'] = accuracy_score(y_test, y_pred)\n",
    "print(classification_report(y_test, y_pred))"
   ]
  },
  {
   "cell_type": "markdown",
   "id": "satisfactory-chair",
   "metadata": {},
   "source": [
    "#### Case4. SGD Classifier"
   ]
  },
  {
   "cell_type": "code",
   "execution_count": 142,
   "id": "horizontal-karma",
   "metadata": {},
   "outputs": [
    {
     "name": "stdout",
     "output_type": "stream",
     "text": [
      "              precision    recall  f1-score   support\n",
      "\n",
      "           0       1.00      0.29      0.44         7\n",
      "           1       0.75      0.71      0.73        17\n",
      "           2       0.44      0.67      0.53        12\n",
      "\n",
      "    accuracy                           0.61        36\n",
      "   macro avg       0.73      0.55      0.57        36\n",
      "weighted avg       0.70      0.61      0.61        36\n",
      "\n"
     ]
    }
   ],
   "source": [
    "from sklearn.linear_model import SGDClassifier\n",
    "sgd_model = SGDClassifier()\n",
    "\n",
    "sgd_model.fit(X_train, y_train)\n",
    "y_pred = sgd_model.predict(X_test)\n",
    "\n",
    "wine_accuracy['SGD Classifier'] = accuracy_score(y_test, y_pred)\n",
    "print(classification_report(y_test, y_pred))"
   ]
  },
  {
   "cell_type": "markdown",
   "id": "retained-access",
   "metadata": {},
   "source": [
    "#### Case5. Logistic Regression"
   ]
  },
  {
   "cell_type": "code",
   "execution_count": 143,
   "id": "better-stake",
   "metadata": {},
   "outputs": [
    {
     "name": "stdout",
     "output_type": "stream",
     "text": [
      "              precision    recall  f1-score   support\n",
      "\n",
      "           0       1.00      0.86      0.92         7\n",
      "           1       0.94      1.00      0.97        17\n",
      "           2       1.00      1.00      1.00        12\n",
      "\n",
      "    accuracy                           0.97        36\n",
      "   macro avg       0.98      0.95      0.96        36\n",
      "weighted avg       0.97      0.97      0.97        36\n",
      "\n"
     ]
    },
    {
     "name": "stderr",
     "output_type": "stream",
     "text": [
      "/opt/conda/lib/python3.7/site-packages/sklearn/linear_model/_logistic.py:762: ConvergenceWarning: lbfgs failed to converge (status=1):\n",
      "STOP: TOTAL NO. of ITERATIONS REACHED LIMIT.\n",
      "\n",
      "Increase the number of iterations (max_iter) or scale the data as shown in:\n",
      "    https://scikit-learn.org/stable/modules/preprocessing.html\n",
      "Please also refer to the documentation for alternative solver options:\n",
      "    https://scikit-learn.org/stable/modules/linear_model.html#logistic-regression\n",
      "  extra_warning_msg=_LOGISTIC_SOLVER_CONVERGENCE_MSG)\n"
     ]
    }
   ],
   "source": [
    "# Logistic Regression\n",
    "\n",
    "from sklearn.linear_model import LogisticRegression\n",
    "logistic_model = LogisticRegression()\n",
    "\n",
    "logistic_model.fit(X_train, y_train)\n",
    "y_pred = logistic_model.predict(X_test)\n",
    "\n",
    "wine_accuracy['Logistic Regression'] = accuracy_score(y_test, y_pred)\n",
    "print(classification_report(y_test, y_pred))"
   ]
  },
  {
   "cell_type": "markdown",
   "id": "placed-removal",
   "metadata": {},
   "source": [
    "--- \n",
    "\n",
    "### 모델 성능 평가"
   ]
  },
  {
   "cell_type": "code",
   "execution_count": 144,
   "id": "lovely-period",
   "metadata": {},
   "outputs": [
    {
     "name": "stdout",
     "output_type": "stream",
     "text": [
      "Decision Tree : 0.9444444444444444\n",
      "Random Forest : 1.0\n",
      "SVM : 0.6111111111111112\n",
      "SGD Classifier : 0.6111111111111112\n",
      "Logistic Regression : 0.9722222222222222\n"
     ]
    }
   ],
   "source": [
    "for keys, values in wine_accuracy.items():\n",
    "    print(keys,\":\", values)"
   ]
  },
  {
   "cell_type": "markdown",
   "id": "developing-comparison",
   "metadata": {},
   "source": [
    "해당 문제 역시 Recall, Precision 등의 오차 행렬 성능 지표에 큰 영향을 받지 않으므로 정확도로 성능을 평가해도 좋을 것이라 판단된다.<br>\n",
    "\n",
    "accuracy를 고려해볼 때, **100%를 나타낸 Random Forest가 해당 모델에 가장 적합하다고 판단**할 수 있다. \n",
    "\n",
    "하지만 Random Forest의 경우 많은 데이터를 사용하면 속도가 느려질 수 있다는 단점이 있다.\n",
    "\n",
    "그렇기 때문에 **데이터 종류나 양에 따라 97%의 accuracy를 보인 Logistic Regression을 사용하는 것도 생각해보아야 할 것**이다."
   ]
  },
  {
   "cell_type": "markdown",
   "id": "abandoned-albania",
   "metadata": {},
   "source": [
    "---\n",
    "\n",
    "## Project (3) load_breast_cancer : 유방암 여부 진단\n",
    "\n",
    "### 모듈 불러오기"
   ]
  },
  {
   "cell_type": "code",
   "execution_count": 145,
   "id": "continued-ordering",
   "metadata": {},
   "outputs": [],
   "source": [
    "from sklearn.datasets import load_breast_cancer\n",
    "from sklearn.model_selection import train_test_split\n",
    "from sklearn.metrics import classification_report, accuracy_score, recall_score"
   ]
  },
  {
   "cell_type": "markdown",
   "id": "mental-indiana",
   "metadata": {},
   "source": [
    "---\n",
    "\n",
    "### 데이터 준비 및 확인\n",
    "\n",
    "- [load_breast_cancer 데이터 확인하기](https://scikit-learn.org/stable/modules/generated/sklearn.datasets.load_breast_cancer.html#sklearn.datasets.load_breast_cancer)\n",
    "\n",
    "<br>\n",
    "\n",
    "`breast_cancer`에 데이터를 할당한다.<br>\n",
    "\n",
    "`breast_cancer.keys()`를 통해 `digits`의 데이터를 확인해본다.\n",
    "\n",
    "feature data 지정 → `breast_cancer_data`<br>\n",
    "\n",
    "target data 지정 → `breast_cancer_label`\n",
    "\n",
    "`breast_cancer_data.shape`: 해당 데이터에는 569개의 데이터가 있으며, 30개의 특성이 있다.<br>\n",
    "`target names` 확인: 'malignant', 'benign'"
   ]
  },
  {
   "cell_type": "code",
   "execution_count": 164,
   "id": "modified-florence",
   "metadata": {},
   "outputs": [
    {
     "name": "stdout",
     "output_type": "stream",
     "text": [
      "(569, 30)\n",
      "dict_keys(['data', 'target', 'frame', 'target_names', 'DESCR', 'feature_names', 'filename'])\n",
      "['malignant' 'benign']\n"
     ]
    }
   ],
   "source": [
    "breast_cancer = load_breast_cancer()\n",
    "breast_cancer_data = breast_cancer.data\n",
    "breast_cancer_label = breast_cancer.target\n",
    "\n",
    "print(breast_cancer_data.shape)\n",
    "print(breast_cancer.keys())\n",
    "print(breast_cancer.target_names)"
   ]
  },
  {
   "cell_type": "markdown",
   "id": "handled-baseline",
   "metadata": {},
   "source": [
    "`DESCR`를 이용하여 describe 확인"
   ]
  },
  {
   "cell_type": "code",
   "execution_count": 147,
   "id": "american-fruit",
   "metadata": {},
   "outputs": [
    {
     "name": "stdout",
     "output_type": "stream",
     "text": [
      ".. _wine_dataset:\n",
      "\n",
      "Wine recognition dataset\n",
      "------------------------\n",
      "\n",
      "**Data Set Characteristics:**\n",
      "\n",
      "    :Number of Instances: 178 (50 in each of three classes)\n",
      "    :Number of Attributes: 13 numeric, predictive attributes and the class\n",
      "    :Attribute Information:\n",
      " \t\t- Alcohol\n",
      " \t\t- Malic acid\n",
      " \t\t- Ash\n",
      "\t\t- Alcalinity of ash  \n",
      " \t\t- Magnesium\n",
      "\t\t- Total phenols\n",
      " \t\t- Flavanoids\n",
      " \t\t- Nonflavanoid phenols\n",
      " \t\t- Proanthocyanins\n",
      "\t\t- Color intensity\n",
      " \t\t- Hue\n",
      " \t\t- OD280/OD315 of diluted wines\n",
      " \t\t- Proline\n",
      "\n",
      "    - class:\n",
      "            - class_0\n",
      "            - class_1\n",
      "            - class_2\n",
      "\t\t\n",
      "    :Summary Statistics:\n",
      "    \n",
      "    ============================= ==== ===== ======= =====\n",
      "                                   Min   Max   Mean     SD\n",
      "    ============================= ==== ===== ======= =====\n",
      "    Alcohol:                      11.0  14.8    13.0   0.8\n",
      "    Malic Acid:                   0.74  5.80    2.34  1.12\n",
      "    Ash:                          1.36  3.23    2.36  0.27\n",
      "    Alcalinity of Ash:            10.6  30.0    19.5   3.3\n",
      "    Magnesium:                    70.0 162.0    99.7  14.3\n",
      "    Total Phenols:                0.98  3.88    2.29  0.63\n",
      "    Flavanoids:                   0.34  5.08    2.03  1.00\n",
      "    Nonflavanoid Phenols:         0.13  0.66    0.36  0.12\n",
      "    Proanthocyanins:              0.41  3.58    1.59  0.57\n",
      "    Colour Intensity:              1.3  13.0     5.1   2.3\n",
      "    Hue:                          0.48  1.71    0.96  0.23\n",
      "    OD280/OD315 of diluted wines: 1.27  4.00    2.61  0.71\n",
      "    Proline:                       278  1680     746   315\n",
      "    ============================= ==== ===== ======= =====\n",
      "\n",
      "    :Missing Attribute Values: None\n",
      "    :Class Distribution: class_0 (59), class_1 (71), class_2 (48)\n",
      "    :Creator: R.A. Fisher\n",
      "    :Donor: Michael Marshall (MARSHALL%PLU@io.arc.nasa.gov)\n",
      "    :Date: July, 1988\n",
      "\n",
      "This is a copy of UCI ML Wine recognition datasets.\n",
      "https://archive.ics.uci.edu/ml/machine-learning-databases/wine/wine.data\n",
      "\n",
      "The data is the results of a chemical analysis of wines grown in the same\n",
      "region in Italy by three different cultivators. There are thirteen different\n",
      "measurements taken for different constituents found in the three types of\n",
      "wine.\n",
      "\n",
      "Original Owners: \n",
      "\n",
      "Forina, M. et al, PARVUS - \n",
      "An Extendible Package for Data Exploration, Classification and Correlation. \n",
      "Institute of Pharmaceutical and Food Analysis and Technologies,\n",
      "Via Brigata Salerno, 16147 Genoa, Italy.\n",
      "\n",
      "Citation:\n",
      "\n",
      "Lichman, M. (2013). UCI Machine Learning Repository\n",
      "[https://archive.ics.uci.edu/ml]. Irvine, CA: University of California,\n",
      "School of Information and Computer Science. \n",
      "\n",
      ".. topic:: References\n",
      "\n",
      "  (1) S. Aeberhard, D. Coomans and O. de Vel, \n",
      "  Comparison of Classifiers in High Dimensional Settings, \n",
      "  Tech. Rep. no. 92-02, (1992), Dept. of Computer Science and Dept. of  \n",
      "  Mathematics and Statistics, James Cook University of North Queensland. \n",
      "  (Also submitted to Technometrics). \n",
      "\n",
      "  The data was used with many others for comparing various \n",
      "  classifiers. The classes are separable, though only RDA \n",
      "  has achieved 100% correct classification. \n",
      "  (RDA : 100%, QDA 99.4%, LDA 98.9%, 1NN 96.1% (z-transformed data)) \n",
      "  (All results using the leave-one-out technique) \n",
      "\n",
      "  (2) S. Aeberhard, D. Coomans and O. de Vel, \n",
      "  \"THE CLASSIFICATION PERFORMANCE OF RDA\" \n",
      "  Tech. Rep. no. 92-01, (1992), Dept. of Computer Science and Dept. of \n",
      "  Mathematics and Statistics, James Cook University of North Queensland. \n",
      "  (Also submitted to Journal of Chemometrics).\n",
      "\n"
     ]
    }
   ],
   "source": [
    "print(wine.DESCR)"
   ]
  },
  {
   "cell_type": "markdown",
   "id": "imported-beast",
   "metadata": {},
   "source": [
    "---\n",
    "### 데이터 분리 하기\n",
    "- 모델 학습용 데이터와 테스트용 데이터를 분리한다.\n",
    "- test 데이터 셋은 전체의 20%로 설정하며, 정렬된 상태가 아닌 랜덤하게 섞어 분리한다."
   ]
  },
  {
   "cell_type": "code",
   "execution_count": 148,
   "id": "destroyed-analysis",
   "metadata": {},
   "outputs": [],
   "source": [
    "X_train, X_test, y_train, y_test = train_test_split(breast_cancer_data, \n",
    "                                                    breast_cancer_label, \n",
    "                                                    test_size=0.2, \n",
    "                                                    random_state=7)"
   ]
  },
  {
   "cell_type": "markdown",
   "id": "seeing-coating",
   "metadata": {},
   "source": [
    "---\n",
    "\n",
    "### 모델 학습과 예측\n",
    "\n",
    "- 각 모델들의 비교를 위해 `accuracy`, `recall` 딕셔너리를 생성"
   ]
  },
  {
   "cell_type": "code",
   "execution_count": 149,
   "id": "higher-namibia",
   "metadata": {},
   "outputs": [],
   "source": [
    "accuracy = {}\n",
    "recall = {}"
   ]
  },
  {
   "cell_type": "markdown",
   "id": "geological-separation",
   "metadata": {},
   "source": [
    "#### Case1. Decision Tree"
   ]
  },
  {
   "cell_type": "code",
   "execution_count": 150,
   "id": "pending-indianapolis",
   "metadata": {},
   "outputs": [
    {
     "name": "stdout",
     "output_type": "stream",
     "text": [
      "              precision    recall  f1-score   support\n",
      "\n",
      "           0       0.92      0.82      0.87        40\n",
      "           1       0.91      0.96      0.93        74\n",
      "\n",
      "    accuracy                           0.91       114\n",
      "   macro avg       0.91      0.89      0.90       114\n",
      "weighted avg       0.91      0.91      0.91       114\n",
      "\n"
     ]
    }
   ],
   "source": [
    "from sklearn.tree import DecisionTreeClassifier\n",
    "\n",
    "decision_tree = DecisionTreeClassifier(random_state=32)\n",
    "decision_tree.fit(X_train, y_train)\n",
    "y_pred = decision_tree.predict(X_test)\n",
    "\n",
    "accuracy['Decision Tree'] = accuracy_score(y_test, y_pred)\n",
    "recall['Decision Tree'] = recall_score(y_test, y_pred)\n",
    "print(classification_report(y_test, y_pred))"
   ]
  },
  {
   "cell_type": "markdown",
   "id": "documentary-wales",
   "metadata": {},
   "source": [
    "#### Case2. Random Forest"
   ]
  },
  {
   "cell_type": "code",
   "execution_count": 151,
   "id": "otherwise-selection",
   "metadata": {},
   "outputs": [
    {
     "name": "stdout",
     "output_type": "stream",
     "text": [
      "              precision    recall  f1-score   support\n",
      "\n",
      "           0       1.00      1.00      1.00        40\n",
      "           1       1.00      1.00      1.00        74\n",
      "\n",
      "    accuracy                           1.00       114\n",
      "   macro avg       1.00      1.00      1.00       114\n",
      "weighted avg       1.00      1.00      1.00       114\n",
      "\n"
     ]
    }
   ],
   "source": [
    "from sklearn.ensemble import RandomForestClassifier\n",
    "\n",
    "random_forest = RandomForestClassifier(random_state=32)\n",
    "random_forest.fit(X_train, y_train)\n",
    "y_pred = random_forest.predict(X_test)\n",
    "\n",
    "accuracy['Random Forest'] = accuracy_score(y_test, y_pred)\n",
    "recall['Random Forest'] = recall_score(y_test, y_pred)\n",
    "print(classification_report(y_test, y_pred))"
   ]
  },
  {
   "cell_type": "markdown",
   "id": "challenging-washington",
   "metadata": {},
   "source": [
    "#### Case3. SVM"
   ]
  },
  {
   "cell_type": "code",
   "execution_count": 152,
   "id": "outer-theater",
   "metadata": {},
   "outputs": [
    {
     "name": "stdout",
     "output_type": "stream",
     "text": [
      "              precision    recall  f1-score   support\n",
      "\n",
      "           0       1.00      0.72      0.84        40\n",
      "           1       0.87      1.00      0.93        74\n",
      "\n",
      "    accuracy                           0.90       114\n",
      "   macro avg       0.94      0.86      0.89       114\n",
      "weighted avg       0.92      0.90      0.90       114\n",
      "\n"
     ]
    }
   ],
   "source": [
    "from sklearn import svm\n",
    "svm_model = svm.SVC()\n",
    "\n",
    "svm_model.fit(X_train, y_train)\n",
    "y_pred = svm_model.predict(X_test)\n",
    "\n",
    "accuracy['SVM'] = accuracy_score(y_test, y_pred)\n",
    "recall['SVM'] = recall_score(y_test, y_pred)\n",
    "print(classification_report(y_test, y_pred))"
   ]
  },
  {
   "cell_type": "markdown",
   "id": "framed-services",
   "metadata": {},
   "source": [
    "#### Case4. SGD Classifier"
   ]
  },
  {
   "cell_type": "code",
   "execution_count": 153,
   "id": "printable-chorus",
   "metadata": {},
   "outputs": [
    {
     "name": "stdout",
     "output_type": "stream",
     "text": [
      "              precision    recall  f1-score   support\n",
      "\n",
      "           0       1.00      0.55      0.71        40\n",
      "           1       0.80      1.00      0.89        74\n",
      "\n",
      "    accuracy                           0.84       114\n",
      "   macro avg       0.90      0.78      0.80       114\n",
      "weighted avg       0.87      0.84      0.83       114\n",
      "\n"
     ]
    }
   ],
   "source": [
    "from sklearn.linear_model import SGDClassifier\n",
    "sgd_model = SGDClassifier()\n",
    "\n",
    "sgd_model.fit(X_train, y_train)\n",
    "y_pred = sgd_model.predict(X_test)\n",
    "\n",
    "accuracy['SGD Classifier'] = accuracy_score(y_test, y_pred)\n",
    "recall['SGD Classifier'] = recall_score(y_test, y_pred)\n",
    "print(classification_report(y_test, y_pred))"
   ]
  },
  {
   "cell_type": "markdown",
   "id": "placed-liberia",
   "metadata": {},
   "source": [
    "#### Case5. Logistic Regression"
   ]
  },
  {
   "cell_type": "code",
   "execution_count": 154,
   "id": "chief-photographer",
   "metadata": {},
   "outputs": [
    {
     "name": "stdout",
     "output_type": "stream",
     "text": [
      "              precision    recall  f1-score   support\n",
      "\n",
      "           0       1.00      0.82      0.90        40\n",
      "           1       0.91      1.00      0.95        74\n",
      "\n",
      "    accuracy                           0.94       114\n",
      "   macro avg       0.96      0.91      0.93       114\n",
      "weighted avg       0.94      0.94      0.94       114\n",
      "\n"
     ]
    },
    {
     "name": "stderr",
     "output_type": "stream",
     "text": [
      "/opt/conda/lib/python3.7/site-packages/sklearn/linear_model/_logistic.py:762: ConvergenceWarning: lbfgs failed to converge (status=1):\n",
      "STOP: TOTAL NO. of ITERATIONS REACHED LIMIT.\n",
      "\n",
      "Increase the number of iterations (max_iter) or scale the data as shown in:\n",
      "    https://scikit-learn.org/stable/modules/preprocessing.html\n",
      "Please also refer to the documentation for alternative solver options:\n",
      "    https://scikit-learn.org/stable/modules/linear_model.html#logistic-regression\n",
      "  extra_warning_msg=_LOGISTIC_SOLVER_CONVERGENCE_MSG)\n"
     ]
    }
   ],
   "source": [
    "from sklearn.linear_model import LogisticRegression\n",
    "logistic_model = LogisticRegression()\n",
    "\n",
    "logistic_model.fit(X_train, y_train)\n",
    "y_pred = logistic_model.predict(X_test)\n",
    "\n",
    "accuracy['Logistic Regression'] = accuracy_score(y_test, y_pred)\n",
    "recall['Logistic Regression'] = recall_score(y_test, y_pred)\n",
    "print(classification_report(y_test, y_pred))"
   ]
  },
  {
   "cell_type": "markdown",
   "id": "regulation-mongolia",
   "metadata": {},
   "source": [
    "--- \n",
    "\n",
    "### 모델 성능 평가\n",
    "\n",
    "- accuracy(정확도)"
   ]
  },
  {
   "cell_type": "code",
   "execution_count": 155,
   "id": "drawn-damage",
   "metadata": {},
   "outputs": [
    {
     "name": "stdout",
     "output_type": "stream",
     "text": [
      "Decision Tree : 0.9122807017543859\n",
      "Random Forest : 1.0\n",
      "SVM : 0.9035087719298246\n",
      "SGD Classifier : 0.8421052631578947\n",
      "Logistic Regression : 0.9385964912280702\n"
     ]
    }
   ],
   "source": [
    "for keys, values in accuracy.items():\n",
    "    print(keys,\":\", values)"
   ]
  },
  {
   "cell_type": "markdown",
   "id": "immediate-diversity",
   "metadata": {},
   "source": [
    "- recall (재현율)"
   ]
  },
  {
   "cell_type": "code",
   "execution_count": 156,
   "id": "stopped-share",
   "metadata": {},
   "outputs": [
    {
     "name": "stdout",
     "output_type": "stream",
     "text": [
      "Decision Tree : 0.9594594594594594\n",
      "Random Forest : 1.0\n",
      "SVM : 1.0\n",
      "SGD Classifier : 1.0\n",
      "Logistic Regression : 1.0\n"
     ]
    }
   ],
   "source": [
    "for keys, values in recall.items():\n",
    "    print(keys,\":\", values)"
   ]
  },
  {
   "cell_type": "markdown",
   "id": "aging-terror",
   "metadata": {},
   "source": [
    "위 각 모델들의 정확도를 확인해보면 **Random Forest가 100%로 가장 높은 정확도**를 보인다.\n",
    "<br><br>\n",
    "하지만 모델의 성능을 평가함에 있어 accuracy는 매우 중요하지만 음성, 양성 데이터에 대한 오답 여부도 매우 중요하다. <br>\n",
    "이는 문제에 따라서 고려해야 하는지가 결정되며, 경우에 따라 오차 행렬 성능 지표를 확인하여야한다.<br>\n",
    "<br>\n",
    "해당 문제에서는 유방암에 대한 데이터를 다루고 있으므로 accuracy와 더불어 **recall값을 고려해야한다**.<br>\n",
    "\n",
    "그 이유는 암을 진단하는 경우 실제 환자를 한 명이라도 놓치면 안되기 때문에 양성을 음성으로 판단하는 경우 큰 문제가 발생할 수 있다. <br>\n",
    "따라서 해당 데이터의 경우 recall 값을 반드시 고려하여 모델을 선택해야한다.<br>\n",
    "\n",
    "<br>\n",
    "\n",
    "**결론적으로 정확도(100%)와 Recall(100%) 값이 가장 높게 나온 Random Forest 모델이 적합할 것으로 판단된다.**"
   ]
  },
  {
   "cell_type": "markdown",
   "id": "opened-eagle",
   "metadata": {},
   "source": [
    "---\n",
    "\n",
    "## Recap\n",
    "\n",
    "### 1.load_digits\n",
    "- 64개 픽셀값을 가지는 1797개의 숫자 손글씨 데이터를 이용하여 숫자 분류기 모델을 만들고자 하였다\n",
    ".\n",
    "- 전체 데이터 중 훈련용 데이터를 80%로, 테스트용 데이터로 20%를 사용하였다.\n",
    "\n",
    "- 분류기에 최적화된 모델을 선택하기 위해 Decision Tree, Random Forest, SVM, SGD Classifier, Logistic Regression를 사용해보았다.\n",
    "\n",
    "<br>\n",
    "\n",
    "- 각 모델들을 사용하였을 때의 accuuracy를 통해 최적의 모델을 선택하였으며, 해당 분류기는 98%로 가장 높은 정확도를 나타낸 SVM을 사용하는 것이 가장 적합할 것 같다고 판단하였다.\n",
    "\n",
    "- 또한 해당 데이터의 경우 음성과 양성 판정을 고려하는 confusion matrix의 성능 지표(F1score, Recall, Precision 등)를 확인할 필요는 없다고 생각하여 정확도를 척도로 성능을 평가하였다.\n",
    "\n",
    "<br>\n",
    "\n",
    "### 2.load_wine\n",
    "- 13개의 특성을 가지고 3개의 class로 구분되는 178개의 와인 데이터를 이용하여 와인 분류기 모델을 만들고자 하였다.\n",
    "\n",
    "- 전체 데이터 중 훈련용 데이터를 80%로, 테스트용 데이터로 20%를 사용하였다.\n",
    "\n",
    "- 분류기에 최적화된 모델을 선택하기 위해 Decision Tree, Random Forest, SVM, SGD Classifier, Logistic Regression를 사용해보았다.\n",
    "\n",
    "<br>\n",
    "\n",
    "- 해당 문제 역시 Recall, Precision 등의 오차 행렬 성능 지표에 큰 영향을 받지 않으므로 정확도로 성능을 평가해도 좋을 것이라 판단하였다.\n",
    "\n",
    "- accuracy를 고려해볼 때, 100%를 나타낸 Random Forest가 해당 모델에 가장 적합하다고 판단할 수 있다.\n",
    "\n",
    "- 하지만 Random Forest의 경우 많은 데이터를 사용하면 속도가 느려질 수 있기 때문에 데이터 종류나 양에 따라 97%의 accuracy를 보인 Logistic Regression을 사용하는 것도 생각해볼 수 있다.\n",
    "\n",
    "<br>\n",
    "\n",
    "### 3.load_breast_cancer\n",
    "- 30개의 특성을 가진 569개의 데이터가 있으며, 이 데이터들은 'malignant', 'benign'로 분류된다.\n",
    "\n",
    "- 전체 데이터 중 훈련용 데이터를 80%로, 테스트용 데이터로 20%를 사용하였다.\n",
    "\n",
    "- 분류기에 최적화된 모델을 선택하기 위해 Decision Tree, Random Forest, SVM, SGD Classifier, Logistic Regression를 사용해보았다.\n",
    "\n",
    "<br>\n",
    "\n",
    "- 해당 문제에서는 유방암에 대한 데이터를 다루고 있으므로 accuracy와 더불어 recall값을 고려해야한다.\n",
    "\n",
    "- 암을 진단하는 경우 실제 환자를 한 명이라도 놓치면 안되기 때문에 양성을 음성으로 판단하는 경우 큰 문제가 발생할 수 있다.\n",
    "\n",
    "- 따라서 해당 데이터의 경우 recall 값을 반드시 고려하여 모델을 선택해야한다.\n",
    "\n",
    "- 결론적으로 해당 분류기 모델에는 정확도(100%)와 Recall(100%) 값이 가장 높게 나온 Random Forest가 적합할 것으로 판단된다.\n",
    "\n",
    "<br>\n",
    "\n",
    "### 4. 느낀점\n",
    "- 이번 프로젝트를 진행하면서 다시 한 번 데이터와 데이터에 대한 이해도가 중요하다고 느꼈다.\n",
    "- 유방암 진단 분류기를 만들면서 오차 행렬에 대한 공부할 필요성을 느꼈다.\n",
    "- 전체적인 모델들의 성능 비교를 요약하여 나타내기는 하였으나, 모두가 이해하기 쉽도록 시각화를 하지 못한 것에 대한 아쉬움이 있다."
   ]
  }
 ],
 "metadata": {
  "kernelspec": {
   "display_name": "Python 3",
   "language": "python",
   "name": "python3"
  },
  "language_info": {
   "codemirror_mode": {
    "name": "ipython",
    "version": 3
   },
   "file_extension": ".py",
   "mimetype": "text/x-python",
   "name": "python",
   "nbconvert_exporter": "python",
   "pygments_lexer": "ipython3",
   "version": "3.7.9"
  }
 },
 "nbformat": 4,
 "nbformat_minor": 5
}
