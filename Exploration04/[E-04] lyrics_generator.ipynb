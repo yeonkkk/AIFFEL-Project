{
 "cells": [
  {
   "cell_type": "markdown",
   "id": "extreme-macro",
   "metadata": {},
   "source": [
    "# E-04.  lyrics_generator"
   ]
  },
  {
   "cell_type": "markdown",
   "id": "japanese-admission",
   "metadata": {},
   "source": [
    "## 1. 데이터 읽어오기"
   ]
  },
  {
   "cell_type": "code",
   "execution_count": 1,
   "id": "arabic-moore",
   "metadata": {},
   "outputs": [],
   "source": [
    "import glob\n",
    "import os, re\n",
    "from sklearn.model_selection import train_test_split\n",
    "import numpy as np\n",
    "import tensorflow as tf"
   ]
  },
  {
   "cell_type": "code",
   "execution_count": 2,
   "id": "advanced-perfume",
   "metadata": {},
   "outputs": [
    {
     "name": "stdout",
     "output_type": "stream",
     "text": [
      "The number of lyrics : 49\n",
      "The number of raw corpus: 187088\n",
      "Examples:\n",
      " ['[Hook]', \"I've been down so long, it look like up to me\", 'They look up to me']\n"
     ]
    }
   ],
   "source": [
    "\n",
    "txt_file_path = os.getenv('HOME')+'/aiffel/lyricist/data/lyrics/*'\n",
    "\n",
    "txt_list = glob.glob(txt_file_path)\n",
    "print(f'The number of lyrics : {len(txt_list)}')\n",
    "\n",
    "\n",
    "raw_corpus = []\n",
    "\n",
    "# 여러개의 txt 파일을 모두 읽어서 raw_corpus 에 담습니다.\n",
    "for txt_file in txt_list:\n",
    "    with open(txt_file, \"r\") as f:\n",
    "        raw = f.read().splitlines()\n",
    "        raw_corpus.extend(raw)\n",
    "\n",
    "print(\"The number of raw corpus:\", len(raw_corpus))\n",
    "print(\"Examples:\\n\", raw_corpus[:3])"
   ]
  },
  {
   "cell_type": "markdown",
   "id": "raised-discussion",
   "metadata": {},
   "source": [
    "---\n",
    "\n",
    "## 2. 데이터 정제\n",
    "- `preprocess_sentence()`함수 만들기\n",
    "-  토큰화 했을 때 토큰의 개수가 15개를 넘어가는 문장을 학습 데이터에서 제외할 것\n",
    "(다른 데이터들이 과도한 Padding을 갖게 하므로)\n",
    "\n",
    "**정규 표현식을 이용해서 필터링**\n",
    "1. 소문자로 바꾸고, 양쪽 공백을 지우기\n",
    "2. 특수문자 양쪽에 공백을 넣기\n",
    "3. 여러개의 공백은 하나의 공백으로 바꾸기\n",
    "4. a-zA-Z?.!,¿가 아닌 모든 문자를 하나의 공백으로 바꾸기\n",
    "5. `[]` 해당하는 부분은 파트 분배 임으로 필터링\n",
    "6. `()` 해당하는 부분은 코러스 부분, 연속된 부분을 표기한 것이므로 필터링\n",
    "7. 양쪽 공백 지우기\n",
    "8. 문장 시작에는 `<start>`, 끝에는 `<end>`를 추가\n",
    "    "
   ]
  },
  {
   "cell_type": "code",
   "execution_count": 3,
   "id": "legitimate-comedy",
   "metadata": {},
   "outputs": [],
   "source": [
    "def preprocess_sentence(sentence):\n",
    "    sentence = sentence.lower().strip() # 1\n",
    "    sentence = re.sub(r\"([?.!,¿])\", r\" \\1 \", sentence) # 2\n",
    "    sentence = re.sub(r'[\" \"]+', \" \", sentence) # 3\n",
    "    sentence = re.sub(r\"[^a-zA-Z?.!,¿]+\", \" \", sentence) # 4\n",
    "    sentence = re.sub(r\"(\\[.*\\])\", '', sentence) # 5\n",
    "    sentence = re.sub(r\"(\\(.*\\))\", '', sentence) # 6\n",
    "    sentence = sentence.strip() # 7\n",
    "    sentence = '<start> ' + sentence + ' <end>' # 8\n",
    "    return sentence\n"
   ]
  },
  {
   "cell_type": "code",
   "execution_count": 5,
   "id": "martial-istanbul",
   "metadata": {
    "scrolled": true
   },
   "outputs": [
    {
     "data": {
      "text/plain": [
       "['<start> i ve been down so long , it look like up to me <end>',\n",
       " '<start> they look up to me <end>',\n",
       " '<start> i got fake people showin fake love to me <end>',\n",
       " '<start> straight up to my face , straight up to my face <end>',\n",
       " '<start> i ve been down so long , it look like up to me <end>',\n",
       " '<start> they look up to me <end>',\n",
       " '<start> i got fake people showin fake love to me <end>',\n",
       " '<start> somethin ain t right when we talkin <end>',\n",
       " '<start> somethin ain t right when we talkin <end>',\n",
       " '<start> look like you hidin your problems <end>']"
      ]
     },
     "execution_count": 5,
     "metadata": {},
     "output_type": "execute_result"
    }
   ],
   "source": [
    "# 여기에 정제된 문장을 모을겁니다\n",
    "corpus = []\n",
    "\n",
    "for sentence in raw_corpus:\n",
    "    if len(sentence) == 0: continue\n",
    "    if sentence[-1] == \"]\": continue    \n",
    "    if sentence[-1] == \")\": continue     \n",
    "    if len(sentence) == 0 or len(sentence.split()) > 15: continue\n",
    "    \n",
    "    preprocessed_sentence = preprocess_sentence(sentence)\n",
    "    corpus.append(preprocessed_sentence)\n",
    "        \n",
    "# 정제된 결과를 10개만 확인해보죠\n",
    "corpus[:10]\n"
   ]
  },
  {
   "cell_type": "markdown",
   "id": "attractive-drilling",
   "metadata": {},
   "source": [
    "----\n",
    "\n",
    "## 3. 평가 데이터셋 분리\n",
    "- `tokenize()` 함수로 데이터를 `Tensor`로 변환\n",
    "-  `sklearn` 모듈의 `train_test_split()` 함수를 사용해 훈련 데이터와 평가 데이터를 분리\n",
    "- 단어장의 크기는 12,000 이상 으로 설정\n",
    "- 총 데이터의 20% 를 평가 데이터셋으로 사용"
   ]
  },
  {
   "cell_type": "code",
   "execution_count": 6,
   "id": "photographic-clark",
   "metadata": {},
   "outputs": [
    {
     "name": "stdout",
     "output_type": "stream",
     "text": [
      "[[   2    5   90 ...   10   12    3]\n",
      " [   2   41  132 ...    0    0    0]\n",
      " [   2    5   38 ...    0    0    0]\n",
      " ...\n",
      " [   2   86  713 ...    0    0    0]\n",
      " [   2  209    3 ...    0    0    0]\n",
      " [   2    9 1376 ...    0    0    0]] <keras_preprocessing.text.Tokenizer object at 0x7f578804f5d0>\n"
     ]
    }
   ],
   "source": [
    "def tokenize(corpus):\n",
    "    # 15000단어를 기억할 수 있는 tokenizer를 만들겁니다\n",
    "    # 우리는 이미 문장을 정제했으니 filters가 필요없어요\n",
    "    # 7000단어에 포함되지 못한 단어는 '<unk>'로 바꿀거에요\n",
    "    tokenizer = tf.keras.preprocessing.text.Tokenizer(\n",
    "        num_words=15000, \n",
    "        filters=' ',\n",
    "        oov_token=\"<unk>\"\n",
    "    )\n",
    "    # corpus를 이용해 tokenizer 내부의 단어장을 완성합니다\n",
    "    tokenizer.fit_on_texts(corpus)\n",
    "    # 준비한 tokenizer를 이용해 corpus를 Tensor로 변환합니다\n",
    "    tensor = tokenizer.texts_to_sequences(corpus)   \n",
    "    # 입력 데이터의 시퀀스 길이를 일정하게 맞춰줍니다\n",
    "    # 만약 시퀀스가 짧다면 문장 뒤에 패딩을 붙여 길이를 맞춰줍니다.\n",
    "    # 문장 앞에 패딩을 붙여 길이를 맞추고 싶다면 padding='pre'를 사용합니다\n",
    "    # 토큰화 했을 때 토큰의 개수가 15개를 넘어가는 문장을 학습 데이터에서 제외\n",
    "    tensor = tf.keras.preprocessing.sequence.pad_sequences(tensor, padding='post', maxlen=15)  \n",
    "    \n",
    "    print(tensor,tokenizer)\n",
    "    return tensor, tokenizer\n",
    "\n",
    "tensor, tokenizer = tokenize(corpus)"
   ]
  },
  {
   "cell_type": "code",
   "execution_count": 10,
   "id": "elder-tradition",
   "metadata": {},
   "outputs": [
    {
     "name": "stdout",
     "output_type": "stream",
     "text": [
      "1 : <unk>\n",
      "2 : <start>\n",
      "3 : <end>\n",
      "4 : ,\n",
      "5 : i\n",
      "6 : the\n",
      "7 : you\n",
      "8 : and\n",
      "9 : a\n",
      "10 : to\n"
     ]
    }
   ],
   "source": [
    "# 단어사전이 어떻게 구축되었는지 확인한다.\n",
    "for idx in tokenizer.index_word:\n",
    "    print(idx, \":\", tokenizer.index_word[idx])\n",
    "\n",
    "    if idx >= 10: break"
   ]
  },
  {
   "cell_type": "markdown",
   "id": "acquired-continuity",
   "metadata": {},
   "source": [
    "- 텐서를 소스와 타겟으로 분리"
   ]
  },
  {
   "cell_type": "code",
   "execution_count": 7,
   "id": "stable-modern",
   "metadata": {},
   "outputs": [
    {
     "name": "stdout",
     "output_type": "stream",
     "text": [
      "[  2   5  90 102  59  31 161   4  11 132  24  29  10  12]\n",
      "[  5  90 102  59  31 161   4  11 132  24  29  10  12   3]\n"
     ]
    }
   ],
   "source": [
    "# tensor에서 마지막 토큰을 잘라내서 소스 문장을 생성합니다\n",
    "# 마지막 토큰은 <end>가 아니라 <pad>일 가능성이 높습니다.\n",
    "src_input = tensor[:, :-1]  \n",
    "# tensor에서 <start>를 잘라내서 타겟 문장을 생성합니다.\n",
    "tgt_input = tensor[:, 1:]    \n",
    "\n",
    "print(src_input[0])\n",
    "print(tgt_input[0])"
   ]
  },
  {
   "cell_type": "markdown",
   "id": "differential-handy",
   "metadata": {},
   "source": [
    " - train, validation 데이터 분리"
   ]
  },
  {
   "cell_type": "code",
   "execution_count": 8,
   "id": "signed-float",
   "metadata": {},
   "outputs": [
    {
     "name": "stdout",
     "output_type": "stream",
     "text": [
      "Source Train: (127837, 14)\n",
      "Target Train: (127837, 14)\n"
     ]
    }
   ],
   "source": [
    "enc_train, enc_val, dec_train, dec_val = train_test_split(src_input,\n",
    "                                       tgt_input,\n",
    "                                       test_size=0.2,\n",
    "                                       random_state=7)\n",
    "\n",
    "\n",
    "\n",
    "print(\"Source Train:\", enc_train.shape)\n",
    "print(\"Target Train:\", dec_train.shape)"
   ]
  },
  {
   "cell_type": "code",
   "execution_count": 9,
   "id": "norman-elimination",
   "metadata": {},
   "outputs": [
    {
     "data": {
      "text/plain": [
       "<BatchDataset shapes: ((256, 14), (256, 14)), types: (tf.int32, tf.int32)>"
      ]
     },
     "execution_count": 9,
     "metadata": {},
     "output_type": "execute_result"
    }
   ],
   "source": [
    "BUFFER_SIZE = len(enc_train)\n",
    "BATCH_SIZE = 256\n",
    "steps_per_epoch = len(src_input) // BATCH_SIZE\n",
    "\n",
    "# tokenizer가 구축한 단어사전 내 7000개와, \n",
    "#여기 포함되지 않은 0:<pad>를 포함하여 7001개\n",
    "VOCAB_SIZE = tokenizer.num_words + 1   \n",
    "\n",
    "# 준비한 데이터 소스로부터 데이터셋을 만듭니다 \n",
    "dataset = tf.data.Dataset.from_tensor_slices((enc_train, dec_train))\n",
    "dataset = dataset.shuffle(BUFFER_SIZE)\n",
    "dataset = dataset.batch(BATCH_SIZE, drop_remainder=True)\n",
    "dataset"
   ]
  },
  {
   "cell_type": "markdown",
   "id": "enabling-harvest",
   "metadata": {},
   "source": [
    " - 데이터셋 객체 생성\n",
    "     \n",
    "     - 텐서로 생성된 데이터를 이용해 tf.data.Dataset객체를 생성\n",
    "     - tf.data.Dataset.from_tensor_slices() 메소드를 이용해 tf.data.Dataset객체를 생성"
   ]
  },
  {
   "cell_type": "markdown",
   "id": "specialized-flood",
   "metadata": {},
   "source": [
    "----\n",
    "## 4. 인공지능 만들기\n",
    "\n",
    "모델의 Embedding Size와 Hidden Size를 조절하며 10 Epoch 안에 val_loss 값을 2.2 수준으로 줄일 수 있는 모델을 설계"
   ]
  },
  {
   "cell_type": "code",
   "execution_count": 10,
   "id": "intelligent-lecture",
   "metadata": {},
   "outputs": [],
   "source": [
    "class TextGenerator(tf.keras.Model):\n",
    "    def __init__(self, vocab_size, embedding_size, hidden_size):\n",
    "        super().__init__()\n",
    "        \n",
    "        self.embedding = tf.keras.layers.Embedding(vocab_size, embedding_size)\n",
    "        self.rnn_1 = tf.keras.layers.LSTM(hidden_size, return_sequences=True)\n",
    "        self.rnn_2 = tf.keras.layers.LSTM(hidden_size, dropout = 0.3, return_sequences=True)\n",
    "        self.linear = tf.keras.layers.Dense(vocab_size)\n",
    "        \n",
    "    def call(self, x):\n",
    "        out = self.embedding(x)\n",
    "        out = self.rnn_1(out)\n",
    "        out = self.rnn_2(out)\n",
    "        out = self.linear(out)\n",
    "        \n",
    "        return out\n",
    "    \n",
    "embedding_size = 1024\n",
    "hidden_size = 2048\n",
    "model = TextGenerator(tokenizer.num_words + 1, embedding_size , hidden_size)"
   ]
  },
  {
   "cell_type": "code",
   "execution_count": 11,
   "id": "bizarre-february",
   "metadata": {
    "scrolled": false
   },
   "outputs": [
    {
     "data": {
      "text/plain": [
       "<tf.Tensor: shape=(256, 14, 15001), dtype=float32, numpy=\n",
       "array([[[ 1.86683275e-04, -2.55409715e-04,  1.00842029e-04, ...,\n",
       "          7.69045728e-05,  1.83778378e-04,  2.93905003e-04],\n",
       "        [-3.01008622e-05, -4.27234889e-04,  9.60441776e-06, ...,\n",
       "          1.14403156e-04,  4.37825569e-04,  6.93772337e-04],\n",
       "        [ 4.30815184e-04, -5.61389374e-04,  5.99502127e-05, ...,\n",
       "         -1.62298660e-04,  1.09001226e-03,  1.42291770e-03],\n",
       "        ...,\n",
       "        [-5.55209772e-05,  5.37578831e-04,  2.20520218e-04, ...,\n",
       "         -6.09352079e-04, -1.06444478e-03,  1.26104581e-03],\n",
       "        [ 9.00101586e-05,  6.16391073e-04, -5.45953284e-04, ...,\n",
       "         -5.19308844e-04, -9.02565545e-04,  1.18848670e-03],\n",
       "        [ 5.36918931e-04,  8.72895063e-04, -1.43505679e-03, ...,\n",
       "         -4.22512385e-04, -5.62763482e-04,  1.06089213e-03]],\n",
       "\n",
       "       [[ 1.86683275e-04, -2.55409715e-04,  1.00842029e-04, ...,\n",
       "          7.69045728e-05,  1.83778378e-04,  2.93905003e-04],\n",
       "        [-3.01008622e-05, -4.27234889e-04,  9.60441776e-06, ...,\n",
       "          1.14403156e-04,  4.37825569e-04,  6.93772337e-04],\n",
       "        [ 1.72085391e-04, -6.46700966e-04,  9.67885899e-06, ...,\n",
       "          7.17139570e-04,  9.38871875e-04,  6.69899047e-04],\n",
       "        ...,\n",
       "        [ 1.50013855e-03,  4.19606251e-04, -2.70461431e-04, ...,\n",
       "          1.05654390e-03,  8.28293152e-04,  9.61583108e-04],\n",
       "        [ 1.83282781e-03,  8.86245689e-04, -9.15465294e-04, ...,\n",
       "          1.04073901e-03,  1.16783334e-03,  1.15493871e-03],\n",
       "        [ 2.03569233e-03,  1.38209702e-03, -1.43804995e-03, ...,\n",
       "          1.01595523e-03,  1.57946406e-03,  1.34716218e-03]],\n",
       "\n",
       "       [[-7.51935950e-05, -3.85892548e-04,  3.89390043e-04, ...,\n",
       "         -2.73178855e-04, -1.19777622e-04, -2.00336159e-04],\n",
       "        [-1.32751957e-04, -3.13118682e-04,  6.79958612e-04, ...,\n",
       "         -3.14292876e-04, -3.70555616e-04, -1.02641806e-03],\n",
       "        [-1.74309898e-04, -1.22568628e-04,  6.49695809e-04, ...,\n",
       "         -2.01368719e-04, -1.43651370e-04, -1.40535866e-03],\n",
       "        ...,\n",
       "        [ 2.41315734e-04, -2.27004848e-03,  8.38284439e-04, ...,\n",
       "         -1.30452507e-03,  4.73607623e-04,  2.60296685e-04],\n",
       "        [ 3.47877067e-04, -2.23055319e-03,  6.50113449e-04, ...,\n",
       "         -1.14883797e-03,  3.04625137e-04,  1.36235714e-04],\n",
       "        [ 7.40159070e-04, -2.77900230e-03,  4.21170145e-04, ...,\n",
       "         -1.21187104e-03, -2.20844640e-06,  3.74614290e-04]],\n",
       "\n",
       "       ...,\n",
       "\n",
       "       [[ 1.86683275e-04, -2.55409715e-04,  1.00842029e-04, ...,\n",
       "          7.69045728e-05,  1.83778378e-04,  2.93905003e-04],\n",
       "        [-6.31385456e-06, -4.51030675e-04,  1.63318284e-04, ...,\n",
       "          2.65481678e-04,  2.86933006e-04,  7.70016108e-04],\n",
       "        [-4.09335116e-05, -9.16462799e-04,  3.71241389e-04, ...,\n",
       "          1.17851392e-04,  3.67187866e-04,  7.58771377e-04],\n",
       "        ...,\n",
       "        [-1.30014366e-03, -5.55036997e-04,  8.59115564e-04, ...,\n",
       "         -3.10228486e-03,  1.36735709e-03,  3.30334902e-03],\n",
       "        [-1.04730215e-03, -6.22661784e-04,  1.73762339e-04, ...,\n",
       "         -2.86906003e-03,  1.60848978e-03,  3.46288504e-03],\n",
       "        [-5.05713397e-04, -3.59330646e-04, -6.86112500e-04, ...,\n",
       "         -2.56623165e-03,  1.86503469e-03,  3.51710431e-03]],\n",
       "\n",
       "       [[ 1.86683275e-04, -2.55409715e-04,  1.00842029e-04, ...,\n",
       "          7.69045728e-05,  1.83778378e-04,  2.93905003e-04],\n",
       "        [ 3.71160393e-04, -3.01525230e-04,  2.12131432e-04, ...,\n",
       "          4.23905673e-04,  5.03537362e-04,  6.64242834e-04],\n",
       "        [ 9.27914458e-04, -2.71194382e-04,  4.84572491e-04, ...,\n",
       "          1.14620627e-04,  6.77058590e-04,  5.69778436e-04],\n",
       "        ...,\n",
       "        [ 7.55174784e-04,  1.05211732e-03, -9.42038954e-04, ...,\n",
       "          9.22034204e-04, -7.55181129e-04, -1.04545197e-03],\n",
       "        [ 9.32945288e-04,  8.95504898e-04, -1.30015484e-03, ...,\n",
       "          7.24995916e-04, -5.30055084e-04, -9.70846973e-04],\n",
       "        [ 1.24485814e-03,  1.02082884e-03, -1.83237286e-03, ...,\n",
       "          6.11409836e-04, -1.27474661e-04, -8.49541684e-04]],\n",
       "\n",
       "       [[ 1.86683275e-04, -2.55409715e-04,  1.00842029e-04, ...,\n",
       "          7.69045728e-05,  1.83778378e-04,  2.93905003e-04],\n",
       "        [ 2.16300585e-04, -2.13435182e-04,  5.48914322e-05, ...,\n",
       "          2.53177968e-05,  2.88271782e-04,  3.51127470e-04],\n",
       "        [ 8.99259467e-04, -4.30401531e-04, -2.78624357e-04, ...,\n",
       "          3.01229011e-04,  4.15998918e-04,  4.23131220e-04],\n",
       "        ...,\n",
       "        [ 2.83184391e-03,  9.93617461e-04, -3.44039826e-03, ...,\n",
       "          2.12595070e-04,  1.68416928e-03,  2.08263402e-03],\n",
       "        [ 2.93878256e-03,  1.55774562e-03, -3.62670887e-03, ...,\n",
       "          2.64250033e-04,  2.11541518e-03,  2.07992480e-03],\n",
       "        [ 2.92917108e-03,  2.09843973e-03, -3.70459491e-03, ...,\n",
       "          3.27881862e-04,  2.57478701e-03,  2.08981754e-03]]],\n",
       "      dtype=float32)>"
      ]
     },
     "execution_count": 11,
     "metadata": {},
     "output_type": "execute_result"
    }
   ],
   "source": [
    "# 데이터셋에서 데이터 한 배치만 불러오는 방법입니다.\n",
    "# 지금은 동작 원리에 너무 빠져들지 마세요~\n",
    "for src_sample, tgt_sample in dataset.take(1): break\n",
    "\n",
    "# 한 배치만 불러온 데이터를 모델에 넣어봅니다\n",
    "model(src_sample)"
   ]
  },
  {
   "cell_type": "code",
   "execution_count": 12,
   "id": "incident-viewer",
   "metadata": {},
   "outputs": [
    {
     "name": "stdout",
     "output_type": "stream",
     "text": [
      "Model: \"text_generator\"\n",
      "_________________________________________________________________\n",
      "Layer (type)                 Output Shape              Param #   \n",
      "=================================================================\n",
      "embedding (Embedding)        multiple                  15361024  \n",
      "_________________________________________________________________\n",
      "lstm (LSTM)                  multiple                  25174016  \n",
      "_________________________________________________________________\n",
      "lstm_1 (LSTM)                multiple                  33562624  \n",
      "_________________________________________________________________\n",
      "dense (Dense)                multiple                  30737049  \n",
      "=================================================================\n",
      "Total params: 104,834,713\n",
      "Trainable params: 104,834,713\n",
      "Non-trainable params: 0\n",
      "_________________________________________________________________\n"
     ]
    }
   ],
   "source": [
    "model.summary()"
   ]
  },
  {
   "cell_type": "markdown",
   "id": "nasty-civilization",
   "metadata": {},
   "source": [
    "---\n",
    "### Model 1\n",
    "- 하이퍼 파라미터를 여러 조합으로 바꿔서 모델을 학습시켜봤으나, val_loss 값이 2.2 이하로 떨어지질 않았다.\n",
    "- 고민하던 중 dropout을 추가해보았다.\n",
    "- 아래 결과는 Rnn1과 Rnn2 LSTM 에 dropout을 각각 0.5로 준 결과이다."
   ]
  },
  {
   "cell_type": "code",
   "execution_count": 90,
   "id": "acceptable-connectivity",
   "metadata": {
    "scrolled": false
   },
   "outputs": [
    {
     "name": "stdout",
     "output_type": "stream",
     "text": [
      "Epoch 1/10\n",
      "520/520 [==============================] - 542s 1s/step - loss: 4.1265 - val_loss: 3.1648\n",
      "Epoch 2/10\n",
      "520/520 [==============================] - 544s 1s/step - loss: 3.0568 - val_loss: 2.9022\n",
      "Epoch 3/10\n",
      "520/520 [==============================] - 538s 1s/step - loss: 2.7243 - val_loss: 2.7235\n",
      "Epoch 4/10\n",
      "520/520 [==============================] - 554s 1s/step - loss: 2.4257 - val_loss: 2.6019\n",
      "Epoch 5/10\n",
      "520/520 [==============================] - 585s 1s/step - loss: 2.1624 - val_loss: 2.5166\n",
      "Epoch 6/10\n",
      "520/520 [==============================] - 537s 1s/step - loss: 1.9331 - val_loss: 2.4562\n",
      "Epoch 7/10\n",
      "520/520 [==============================] - 537s 1s/step - loss: 1.7484 - val_loss: 2.4163\n",
      "Epoch 8/10\n",
      "520/520 [==============================] - 539s 1s/step - loss: 1.5935 - val_loss: 2.3939\n",
      "Epoch 9/10\n",
      "520/520 [==============================] - 593s 1s/step - loss: 1.4626 - val_loss: 2.3881\n",
      "Epoch 10/10\n",
      "520/520 [==============================] - 545s 1s/step - loss: 1.3550 - val_loss: 2.3902\n"
     ]
    }
   ],
   "source": [
    "optimizer = tf.keras.optimizers.Adam()\n",
    "loss = tf.keras.losses.SparseCategoricalCrossentropy(\n",
    "    from_logits=True,\n",
    "    reduction='none'\n",
    ")\n",
    "\n",
    "model.compile(loss=loss, optimizer=optimizer)\n",
    "data1 = model.fit(dataset, epochs=10, validation_data=(enc_val, dec_val))"
   ]
  },
  {
   "cell_type": "markdown",
   "id": "residential-albany",
   "metadata": {},
   "source": [
    "### Model 2\n",
    "- dropout을 Rnn1, Rnn2 LSTM에 모두 0.5씩 설정하였으나, Val_loss값이 유의미하게 떨어지지 않아 다시 설정해보았다.\n",
    "- 아래 학습에서는 dropout을 Rnn1 LSTM에만 0.5 주었다."
   ]
  },
  {
   "cell_type": "code",
   "execution_count": 98,
   "id": "demanding-ribbon",
   "metadata": {},
   "outputs": [
    {
     "name": "stdout",
     "output_type": "stream",
     "text": [
      "Epoch 1/10\n",
      "520/520 [==============================] - 543s 1s/step - loss: 3.3308 - val_loss: 3.0312\n",
      "Epoch 2/10\n",
      "520/520 [==============================] - 541s 1s/step - loss: 2.8821 - val_loss: 2.8033\n",
      "Epoch 3/10\n",
      "520/520 [==============================] - 541s 1s/step - loss: 2.5304 - val_loss: 2.6545\n",
      "Epoch 4/10\n",
      "520/520 [==============================] - 547s 1s/step - loss: 2.2155 - val_loss: 2.5535\n",
      "Epoch 5/10\n",
      "520/520 [==============================] - 595s 1s/step - loss: 1.9405 - val_loss: 2.4866\n",
      "Epoch 6/10\n",
      "520/520 [==============================] - 541s 1s/step - loss: 1.7112 - val_loss: 2.4443\n",
      "Epoch 7/10\n",
      "520/520 [==============================] - 541s 1s/step - loss: 1.5144 - val_loss: 2.4165\n",
      "Epoch 8/10\n",
      "520/520 [==============================] - 600s 1s/step - loss: 1.3489 - val_loss: 2.4138\n",
      "Epoch 9/10\n",
      "520/520 [==============================] - 534s 1s/step - loss: 1.2162 - val_loss: 2.4176\n",
      "Epoch 10/10\n",
      "520/520 [==============================] - 539s 1s/step - loss: 1.1117 - val_loss: 2.4359\n"
     ]
    }
   ],
   "source": [
    "# dropout을 Rnn1에만 0.5로 준 것\n",
    "optimizer = tf.keras.optimizers.Adam()\n",
    "loss = tf.keras.losses.SparseCategoricalCrossentropy(\n",
    "    from_logits=True,\n",
    "    reduction='none')\n",
    "\n",
    "\n",
    "model.compile(loss=loss, optimizer=optimizer)\n",
    "data2 = model.fit(dataset, epochs=10, validation_data=(enc_val, dec_val),  verbose=1)"
   ]
  },
  {
   "cell_type": "markdown",
   "id": "nervous-residence",
   "metadata": {},
   "source": [
    "### Model 3"
   ]
  },
  {
   "cell_type": "markdown",
   "id": "flying-injury",
   "metadata": {},
   "source": [
    "- LSTM 인자에 dropdout 을 추가하여도 val_loss가 크게 감소할 기미를 보이지 않아, callback 함수를 이용해보았다.\n",
    "- ReduceLROnPlateau: 모델의 개선이 없을 경우, Learning Rate를 조절해 모델의 개선을 유도하는 콜백함수\n",
    "- monitor='val_loss': 기준이 되는 값. val_loss가 더이상 감소되지 않을 경우 ReduceLROnPlateau을 적용\n",
    "- factor: Learning rate를 얼마나 감소시킬 지 정하는 인자값\n",
    "- patience: Training이 진행됨에도 더이상 monitor되는 값의 개선이 없을 경우, 최적의 monitor 값을 기준으로 몇 번의 epoch을 진행하고, learning rate를 조절할 지의 값\n",
    "- mode: monitor되는 값이 최소가 되어야 하는지, 최대가 되어야 하는지 알려주는 인자\n",
    "- min_lr: Learning rate의 하한선\n"
   ]
  },
  {
   "cell_type": "code",
   "execution_count": 129,
   "id": "sunrise-respect",
   "metadata": {},
   "outputs": [
    {
     "name": "stdout",
     "output_type": "stream",
     "text": [
      "Epoch 1/10\n",
      "520/520 [==============================] - 596s 1s/step - loss: 3.4947 - val_loss: 3.0316\n",
      "Epoch 2/10\n",
      "520/520 [==============================] - 537s 1s/step - loss: 2.8890 - val_loss: 2.7933\n",
      "Epoch 3/10\n",
      "520/520 [==============================] - 540s 1s/step - loss: 2.5171 - val_loss: 2.6409\n",
      "Epoch 4/10\n",
      "520/520 [==============================] - 538s 1s/step - loss: 2.1925 - val_loss: 2.5342\n",
      "Epoch 5/10\n",
      "520/520 [==============================] - 590s 1s/step - loss: 1.9217 - val_loss: 2.4612\n",
      "Epoch 6/10\n",
      "520/520 [==============================] - 540s 1s/step - loss: 1.6708 - val_loss: 2.4172\n",
      "Epoch 7/10\n",
      "520/520 [==============================] - 545s 1s/step - loss: 1.4642 - val_loss: 2.3912\n",
      "Epoch 8/10\n",
      "520/520 [==============================] - 593s 1s/step - loss: 1.2986 - val_loss: 2.3888\n",
      "Epoch 9/10\n",
      "520/520 [==============================] - 539s 1s/step - loss: 1.1651 - val_loss: 2.3999\n",
      "Epoch 10/10\n",
      "520/520 [==============================] - 536s 1s/step - loss: 1.0692 - val_loss: 2.4249\n"
     ]
    }
   ],
   "source": [
    "#dropout 0.5 Rnn1\n",
    "from keras.callbacks import ReduceLROnPlateau\n",
    "\n",
    "optimizer = tf.keras.optimizers.Adam()\n",
    "loss = tf.keras.losses.SparseCategoricalCrossentropy(\n",
    "    from_logits=True,\n",
    "    reduction='none')\n",
    "\n",
    "reduce_lr  = ReduceLROnPlateau(monitor='val_loss', factor=0.2,\n",
    "                           patience=2, mode=\"min\", min_lr=0.001)\n",
    "\n",
    "\n",
    "model.compile(loss=loss, optimizer=optimizer)\n",
    "data3 = model.fit(dataset, epochs=10, validation_data=(enc_val, dec_val), verbose=1, callbacks=[reduce_lr])"
   ]
  },
  {
   "cell_type": "markdown",
   "id": "ahead-martial",
   "metadata": {},
   "source": [
    "### Model 4\n",
    "- callback 함수를 사용했음에도 val_loss가 2.2 아래로 떨어지질 않는다.\n",
    "- 혹시 dropout으로 하나의 Rnn의 뉴런만 죽인게 영향이 있을까 싶어서 dropout 값을 0.3으로 Rnn1, 2에 모두 줘봤다."
   ]
  },
  {
   "cell_type": "code",
   "execution_count": 134,
   "id": "fuzzy-vacuum",
   "metadata": {
    "scrolled": false
   },
   "outputs": [
    {
     "name": "stdout",
     "output_type": "stream",
     "text": [
      "Epoch 1/10\n",
      "520/520 [==============================] - 562s 1s/step - loss: 4.1491 - val_loss: 3.1913\n",
      "Epoch 2/10\n",
      "520/520 [==============================] - 539s 1s/step - loss: 3.0772 - val_loss: 2.9205\n",
      "Epoch 3/10\n",
      "520/520 [==============================] - 539s 1s/step - loss: 2.7371 - val_loss: 2.7393\n",
      "Epoch 4/10\n",
      "520/520 [==============================] - 540s 1s/step - loss: 2.4324 - val_loss: 2.6060\n",
      "Epoch 5/10\n",
      "520/520 [==============================] - 538s 1s/step - loss: 2.1575 - val_loss: 2.5104\n",
      "Epoch 6/10\n",
      "520/520 [==============================] - 539s 1s/step - loss: 1.9189 - val_loss: 2.4438\n",
      "Epoch 7/10\n",
      "520/520 [==============================] - 548s 1s/step - loss: 1.7138 - val_loss: 2.3988\n",
      "Epoch 8/10\n",
      "520/520 [==============================] - 541s 1s/step - loss: 1.5328 - val_loss: 2.3748\n",
      "Epoch 9/10\n",
      "520/520 [==============================] - 540s 1s/step - loss: 1.3917 - val_loss: 2.3637\n",
      "Epoch 10/10\n",
      "520/520 [==============================] - 541s 1s/step - loss: 1.2708 - val_loss: 2.3700\n"
     ]
    }
   ],
   "source": [
    "# dropout = 0.3 x2\n",
    "from keras.callbacks import ReduceLROnPlateau\n",
    "\n",
    "optimizer = tf.keras.optimizers.Adam()\n",
    "loss = tf.keras.losses.SparseCategoricalCrossentropy(\n",
    "    from_logits=True,\n",
    "    reduction='none')\n",
    "\n",
    "reduce_lr  = ReduceLROnPlateau(monitor='val_loss', factor=0.5,\n",
    "                           patience=2, mode=\"min\", min_lr=0.001)\n",
    "\n",
    "\n",
    "model.compile(loss=loss, optimizer=optimizer)\n",
    "data4 = model.fit(dataset, epochs=10, validation_data=(enc_val, dec_val), verbose=1, callbacks=[reduce_lr])"
   ]
  },
  {
   "cell_type": "markdown",
   "id": "south-fever",
   "metadata": {},
   "source": [
    "### Model 5\n",
    "- dropout을 Rnn1, Rnn2 LSTM에 모두 0.3씩 설정하였으나, Val_loss값이 유의미하게 떨어지지 않아 다시 설정해보았다.\n",
    "- 아래 학습에서는 dropout을 Rnn2 LSTM에만 0.3 주었다.\n",
    "- 또한 혹시 하이퍼파라미터를 변경하면 영향이 있을까 싶어 임베딩 사이즈를 1024로 높여보았다.\n",
    "- 전처리의 문제일까 싶어 문장 필터를 한번 더 넣어줬다 (문장 길이 제한)"
   ]
  },
  {
   "cell_type": "code",
   "execution_count": 13,
   "id": "portable-brief",
   "metadata": {
    "scrolled": false
   },
   "outputs": [
    {
     "name": "stdout",
     "output_type": "stream",
     "text": [
      "Epoch 1/10\n",
      "499/499 [==============================] - 603s 1s/step - loss: 2.9187 - val_loss: 2.7627\n",
      "Epoch 3/10\n",
      "499/499 [==============================] - 597s 1s/step - loss: 2.5538 - val_loss: 2.5856\n",
      "Epoch 4/10\n",
      "499/499 [==============================] - 597s 1s/step - loss: 2.2269 - val_loss: 2.4598\n",
      "Epoch 5/10\n",
      "499/499 [==============================] - 607s 1s/step - loss: 1.9422 - val_loss: 2.3722\n",
      "Epoch 6/10\n",
      "499/499 [==============================] - 597s 1s/step - loss: 1.7045 - val_loss: 2.3147\n",
      "Epoch 7/10\n",
      "499/499 [==============================] - 598s 1s/step - loss: 1.5023 - val_loss: 2.2797\n",
      "Epoch 8/10\n",
      "499/499 [==============================] - 599s 1s/step - loss: 1.3400 - val_loss: 2.2707\n",
      "Epoch 9/10\n",
      "499/499 [==============================] - 598s 1s/step - loss: 1.2125 - val_loss: 2.2734\n",
      "Epoch 10/10\n",
      "499/499 [==============================] - 600s 1s/step - loss: 1.1194 - val_loss: 2.2915\n"
     ]
    }
   ],
   "source": [
    "# dropout = 0.3 + 전처리 추가(문장 길이에 대한 옵션을 더블로 줬음)+ 임베딩 1024\n",
    "from keras.callbacks import ReduceLROnPlateau\n",
    "\n",
    "optimizer = tf.keras.optimizers.Adam()\n",
    "loss = tf.keras.losses.SparseCategoricalCrossentropy(\n",
    "    from_logits=True,\n",
    "    reduction='none')\n",
    "\n",
    "reduce_lr  = ReduceLROnPlateau(monitor='val_loss', factor=0.5,\n",
    "                           patience=2, mode=\"min\", min_lr=0.05)\n",
    "\n",
    "\n",
    "model.compile(loss=loss, optimizer=optimizer)\n",
    "data5 = model.fit(dataset, epochs=10, validation_data=(enc_val, dec_val), verbose=1, callbacks=[reduce_lr])"
   ]
  },
  {
   "cell_type": "markdown",
   "id": "excellent-dubai",
   "metadata": {},
   "source": [
    "### Model 6\n",
    "- model 5에서 dropout, callback, 임베딩 사이즈, 데이터 전처리까지 했음에도 큰 의미가 없었다....\n",
    "- 마지막으로 양방향 Rnn을 사용해보았다...\n",
    "- val_loss는 2.2 아래로 떨어졌으나, 오버피팅을 확인할 수 있었다."
   ]
  },
  {
   "cell_type": "code",
   "execution_count": 24,
   "id": "naked-distance",
   "metadata": {},
   "outputs": [],
   "source": [
    "class TextGenerator(tf.keras.Model):\n",
    "    def __init__(self, vocab_size, embedding_size, hidden_size):\n",
    "        super().__init__()\n",
    "        \n",
    "        self.embedding = tf.keras.layers.Embedding(vocab_size, embedding_size)\n",
    "        self.rnn_1 = tf.keras.layers.Bidirectional(tf.keras.layers.LSTM(hidden_size, return_sequences=True))\n",
    "        self.rnn_2 = tf.keras.layers.Bidirectional(tf.keras.layers.LSTM(hidden_size, dropout = 0.3, return_sequences=True))\n",
    "        self.linear = tf.keras.layers.Dense(vocab_size)\n",
    "        \n",
    "    def call(self, x):\n",
    "        out = self.embedding(x)\n",
    "        out = self.rnn_1(out)\n",
    "        out = self.rnn_2(out)\n",
    "        out = self.linear(out)\n",
    "        \n",
    "        return out\n",
    "    \n",
    "embedding_size = 1024\n",
    "hidden_size = 2048\n",
    "model = TextGenerator(tokenizer.num_words + 1, embedding_size , hidden_size)"
   ]
  },
  {
   "cell_type": "code",
   "execution_count": 25,
   "id": "built-degree",
   "metadata": {},
   "outputs": [
    {
     "name": "stdout",
     "output_type": "stream",
     "text": [
      "Epoch 1/10\n",
      "499/499 [==============================] - 1325s 3s/step - loss: 3.1529 - val_loss: 0.6304\n",
      "Epoch 2/10\n",
      "499/499 [==============================] - 1278s 3s/step - loss: 0.4672 - val_loss: 0.2889\n",
      "Epoch 3/10\n",
      "499/499 [==============================] - 1276s 3s/step - loss: 0.1617 - val_loss: 0.1782\n",
      "Epoch 4/10\n",
      "499/499 [==============================] - 1274s 3s/step - loss: 0.0489 - val_loss: 0.1393\n",
      "Epoch 5/10\n",
      "499/499 [==============================] - 1271s 3s/step - loss: 0.0134 - val_loss: 0.1227\n",
      "Epoch 6/10\n",
      "499/499 [==============================] - 1362s 3s/step - loss: 0.0042 - val_loss: 0.1143\n",
      "Epoch 7/10\n",
      "499/499 [==============================] - 1277s 3s/step - loss: 0.0016 - val_loss: 0.1115\n",
      "Epoch 8/10\n",
      "499/499 [==============================] - 1297s 3s/step - loss: 0.0067 - val_loss: 0.1239\n",
      "Epoch 9/10\n",
      "499/499 [==============================] - 1279s 3s/step - loss: 0.0042 - val_loss: 0.1126\n",
      "Epoch 10/10\n",
      "499/499 [==============================] - 1378s 3s/step - loss: 8.2439e-04 - val_loss: 0.1072\n"
     ]
    }
   ],
   "source": [
    "# dropout = 0.3 + 전처리 추가(문장 길이에 대한 옵션을 더블로 줬음)+ 임베딩 1024+ 양방향 Rnn\n",
    "from keras.callbacks import ReduceLROnPlateau\n",
    "\n",
    "optimizer = tf.keras.optimizers.Adam()\n",
    "loss = tf.keras.losses.SparseCategoricalCrossentropy(\n",
    "    from_logits=True,\n",
    "    reduction='none')\n",
    "\n",
    "reduce_lr  = ReduceLROnPlateau(monitor='val_loss', factor=0.5,\n",
    "                           patience=2, mode=\"min\", min_lr=0.05)\n",
    "\n",
    "\n",
    "model.compile(loss=loss, optimizer=optimizer)\n",
    "data6 = model.fit(dataset, epochs=10, validation_data=(enc_val, dec_val), verbose=1, callbacks=[reduce_lr])"
   ]
  },
  {
   "cell_type": "markdown",
   "id": "silver-mentor",
   "metadata": {},
   "source": [
    "---\n",
    "\n",
    "## 5. 모델이 가사를 잘 생성하는지 확인하기"
   ]
  },
  {
   "cell_type": "markdown",
   "id": "arranged-apache",
   "metadata": {},
   "source": [
    "### 5-1. Model 5 결과"
   ]
  },
  {
   "cell_type": "code",
   "execution_count": 14,
   "id": "eleven-correction",
   "metadata": {},
   "outputs": [],
   "source": [
    "def generate_text(model, tokenizer, init_sentence=\"<start>\", max_len=20):\n",
    "    # 테스트를 위해서 입력받은 init_sentence도 텐서로 변환합니다\n",
    "    test_input = tokenizer.texts_to_sequences([init_sentence])\n",
    "    test_tensor = tf.convert_to_tensor(test_input, dtype=tf.int64)\n",
    "    end_token = tokenizer.word_index[\"<end>\"]\n",
    "\n",
    "    # 단어 하나씩 예측해 문장을 만듭니다\n",
    "    #    1. 입력받은 문장의 텐서를 입력합니다\n",
    "    #    2. 예측된 값 중 가장 높은 확률인 word index를 뽑아냅니다\n",
    "    #    3. 2에서 예측된 word index를 문장 뒤에 붙입니다\n",
    "    #    4. 모델이 <end>를 예측했거나, max_len에 도달했다면 문장 생성을 마칩니다\n",
    "    while True:\n",
    "        # 1\n",
    "        predict = model(test_tensor) \n",
    "        # 2\n",
    "        predict_word = tf.argmax(tf.nn.softmax(predict, axis=-1), axis=-1)[:, -1] \n",
    "        # 3 \n",
    "        test_tensor = tf.concat([test_tensor, tf.expand_dims(predict_word, axis=0)], axis=-1)\n",
    "        # 4\n",
    "        if predict_word.numpy()[0] == end_token: break\n",
    "        if test_tensor.shape[1] >= max_len: break\n",
    "\n",
    "    generated = \"\"\n",
    "    # tokenizer를 이용해 word index를 단어로 하나씩 변환합니다 \n",
    "    for word_index in test_tensor[0].numpy():\n",
    "        generated += tokenizer.index_word[word_index] + \" \"\n",
    "\n",
    "    return generated"
   ]
  },
  {
   "cell_type": "code",
   "execution_count": 15,
   "id": "trained-mapping",
   "metadata": {},
   "outputs": [
    {
     "data": {
      "text/plain": [
       "'<start> i love ma little nasty girl <end> '"
      ]
     },
     "execution_count": 15,
     "metadata": {},
     "output_type": "execute_result"
    }
   ],
   "source": [
    "generate_text(model, tokenizer, init_sentence=\"<start> i love\", max_len=20)"
   ]
  },
  {
   "cell_type": "code",
   "execution_count": 16,
   "id": "incorrect-wallet",
   "metadata": {},
   "outputs": [
    {
     "name": "stdout",
     "output_type": "stream",
     "text": [
      "<start> i love ma little nasty girl <end> \n",
      "<start> i hate the way you fell apart girl , its sad to see <end> \n",
      "<start> i m the hunter <end> \n",
      "<start> you love me for me could you be more phony <end> \n",
      "<start> you know i m bad , i m bad shameone , you know <end> \n",
      "<start> your love divine , oh its too much baby <end> \n",
      "<start> mine by the way i m feeling the way you can <end> \n",
      "<start> love is a woman <end> \n",
      "<start> coffee and tea <end> \n",
      "<start> sweet and undefeated <end> \n",
      "<start> i am not throwing away my shot <end> \n",
      "<start> never had money so i felt like a virgin <end> \n"
     ]
    }
   ],
   "source": [
    "test_word = ['i love', 'i hate', 'I','you love' ,'you', 'your love', 'mine', 'love is', 'coffee', 'sweet','i am','never']\n",
    "result_dict2 = {}\n",
    "for word in test_word:\n",
    "    result2 = generate_text(model, tokenizer, init_sentence= ' '.join([\"<start>\", word]))\n",
    "    result_dict2[word] = result2\n",
    "    print(result2)"
   ]
  },
  {
   "cell_type": "markdown",
   "id": "authentic-criterion",
   "metadata": {},
   "source": [
    "### 5-2 Model 6 결과"
   ]
  },
  {
   "cell_type": "code",
   "execution_count": 27,
   "id": "searching-command",
   "metadata": {},
   "outputs": [],
   "source": [
    "def generate_text(model, tokenizer, init_sentence=\"<start>\", max_len=20):\n",
    "    # 테스트를 위해서 입력받은 init_sentence도 텐서로 변환합니다\n",
    "    test_input = tokenizer.texts_to_sequences([init_sentence])\n",
    "    test_tensor = tf.convert_to_tensor(test_input, dtype=tf.int64)\n",
    "    end_token = tokenizer.word_index[\"<end>\"]\n",
    "\n",
    "    # 단어 하나씩 예측해 문장을 만듭니다\n",
    "    #    1. 입력받은 문장의 텐서를 입력합니다\n",
    "    #    2. 예측된 값 중 가장 높은 확률인 word index를 뽑아냅니다\n",
    "    #    3. 2에서 예측된 word index를 문장 뒤에 붙입니다\n",
    "    #    4. 모델이 <end>를 예측했거나, max_len에 도달했다면 문장 생성을 마칩니다\n",
    "    while True:\n",
    "        # 1\n",
    "        predict = model(test_tensor) \n",
    "        # 2\n",
    "        predict_word = tf.argmax(tf.nn.softmax(predict, axis=-1), axis=-1)[:, -1] \n",
    "        # 3 \n",
    "        test_tensor = tf.concat([test_tensor, tf.expand_dims(predict_word, axis=0)], axis=-1)\n",
    "        # 4\n",
    "        if predict_word.numpy()[0] == end_token: break\n",
    "        if test_tensor.shape[1] >= max_len: break\n",
    "\n",
    "    generated = \"\"\n",
    "    # tokenizer를 이용해 word index를 단어로 하나씩 변환합니다 \n",
    "    for word_index in test_tensor[0].numpy():\n",
    "        generated += tokenizer.index_word[word_index] + \" \"\n",
    "\n",
    "    return generated"
   ]
  },
  {
   "cell_type": "code",
   "execution_count": 28,
   "id": "stable-privacy",
   "metadata": {},
   "outputs": [
    {
     "data": {
      "text/plain": [
       "'<start> i love <end> '"
      ]
     },
     "execution_count": 28,
     "metadata": {},
     "output_type": "execute_result"
    }
   ],
   "source": [
    "generate_text(model, tokenizer, init_sentence=\"<start> i love\", max_len=20)"
   ]
  },
  {
   "cell_type": "code",
   "execution_count": 31,
   "id": "curious-ending",
   "metadata": {},
   "outputs": [
    {
     "name": "stdout",
     "output_type": "stream",
     "text": [
      "<start> i love <end> \n",
      "<start> i hate <end> \n",
      "<start> i <end> \n",
      "<start> you love <end> \n",
      "<start> you <end> \n",
      "<start> your love <end> \n",
      "<start> mine <end> \n",
      "<start> love is <end> \n",
      "<start> coffee <end> \n",
      "<start> sweet <end> \n",
      "<start> i am <end> \n",
      "<start> never <end> \n"
     ]
    }
   ],
   "source": [
    "# Model 6 결과\n",
    "test_word = ['i love', 'i hate', 'I','you love' ,'you', 'your love', 'mine', 'love is', 'coffee', 'sweet','i am','never']\n",
    "result_dict1 = {}\n",
    "for word in test_word:\n",
    "    result1 = generate_text(model, tokenizer, init_sentence= ' '.join([\"<start>\", word]))\n",
    "    result_dict1[word] = result1\n",
    "    print(result1)"
   ]
  },
  {
   "cell_type": "markdown",
   "id": "superior-yeast",
   "metadata": {},
   "source": [
    "### DataFrame으로 결과 확인해보기\n",
    "pandas의 dataframe을 사용하여 첫 단어로 준 문장 및 단어들과 그에 따른 결과를 정리해서 확인해보았다.\n",
    "\n",
    "loss 값은 확연하게 model 6가 낮지만, 오버 피팅 문제가 있는 것을 볼 수 있다.\n",
    "\n",
    "Model 5 와 Model 6의 결과를 보면 Model 5가 훨씬 작사를 자연스럽게 하는 것을 볼 수 있다.\n",
    "\n",
    "아래 결과를 보면 Model 6는 문장을 거의 만들지 못 하는 것을 볼 수 있다.\n",
    "\n",
    "model 6는 val_loss 값만 낮고 성능은 좋지 못하다고 할 수 있을 것 같다."
   ]
  },
  {
   "cell_type": "code",
   "execution_count": 18,
   "id": "distributed-spell",
   "metadata": {},
   "outputs": [
    {
     "data": {
      "text/html": [
       "<div>\n",
       "<style scoped>\n",
       "    .dataframe tbody tr th:only-of-type {\n",
       "        vertical-align: middle;\n",
       "    }\n",
       "\n",
       "    .dataframe tbody tr th {\n",
       "        vertical-align: top;\n",
       "    }\n",
       "\n",
       "    .dataframe thead th {\n",
       "        text-align: right;\n",
       "    }\n",
       "</style>\n",
       "<table border=\"1\" class=\"dataframe\">\n",
       "  <thead>\n",
       "    <tr style=\"text-align: right;\">\n",
       "      <th></th>\n",
       "      <th>start</th>\n",
       "      <th>result</th>\n",
       "    </tr>\n",
       "  </thead>\n",
       "  <tbody>\n",
       "    <tr>\n",
       "      <th>0</th>\n",
       "      <td>i love</td>\n",
       "      <td>&lt;start&gt; i love ma little nasty girl &lt;end&gt;</td>\n",
       "    </tr>\n",
       "    <tr>\n",
       "      <th>1</th>\n",
       "      <td>i hate</td>\n",
       "      <td>&lt;start&gt; i hate the way you fell apart girl , i...</td>\n",
       "    </tr>\n",
       "    <tr>\n",
       "      <th>2</th>\n",
       "      <td>I</td>\n",
       "      <td>&lt;start&gt; i m the hunter &lt;end&gt;</td>\n",
       "    </tr>\n",
       "    <tr>\n",
       "      <th>3</th>\n",
       "      <td>you love</td>\n",
       "      <td>&lt;start&gt; you love me for me could you be more p...</td>\n",
       "    </tr>\n",
       "    <tr>\n",
       "      <th>4</th>\n",
       "      <td>you</td>\n",
       "      <td>&lt;start&gt; you know i m bad , i m bad shameone , ...</td>\n",
       "    </tr>\n",
       "    <tr>\n",
       "      <th>5</th>\n",
       "      <td>your love</td>\n",
       "      <td>&lt;start&gt; your love divine , oh its too much bab...</td>\n",
       "    </tr>\n",
       "    <tr>\n",
       "      <th>6</th>\n",
       "      <td>mine</td>\n",
       "      <td>&lt;start&gt; mine by the way i m feeling the way yo...</td>\n",
       "    </tr>\n",
       "    <tr>\n",
       "      <th>7</th>\n",
       "      <td>love is</td>\n",
       "      <td>&lt;start&gt; love is a woman &lt;end&gt;</td>\n",
       "    </tr>\n",
       "    <tr>\n",
       "      <th>8</th>\n",
       "      <td>coffee</td>\n",
       "      <td>&lt;start&gt; coffee and tea &lt;end&gt;</td>\n",
       "    </tr>\n",
       "    <tr>\n",
       "      <th>9</th>\n",
       "      <td>sweet</td>\n",
       "      <td>&lt;start&gt; sweet and undefeated &lt;end&gt;</td>\n",
       "    </tr>\n",
       "    <tr>\n",
       "      <th>10</th>\n",
       "      <td>i am</td>\n",
       "      <td>&lt;start&gt; i am not throwing away my shot &lt;end&gt;</td>\n",
       "    </tr>\n",
       "    <tr>\n",
       "      <th>11</th>\n",
       "      <td>never</td>\n",
       "      <td>&lt;start&gt; never had money so i felt like a virgi...</td>\n",
       "    </tr>\n",
       "  </tbody>\n",
       "</table>\n",
       "</div>"
      ],
      "text/plain": [
       "        start                                             result\n",
       "0      i love         <start> i love ma little nasty girl <end> \n",
       "1      i hate  <start> i hate the way you fell apart girl , i...\n",
       "2           I                      <start> i m the hunter <end> \n",
       "3    you love  <start> you love me for me could you be more p...\n",
       "4         you  <start> you know i m bad , i m bad shameone , ...\n",
       "5   your love  <start> your love divine , oh its too much bab...\n",
       "6        mine  <start> mine by the way i m feeling the way yo...\n",
       "7     love is                     <start> love is a woman <end> \n",
       "8      coffee                      <start> coffee and tea <end> \n",
       "9       sweet                <start> sweet and undefeated <end> \n",
       "10       i am      <start> i am not throwing away my shot <end> \n",
       "11      never  <start> never had money so i felt like a virgi..."
      ]
     },
     "execution_count": 18,
     "metadata": {},
     "output_type": "execute_result"
    }
   ],
   "source": [
    "# Model 5 결과\n",
    "import pandas as pd\n",
    "\n",
    "pd.DataFrame(list(result_dict2.items()),\n",
    "                   columns=['start', 'result'])"
   ]
  },
  {
   "cell_type": "code",
   "execution_count": 37,
   "id": "coated-adolescent",
   "metadata": {},
   "outputs": [
    {
     "data": {
      "text/html": [
       "<div>\n",
       "<style scoped>\n",
       "    .dataframe tbody tr th:only-of-type {\n",
       "        vertical-align: middle;\n",
       "    }\n",
       "\n",
       "    .dataframe tbody tr th {\n",
       "        vertical-align: top;\n",
       "    }\n",
       "\n",
       "    .dataframe thead th {\n",
       "        text-align: right;\n",
       "    }\n",
       "</style>\n",
       "<table border=\"1\" class=\"dataframe\">\n",
       "  <thead>\n",
       "    <tr style=\"text-align: right;\">\n",
       "      <th></th>\n",
       "      <th>start</th>\n",
       "      <th>result</th>\n",
       "    </tr>\n",
       "  </thead>\n",
       "  <tbody>\n",
       "    <tr>\n",
       "      <th>0</th>\n",
       "      <td>i love</td>\n",
       "      <td>&lt;start&gt; i love &lt;end&gt;</td>\n",
       "    </tr>\n",
       "    <tr>\n",
       "      <th>1</th>\n",
       "      <td>i hate</td>\n",
       "      <td>&lt;start&gt; i hate &lt;end&gt;</td>\n",
       "    </tr>\n",
       "    <tr>\n",
       "      <th>2</th>\n",
       "      <td>I</td>\n",
       "      <td>&lt;start&gt; i &lt;end&gt;</td>\n",
       "    </tr>\n",
       "    <tr>\n",
       "      <th>3</th>\n",
       "      <td>you love</td>\n",
       "      <td>&lt;start&gt; you love &lt;end&gt;</td>\n",
       "    </tr>\n",
       "    <tr>\n",
       "      <th>4</th>\n",
       "      <td>you</td>\n",
       "      <td>&lt;start&gt; you &lt;end&gt;</td>\n",
       "    </tr>\n",
       "    <tr>\n",
       "      <th>5</th>\n",
       "      <td>your love</td>\n",
       "      <td>&lt;start&gt; your love &lt;end&gt;</td>\n",
       "    </tr>\n",
       "    <tr>\n",
       "      <th>6</th>\n",
       "      <td>mine</td>\n",
       "      <td>&lt;start&gt; mine &lt;end&gt;</td>\n",
       "    </tr>\n",
       "    <tr>\n",
       "      <th>7</th>\n",
       "      <td>love is</td>\n",
       "      <td>&lt;start&gt; love is &lt;end&gt;</td>\n",
       "    </tr>\n",
       "    <tr>\n",
       "      <th>8</th>\n",
       "      <td>coffee</td>\n",
       "      <td>&lt;start&gt; coffee &lt;end&gt;</td>\n",
       "    </tr>\n",
       "    <tr>\n",
       "      <th>9</th>\n",
       "      <td>sweet</td>\n",
       "      <td>&lt;start&gt; sweet &lt;end&gt;</td>\n",
       "    </tr>\n",
       "    <tr>\n",
       "      <th>10</th>\n",
       "      <td>i am</td>\n",
       "      <td>&lt;start&gt; i am &lt;end&gt;</td>\n",
       "    </tr>\n",
       "    <tr>\n",
       "      <th>11</th>\n",
       "      <td>never</td>\n",
       "      <td>&lt;start&gt; never &lt;end&gt;</td>\n",
       "    </tr>\n",
       "  </tbody>\n",
       "</table>\n",
       "</div>"
      ],
      "text/plain": [
       "        start                    result\n",
       "0      i love     <start> i love <end> \n",
       "1      i hate     <start> i hate <end> \n",
       "2           I          <start> i <end> \n",
       "3    you love   <start> you love <end> \n",
       "4         you        <start> you <end> \n",
       "5   your love  <start> your love <end> \n",
       "6        mine       <start> mine <end> \n",
       "7     love is    <start> love is <end> \n",
       "8      coffee     <start> coffee <end> \n",
       "9       sweet      <start> sweet <end> \n",
       "10       i am       <start> i am <end> \n",
       "11      never      <start> never <end> "
      ]
     },
     "execution_count": 37,
     "metadata": {},
     "output_type": "execute_result"
    }
   ],
   "source": [
    "# Model 6 결과\n",
    "import pandas as pd\n",
    "\n",
    "pd.DataFrame(list(result_dict1.items()),\n",
    "                   columns=['start', 'result'])"
   ]
  },
  {
   "cell_type": "markdown",
   "id": "suspended-return",
   "metadata": {},
   "source": [
    "---\n",
    "\n",
    "## 6. 회고 \n",
    "고난의 연속이었던 작사가 만들기 프로젝트.. 휴일 내내 모델만 돌린 것 같다.\n",
    "덕분에 내가 많이 부족하다는 것을 다시 한번 느끼게 되었다.\n",
    "\n",
    "사실 이전에는 loss 값도 중요하게 생각하긴 했지만 accuracy에 좀 더 집중 했던 것 같다.\n",
    "이렇게 loss값에 집중한 적이 있었던가..? 하고 생각을 하다보니, 그 동안은 많은 것을 간과하고 있었던 것 같다고 느꼈다.\n",
    "\n",
    "이번 기회를 통해 loss 값에 대해서도 많이 생각하게 되고 rnn에 대해서도 많이 배운 것 같다. \n",
    "\n",
    "val_loss가 너무 안잡혀서 여러번의 시도 끝에 양방향 RNN을 선택해봤다.\n",
    "\n",
    "단순히 val_loss를 낮추기 위해 양방향 RNN을 찾아보게 되었지만, 눈에 띄게 loss가 줄어드는 것을 보니 조금 더 공부하고 싶은 마음이 들었다.\n",
    "\n",
    "Rnn 이외에도 callback 함수, dropout 등에 대해서도 개념을 확실하게 잡질 못한 것 같다. 아직도 많이 부족하다.. \n",
    "\n",
    "프로젝트 제출 후에 좀 더 찾아봐야겠다.\n",
    "\n",
    "특히 val_loss 값은 2.2 보다 정말 낮게 나왔음에도 불구하고 작사를 못하는 것에 대해서 결과는 확인했지만, 정확한 이유를 모르겠다.\n",
    "\n",
    "이 부분 역시 다시 공부해봐야겠다.\n",
    "\n",
    "그리고 loss 값의 변화를 시각화 하고 싶다는 생각이 들어 서치를 하다보니 keras 에서 모델 훈련 history를 확인할 수 있다는 사실도 알게되었다.\n",
    "\n",
    "시각화 하려고 코드까지 다 짰으나 커널이 죽어버려서 히스토리가 다 날라가버렸다.\n",
    "\n",
    "남은 데이터는 model 5, 6 뿐이었는데 그 마저도 6이 중간에 날라갔다 ㅎㅎ \n",
    "\n",
    "시각화의 꿈은 저 너머로 ..ㅎㅎㅠㅠ\n",
    "\n",
    "여러모로 나를 많이 채울 수 있는 프로젝트 였다고 생각한다.\n",
    "\n",
    "이후에 양방향 RNN을 사용을 배제하고 확실하게 loss를 잡을 수 있는 방법을 더 찾아봐야겠다.\n"
   ]
  },
  {
   "cell_type": "markdown",
   "id": "olympic-explorer",
   "metadata": {},
   "source": [
    "---\n",
    "\n",
    "## 참고 자료\n",
    "\n",
    "[Keras Documentation](https://keras.io/ko/visualization/)\n",
    "\n",
    "[Tensorflow 콜백함수: ReduceLROnPlateau](https://deep-deep-deep.tistory.com/56)\n"
   ]
  }
 ],
 "metadata": {
  "kernelspec": {
   "display_name": "Python 3",
   "language": "python",
   "name": "python3"
  },
  "language_info": {
   "codemirror_mode": {
    "name": "ipython",
    "version": 3
   },
   "file_extension": ".py",
   "mimetype": "text/x-python",
   "name": "python",
   "nbconvert_exporter": "python",
   "pygments_lexer": "ipython3",
   "version": "3.7.9"
  }
 },
 "nbformat": 4,
 "nbformat_minor": 5
}
