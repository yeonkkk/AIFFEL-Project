{
  "nbformat": 4,
  "nbformat_minor": 0,
  "metadata": {
    "colab": {
      "name": "[E-12]Predict_Next_Movie",
      "provenance": [],
      "collapsed_sections": [],
      "mount_file_id": "12o3QNQhncv56RNw_Fhw2NsD_mb08cqpf",
      "authorship_tag": "ABX9TyNVhkMXqT25QEeZhPfFPLVh",
      "include_colab_link": true
    },
    "kernelspec": {
      "name": "python3",
      "display_name": "Python 3"
    },
    "language_info": {
      "name": "python"
    }
  },
  "cells": [
    {
      "cell_type": "markdown",
      "metadata": {
        "id": "view-in-github",
        "colab_type": "text"
      },
      "source": [
        "<a href=\"https://colab.research.google.com/github/yeonkkk/AIFFEL-Project/blob/main/AIFFEL-Project/Exploration12/project/%5BE_12%5DPredict_Next_Movie.ipynb\" target=\"_parent\"><img src=\"https://colab.research.google.com/assets/colab-badge.svg\" alt=\"Open In Colab\"/></a>"
      ]
    },
    {
      "cell_type": "markdown",
      "metadata": {
        "id": "IuOi3QS_VlOs"
      },
      "source": [
        "# E-12. Predict Next Movie"
      ]
    },
    {
      "cell_type": "code",
      "metadata": {
        "colab": {
          "base_uri": "https://localhost:8080/"
        },
        "id": "due6l5jpus3T",
        "outputId": "16b9adb1-fefd-4a3f-be30-772d26188dc8"
      },
      "source": [
        "from google.colab import drive\n",
        "drive.mount('/content/drive')"
      ],
      "execution_count": 3,
      "outputs": [
        {
          "output_type": "stream",
          "name": "stdout",
          "text": [
            "Drive already mounted at /content/drive; to attempt to forcibly remount, call drive.mount(\"/content/drive\", force_remount=True).\n"
          ]
        }
      ]
    },
    {
      "cell_type": "code",
      "metadata": {
        "id": "buEhzGa1VgGv"
      },
      "source": [
        "import datetime as dt\n",
        "from pathlib import Path\n",
        "import os\n",
        "\n",
        "import numpy as np\n",
        "import pandas as pd\n",
        "import warnings\n",
        "warnings.filterwarnings('ignore')"
      ],
      "execution_count": 4,
      "outputs": []
    },
    {
      "cell_type": "code",
      "metadata": {
        "id": "DTBSfmtFVks0"
      },
      "source": [
        "data_path = '/content/drive/MyDrive/ex12/ml-1m/'\n",
        "train_path = data_path + '/' +'ratings.dat'\n",
        "\n",
        "def load_data(data_path: Path, nrows=None):\n",
        "    data = pd.read_csv(data_path, sep='::', header=None, usecols=[0, 1, 2, 3], dtype={0: np.int32, 1: np.int32, 2: np.int32}, nrows=nrows)\n",
        "    data.columns = ['UserId', 'ItemId', 'Rating', 'Time']\n",
        "    return data\n"
      ],
      "execution_count": 5,
      "outputs": []
    },
    {
      "cell_type": "code",
      "metadata": {
        "colab": {
          "base_uri": "https://localhost:8080/",
          "height": 419
        },
        "id": "bPmHCm_svUQm",
        "outputId": "f3dd649f-db48-4ea5-ce0a-5459b2193039"
      },
      "source": [
        "data = load_data(train_path, None)\n",
        "data.sort_values(['UserId', 'Time'], inplace=True)  # data를 id와 시간 순서로 정렬해줍니다.\n",
        "data"
      ],
      "execution_count": 6,
      "outputs": [
        {
          "output_type": "execute_result",
          "data": {
            "text/html": [
              "<div>\n",
              "<style scoped>\n",
              "    .dataframe tbody tr th:only-of-type {\n",
              "        vertical-align: middle;\n",
              "    }\n",
              "\n",
              "    .dataframe tbody tr th {\n",
              "        vertical-align: top;\n",
              "    }\n",
              "\n",
              "    .dataframe thead th {\n",
              "        text-align: right;\n",
              "    }\n",
              "</style>\n",
              "<table border=\"1\" class=\"dataframe\">\n",
              "  <thead>\n",
              "    <tr style=\"text-align: right;\">\n",
              "      <th></th>\n",
              "      <th>UserId</th>\n",
              "      <th>ItemId</th>\n",
              "      <th>Rating</th>\n",
              "      <th>Time</th>\n",
              "    </tr>\n",
              "  </thead>\n",
              "  <tbody>\n",
              "    <tr>\n",
              "      <th>31</th>\n",
              "      <td>1</td>\n",
              "      <td>3186</td>\n",
              "      <td>4</td>\n",
              "      <td>978300019</td>\n",
              "    </tr>\n",
              "    <tr>\n",
              "      <th>22</th>\n",
              "      <td>1</td>\n",
              "      <td>1270</td>\n",
              "      <td>5</td>\n",
              "      <td>978300055</td>\n",
              "    </tr>\n",
              "    <tr>\n",
              "      <th>27</th>\n",
              "      <td>1</td>\n",
              "      <td>1721</td>\n",
              "      <td>4</td>\n",
              "      <td>978300055</td>\n",
              "    </tr>\n",
              "    <tr>\n",
              "      <th>37</th>\n",
              "      <td>1</td>\n",
              "      <td>1022</td>\n",
              "      <td>5</td>\n",
              "      <td>978300055</td>\n",
              "    </tr>\n",
              "    <tr>\n",
              "      <th>24</th>\n",
              "      <td>1</td>\n",
              "      <td>2340</td>\n",
              "      <td>3</td>\n",
              "      <td>978300103</td>\n",
              "    </tr>\n",
              "    <tr>\n",
              "      <th>...</th>\n",
              "      <td>...</td>\n",
              "      <td>...</td>\n",
              "      <td>...</td>\n",
              "      <td>...</td>\n",
              "    </tr>\n",
              "    <tr>\n",
              "      <th>1000019</th>\n",
              "      <td>6040</td>\n",
              "      <td>2917</td>\n",
              "      <td>4</td>\n",
              "      <td>997454429</td>\n",
              "    </tr>\n",
              "    <tr>\n",
              "      <th>999988</th>\n",
              "      <td>6040</td>\n",
              "      <td>1921</td>\n",
              "      <td>4</td>\n",
              "      <td>997454464</td>\n",
              "    </tr>\n",
              "    <tr>\n",
              "      <th>1000172</th>\n",
              "      <td>6040</td>\n",
              "      <td>1784</td>\n",
              "      <td>3</td>\n",
              "      <td>997454464</td>\n",
              "    </tr>\n",
              "    <tr>\n",
              "      <th>1000167</th>\n",
              "      <td>6040</td>\n",
              "      <td>161</td>\n",
              "      <td>3</td>\n",
              "      <td>997454486</td>\n",
              "    </tr>\n",
              "    <tr>\n",
              "      <th>1000042</th>\n",
              "      <td>6040</td>\n",
              "      <td>1221</td>\n",
              "      <td>4</td>\n",
              "      <td>998315055</td>\n",
              "    </tr>\n",
              "  </tbody>\n",
              "</table>\n",
              "<p>1000209 rows × 4 columns</p>\n",
              "</div>"
            ],
            "text/plain": [
              "         UserId  ItemId  Rating       Time\n",
              "31            1    3186       4  978300019\n",
              "22            1    1270       5  978300055\n",
              "27            1    1721       4  978300055\n",
              "37            1    1022       5  978300055\n",
              "24            1    2340       3  978300103\n",
              "...         ...     ...     ...        ...\n",
              "1000019    6040    2917       4  997454429\n",
              "999988     6040    1921       4  997454464\n",
              "1000172    6040    1784       3  997454464\n",
              "1000167    6040     161       3  997454486\n",
              "1000042    6040    1221       4  998315055\n",
              "\n",
              "[1000209 rows x 4 columns]"
            ]
          },
          "metadata": {},
          "execution_count": 6
        }
      ]
    },
    {
      "cell_type": "code",
      "metadata": {
        "colab": {
          "base_uri": "https://localhost:8080/"
        },
        "id": "F82zynUfkZXo",
        "outputId": "0754b398-dc77-486f-8766-4be26514fa0c"
      },
      "source": [
        "data.info()"
      ],
      "execution_count": 7,
      "outputs": [
        {
          "output_type": "stream",
          "name": "stdout",
          "text": [
            "<class 'pandas.core.frame.DataFrame'>\n",
            "Int64Index: 1000209 entries, 31 to 1000042\n",
            "Data columns (total 4 columns):\n",
            " #   Column  Non-Null Count    Dtype\n",
            "---  ------  --------------    -----\n",
            " 0   UserId  1000209 non-null  int32\n",
            " 1   ItemId  1000209 non-null  int32\n",
            " 2   Rating  1000209 non-null  int32\n",
            " 3   Time    1000209 non-null  int64\n",
            "dtypes: int32(3), int64(1)\n",
            "memory usage: 26.7 MB\n"
          ]
        }
      ]
    },
    {
      "cell_type": "code",
      "metadata": {
        "colab": {
          "base_uri": "https://localhost:8080/",
          "height": 386
        },
        "id": "1cGQT7gHwDSa",
        "outputId": "63a551cb-a744-4752-e52b-d197c1bd3ac1"
      },
      "source": [
        "import missingno as msno\n",
        "msno.matrix(data)"
      ],
      "execution_count": 8,
      "outputs": [
        {
          "output_type": "execute_result",
          "data": {
            "text/plain": [
              "<matplotlib.axes._subplots.AxesSubplot at 0x7f80354cc290>"
            ]
          },
          "metadata": {},
          "execution_count": 8
        },
        {
          "output_type": "display_data",
          "data": {
            "image/png": "[encoded data removed]",
            "text/plain": [
              "<Figure size 1800x720 with 2 Axes>"
            ]
          },
          "metadata": {
            "needs_background": "light"
          }
        }
      ]
    },
    {
      "cell_type": "code",
      "metadata": {
        "colab": {
          "base_uri": "https://localhost:8080/"
        },
        "id": "sCNiyTzzyHVk",
        "outputId": "eb22fc77-b22c-48a2-8768-5259db0ca6d6"
      },
      "source": [
        "# 유저수, 아이템 수\n",
        "data['UserId'].nunique(), data['ItemId'].nunique()"
      ],
      "execution_count": 9,
      "outputs": [
        {
          "output_type": "execute_result",
          "data": {
            "text/plain": [
              "(6040, 3706)"
            ]
          },
          "metadata": {},
          "execution_count": 9
        }
      ]
    },
    {
      "cell_type": "code",
      "metadata": {
        "colab": {
          "base_uri": "https://localhost:8080/"
        },
        "id": "lDpddamOyItN",
        "outputId": "33e3d7a3-7baa-4b93-9ff1-3087d9ebf68f"
      },
      "source": [
        "# 유저별 리뷰 수\n",
        "session_length = data.groupby('UserId').size()\n",
        "session_length"
      ],
      "execution_count": 10,
      "outputs": [
        {
          "output_type": "execute_result",
          "data": {
            "text/plain": [
              "UserId\n",
              "1        53\n",
              "2       129\n",
              "3        51\n",
              "4        21\n",
              "5       198\n",
              "       ... \n",
              "6036    888\n",
              "6037    202\n",
              "6038     20\n",
              "6039    123\n",
              "6040    341\n",
              "Length: 6040, dtype: int64"
            ]
          },
          "metadata": {},
          "execution_count": 10
        }
      ]
    },
    {
      "cell_type": "code",
      "metadata": {
        "colab": {
          "base_uri": "https://localhost:8080/"
        },
        "id": "ghpwHBjtyJvQ",
        "outputId": "3163473c-f6df-4b96-b952-e2bf864168b9"
      },
      "source": [
        "# 중앙값\n",
        "session_length.median(), session_length.mean()"
      ],
      "execution_count": 11,
      "outputs": [
        {
          "output_type": "execute_result",
          "data": {
            "text/plain": [
              "(96.0, 165.5975165562914)"
            ]
          },
          "metadata": {},
          "execution_count": 11
        }
      ]
    },
    {
      "cell_type": "code",
      "metadata": {
        "colab": {
          "base_uri": "https://localhost:8080/"
        },
        "id": "P6Jp5fuJyMOK",
        "outputId": "1726e673-1f9b-4a03-8c11-2bd1a147176c"
      },
      "source": [
        "\n",
        "\n",
        "# 최소, 최댓값\n",
        "session_length.min(), session_length.max()"
      ],
      "execution_count": 12,
      "outputs": [
        {
          "output_type": "execute_result",
          "data": {
            "text/plain": [
              "(20, 2314)"
            ]
          },
          "metadata": {},
          "execution_count": 12
        }
      ]
    },
    {
      "cell_type": "code",
      "metadata": {
        "colab": {
          "base_uri": "https://localhost:8080/"
        },
        "id": "XA-JXW2CyMq-",
        "outputId": "3d668c91-2132-40fc-e4cd-200fe8635f48"
      },
      "source": [
        "# 분위수\n",
        "session_length.quantile(0.999)"
      ],
      "execution_count": 13,
      "outputs": [
        {
          "output_type": "execute_result",
          "data": {
            "text/plain": [
              "1343.181000000005"
            ]
          },
          "metadata": {},
          "execution_count": 13
        }
      ]
    },
    {
      "cell_type": "code",
      "metadata": {
        "colab": {
          "base_uri": "https://localhost:8080/",
          "height": 979
        },
        "id": "cxTYtOmkyNd_",
        "outputId": "68e75791-bdb9-49e6-d0ec-52cf32f59179"
      },
      "source": [
        "# 최다 리뷰자 확인\n",
        "long_session = session_length[session_length==2314].index[0]\n",
        "data[data['UserId']==long_session].head(30)"
      ],
      "execution_count": 14,
      "outputs": [
        {
          "output_type": "execute_result",
          "data": {
            "text/html": [
              "<div>\n",
              "<style scoped>\n",
              "    .dataframe tbody tr th:only-of-type {\n",
              "        vertical-align: middle;\n",
              "    }\n",
              "\n",
              "    .dataframe tbody tr th {\n",
              "        vertical-align: top;\n",
              "    }\n",
              "\n",
              "    .dataframe thead th {\n",
              "        text-align: right;\n",
              "    }\n",
              "</style>\n",
              "<table border=\"1\" class=\"dataframe\">\n",
              "  <thead>\n",
              "    <tr style=\"text-align: right;\">\n",
              "      <th></th>\n",
              "      <th>UserId</th>\n",
              "      <th>ItemId</th>\n",
              "      <th>Rating</th>\n",
              "      <th>Time</th>\n",
              "    </tr>\n",
              "  </thead>\n",
              "  <tbody>\n",
              "    <tr>\n",
              "      <th>696969</th>\n",
              "      <td>4169</td>\n",
              "      <td>1268</td>\n",
              "      <td>5</td>\n",
              "      <td>965333392</td>\n",
              "    </tr>\n",
              "    <tr>\n",
              "      <th>697168</th>\n",
              "      <td>4169</td>\n",
              "      <td>2617</td>\n",
              "      <td>4</td>\n",
              "      <td>965333392</td>\n",
              "    </tr>\n",
              "    <tr>\n",
              "      <th>697185</th>\n",
              "      <td>4169</td>\n",
              "      <td>2628</td>\n",
              "      <td>4</td>\n",
              "      <td>965333392</td>\n",
              "    </tr>\n",
              "    <tr>\n",
              "      <th>697219</th>\n",
              "      <td>4169</td>\n",
              "      <td>2653</td>\n",
              "      <td>4</td>\n",
              "      <td>965333392</td>\n",
              "    </tr>\n",
              "    <tr>\n",
              "      <th>697275</th>\n",
              "      <td>4169</td>\n",
              "      <td>423</td>\n",
              "      <td>3</td>\n",
              "      <td>965333392</td>\n",
              "    </tr>\n",
              "    <tr>\n",
              "      <th>696168</th>\n",
              "      <td>4169</td>\n",
              "      <td>3801</td>\n",
              "      <td>5</td>\n",
              "      <td>965333481</td>\n",
              "    </tr>\n",
              "    <tr>\n",
              "      <th>696250</th>\n",
              "      <td>4169</td>\n",
              "      <td>3841</td>\n",
              "      <td>2</td>\n",
              "      <td>965333481</td>\n",
              "    </tr>\n",
              "    <tr>\n",
              "      <th>697903</th>\n",
              "      <td>4169</td>\n",
              "      <td>3761</td>\n",
              "      <td>3</td>\n",
              "      <td>965333481</td>\n",
              "    </tr>\n",
              "    <tr>\n",
              "      <th>697954</th>\n",
              "      <td>4169</td>\n",
              "      <td>3788</td>\n",
              "      <td>3</td>\n",
              "      <td>965333481</td>\n",
              "    </tr>\n",
              "    <tr>\n",
              "      <th>695653</th>\n",
              "      <td>4169</td>\n",
              "      <td>3794</td>\n",
              "      <td>4</td>\n",
              "      <td>965333519</td>\n",
              "    </tr>\n",
              "    <tr>\n",
              "      <th>696188</th>\n",
              "      <td>4169</td>\n",
              "      <td>3811</td>\n",
              "      <td>5</td>\n",
              "      <td>965333519</td>\n",
              "    </tr>\n",
              "    <tr>\n",
              "      <th>696229</th>\n",
              "      <td>4169</td>\n",
              "      <td>3833</td>\n",
              "      <td>1</td>\n",
              "      <td>965333519</td>\n",
              "    </tr>\n",
              "    <tr>\n",
              "      <th>696230</th>\n",
              "      <td>4169</td>\n",
              "      <td>3834</td>\n",
              "      <td>3</td>\n",
              "      <td>965333519</td>\n",
              "    </tr>\n",
              "    <tr>\n",
              "      <th>697889</th>\n",
              "      <td>4169</td>\n",
              "      <td>3758</td>\n",
              "      <td>4</td>\n",
              "      <td>965333519</td>\n",
              "    </tr>\n",
              "    <tr>\n",
              "      <th>695649</th>\n",
              "      <td>4169</td>\n",
              "      <td>3792</td>\n",
              "      <td>4</td>\n",
              "      <td>965333558</td>\n",
              "    </tr>\n",
              "    <tr>\n",
              "      <th>695654</th>\n",
              "      <td>4169</td>\n",
              "      <td>3795</td>\n",
              "      <td>3</td>\n",
              "      <td>965333558</td>\n",
              "    </tr>\n",
              "    <tr>\n",
              "      <th>696189</th>\n",
              "      <td>4169</td>\n",
              "      <td>3812</td>\n",
              "      <td>3</td>\n",
              "      <td>965333558</td>\n",
              "    </tr>\n",
              "    <tr>\n",
              "      <th>696256</th>\n",
              "      <td>4169</td>\n",
              "      <td>3846</td>\n",
              "      <td>3</td>\n",
              "      <td>965333558</td>\n",
              "    </tr>\n",
              "    <tr>\n",
              "      <th>697906</th>\n",
              "      <td>4169</td>\n",
              "      <td>3763</td>\n",
              "      <td>4</td>\n",
              "      <td>965333558</td>\n",
              "    </tr>\n",
              "    <tr>\n",
              "      <th>697908</th>\n",
              "      <td>4169</td>\n",
              "      <td>3764</td>\n",
              "      <td>3</td>\n",
              "      <td>965333558</td>\n",
              "    </tr>\n",
              "    <tr>\n",
              "      <th>697929</th>\n",
              "      <td>4169</td>\n",
              "      <td>3770</td>\n",
              "      <td>4</td>\n",
              "      <td>965333558</td>\n",
              "    </tr>\n",
              "    <tr>\n",
              "      <th>697949</th>\n",
              "      <td>4169</td>\n",
              "      <td>3783</td>\n",
              "      <td>5</td>\n",
              "      <td>965333558</td>\n",
              "    </tr>\n",
              "    <tr>\n",
              "      <th>695648</th>\n",
              "      <td>4169</td>\n",
              "      <td>3791</td>\n",
              "      <td>3</td>\n",
              "      <td>965333578</td>\n",
              "    </tr>\n",
              "    <tr>\n",
              "      <th>696170</th>\n",
              "      <td>4169</td>\n",
              "      <td>3803</td>\n",
              "      <td>4</td>\n",
              "      <td>965333578</td>\n",
              "    </tr>\n",
              "    <tr>\n",
              "      <th>696190</th>\n",
              "      <td>4169</td>\n",
              "      <td>3813</td>\n",
              "      <td>5</td>\n",
              "      <td>965333606</td>\n",
              "    </tr>\n",
              "    <tr>\n",
              "      <th>696231</th>\n",
              "      <td>4169</td>\n",
              "      <td>3836</td>\n",
              "      <td>4</td>\n",
              "      <td>965333606</td>\n",
              "    </tr>\n",
              "    <tr>\n",
              "      <th>697910</th>\n",
              "      <td>4169</td>\n",
              "      <td>3765</td>\n",
              "      <td>2</td>\n",
              "      <td>965333606</td>\n",
              "    </tr>\n",
              "    <tr>\n",
              "      <th>697951</th>\n",
              "      <td>4169</td>\n",
              "      <td>3784</td>\n",
              "      <td>2</td>\n",
              "      <td>965333606</td>\n",
              "    </tr>\n",
              "    <tr>\n",
              "      <th>696171</th>\n",
              "      <td>4169</td>\n",
              "      <td>3805</td>\n",
              "      <td>3</td>\n",
              "      <td>965333636</td>\n",
              "    </tr>\n",
              "    <tr>\n",
              "      <th>696172</th>\n",
              "      <td>4169</td>\n",
              "      <td>3806</td>\n",
              "      <td>3</td>\n",
              "      <td>965333636</td>\n",
              "    </tr>\n",
              "  </tbody>\n",
              "</table>\n",
              "</div>"
            ],
            "text/plain": [
              "        UserId  ItemId  Rating       Time\n",
              "696969    4169    1268       5  965333392\n",
              "697168    4169    2617       4  965333392\n",
              "697185    4169    2628       4  965333392\n",
              "697219    4169    2653       4  965333392\n",
              "697275    4169     423       3  965333392\n",
              "696168    4169    3801       5  965333481\n",
              "696250    4169    3841       2  965333481\n",
              "697903    4169    3761       3  965333481\n",
              "697954    4169    3788       3  965333481\n",
              "695653    4169    3794       4  965333519\n",
              "696188    4169    3811       5  965333519\n",
              "696229    4169    3833       1  965333519\n",
              "696230    4169    3834       3  965333519\n",
              "697889    4169    3758       4  965333519\n",
              "695649    4169    3792       4  965333558\n",
              "695654    4169    3795       3  965333558\n",
              "696189    4169    3812       3  965333558\n",
              "696256    4169    3846       3  965333558\n",
              "697906    4169    3763       4  965333558\n",
              "697908    4169    3764       3  965333558\n",
              "697929    4169    3770       4  965333558\n",
              "697949    4169    3783       5  965333558\n",
              "695648    4169    3791       3  965333578\n",
              "696170    4169    3803       4  965333578\n",
              "696190    4169    3813       5  965333606\n",
              "696231    4169    3836       4  965333606\n",
              "697910    4169    3765       2  965333606\n",
              "697951    4169    3784       2  965333606\n",
              "696171    4169    3805       3  965333636\n",
              "696172    4169    3806       3  965333636"
            ]
          },
          "metadata": {},
          "execution_count": 14
        }
      ]
    },
    {
      "cell_type": "markdown",
      "metadata": {
        "id": "zgwVSh5IlIyZ"
      },
      "source": [
        "- 최다 리뷰자의 리뷰 시간을 보면 동일한 시간에 여러 영화를 리뷰한 것을 확인할 수 있다."
      ]
    },
    {
      "cell_type": "code",
      "metadata": {
        "colab": {
          "base_uri": "https://localhost:8080/"
        },
        "id": "3m5uNezzyOfj",
        "outputId": "f0d9cfd7-f5c4-4ef7-9d58-bbc7f71e6a69"
      },
      "source": [
        "length_count = session_length.groupby(session_length).size()\n",
        "length_percent_cumsum = length_count.cumsum() / length_count.sum()\n",
        "length_percent_cumsum_999 = length_percent_cumsum[length_percent_cumsum < 0.999]\n",
        "\n",
        "length_percent_cumsum_999"
      ],
      "execution_count": 15,
      "outputs": [
        {
          "output_type": "execute_result",
          "data": {
            "text/plain": [
              "20      0.014238\n",
              "21      0.029305\n",
              "22      0.042053\n",
              "23      0.055464\n",
              "24      0.068874\n",
              "          ...   \n",
              "1271    0.998179\n",
              "1277    0.998344\n",
              "1286    0.998510\n",
              "1302    0.998675\n",
              "1323    0.998841\n",
              "Length: 736, dtype: float64"
            ]
          },
          "metadata": {},
          "execution_count": 15
        }
      ]
    },
    {
      "cell_type": "code",
      "metadata": {
        "colab": {
          "base_uri": "https://localhost:8080/",
          "height": 454
        },
        "id": "oOrdx0KlyQH-",
        "outputId": "fcb96fb6-5270-4e77-cd69-73317d3ad04f"
      },
      "source": [
        "import matplotlib.pyplot as plt\n",
        "\n",
        "plt.figure(figsize=(20, 10))\n",
        "plt.bar(x=length_percent_cumsum_999.index,\n",
        "        height=length_percent_cumsum_999, color='red')\n",
        "plt.xticks(length_percent_cumsum_999.index)\n",
        "plt.yticks(np.arange(0, 1.01, 0.05))\n",
        "plt.title('Cumsum Percentage Until 0.999', size=20)\n",
        "plt.show()"
      ],
      "execution_count": 16,
      "outputs": [
        {
          "output_type": "display_data",
          "data": {
            "image/png": "[encoded data removed]",
            "text/plain": [
              "<Figure size 1440x720 with 1 Axes>"
            ]
          },
          "metadata": {
            "needs_background": "light"
          }
        }
      ]
    },
    {
      "cell_type": "code",
      "metadata": {
        "colab": {
          "base_uri": "https://localhost:8080/",
          "height": 235
        },
        "id": "eSfwRR9ImR1Y",
        "outputId": "d7c84417-f72d-481d-ab67-26f27ae2473a"
      },
      "source": [
        "count_rating = data.groupby('Rating').count()\n",
        "count_rating"
      ],
      "execution_count": 17,
      "outputs": [
        {
          "output_type": "execute_result",
          "data": {
            "text/html": [
              "<div>\n",
              "<style scoped>\n",
              "    .dataframe tbody tr th:only-of-type {\n",
              "        vertical-align: middle;\n",
              "    }\n",
              "\n",
              "    .dataframe tbody tr th {\n",
              "        vertical-align: top;\n",
              "    }\n",
              "\n",
              "    .dataframe thead th {\n",
              "        text-align: right;\n",
              "    }\n",
              "</style>\n",
              "<table border=\"1\" class=\"dataframe\">\n",
              "  <thead>\n",
              "    <tr style=\"text-align: right;\">\n",
              "      <th></th>\n",
              "      <th>UserId</th>\n",
              "      <th>ItemId</th>\n",
              "      <th>Time</th>\n",
              "    </tr>\n",
              "    <tr>\n",
              "      <th>Rating</th>\n",
              "      <th></th>\n",
              "      <th></th>\n",
              "      <th></th>\n",
              "    </tr>\n",
              "  </thead>\n",
              "  <tbody>\n",
              "    <tr>\n",
              "      <th>1</th>\n",
              "      <td>56174</td>\n",
              "      <td>56174</td>\n",
              "      <td>56174</td>\n",
              "    </tr>\n",
              "    <tr>\n",
              "      <th>2</th>\n",
              "      <td>107557</td>\n",
              "      <td>107557</td>\n",
              "      <td>107557</td>\n",
              "    </tr>\n",
              "    <tr>\n",
              "      <th>3</th>\n",
              "      <td>261197</td>\n",
              "      <td>261197</td>\n",
              "      <td>261197</td>\n",
              "    </tr>\n",
              "    <tr>\n",
              "      <th>4</th>\n",
              "      <td>348971</td>\n",
              "      <td>348971</td>\n",
              "      <td>348971</td>\n",
              "    </tr>\n",
              "    <tr>\n",
              "      <th>5</th>\n",
              "      <td>226310</td>\n",
              "      <td>226310</td>\n",
              "      <td>226310</td>\n",
              "    </tr>\n",
              "  </tbody>\n",
              "</table>\n",
              "</div>"
            ],
            "text/plain": [
              "        UserId  ItemId    Time\n",
              "Rating                        \n",
              "1        56174   56174   56174\n",
              "2       107557  107557  107557\n",
              "3       261197  261197  261197\n",
              "4       348971  348971  348971\n",
              "5       226310  226310  226310"
            ]
          },
          "metadata": {},
          "execution_count": 17
        }
      ]
    },
    {
      "cell_type": "markdown",
      "metadata": {
        "id": "fLu5TYmSmwP-"
      },
      "source": [
        "- 평점별 데이터량을 확인해보았다.\n",
        "- 평점이 너무 낮은 데이터는 삭제한다.\n",
        "- 1점과 2점의 데이터 양이 상대적으로 많지 않아 삭제하도록 한다."
      ]
    },
    {
      "cell_type": "code",
      "metadata": {
        "id": "Izm-uwWwhccn",
        "colab": {
          "base_uri": "https://localhost:8080/"
        },
        "outputId": "d7c13c48-9c35-4960-b641-e7e239e4e23f"
      },
      "source": [
        "data = data[data['Rating']>=3]\n",
        "print(len(data))"
      ],
      "execution_count": 18,
      "outputs": [
        {
          "output_type": "stream",
          "name": "stdout",
          "text": [
            "836478\n"
          ]
        }
      ]
    },
    {
      "cell_type": "markdown",
      "metadata": {
        "id": "BPE0cYJdgiNJ"
      },
      "source": [
        "#### Session Time\n"
      ]
    },
    {
      "cell_type": "code",
      "metadata": {
        "colab": {
          "base_uri": "https://localhost:8080/"
        },
        "id": "4DtWrY9lyRVO",
        "outputId": "c1eb3763-3857-4663-d2d6-cfb5b68476dd"
      },
      "source": [
        "oldest, latest = data['Time'].min(), data['Time'].max()\n",
        "print(oldest) \n",
        "print(latest)"
      ],
      "execution_count": 19,
      "outputs": [
        {
          "output_type": "stream",
          "name": "stdout",
          "text": [
            "956703932\n",
            "1046454590\n"
          ]
        }
      ]
    },
    {
      "cell_type": "code",
      "metadata": {
        "colab": {
          "base_uri": "https://localhost:8080/"
        },
        "id": "HW5aZIkjgmmq",
        "outputId": "27f83b48-7695-4a95-b56b-65d8d4b6f042"
      },
      "source": [
        "print(dt.datetime.utcfromtimestamp(oldest).strftime('%Y-%m-%d %H:%M:%S'))\n",
        "print(dt.datetime.utcfromtimestamp(latest).strftime('%Y-%m-%d %H:%M:%S'))"
      ],
      "execution_count": 20,
      "outputs": [
        {
          "output_type": "stream",
          "name": "stdout",
          "text": [
            "2000-04-25 23:05:32\n",
            "2003-02-28 17:49:50\n"
          ]
        }
      ]
    },
    {
      "cell_type": "code",
      "metadata": {
        "colab": {
          "base_uri": "https://localhost:8080/",
          "height": 204
        },
        "id": "GtEMXrO1yxtq",
        "outputId": "2dee6a9a-10a6-435e-8c15-95df50935b17"
      },
      "source": [
        "from datetime import datetime\n",
        "\n",
        "change_date = []\n",
        "for time in data['Time']:\n",
        "    temp = dt.datetime.fromtimestamp(time)\n",
        "    change_date.append(temp)\n",
        "\n",
        "data['Time'] = change_date\n",
        "data.head()"
      ],
      "execution_count": 21,
      "outputs": [
        {
          "output_type": "execute_result",
          "data": {
            "text/html": [
              "<div>\n",
              "<style scoped>\n",
              "    .dataframe tbody tr th:only-of-type {\n",
              "        vertical-align: middle;\n",
              "    }\n",
              "\n",
              "    .dataframe tbody tr th {\n",
              "        vertical-align: top;\n",
              "    }\n",
              "\n",
              "    .dataframe thead th {\n",
              "        text-align: right;\n",
              "    }\n",
              "</style>\n",
              "<table border=\"1\" class=\"dataframe\">\n",
              "  <thead>\n",
              "    <tr style=\"text-align: right;\">\n",
              "      <th></th>\n",
              "      <th>UserId</th>\n",
              "      <th>ItemId</th>\n",
              "      <th>Rating</th>\n",
              "      <th>Time</th>\n",
              "    </tr>\n",
              "  </thead>\n",
              "  <tbody>\n",
              "    <tr>\n",
              "      <th>31</th>\n",
              "      <td>1</td>\n",
              "      <td>3186</td>\n",
              "      <td>4</td>\n",
              "      <td>2000-12-31 22:00:19</td>\n",
              "    </tr>\n",
              "    <tr>\n",
              "      <th>22</th>\n",
              "      <td>1</td>\n",
              "      <td>1270</td>\n",
              "      <td>5</td>\n",
              "      <td>2000-12-31 22:00:55</td>\n",
              "    </tr>\n",
              "    <tr>\n",
              "      <th>27</th>\n",
              "      <td>1</td>\n",
              "      <td>1721</td>\n",
              "      <td>4</td>\n",
              "      <td>2000-12-31 22:00:55</td>\n",
              "    </tr>\n",
              "    <tr>\n",
              "      <th>37</th>\n",
              "      <td>1</td>\n",
              "      <td>1022</td>\n",
              "      <td>5</td>\n",
              "      <td>2000-12-31 22:00:55</td>\n",
              "    </tr>\n",
              "    <tr>\n",
              "      <th>24</th>\n",
              "      <td>1</td>\n",
              "      <td>2340</td>\n",
              "      <td>3</td>\n",
              "      <td>2000-12-31 22:01:43</td>\n",
              "    </tr>\n",
              "  </tbody>\n",
              "</table>\n",
              "</div>"
            ],
            "text/plain": [
              "    UserId  ItemId  Rating                Time\n",
              "31       1    3186       4 2000-12-31 22:00:19\n",
              "22       1    1270       5 2000-12-31 22:00:55\n",
              "27       1    1721       4 2000-12-31 22:00:55\n",
              "37       1    1022       5 2000-12-31 22:00:55\n",
              "24       1    2340       3 2000-12-31 22:01:43"
            ]
          },
          "metadata": {},
          "execution_count": 21
        }
      ]
    },
    {
      "cell_type": "markdown",
      "metadata": {
        "id": "ECjze6qYnxUP"
      },
      "source": [
        "### Data Cleansing"
      ]
    },
    {
      "cell_type": "code",
      "metadata": {
        "id": "Y3VpLEdHg-6T"
      },
      "source": [
        "# short_session을 제거한 다음 unpopular item을 제거하면 다시 길이가 1인 session이 생길 수 있습니다.\n",
        "# 이를 위해 반복문을 통해 지속적으로 제거 합니다.\n",
        "def cleanse_recursive(data: pd.DataFrame, shortest, least_click) -> pd.DataFrame:\n",
        "    while True:\n",
        "        before_len = len(data)\n",
        "        data = cleanse_short_session(data, shortest)\n",
        "        data = cleanse_unpopular_item(data, least_click)\n",
        "        after_len = len(data)\n",
        "        if before_len == after_len:\n",
        "            break\n",
        "    return data\n",
        "\n",
        "\n",
        "def cleanse_short_session(data: pd.DataFrame, shortest):\n",
        "    session_len = data.groupby('UserId').size()\n",
        "    session_use = session_len[session_len >= shortest].index\n",
        "    data = data[data['UserId'].isin(session_use)]\n",
        "    return data\n",
        "\n",
        "\n",
        "def cleanse_unpopular_item(data: pd.DataFrame, least_click):\n",
        "    item_popular = data.groupby('ItemId').size()\n",
        "    item_use = item_popular[item_popular >= least_click].index\n",
        "    data = data[data['ItemId'].isin(item_use)]\n",
        "    return data"
      ],
      "execution_count": 22,
      "outputs": []
    },
    {
      "cell_type": "code",
      "metadata": {
        "colab": {
          "base_uri": "https://localhost:8080/",
          "height": 419
        },
        "id": "1pyO_r2soJ2j",
        "outputId": "3027202e-3719-410e-dc06-a2aa36c89350"
      },
      "source": [
        "data = cleanse_recursive(data, shortest=2, least_click=5)\n",
        "data"
      ],
      "execution_count": 23,
      "outputs": [
        {
          "output_type": "execute_result",
          "data": {
            "text/html": [
              "<div>\n",
              "<style scoped>\n",
              "    .dataframe tbody tr th:only-of-type {\n",
              "        vertical-align: middle;\n",
              "    }\n",
              "\n",
              "    .dataframe tbody tr th {\n",
              "        vertical-align: top;\n",
              "    }\n",
              "\n",
              "    .dataframe thead th {\n",
              "        text-align: right;\n",
              "    }\n",
              "</style>\n",
              "<table border=\"1\" class=\"dataframe\">\n",
              "  <thead>\n",
              "    <tr style=\"text-align: right;\">\n",
              "      <th></th>\n",
              "      <th>UserId</th>\n",
              "      <th>ItemId</th>\n",
              "      <th>Rating</th>\n",
              "      <th>Time</th>\n",
              "    </tr>\n",
              "  </thead>\n",
              "  <tbody>\n",
              "    <tr>\n",
              "      <th>31</th>\n",
              "      <td>1</td>\n",
              "      <td>3186</td>\n",
              "      <td>4</td>\n",
              "      <td>2000-12-31 22:00:19</td>\n",
              "    </tr>\n",
              "    <tr>\n",
              "      <th>22</th>\n",
              "      <td>1</td>\n",
              "      <td>1270</td>\n",
              "      <td>5</td>\n",
              "      <td>2000-12-31 22:00:55</td>\n",
              "    </tr>\n",
              "    <tr>\n",
              "      <th>27</th>\n",
              "      <td>1</td>\n",
              "      <td>1721</td>\n",
              "      <td>4</td>\n",
              "      <td>2000-12-31 22:00:55</td>\n",
              "    </tr>\n",
              "    <tr>\n",
              "      <th>37</th>\n",
              "      <td>1</td>\n",
              "      <td>1022</td>\n",
              "      <td>5</td>\n",
              "      <td>2000-12-31 22:00:55</td>\n",
              "    </tr>\n",
              "    <tr>\n",
              "      <th>24</th>\n",
              "      <td>1</td>\n",
              "      <td>2340</td>\n",
              "      <td>3</td>\n",
              "      <td>2000-12-31 22:01:43</td>\n",
              "    </tr>\n",
              "    <tr>\n",
              "      <th>...</th>\n",
              "      <td>...</td>\n",
              "      <td>...</td>\n",
              "      <td>...</td>\n",
              "      <td>...</td>\n",
              "    </tr>\n",
              "    <tr>\n",
              "      <th>1000019</th>\n",
              "      <td>6040</td>\n",
              "      <td>2917</td>\n",
              "      <td>4</td>\n",
              "      <td>2001-08-10 14:40:29</td>\n",
              "    </tr>\n",
              "    <tr>\n",
              "      <th>999988</th>\n",
              "      <td>6040</td>\n",
              "      <td>1921</td>\n",
              "      <td>4</td>\n",
              "      <td>2001-08-10 14:41:04</td>\n",
              "    </tr>\n",
              "    <tr>\n",
              "      <th>1000172</th>\n",
              "      <td>6040</td>\n",
              "      <td>1784</td>\n",
              "      <td>3</td>\n",
              "      <td>2001-08-10 14:41:04</td>\n",
              "    </tr>\n",
              "    <tr>\n",
              "      <th>1000167</th>\n",
              "      <td>6040</td>\n",
              "      <td>161</td>\n",
              "      <td>3</td>\n",
              "      <td>2001-08-10 14:41:26</td>\n",
              "    </tr>\n",
              "    <tr>\n",
              "      <th>1000042</th>\n",
              "      <td>6040</td>\n",
              "      <td>1221</td>\n",
              "      <td>4</td>\n",
              "      <td>2001-08-20 13:44:15</td>\n",
              "    </tr>\n",
              "  </tbody>\n",
              "</table>\n",
              "<p>835789 rows × 4 columns</p>\n",
              "</div>"
            ],
            "text/plain": [
              "         UserId  ItemId  Rating                Time\n",
              "31            1    3186       4 2000-12-31 22:00:19\n",
              "22            1    1270       5 2000-12-31 22:00:55\n",
              "27            1    1721       4 2000-12-31 22:00:55\n",
              "37            1    1022       5 2000-12-31 22:00:55\n",
              "24            1    2340       3 2000-12-31 22:01:43\n",
              "...         ...     ...     ...                 ...\n",
              "1000019    6040    2917       4 2001-08-10 14:40:29\n",
              "999988     6040    1921       4 2001-08-10 14:41:04\n",
              "1000172    6040    1784       3 2001-08-10 14:41:04\n",
              "1000167    6040     161       3 2001-08-10 14:41:26\n",
              "1000042    6040    1221       4 2001-08-20 13:44:15\n",
              "\n",
              "[835789 rows x 4 columns]"
            ]
          },
          "metadata": {},
          "execution_count": 23
        }
      ]
    },
    {
      "cell_type": "markdown",
      "metadata": {
        "id": "QIjsi0anoUfm"
      },
      "source": [
        "## Train/ Valid/ Test split"
      ]
    },
    {
      "cell_type": "code",
      "metadata": {
        "id": "nbmouQMboMw1"
      },
      "source": [
        "def split_by_date(data: pd.DataFrame, n_days: int):\n",
        "    final_time = data['Time'].max()\n",
        "    session_last_time = data.groupby('Time')['Time'].max()\n",
        "    session_in_train = session_last_time[session_last_time < final_time - dt.timedelta(n_days)].index\n",
        "    session_in_test = session_last_time[session_last_time >= final_time - dt.timedelta(n_days)].index\n",
        "\n",
        "    before_date = data[data['Time'].isin(session_in_train)]\n",
        "    after_date = data[data['Time'].isin(session_in_test)]\n",
        "    return before_date, after_date"
      ],
      "execution_count": 24,
      "outputs": []
    },
    {
      "cell_type": "code",
      "metadata": {
        "id": "qLi464b5pmvQ"
      },
      "source": [
        "tr, test = split_by_date(data, n_days=180)\n",
        "tr, val = split_by_date(tr, n_days=180)"
      ],
      "execution_count": 25,
      "outputs": []
    },
    {
      "cell_type": "code",
      "metadata": {
        "id": "kQgFGi7jqgwO"
      },
      "source": [
        "# data에 대한 정보를 살펴봅니다.\n",
        "def stats_info(data: pd.DataFrame, status: str):\n",
        "    print(f'* {status} Set Stats Info\\n'\n",
        "          f'\\t Events: {len(data)}\\n'\n",
        "          f'\\t Sessions: {data[\"UserId\"].nunique()}\\n'\n",
        "          f'\\t Items: {data[\"ItemId\"].nunique()}\\n'\n",
        "          f'\\t First Time : {data[\"Time\"].min()}\\n'\n",
        "          f'\\t Last Time : {data[\"Time\"].max()}\\n')"
      ],
      "execution_count": 26,
      "outputs": []
    },
    {
      "cell_type": "code",
      "metadata": {
        "colab": {
          "base_uri": "https://localhost:8080/"
        },
        "id": "ylEPR2ruzPk7",
        "outputId": "bb493f5b-73d8-4075-cccd-e0d84845b422"
      },
      "source": [
        "stats_info(tr, 'train')\n",
        "stats_info(val, 'valid')\n",
        "stats_info(test, 'test')"
      ],
      "execution_count": 27,
      "outputs": [
        {
          "output_type": "stream",
          "name": "stdout",
          "text": [
            "* train Set Stats Info\n",
            "\t Events: 818736\n",
            "\t Sessions: 6036\n",
            "\t Items: 3307\n",
            "\t First Time : 2000-04-25 23:05:32\n",
            "\t Last Time : 2002-03-05 04:14:13\n",
            "\n",
            "* valid Set Stats Info\n",
            "\t Events: 9771\n",
            "\t Sessions: 390\n",
            "\t Items: 2348\n",
            "\t First Time : 2002-03-05 04:24:20\n",
            "\t Last Time : 2002-09-01 04:20:59\n",
            "\n",
            "* test Set Stats Info\n",
            "\t Events: 7282\n",
            "\t Sessions: 333\n",
            "\t Items: 2049\n",
            "\t First Time : 2002-09-01 19:41:39\n",
            "\t Last Time : 2003-02-28 17:49:50\n",
            "\n"
          ]
        }
      ]
    },
    {
      "cell_type": "code",
      "metadata": {
        "id": "FMK_EPEpzUc-"
      },
      "source": [
        "# train set에 없는 아이템이 val, test기간에 생길 수 있으므로 train data를 기준으로 인덱싱합니다.\n",
        "id2idx = {item_id : index for index, item_id in enumerate(tr['ItemId'].unique())}\n",
        "\n",
        "def indexing(df, id2idx):\n",
        "    df['item_idx'] = df['ItemId'].map(lambda x: id2idx.get(x, -1))  # id2idx에 없는 아이템은 모르는 값(-1) 처리 해줍니다.\n",
        "    return df\n",
        "\n",
        "tr = indexing(tr, id2idx)\n",
        "val = indexing(val, id2idx)\n",
        "test = indexing(test, id2idx)"
      ],
      "execution_count": 28,
      "outputs": []
    },
    {
      "cell_type": "code",
      "metadata": {
        "id": "vP6MKVUczq6E"
      },
      "source": [
        "tr.to_pickle('/content/drive/MyDrive/ex12/ml-1m/processed/train.pkl')\n",
        "val.to_pickle('/content/drive/MyDrive/ex12/ml-1m/processed/valid.pkl')\n",
        "test.to_pickle('/content/drive/MyDrive/ex12/ml-1m/processed/test.pkl')"
      ],
      "execution_count": 38,
      "outputs": []
    },
    {
      "cell_type": "code",
      "metadata": {
        "id": "kIZmTrxFztcs"
      },
      "source": [
        "class SessionDataset:\n",
        "    \"\"\"Credit to yhs-968/pyGRU4REC.\"\"\"\n",
        "\n",
        "    def __init__(self, data):\n",
        "        self.df = data\n",
        "        self.click_offsets = self.get_click_offsets()\n",
        "        self.session_idx = np.arange(self.df['UserId'].nunique())  # indexing to SessionId\n",
        "\n",
        "    def get_click_offsets(self):\n",
        "        \"\"\"\n",
        "        Return the indexes of the first click of each session IDs,\n",
        "        \"\"\"\n",
        "        offsets = np.zeros(self.df['UserId'].nunique() + 1, dtype=np.int32)\n",
        "        offsets[1:] = self.df.groupby('UserId').size().cumsum()\n",
        "        return offsets"
      ],
      "execution_count": 40,
      "outputs": []
    },
    {
      "cell_type": "code",
      "metadata": {
        "colab": {
          "base_uri": "https://localhost:8080/",
          "height": 359
        },
        "id": "-gbbLJ3qadEI",
        "outputId": "5ea44c38-77f2-40b3-e6f7-8a860fed1aa6"
      },
      "source": [
        "tr_dataset = SessionDataset(tr)\n",
        "tr_dataset.df.head(10)"
      ],
      "execution_count": 41,
      "outputs": [
        {
          "output_type": "execute_result",
          "data": {
            "text/html": [
              "<div>\n",
              "<style scoped>\n",
              "    .dataframe tbody tr th:only-of-type {\n",
              "        vertical-align: middle;\n",
              "    }\n",
              "\n",
              "    .dataframe tbody tr th {\n",
              "        vertical-align: top;\n",
              "    }\n",
              "\n",
              "    .dataframe thead th {\n",
              "        text-align: right;\n",
              "    }\n",
              "</style>\n",
              "<table border=\"1\" class=\"dataframe\">\n",
              "  <thead>\n",
              "    <tr style=\"text-align: right;\">\n",
              "      <th></th>\n",
              "      <th>UserId</th>\n",
              "      <th>ItemId</th>\n",
              "      <th>Rating</th>\n",
              "      <th>Time</th>\n",
              "      <th>item_idx</th>\n",
              "    </tr>\n",
              "  </thead>\n",
              "  <tbody>\n",
              "    <tr>\n",
              "      <th>31</th>\n",
              "      <td>1</td>\n",
              "      <td>3186</td>\n",
              "      <td>4</td>\n",
              "      <td>2000-12-31 22:00:19</td>\n",
              "      <td>0</td>\n",
              "    </tr>\n",
              "    <tr>\n",
              "      <th>22</th>\n",
              "      <td>1</td>\n",
              "      <td>1270</td>\n",
              "      <td>5</td>\n",
              "      <td>2000-12-31 22:00:55</td>\n",
              "      <td>1</td>\n",
              "    </tr>\n",
              "    <tr>\n",
              "      <th>27</th>\n",
              "      <td>1</td>\n",
              "      <td>1721</td>\n",
              "      <td>4</td>\n",
              "      <td>2000-12-31 22:00:55</td>\n",
              "      <td>2</td>\n",
              "    </tr>\n",
              "    <tr>\n",
              "      <th>37</th>\n",
              "      <td>1</td>\n",
              "      <td>1022</td>\n",
              "      <td>5</td>\n",
              "      <td>2000-12-31 22:00:55</td>\n",
              "      <td>3</td>\n",
              "    </tr>\n",
              "    <tr>\n",
              "      <th>24</th>\n",
              "      <td>1</td>\n",
              "      <td>2340</td>\n",
              "      <td>3</td>\n",
              "      <td>2000-12-31 22:01:43</td>\n",
              "      <td>4</td>\n",
              "    </tr>\n",
              "    <tr>\n",
              "      <th>36</th>\n",
              "      <td>1</td>\n",
              "      <td>1836</td>\n",
              "      <td>5</td>\n",
              "      <td>2000-12-31 22:02:52</td>\n",
              "      <td>5</td>\n",
              "    </tr>\n",
              "    <tr>\n",
              "      <th>3</th>\n",
              "      <td>1</td>\n",
              "      <td>3408</td>\n",
              "      <td>4</td>\n",
              "      <td>2000-12-31 22:04:35</td>\n",
              "      <td>6</td>\n",
              "    </tr>\n",
              "    <tr>\n",
              "      <th>7</th>\n",
              "      <td>1</td>\n",
              "      <td>2804</td>\n",
              "      <td>5</td>\n",
              "      <td>2000-12-31 22:11:59</td>\n",
              "      <td>7</td>\n",
              "    </tr>\n",
              "    <tr>\n",
              "      <th>47</th>\n",
              "      <td>1</td>\n",
              "      <td>1207</td>\n",
              "      <td>4</td>\n",
              "      <td>2000-12-31 22:11:59</td>\n",
              "      <td>8</td>\n",
              "    </tr>\n",
              "    <tr>\n",
              "      <th>0</th>\n",
              "      <td>1</td>\n",
              "      <td>1193</td>\n",
              "      <td>5</td>\n",
              "      <td>2000-12-31 22:12:40</td>\n",
              "      <td>9</td>\n",
              "    </tr>\n",
              "  </tbody>\n",
              "</table>\n",
              "</div>"
            ],
            "text/plain": [
              "    UserId  ItemId  Rating                Time  item_idx\n",
              "31       1    3186       4 2000-12-31 22:00:19         0\n",
              "22       1    1270       5 2000-12-31 22:00:55         1\n",
              "27       1    1721       4 2000-12-31 22:00:55         2\n",
              "37       1    1022       5 2000-12-31 22:00:55         3\n",
              "24       1    2340       3 2000-12-31 22:01:43         4\n",
              "36       1    1836       5 2000-12-31 22:02:52         5\n",
              "3        1    3408       4 2000-12-31 22:04:35         6\n",
              "7        1    2804       5 2000-12-31 22:11:59         7\n",
              "47       1    1207       4 2000-12-31 22:11:59         8\n",
              "0        1    1193       5 2000-12-31 22:12:40         9"
            ]
          },
          "metadata": {},
          "execution_count": 41
        }
      ]
    },
    {
      "cell_type": "code",
      "metadata": {
        "colab": {
          "base_uri": "https://localhost:8080/"
        },
        "id": "m41PkbOXaosG",
        "outputId": "4e5aa8ae-e5d2-413f-9b6e-186b693ce906"
      },
      "source": [
        "tr_dataset.click_offsets"
      ],
      "execution_count": 42,
      "outputs": [
        {
          "output_type": "execute_result",
          "data": {
            "text/plain": [
              "array([     0,     53,    169, ..., 818341, 818460, 818736], dtype=int32)"
            ]
          },
          "metadata": {},
          "execution_count": 42
        }
      ]
    },
    {
      "cell_type": "code",
      "metadata": {
        "colab": {
          "base_uri": "https://localhost:8080/"
        },
        "id": "BvE0Fj4ZarS5",
        "outputId": "c403a29a-e33a-4ac1-e2f2-ac27285ed952"
      },
      "source": [
        "tr_dataset.session_idx"
      ],
      "execution_count": 43,
      "outputs": [
        {
          "output_type": "execute_result",
          "data": {
            "text/plain": [
              "array([   0,    1,    2, ..., 6033, 6034, 6035])"
            ]
          },
          "metadata": {},
          "execution_count": 43
        }
      ]
    },
    {
      "cell_type": "code",
      "metadata": {
        "id": "eGK8iulcatl5"
      },
      "source": [
        "class SessionDataLoader:\n",
        "    \"\"\"Credit to yhs-968/pyGRU4REC.\"\"\"\n",
        "\n",
        "    def __init__(self, dataset: SessionDataset, batch_size=50):\n",
        "        self.dataset = dataset\n",
        "        self.batch_size = batch_size\n",
        "\n",
        "    def __iter__(self):\n",
        "        \"\"\" Returns the iterator for producing session-parallel training mini-batches.\n",
        "        Yields:\n",
        "            input (B,):  Item indices that will be encoded as one-hot vectors later.\n",
        "            target (B,): a Variable that stores the target item indices\n",
        "            masks: Numpy array indicating the positions of the sessions to be terminated\n",
        "        \"\"\"\n",
        "\n",
        "        start, end, mask, last_session, finished = self.initialize()  # initialize 메소드에서 확인해주세요.\n",
        "        \"\"\"\n",
        "        start : Index Where Session Start\n",
        "        end : Index Where Session End\n",
        "        mask : indicator for the sessions to be terminated\n",
        "        \"\"\"\n",
        "\n",
        "        while not finished:\n",
        "            min_len = (end - start).min() - 1  # Shortest Length Among Sessions\n",
        "            for i in range(min_len):\n",
        "                # Build inputs & targets\n",
        "                inp = self.dataset.df['item_idx'].values[start + i]\n",
        "                target = self.dataset.df['item_idx'].values[start + i + 1]\n",
        "                yield inp, target, mask\n",
        "\n",
        "            start, end, mask, last_session, finished = self.update_status(start, end, min_len, last_session, finished)\n",
        "\n",
        "    def initialize(self):\n",
        "        first_iters = np.arange(self.batch_size)    # 첫 배치에 사용할 세션 Index를 가져옵니다.\n",
        "        last_session = self.batch_size - 1    # 마지막으로 다루고 있는 세션 Index를 저장해둡니다.\n",
        "        start = self.dataset.click_offsets[self.dataset.session_idx[first_iters]]       # data 상에서 session이 시작된 위치를 가져옵니다.\n",
        "        end = self.dataset.click_offsets[self.dataset.session_idx[first_iters] + 1]  # session이 끝난 위치 바로 다음 위치를 가져옵니다.\n",
        "        mask = np.array([])   # session의 모든 아이템을 다 돌은 경우 mask에 추가해줄 것입니다.\n",
        "        finished = False         # data를 전부 돌았는지 기록하기 위한 변수입니다.\n",
        "        return start, end, mask, last_session, finished\n",
        "\n",
        "    def update_status(self, start: np.ndarray, end: np.ndarray, min_len: int, last_session: int, finished: bool):  \n",
        "        # 다음 배치 데이터를 생성하기 위해 상태를 update합니다.\n",
        "        \n",
        "        start += min_len   # __iter__에서 min_len 만큼 for문을 돌았으므로 start를 min_len 만큼 더해줍니다.\n",
        "        mask = np.arange(self.batch_size)[(end - start) == 1]  \n",
        "        # end는 다음 세션이 시작되는 위치인데 start와 한 칸 차이난다는 것은 session이 끝났다는 뜻입니다. mask에 기록해줍니다.\n",
        "\n",
        "        for i, idx in enumerate(mask, start=1):  # mask에 추가된 세션 개수만큼 새로운 세션을 돌것입니다.\n",
        "            new_session = last_session + i  \n",
        "            if new_session > self.dataset.session_idx[-1]:  # 만약 새로운 세션이 마지막 세션 index보다 크다면 모든 학습데이터를 돈 것입니다.\n",
        "                finished = True\n",
        "                break\n",
        "            # update the next starting/ending point\n",
        "            start[idx] = self.dataset.click_offsets[self.dataset.session_idx[new_session]]     # 종료된 세션 대신 새로운 세션의 시작점을 기록합니다.\n",
        "            end[idx] = self.dataset.click_offsets[self.dataset.session_idx[new_session] + 1]\n",
        "\n",
        "        last_session += len(mask)  # 마지막 세션의 위치를 기록해둡니다.\n",
        "        return start, end, mask, last_session, finished"
      ],
      "execution_count": 44,
      "outputs": []
    },
    {
      "cell_type": "code",
      "metadata": {
        "colab": {
          "base_uri": "https://localhost:8080/",
          "height": 514
        },
        "id": "k93hJsHaa_Qg",
        "outputId": "7bce7261-5f7e-4b5b-b80f-aab24998b427"
      },
      "source": [
        "tr_data_loader = SessionDataLoader(tr_dataset, batch_size=1)\n",
        "tr_dataset.df.head(15)"
      ],
      "execution_count": 59,
      "outputs": [
        {
          "output_type": "execute_result",
          "data": {
            "text/html": [
              "<div>\n",
              "<style scoped>\n",
              "    .dataframe tbody tr th:only-of-type {\n",
              "        vertical-align: middle;\n",
              "    }\n",
              "\n",
              "    .dataframe tbody tr th {\n",
              "        vertical-align: top;\n",
              "    }\n",
              "\n",
              "    .dataframe thead th {\n",
              "        text-align: right;\n",
              "    }\n",
              "</style>\n",
              "<table border=\"1\" class=\"dataframe\">\n",
              "  <thead>\n",
              "    <tr style=\"text-align: right;\">\n",
              "      <th></th>\n",
              "      <th>UserId</th>\n",
              "      <th>ItemId</th>\n",
              "      <th>Rating</th>\n",
              "      <th>Time</th>\n",
              "      <th>item_idx</th>\n",
              "    </tr>\n",
              "  </thead>\n",
              "  <tbody>\n",
              "    <tr>\n",
              "      <th>31</th>\n",
              "      <td>1</td>\n",
              "      <td>3186</td>\n",
              "      <td>4</td>\n",
              "      <td>2000-12-31 22:00:19</td>\n",
              "      <td>0</td>\n",
              "    </tr>\n",
              "    <tr>\n",
              "      <th>22</th>\n",
              "      <td>1</td>\n",
              "      <td>1270</td>\n",
              "      <td>5</td>\n",
              "      <td>2000-12-31 22:00:55</td>\n",
              "      <td>1</td>\n",
              "    </tr>\n",
              "    <tr>\n",
              "      <th>27</th>\n",
              "      <td>1</td>\n",
              "      <td>1721</td>\n",
              "      <td>4</td>\n",
              "      <td>2000-12-31 22:00:55</td>\n",
              "      <td>2</td>\n",
              "    </tr>\n",
              "    <tr>\n",
              "      <th>37</th>\n",
              "      <td>1</td>\n",
              "      <td>1022</td>\n",
              "      <td>5</td>\n",
              "      <td>2000-12-31 22:00:55</td>\n",
              "      <td>3</td>\n",
              "    </tr>\n",
              "    <tr>\n",
              "      <th>24</th>\n",
              "      <td>1</td>\n",
              "      <td>2340</td>\n",
              "      <td>3</td>\n",
              "      <td>2000-12-31 22:01:43</td>\n",
              "      <td>4</td>\n",
              "    </tr>\n",
              "    <tr>\n",
              "      <th>36</th>\n",
              "      <td>1</td>\n",
              "      <td>1836</td>\n",
              "      <td>5</td>\n",
              "      <td>2000-12-31 22:02:52</td>\n",
              "      <td>5</td>\n",
              "    </tr>\n",
              "    <tr>\n",
              "      <th>3</th>\n",
              "      <td>1</td>\n",
              "      <td>3408</td>\n",
              "      <td>4</td>\n",
              "      <td>2000-12-31 22:04:35</td>\n",
              "      <td>6</td>\n",
              "    </tr>\n",
              "    <tr>\n",
              "      <th>7</th>\n",
              "      <td>1</td>\n",
              "      <td>2804</td>\n",
              "      <td>5</td>\n",
              "      <td>2000-12-31 22:11:59</td>\n",
              "      <td>7</td>\n",
              "    </tr>\n",
              "    <tr>\n",
              "      <th>47</th>\n",
              "      <td>1</td>\n",
              "      <td>1207</td>\n",
              "      <td>4</td>\n",
              "      <td>2000-12-31 22:11:59</td>\n",
              "      <td>8</td>\n",
              "    </tr>\n",
              "    <tr>\n",
              "      <th>0</th>\n",
              "      <td>1</td>\n",
              "      <td>1193</td>\n",
              "      <td>5</td>\n",
              "      <td>2000-12-31 22:12:40</td>\n",
              "      <td>9</td>\n",
              "    </tr>\n",
              "    <tr>\n",
              "      <th>21</th>\n",
              "      <td>1</td>\n",
              "      <td>720</td>\n",
              "      <td>3</td>\n",
              "      <td>2000-12-31 22:12:40</td>\n",
              "      <td>10</td>\n",
              "    </tr>\n",
              "    <tr>\n",
              "      <th>44</th>\n",
              "      <td>1</td>\n",
              "      <td>260</td>\n",
              "      <td>4</td>\n",
              "      <td>2000-12-31 22:12:40</td>\n",
              "      <td>11</td>\n",
              "    </tr>\n",
              "    <tr>\n",
              "      <th>9</th>\n",
              "      <td>1</td>\n",
              "      <td>919</td>\n",
              "      <td>4</td>\n",
              "      <td>2000-12-31 22:22:48</td>\n",
              "      <td>12</td>\n",
              "    </tr>\n",
              "    <tr>\n",
              "      <th>51</th>\n",
              "      <td>1</td>\n",
              "      <td>608</td>\n",
              "      <td>4</td>\n",
              "      <td>2000-12-31 22:23:18</td>\n",
              "      <td>13</td>\n",
              "    </tr>\n",
              "    <tr>\n",
              "      <th>43</th>\n",
              "      <td>1</td>\n",
              "      <td>2692</td>\n",
              "      <td>4</td>\n",
              "      <td>2000-12-31 22:26:10</td>\n",
              "      <td>14</td>\n",
              "    </tr>\n",
              "  </tbody>\n",
              "</table>\n",
              "</div>"
            ],
            "text/plain": [
              "    UserId  ItemId  Rating                Time  item_idx\n",
              "31       1    3186       4 2000-12-31 22:00:19         0\n",
              "22       1    1270       5 2000-12-31 22:00:55         1\n",
              "27       1    1721       4 2000-12-31 22:00:55         2\n",
              "37       1    1022       5 2000-12-31 22:00:55         3\n",
              "24       1    2340       3 2000-12-31 22:01:43         4\n",
              "36       1    1836       5 2000-12-31 22:02:52         5\n",
              "3        1    3408       4 2000-12-31 22:04:35         6\n",
              "7        1    2804       5 2000-12-31 22:11:59         7\n",
              "47       1    1207       4 2000-12-31 22:11:59         8\n",
              "0        1    1193       5 2000-12-31 22:12:40         9\n",
              "21       1     720       3 2000-12-31 22:12:40        10\n",
              "44       1     260       4 2000-12-31 22:12:40        11\n",
              "9        1     919       4 2000-12-31 22:22:48        12\n",
              "51       1     608       4 2000-12-31 22:23:18        13\n",
              "43       1    2692       4 2000-12-31 22:26:10        14"
            ]
          },
          "metadata": {},
          "execution_count": 59
        }
      ]
    },
    {
      "cell_type": "code",
      "metadata": {
        "id": "qdsAgfFLbNa3"
      },
      "source": [
        "iter_ex = iter(tr_data_loader)"
      ],
      "execution_count": 60,
      "outputs": []
    },
    {
      "cell_type": "code",
      "metadata": {
        "colab": {
          "base_uri": "https://localhost:8080/"
        },
        "id": "aXHuKZCIbRSt",
        "outputId": "cdcd6912-72d2-457d-90dd-a62edca0e7df"
      },
      "source": [
        "inputs, labels, mask =  next(iter_ex)\n",
        "print(f'Model Input Item Idx are : {inputs}')\n",
        "print(f'Label Item Idx are : {\"\":5} {labels}')\n",
        "print(f'Previous Masked Input Idx are {mask}')"
      ],
      "execution_count": 61,
      "outputs": [
        {
          "output_type": "stream",
          "name": "stdout",
          "text": [
            "Model Input Item Idx are : [0]\n",
            "Label Item Idx are :       [1]\n",
            "Previous Masked Input Idx are []\n"
          ]
        }
      ]
    },
    {
      "cell_type": "code",
      "metadata": {
        "id": "7vHOewaxbYxH"
      },
      "source": [
        "def mrr_k(pred, truth: int, k: int):\n",
        "    indexing = np.where(pred[:k] == truth)[0]\n",
        "    if len(indexing) > 0:\n",
        "        return 1 / (indexing[0] + 1)\n",
        "    else:\n",
        "        return 0\n",
        "\n",
        "\n",
        "def recall_k(pred, truth: int, k: int) -> int:\n",
        "    answer = truth in pred[:k]\n",
        "    return int(answer)"
      ],
      "execution_count": 62,
      "outputs": []
    },
    {
      "cell_type": "code",
      "metadata": {
        "id": "8DsW7EXLbfko"
      },
      "source": [
        "import numpy as np\n",
        "import tensorflow as tf\n",
        "from tensorflow.keras.layers import Input, Dense, Dropout, GRU\n",
        "from tensorflow.keras.losses import categorical_crossentropy\n",
        "from tensorflow.keras.models import Model\n",
        "from tensorflow.keras.optimizers import Adam\n",
        "from tensorflow.keras.utils import to_categorical\n",
        "from tqdm import tqdm"
      ],
      "execution_count": 63,
      "outputs": []
    },
    {
      "cell_type": "code",
      "metadata": {
        "id": "obCaA-ehb1RJ"
      },
      "source": [
        "def create_model(args):\n",
        "    inputs = Input(batch_shape=(args.batch_size, 1, args.num_items))\n",
        "    gru, _ = GRU(args.hsz, stateful=True, return_state=True, name='GRU')(inputs)\n",
        "    dropout = Dropout(args.drop_rate)(gru)\n",
        "    predictions = Dense(args.num_items, activation='softmax')(dropout)\n",
        "    model = Model(inputs=inputs, outputs=[predictions])\n",
        "    model.compile(loss=categorical_crossentropy, optimizer=Adam(args.lr), metrics=['accuracy'])\n",
        "    model.summary()\n",
        "    return model"
      ],
      "execution_count": 64,
      "outputs": []
    },
    {
      "cell_type": "code",
      "metadata": {
        "id": "QsOYJ-a5b2iz"
      },
      "source": [
        "class Args:\n",
        "    def __init__(self, tr, val, test, batch_size, hsz, drop_rate, lr, epochs, k):\n",
        "        self.tr = tr\n",
        "        self.val = val\n",
        "        self.test = test\n",
        "        self.num_items = tr['ItemId'].nunique()\n",
        "        self.num_sessions = tr['UserId'].nunique()\n",
        "        self.batch_size = batch_size\n",
        "        self.hsz = hsz\n",
        "        self.drop_rate = drop_rate\n",
        "        self.lr = lr\n",
        "        self.epochs = epochs\n",
        "        self.k = k\n",
        "\n",
        "args = Args(tr, val, test, batch_size=256, hsz=50, drop_rate=0.1, lr=0.001, epochs=3, k=20)"
      ],
      "execution_count": 68,
      "outputs": []
    },
    {
      "cell_type": "code",
      "metadata": {
        "id": "9QA-biyUiXx9"
      },
      "source": [
        "args2 = Args(tr, val, test, batch_size=256, hsz=50, drop_rate=0.1, lr=0.001, epochs=10, k=20)"
      ],
      "execution_count": 76,
      "outputs": []
    },
    {
      "cell_type": "code",
      "metadata": {
        "id": "nonz81LCmnx1"
      },
      "source": [
        "args3 = Args(tr, val, test, batch_size=256, hsz=50, drop_rate=0.1, lr=0.001, epochs=15, k=20)"
      ],
      "execution_count": 80,
      "outputs": []
    },
    {
      "cell_type": "code",
      "metadata": {
        "id": "YhTUh91b23eg"
      },
      "source": [
        "args4 = Args(tr, val, test, batch_size=256, hsz=50, drop_rate=0.1, lr=0.001, epochs=15, k=30)"
      ],
      "execution_count": 84,
      "outputs": []
    },
    {
      "cell_type": "code",
      "metadata": {
        "colab": {
          "base_uri": "https://localhost:8080/"
        },
        "id": "CyXYvfBNb3_M",
        "outputId": "b8a80afa-d9d0-4e90-f5bb-1da020ad9e9d"
      },
      "source": [
        "model = create_model(args)"
      ],
      "execution_count": 69,
      "outputs": [
        {
          "output_type": "stream",
          "name": "stdout",
          "text": [
            "Model: \"model_2\"\n",
            "_________________________________________________________________\n",
            " Layer (type)                Output Shape              Param #   \n",
            "=================================================================\n",
            " input_3 (InputLayer)        [(256, 1, 3307)]          0         \n",
            "                                                                 \n",
            " GRU (GRU)                   [(256, 50),               503850    \n",
            "                              (256, 50)]                         \n",
            "                                                                 \n",
            " dropout_2 (Dropout)         (256, 50)                 0         \n",
            "                                                                 \n",
            " dense_2 (Dense)             (256, 3307)               168657    \n",
            "                                                                 \n",
            "=================================================================\n",
            "Total params: 672,507\n",
            "Trainable params: 672,507\n",
            "Non-trainable params: 0\n",
            "_________________________________________________________________\n"
          ]
        }
      ]
    },
    {
      "cell_type": "code",
      "metadata": {
        "colab": {
          "base_uri": "https://localhost:8080/"
        },
        "id": "i7WMhdxSizEZ",
        "outputId": "55004d87-36b9-4dc1-9ed9-8be989813921"
      },
      "source": [
        "model2 = create_model(args2)"
      ],
      "execution_count": 77,
      "outputs": [
        {
          "output_type": "stream",
          "name": "stdout",
          "text": [
            "Model: \"model_4\"\n",
            "_________________________________________________________________\n",
            " Layer (type)                Output Shape              Param #   \n",
            "=================================================================\n",
            " input_5 (InputLayer)        [(256, 1, 3307)]          0         \n",
            "                                                                 \n",
            " GRU (GRU)                   [(256, 50),               503850    \n",
            "                              (256, 50)]                         \n",
            "                                                                 \n",
            " dropout_4 (Dropout)         (256, 50)                 0         \n",
            "                                                                 \n",
            " dense_4 (Dense)             (256, 3307)               168657    \n",
            "                                                                 \n",
            "=================================================================\n",
            "Total params: 672,507\n",
            "Trainable params: 672,507\n",
            "Non-trainable params: 0\n",
            "_________________________________________________________________\n"
          ]
        }
      ]
    },
    {
      "cell_type": "code",
      "metadata": {
        "colab": {
          "base_uri": "https://localhost:8080/"
        },
        "id": "0RVCp4qmr2vc",
        "outputId": "54286aa1-edda-48e3-aacc-7b689c40eeef"
      },
      "source": [
        "model3 = create_model(args3)"
      ],
      "execution_count": 81,
      "outputs": [
        {
          "output_type": "stream",
          "name": "stdout",
          "text": [
            "Model: \"model_5\"\n",
            "_________________________________________________________________\n",
            " Layer (type)                Output Shape              Param #   \n",
            "=================================================================\n",
            " input_6 (InputLayer)        [(256, 1, 3307)]          0         \n",
            "                                                                 \n",
            " GRU (GRU)                   [(256, 50),               503850    \n",
            "                              (256, 50)]                         \n",
            "                                                                 \n",
            " dropout_5 (Dropout)         (256, 50)                 0         \n",
            "                                                                 \n",
            " dense_5 (Dense)             (256, 3307)               168657    \n",
            "                                                                 \n",
            "=================================================================\n",
            "Total params: 672,507\n",
            "Trainable params: 672,507\n",
            "Non-trainable params: 0\n",
            "_________________________________________________________________\n"
          ]
        }
      ]
    },
    {
      "cell_type": "code",
      "metadata": {
        "colab": {
          "base_uri": "https://localhost:8080/"
        },
        "id": "76ITNJLq2-wA",
        "outputId": "29ea1e54-65c7-4350-afd0-c9716d1bb675"
      },
      "source": [
        "model4 = create_model(args4)"
      ],
      "execution_count": 85,
      "outputs": [
        {
          "output_type": "stream",
          "name": "stdout",
          "text": [
            "Model: \"model_6\"\n",
            "_________________________________________________________________\n",
            " Layer (type)                Output Shape              Param #   \n",
            "=================================================================\n",
            " input_7 (InputLayer)        [(256, 1, 3307)]          0         \n",
            "                                                                 \n",
            " GRU (GRU)                   [(256, 50),               503850    \n",
            "                              (256, 50)]                         \n",
            "                                                                 \n",
            " dropout_6 (Dropout)         (256, 50)                 0         \n",
            "                                                                 \n",
            " dense_6 (Dense)             (256, 3307)               168657    \n",
            "                                                                 \n",
            "=================================================================\n",
            "Total params: 672,507\n",
            "Trainable params: 672,507\n",
            "Non-trainable params: 0\n",
            "_________________________________________________________________\n"
          ]
        }
      ]
    },
    {
      "cell_type": "code",
      "metadata": {
        "id": "yFbGMIuJcBsT"
      },
      "source": [
        "# train 셋으로 학습하면서 valid 셋으로 검증합니다.\n",
        "def train_model(model, args):\n",
        "    train_dataset = SessionDataset(args.tr)\n",
        "    train_loader = SessionDataLoader(train_dataset, batch_size=args.batch_size)\n",
        "\n",
        "    for epoch in range(1, args.epochs + 1):\n",
        "        total_step = len(args.tr) - args.tr['UserId'].nunique()\n",
        "        tr_loader = tqdm(train_loader, total=total_step // args.batch_size, desc='Train', mininterval=1)\n",
        "        for feat, target, mask in tr_loader:\n",
        "            reset_hidden_states(model, mask)  # 종료된 session은 hidden_state를 초기화합니다. 아래 메서드에서 확인해주세요.\n",
        "\n",
        "            input_ohe = to_categorical(feat, num_classes=args.num_items)\n",
        "            input_ohe = np.expand_dims(input_ohe, axis=1)\n",
        "            target_ohe = to_categorical(target, num_classes=args.num_items)\n",
        "\n",
        "            result = model.train_on_batch(input_ohe, target_ohe)\n",
        "            tr_loader.set_postfix(train_loss=result[0], accuracy = result[1])\n",
        "\n",
        "        val_recall, val_mrr = get_metrics(args.val, model, args, args.k)  # valid set에 대해 검증합니다.\n",
        "\n",
        "        print(f\"\\t - Recall@{args.k} epoch {epoch}: {val_recall:3f}\")\n",
        "        print(f\"\\t - MRR@{args.k}    epoch {epoch}: {val_mrr:3f}\\n\")\n",
        "\n",
        "\n",
        "def reset_hidden_states(model, mask):\n",
        "    gru_layer = model.get_layer(name='GRU')  # model에서 gru layer를 가져옵니다.\n",
        "    hidden_states = gru_layer.states[0].numpy()  # gru_layer의 parameter를 가져옵니다.\n",
        "    for elt in mask:  # mask된 인덱스 즉, 종료된 세션의 인덱스를 돌면서\n",
        "        hidden_states[elt, :] = 0  # parameter를 초기화 합니다.\n",
        "    gru_layer.reset_states(states=hidden_states)\n",
        "\n",
        "\n",
        "def get_metrics(data, model, args, k: int):  # valid셋과 test셋을 평가하는 코드입니다. \n",
        "                                             # train과 거의 같지만 mrr, recall을 구하는 라인이 있습니다.\n",
        "    dataset = SessionDataset(data)\n",
        "    loader = SessionDataLoader(dataset, batch_size=args.batch_size)\n",
        "    recall_list, mrr_list = [], []\n",
        "\n",
        "    total_step = len(data) - data['UserId'].nunique()\n",
        "    for inputs, label, mask in tqdm(loader, total=total_step // args.batch_size, desc='Evaluation', mininterval=1):\n",
        "        reset_hidden_states(model, mask)\n",
        "        input_ohe = to_categorical(inputs, num_classes=args.num_items)\n",
        "        input_ohe = np.expand_dims(input_ohe, axis=1)\n",
        "\n",
        "        pred = model.predict(input_ohe, batch_size=args.batch_size)\n",
        "        pred_arg = tf.argsort(pred, direction='DESCENDING')  # softmax 값이 큰 순서대로 sorting 합니다.\n",
        "\n",
        "        length = len(inputs)\n",
        "        recall_list.extend([recall_k(pred_arg[i], label[i], k) for i in range(length)])\n",
        "        mrr_list.extend([mrr_k(pred_arg[i], label[i], k) for i in range(length)])\n",
        "\n",
        "    recall, mrr = np.mean(recall_list), np.mean(mrr_list)\n",
        "    return recall, mrr"
      ],
      "execution_count": 70,
      "outputs": []
    },
    {
      "cell_type": "markdown",
      "metadata": {
        "id": "T8F3Dw7dFqiw"
      },
      "source": [
        "#### 1차 시도"
      ]
    },
    {
      "cell_type": "code",
      "metadata": {
        "colab": {
          "base_uri": "https://localhost:8080/"
        },
        "id": "qk8-7qeUcFsW",
        "outputId": "390b5b41-1a57-4198-f157-477c9a599116"
      },
      "source": [
        "train_model(model, args)"
      ],
      "execution_count": 71,
      "outputs": [
        {
          "output_type": "stream",
          "name": "stderr",
          "text": [
            "Train:  95%|█████████▌| 3031/3174 [02:59<00:08, 16.88it/s, accuracy=0.0117, train_loss=6.59]\n",
            "Evaluation:  14%|█▍        | 5/36 [00:08<00:52,  1.70s/it]\n"
          ]
        },
        {
          "output_type": "stream",
          "name": "stdout",
          "text": [
            "\t - Recall@20 epoch 1: 0.061719\n",
            "\t - MRR@20    epoch 1: 0.015618\n",
            "\n"
          ]
        },
        {
          "output_type": "stream",
          "name": "stderr",
          "text": [
            "Train:  95%|█████████▌| 3031/3174 [02:54<00:08, 17.36it/s, accuracy=0.0117, train_loss=6.12]\n",
            "Evaluation:  14%|█▍        | 5/36 [00:07<00:45,  1.48s/it]\n"
          ]
        },
        {
          "output_type": "stream",
          "name": "stdout",
          "text": [
            "\t - Recall@20 epoch 2: 0.097656\n",
            "\t - MRR@20    epoch 2: 0.026236\n",
            "\n"
          ]
        },
        {
          "output_type": "stream",
          "name": "stderr",
          "text": [
            "Train:  95%|█████████▌| 3031/3174 [02:52<00:08, 17.53it/s, accuracy=0.0195, train_loss=5.96]\n",
            "Evaluation:  14%|█▍        | 5/36 [00:07<00:45,  1.48s/it]"
          ]
        },
        {
          "output_type": "stream",
          "name": "stdout",
          "text": [
            "\t - Recall@20 epoch 3: 0.104688\n",
            "\t - MRR@20    epoch 3: 0.030957\n",
            "\n"
          ]
        },
        {
          "output_type": "stream",
          "name": "stderr",
          "text": [
            "\n"
          ]
        }
      ]
    },
    {
      "cell_type": "code",
      "metadata": {
        "colab": {
          "base_uri": "https://localhost:8080/"
        },
        "id": "M5Tg7szUcJhw",
        "outputId": "0b0d6ceb-5f3f-41ec-eafa-eb4f6dace60e"
      },
      "source": [
        "def test_model(model, args, test):\n",
        "    test_recall, test_mrr = get_metrics(test, model, args, 20)\n",
        "    print(f\"\\t - Recall@{args.k}: {test_recall:3f}\")\n",
        "    print(f\"\\t - MRR@{args.k}: {test_mrr:3f}\\n\")\n",
        "\n",
        "test_model(model, args, test)"
      ],
      "execution_count": 72,
      "outputs": [
        {
          "output_type": "stream",
          "name": "stderr",
          "text": [
            "Evaluation:   7%|▋         | 2/27 [00:03<00:38,  1.54s/it]"
          ]
        },
        {
          "output_type": "stream",
          "name": "stdout",
          "text": [
            "\t - Recall@20: 0.113281\n",
            "\t - MRR@20: 0.029168\n",
            "\n"
          ]
        },
        {
          "output_type": "stream",
          "name": "stderr",
          "text": [
            "\n"
          ]
        }
      ]
    },
    {
      "cell_type": "markdown",
      "metadata": {
        "id": "mlf5tHFGF2DO"
      },
      "source": [
        "#### 2차 시도"
      ]
    },
    {
      "cell_type": "code",
      "metadata": {
        "colab": {
          "base_uri": "https://localhost:8080/"
        },
        "id": "1xenqFq9dMz9",
        "outputId": "896e0e49-36f8-4155-9c95-6cdc7643333b"
      },
      "source": [
        "train_model(model2, args2)"
      ],
      "execution_count": 78,
      "outputs": [
        {
          "output_type": "stream",
          "name": "stderr",
          "text": [
            "Train:  95%|█████████▌| 3031/3174 [02:50<00:08, 17.77it/s, accuracy=0.00781, train_loss=6.59]\n",
            "Evaluation:  14%|█▍        | 5/36 [00:08<00:50,  1.62s/it]\n"
          ]
        },
        {
          "output_type": "stream",
          "name": "stdout",
          "text": [
            "\t - Recall@20 epoch 1: 0.060156\n",
            "\t - MRR@20    epoch 1: 0.013704\n",
            "\n"
          ]
        },
        {
          "output_type": "stream",
          "name": "stderr",
          "text": [
            "Train:  95%|█████████▌| 3031/3174 [02:47<00:07, 18.06it/s, accuracy=0.0156, train_loss=6.13]\n",
            "Evaluation:  14%|█▍        | 5/36 [00:07<00:46,  1.49s/it]\n"
          ]
        },
        {
          "output_type": "stream",
          "name": "stdout",
          "text": [
            "\t - Recall@20 epoch 2: 0.093750\n",
            "\t - MRR@20    epoch 2: 0.026281\n",
            "\n"
          ]
        },
        {
          "output_type": "stream",
          "name": "stderr",
          "text": [
            "Train:  95%|█████████▌| 3031/3174 [02:46<00:07, 18.24it/s, accuracy=0.0195, train_loss=5.93]\n",
            "Evaluation:  14%|█▍        | 5/36 [00:07<00:46,  1.50s/it]\n"
          ]
        },
        {
          "output_type": "stream",
          "name": "stdout",
          "text": [
            "\t - Recall@20 epoch 3: 0.103906\n",
            "\t - MRR@20    epoch 3: 0.029229\n",
            "\n"
          ]
        },
        {
          "output_type": "stream",
          "name": "stderr",
          "text": [
            "Train:  95%|█████████▌| 3031/3174 [02:39<00:07, 19.04it/s, accuracy=0.0312, train_loss=5.84]\n",
            "Evaluation:  14%|█▍        | 5/36 [00:07<00:45,  1.47s/it]\n"
          ]
        },
        {
          "output_type": "stream",
          "name": "stdout",
          "text": [
            "\t - Recall@20 epoch 4: 0.103906\n",
            "\t - MRR@20    epoch 4: 0.033319\n",
            "\n"
          ]
        },
        {
          "output_type": "stream",
          "name": "stderr",
          "text": [
            "Train:  95%|█████████▌| 3031/3174 [02:38<00:07, 19.09it/s, accuracy=0.0273, train_loss=5.79]\n",
            "Evaluation:  14%|█▍        | 5/36 [00:07<00:47,  1.52s/it]\n"
          ]
        },
        {
          "output_type": "stream",
          "name": "stdout",
          "text": [
            "\t - Recall@20 epoch 5: 0.108594\n",
            "\t - MRR@20    epoch 5: 0.034461\n",
            "\n"
          ]
        },
        {
          "output_type": "stream",
          "name": "stderr",
          "text": [
            "Train:  95%|█████████▌| 3031/3174 [02:43<00:07, 18.51it/s, accuracy=0.0391, train_loss=5.78]\n",
            "Evaluation:  14%|█▍        | 5/36 [00:07<00:46,  1.49s/it]\n"
          ]
        },
        {
          "output_type": "stream",
          "name": "stdout",
          "text": [
            "\t - Recall@20 epoch 6: 0.107031\n",
            "\t - MRR@20    epoch 6: 0.033624\n",
            "\n"
          ]
        },
        {
          "output_type": "stream",
          "name": "stderr",
          "text": [
            "Train:  95%|█████████▌| 3031/3174 [02:44<00:07, 18.41it/s, accuracy=0.0156, train_loss=5.74]\n",
            "Evaluation:  14%|█▍        | 5/36 [00:07<00:47,  1.53s/it]\n"
          ]
        },
        {
          "output_type": "stream",
          "name": "stdout",
          "text": [
            "\t - Recall@20 epoch 7: 0.111719\n",
            "\t - MRR@20    epoch 7: 0.035145\n",
            "\n"
          ]
        },
        {
          "output_type": "stream",
          "name": "stderr",
          "text": [
            "Train:  95%|█████████▌| 3031/3174 [02:46<00:07, 18.22it/s, accuracy=0.0273, train_loss=5.72]\n",
            "Evaluation:  14%|█▍        | 5/36 [00:07<00:46,  1.50s/it]\n"
          ]
        },
        {
          "output_type": "stream",
          "name": "stdout",
          "text": [
            "\t - Recall@20 epoch 8: 0.115625\n",
            "\t - MRR@20    epoch 8: 0.034886\n",
            "\n"
          ]
        },
        {
          "output_type": "stream",
          "name": "stderr",
          "text": [
            "Train:  95%|█████████▌| 3031/3174 [02:41<00:07, 18.74it/s, accuracy=0.0312, train_loss=5.66]\n",
            "Evaluation:  14%|█▍        | 5/36 [00:07<00:46,  1.51s/it]\n"
          ]
        },
        {
          "output_type": "stream",
          "name": "stdout",
          "text": [
            "\t - Recall@20 epoch 9: 0.114844\n",
            "\t - MRR@20    epoch 9: 0.034324\n",
            "\n"
          ]
        },
        {
          "output_type": "stream",
          "name": "stderr",
          "text": [
            "Train:  95%|█████████▌| 3031/3174 [02:42<00:07, 18.65it/s, accuracy=0.0312, train_loss=5.61]\n",
            "Evaluation:  14%|█▍        | 5/36 [00:07<00:45,  1.46s/it]"
          ]
        },
        {
          "output_type": "stream",
          "name": "stdout",
          "text": [
            "\t - Recall@20 epoch 10: 0.117969\n",
            "\t - MRR@20    epoch 10: 0.033979\n",
            "\n"
          ]
        },
        {
          "output_type": "stream",
          "name": "stderr",
          "text": [
            "\n"
          ]
        }
      ]
    },
    {
      "cell_type": "code",
      "metadata": {
        "colab": {
          "base_uri": "https://localhost:8080/"
        },
        "id": "WQnUv-xJi6cx",
        "outputId": "1950b89d-a2f3-4505-eb63-4d7d47cfa222"
      },
      "source": [
        "test_model(model2, args2, test)"
      ],
      "execution_count": 79,
      "outputs": [
        {
          "output_type": "stream",
          "name": "stderr",
          "text": [
            "Evaluation:   7%|▋         | 2/27 [00:03<00:39,  1.57s/it]"
          ]
        },
        {
          "output_type": "stream",
          "name": "stdout",
          "text": [
            "\t - Recall@20: 0.113281\n",
            "\t - MRR@20: 0.037319\n",
            "\n"
          ]
        },
        {
          "output_type": "stream",
          "name": "stderr",
          "text": [
            "\n"
          ]
        }
      ]
    },
    {
      "cell_type": "markdown",
      "metadata": {
        "id": "D6xsvIqVIQ4F"
      },
      "source": [
        "### 3차시도"
      ]
    },
    {
      "cell_type": "code",
      "metadata": {
        "colab": {
          "base_uri": "https://localhost:8080/"
        },
        "id": "sMaCzQl4rzym",
        "outputId": "b88ef4bc-4661-4da8-89bb-cfb58bf5868e"
      },
      "source": [
        "train_model(model3, args3)"
      ],
      "execution_count": 82,
      "outputs": [
        {
          "output_type": "stream",
          "name": "stderr",
          "text": [
            "Train:  95%|█████████▌| 3031/3174 [02:47<00:07, 18.15it/s, accuracy=0.0195, train_loss=6.56]\n",
            "Evaluation:  14%|█▍        | 5/36 [00:07<00:49,  1.59s/it]\n"
          ]
        },
        {
          "output_type": "stream",
          "name": "stdout",
          "text": [
            "\t - Recall@20 epoch 1: 0.066406\n",
            "\t - MRR@20    epoch 1: 0.016208\n",
            "\n"
          ]
        },
        {
          "output_type": "stream",
          "name": "stderr",
          "text": [
            "Train:  95%|█████████▌| 3031/3174 [02:45<00:07, 18.27it/s, accuracy=0.0156, train_loss=6.14]\n",
            "Evaluation:  14%|█▍        | 5/36 [00:07<00:45,  1.47s/it]\n"
          ]
        },
        {
          "output_type": "stream",
          "name": "stdout",
          "text": [
            "\t - Recall@20 epoch 2: 0.087500\n",
            "\t - MRR@20    epoch 2: 0.026762\n",
            "\n"
          ]
        },
        {
          "output_type": "stream",
          "name": "stderr",
          "text": [
            "Train:  95%|█████████▌| 3031/3174 [02:44<00:07, 18.40it/s, accuracy=0.0352, train_loss=5.91]\n",
            "Evaluation:  14%|█▍        | 5/36 [00:07<00:45,  1.46s/it]\n"
          ]
        },
        {
          "output_type": "stream",
          "name": "stdout",
          "text": [
            "\t - Recall@20 epoch 3: 0.100781\n",
            "\t - MRR@20    epoch 3: 0.029913\n",
            "\n"
          ]
        },
        {
          "output_type": "stream",
          "name": "stderr",
          "text": [
            "Train:  95%|█████████▌| 3031/3174 [02:47<00:07, 18.11it/s, accuracy=0.0391, train_loss=5.84]\n",
            "Evaluation:  14%|█▍        | 5/36 [00:07<00:45,  1.48s/it]\n"
          ]
        },
        {
          "output_type": "stream",
          "name": "stdout",
          "text": [
            "\t - Recall@20 epoch 4: 0.101562\n",
            "\t - MRR@20    epoch 4: 0.031810\n",
            "\n"
          ]
        },
        {
          "output_type": "stream",
          "name": "stderr",
          "text": [
            "Train:  95%|█████████▌| 3031/3174 [02:49<00:08, 17.86it/s, accuracy=0.0195, train_loss=5.8]\n",
            "Evaluation:  14%|█▍        | 5/36 [00:07<00:44,  1.45s/it]\n"
          ]
        },
        {
          "output_type": "stream",
          "name": "stdout",
          "text": [
            "\t - Recall@20 epoch 5: 0.108594\n",
            "\t - MRR@20    epoch 5: 0.032074\n",
            "\n"
          ]
        },
        {
          "output_type": "stream",
          "name": "stderr",
          "text": [
            "Train:  95%|█████████▌| 3031/3174 [02:47<00:07, 18.12it/s, accuracy=0.0312, train_loss=5.73]\n",
            "Evaluation:  14%|█▍        | 5/36 [00:07<00:45,  1.46s/it]\n"
          ]
        },
        {
          "output_type": "stream",
          "name": "stdout",
          "text": [
            "\t - Recall@20 epoch 6: 0.112500\n",
            "\t - MRR@20    epoch 6: 0.032857\n",
            "\n"
          ]
        },
        {
          "output_type": "stream",
          "name": "stderr",
          "text": [
            "Train:  95%|█████████▌| 3031/3174 [02:46<00:07, 18.22it/s, accuracy=0.0312, train_loss=5.76]\n",
            "Evaluation:  14%|█▍        | 5/36 [00:07<00:45,  1.48s/it]\n"
          ]
        },
        {
          "output_type": "stream",
          "name": "stdout",
          "text": [
            "\t - Recall@20 epoch 7: 0.115625\n",
            "\t - MRR@20    epoch 7: 0.033816\n",
            "\n"
          ]
        },
        {
          "output_type": "stream",
          "name": "stderr",
          "text": [
            "Train:  95%|█████████▌| 3031/3174 [02:48<00:07, 18.03it/s, accuracy=0.0312, train_loss=5.74]\n",
            "Evaluation:  14%|█▍        | 5/36 [00:07<00:45,  1.46s/it]\n"
          ]
        },
        {
          "output_type": "stream",
          "name": "stdout",
          "text": [
            "\t - Recall@20 epoch 8: 0.118750\n",
            "\t - MRR@20    epoch 8: 0.035058\n",
            "\n"
          ]
        },
        {
          "output_type": "stream",
          "name": "stderr",
          "text": [
            "Train:  95%|█████████▌| 3031/3174 [02:44<00:07, 18.41it/s, accuracy=0.0312, train_loss=5.68]\n",
            "Evaluation:  14%|█▍        | 5/36 [00:07<00:45,  1.46s/it]\n"
          ]
        },
        {
          "output_type": "stream",
          "name": "stdout",
          "text": [
            "\t - Recall@20 epoch 9: 0.116406\n",
            "\t - MRR@20    epoch 9: 0.034540\n",
            "\n"
          ]
        },
        {
          "output_type": "stream",
          "name": "stderr",
          "text": [
            "Train:  95%|█████████▌| 3031/3174 [02:48<00:07, 17.99it/s, accuracy=0.0273, train_loss=5.62]\n",
            "Evaluation:  14%|█▍        | 5/36 [00:07<00:45,  1.48s/it]\n"
          ]
        },
        {
          "output_type": "stream",
          "name": "stdout",
          "text": [
            "\t - Recall@20 epoch 10: 0.117188\n",
            "\t - MRR@20    epoch 10: 0.035486\n",
            "\n"
          ]
        },
        {
          "output_type": "stream",
          "name": "stderr",
          "text": [
            "Train:  95%|█████████▌| 3031/3174 [02:48<00:07, 18.02it/s, accuracy=0.0156, train_loss=5.66]\n",
            "Evaluation:  14%|█▍        | 5/36 [00:07<00:44,  1.44s/it]\n"
          ]
        },
        {
          "output_type": "stream",
          "name": "stdout",
          "text": [
            "\t - Recall@20 epoch 11: 0.115625\n",
            "\t - MRR@20    epoch 11: 0.035047\n",
            "\n"
          ]
        },
        {
          "output_type": "stream",
          "name": "stderr",
          "text": [
            "Train:  95%|█████████▌| 3031/3174 [02:43<00:07, 18.59it/s, accuracy=0.0352, train_loss=5.62]\n",
            "Evaluation:  14%|█▍        | 5/36 [00:07<00:45,  1.46s/it]\n"
          ]
        },
        {
          "output_type": "stream",
          "name": "stdout",
          "text": [
            "\t - Recall@20 epoch 12: 0.116406\n",
            "\t - MRR@20    epoch 12: 0.034192\n",
            "\n"
          ]
        },
        {
          "output_type": "stream",
          "name": "stderr",
          "text": [
            "Train:  95%|█████████▌| 3031/3174 [02:46<00:07, 18.26it/s, accuracy=0.0469, train_loss=5.58]\n",
            "Evaluation:  14%|█▍        | 5/36 [00:07<00:46,  1.49s/it]\n"
          ]
        },
        {
          "output_type": "stream",
          "name": "stdout",
          "text": [
            "\t - Recall@20 epoch 13: 0.111719\n",
            "\t - MRR@20    epoch 13: 0.034218\n",
            "\n"
          ]
        },
        {
          "output_type": "stream",
          "name": "stderr",
          "text": [
            "Train:  95%|█████████▌| 3031/3174 [02:44<00:07, 18.41it/s, accuracy=0.0391, train_loss=5.58]\n",
            "Evaluation:  14%|█▍        | 5/36 [00:07<00:46,  1.49s/it]\n"
          ]
        },
        {
          "output_type": "stream",
          "name": "stdout",
          "text": [
            "\t - Recall@20 epoch 14: 0.113281\n",
            "\t - MRR@20    epoch 14: 0.033593\n",
            "\n"
          ]
        },
        {
          "output_type": "stream",
          "name": "stderr",
          "text": [
            "Train:  95%|█████████▌| 3031/3174 [02:46<00:07, 18.20it/s, accuracy=0.0469, train_loss=5.59]\n",
            "Evaluation:  14%|█▍        | 5/36 [00:07<00:45,  1.48s/it]"
          ]
        },
        {
          "output_type": "stream",
          "name": "stdout",
          "text": [
            "\t - Recall@20 epoch 15: 0.114062\n",
            "\t - MRR@20    epoch 15: 0.033456\n",
            "\n"
          ]
        },
        {
          "output_type": "stream",
          "name": "stderr",
          "text": [
            "\n"
          ]
        }
      ]
    },
    {
      "cell_type": "code",
      "metadata": {
        "colab": {
          "base_uri": "https://localhost:8080/"
        },
        "id": "5x66v9yssFxn",
        "outputId": "5b411420-5885-43dc-f728-11aa2f6af2cd"
      },
      "source": [
        "test_model(model3, args3, test)"
      ],
      "execution_count": 83,
      "outputs": [
        {
          "output_type": "stream",
          "name": "stderr",
          "text": [
            "Evaluation:   7%|▋         | 2/27 [00:03<00:39,  1.59s/it]"
          ]
        },
        {
          "output_type": "stream",
          "name": "stdout",
          "text": [
            "\t - Recall@20: 0.111328\n",
            "\t - MRR@20: 0.036580\n",
            "\n"
          ]
        },
        {
          "output_type": "stream",
          "name": "stderr",
          "text": [
            "\n"
          ]
        }
      ]
    },
    {
      "cell_type": "markdown",
      "metadata": {
        "id": "8RyIzi9IIT5P"
      },
      "source": [
        "### 4차시도"
      ]
    },
    {
      "cell_type": "code",
      "metadata": {
        "colab": {
          "base_uri": "https://localhost:8080/"
        },
        "id": "XWi84i4U3EWH",
        "outputId": "c75b65c1-1000-4e39-8626-3b446f37d1a0"
      },
      "source": [
        "train_model(model4, args4)"
      ],
      "execution_count": 86,
      "outputs": [
        {
          "output_type": "stream",
          "name": "stderr",
          "text": [
            "Train:  95%|█████████▌| 3031/3174 [02:52<00:08, 17.56it/s, accuracy=0.0117, train_loss=6.55]\n",
            "Evaluation:  14%|█▍        | 5/36 [00:11<01:08,  2.22s/it]\n"
          ]
        },
        {
          "output_type": "stream",
          "name": "stdout",
          "text": [
            "\t - Recall@30 epoch 1: 0.085938\n",
            "\t - MRR@30    epoch 1: 0.014138\n",
            "\n"
          ]
        },
        {
          "output_type": "stream",
          "name": "stderr",
          "text": [
            "Train:  95%|█████████▌| 3031/3174 [02:48<00:07, 17.94it/s, accuracy=0.0234, train_loss=6.13]\n",
            "Evaluation:  14%|█▍        | 5/36 [00:10<01:03,  2.05s/it]\n"
          ]
        },
        {
          "output_type": "stream",
          "name": "stdout",
          "text": [
            "\t - Recall@30 epoch 2: 0.114062\n",
            "\t - MRR@30    epoch 2: 0.025022\n",
            "\n"
          ]
        },
        {
          "output_type": "stream",
          "name": "stderr",
          "text": [
            "Train:  95%|█████████▌| 3031/3174 [02:47<00:07, 18.11it/s, accuracy=0.0234, train_loss=5.9]\n",
            "Evaluation:  14%|█▍        | 5/36 [00:10<01:06,  2.14s/it]\n"
          ]
        },
        {
          "output_type": "stream",
          "name": "stdout",
          "text": [
            "\t - Recall@30 epoch 3: 0.127344\n",
            "\t - MRR@30    epoch 3: 0.028257\n",
            "\n"
          ]
        },
        {
          "output_type": "stream",
          "name": "stderr",
          "text": [
            "Train:  95%|█████████▌| 3031/3174 [02:45<00:07, 18.30it/s, accuracy=0.0117, train_loss=5.86]\n",
            "Evaluation:  14%|█▍        | 5/36 [00:10<01:03,  2.05s/it]\n"
          ]
        },
        {
          "output_type": "stream",
          "name": "stdout",
          "text": [
            "\t - Recall@30 epoch 4: 0.138281\n",
            "\t - MRR@30    epoch 4: 0.030881\n",
            "\n"
          ]
        },
        {
          "output_type": "stream",
          "name": "stderr",
          "text": [
            "Train:  95%|█████████▌| 3031/3174 [02:47<00:07, 18.09it/s, accuracy=0.0195, train_loss=5.82]\n",
            "Evaluation:  14%|█▍        | 5/36 [00:10<01:03,  2.05s/it]\n"
          ]
        },
        {
          "output_type": "stream",
          "name": "stdout",
          "text": [
            "\t - Recall@30 epoch 5: 0.142187\n",
            "\t - MRR@30    epoch 5: 0.034033\n",
            "\n"
          ]
        },
        {
          "output_type": "stream",
          "name": "stderr",
          "text": [
            "Train:  95%|█████████▌| 3031/3174 [02:47<00:07, 18.06it/s, accuracy=0.0234, train_loss=5.76]\n",
            "Evaluation:  14%|█▍        | 5/36 [00:10<01:03,  2.06s/it]\n"
          ]
        },
        {
          "output_type": "stream",
          "name": "stdout",
          "text": [
            "\t - Recall@30 epoch 6: 0.142187\n",
            "\t - MRR@30    epoch 6: 0.035124\n",
            "\n"
          ]
        },
        {
          "output_type": "stream",
          "name": "stderr",
          "text": [
            "Train:  95%|█████████▌| 3031/3174 [02:46<00:07, 18.22it/s, accuracy=0.0312, train_loss=5.79]\n",
            "Evaluation:  14%|█▍        | 5/36 [00:10<01:03,  2.04s/it]\n"
          ]
        },
        {
          "output_type": "stream",
          "name": "stdout",
          "text": [
            "\t - Recall@30 epoch 7: 0.140625\n",
            "\t - MRR@30    epoch 7: 0.034898\n",
            "\n"
          ]
        },
        {
          "output_type": "stream",
          "name": "stderr",
          "text": [
            "Train:  95%|█████████▌| 3031/3174 [02:48<00:07, 17.95it/s, accuracy=0.0312, train_loss=5.75]\n",
            "Evaluation:  14%|█▍        | 5/36 [00:10<01:03,  2.05s/it]\n"
          ]
        },
        {
          "output_type": "stream",
          "name": "stdout",
          "text": [
            "\t - Recall@30 epoch 8: 0.139844\n",
            "\t - MRR@30    epoch 8: 0.036611\n",
            "\n"
          ]
        },
        {
          "output_type": "stream",
          "name": "stderr",
          "text": [
            "Train:  95%|█████████▌| 3031/3174 [02:49<00:07, 17.92it/s, accuracy=0.0234, train_loss=5.72]\n",
            "Evaluation:  14%|█▍        | 5/36 [00:10<01:03,  2.04s/it]\n"
          ]
        },
        {
          "output_type": "stream",
          "name": "stdout",
          "text": [
            "\t - Recall@30 epoch 9: 0.142969\n",
            "\t - MRR@30    epoch 9: 0.037650\n",
            "\n"
          ]
        },
        {
          "output_type": "stream",
          "name": "stderr",
          "text": [
            "Train:  95%|█████████▌| 3031/3174 [02:50<00:08, 17.77it/s, accuracy=0.0234, train_loss=5.7]\n",
            "Evaluation:  14%|█▍        | 5/36 [00:10<01:03,  2.05s/it]\n"
          ]
        },
        {
          "output_type": "stream",
          "name": "stdout",
          "text": [
            "\t - Recall@30 epoch 10: 0.143750\n",
            "\t - MRR@30    epoch 10: 0.036399\n",
            "\n"
          ]
        },
        {
          "output_type": "stream",
          "name": "stderr",
          "text": [
            "Train:  95%|█████████▌| 3031/3174 [02:48<00:07, 18.00it/s, accuracy=0.0234, train_loss=5.72]\n",
            "Evaluation:  14%|█▍        | 5/36 [00:10<01:03,  2.06s/it]\n"
          ]
        },
        {
          "output_type": "stream",
          "name": "stdout",
          "text": [
            "\t - Recall@30 epoch 11: 0.148438\n",
            "\t - MRR@30    epoch 11: 0.037205\n",
            "\n"
          ]
        },
        {
          "output_type": "stream",
          "name": "stderr",
          "text": [
            "Train:  95%|█████████▌| 3031/3174 [02:47<00:07, 18.10it/s, accuracy=0.0195, train_loss=5.68]\n",
            "Evaluation:  14%|█▍        | 5/36 [00:10<01:02,  2.02s/it]\n"
          ]
        },
        {
          "output_type": "stream",
          "name": "stdout",
          "text": [
            "\t - Recall@30 epoch 12: 0.145313\n",
            "\t - MRR@30    epoch 12: 0.037239\n",
            "\n"
          ]
        },
        {
          "output_type": "stream",
          "name": "stderr",
          "text": [
            "Train:  95%|█████████▌| 3031/3174 [02:46<00:07, 18.22it/s, accuracy=0.0273, train_loss=5.69]\n",
            "Evaluation:  14%|█▍        | 5/36 [00:10<01:03,  2.05s/it]\n"
          ]
        },
        {
          "output_type": "stream",
          "name": "stdout",
          "text": [
            "\t - Recall@30 epoch 13: 0.142969\n",
            "\t - MRR@30    epoch 13: 0.037162\n",
            "\n"
          ]
        },
        {
          "output_type": "stream",
          "name": "stderr",
          "text": [
            "Train:  95%|█████████▌| 3031/3174 [02:47<00:07, 18.06it/s, accuracy=0.0195, train_loss=5.69]\n",
            "Evaluation:  14%|█▍        | 5/36 [00:10<01:03,  2.04s/it]\n"
          ]
        },
        {
          "output_type": "stream",
          "name": "stdout",
          "text": [
            "\t - Recall@30 epoch 14: 0.141406\n",
            "\t - MRR@30    epoch 14: 0.037138\n",
            "\n"
          ]
        },
        {
          "output_type": "stream",
          "name": "stderr",
          "text": [
            "Train:  95%|█████████▌| 3031/3174 [02:45<00:07, 18.26it/s, accuracy=0.0391, train_loss=5.67]\n",
            "Evaluation:  14%|█▍        | 5/36 [00:10<01:03,  2.04s/it]"
          ]
        },
        {
          "output_type": "stream",
          "name": "stdout",
          "text": [
            "\t - Recall@30 epoch 15: 0.141406\n",
            "\t - MRR@30    epoch 15: 0.037371\n",
            "\n"
          ]
        },
        {
          "output_type": "stream",
          "name": "stderr",
          "text": [
            "\n"
          ]
        }
      ]
    },
    {
      "cell_type": "code",
      "metadata": {
        "colab": {
          "base_uri": "https://localhost:8080/"
        },
        "id": "NtIs1hAf3GcU",
        "outputId": "1e4ee296-d567-4a24-a187-0823ce54bed4"
      },
      "source": [
        "test_model(model4, args4, test)"
      ],
      "execution_count": 87,
      "outputs": [
        {
          "output_type": "stream",
          "name": "stderr",
          "text": [
            "Evaluation:   7%|▋         | 2/27 [00:02<00:36,  1.46s/it]"
          ]
        },
        {
          "output_type": "stream",
          "name": "stdout",
          "text": [
            "\t - Recall@30: 0.107422\n",
            "\t - MRR@30: 0.032647\n",
            "\n"
          ]
        },
        {
          "output_type": "stream",
          "name": "stderr",
          "text": [
            "\n"
          ]
        }
      ]
    }
  ]
}