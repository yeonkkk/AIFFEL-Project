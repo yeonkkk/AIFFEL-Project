{
  "nbformat": 4,
  "nbformat_minor": 0,
  "metadata": {
    "colab": {
      "name": "[E-09]Movie_Recommendation.ipynb",
      "provenance": [],
      "collapsed_sections": [],
      "mount_file_id": "1wIyXA4tTrPI6ry0Rm__BCNZ4aUtmyW46",
      "authorship_tag": "ABX9TyNBO5OttORAW2tRVUr7bOOB",
      "include_colab_link": true
    },
    "kernelspec": {
      "name": "python3",
      "display_name": "Python 3"
    },
    "language_info": {
      "name": "python"
    },
    "widgets": {
      "application/vnd.jupyter.widget-state+json": {
        "298dff9fd6cd4bf8bb62e337e5b55deb": {
          "model_module": "@jupyter-widgets/controls",
          "model_name": "HBoxModel",
          "model_module_version": "1.5.0",
          "state": {
            "_view_name": "HBoxView",
            "_dom_classes": [],
            "_model_name": "HBoxModel",
            "_view_module": "@jupyter-widgets/controls",
            "_model_module_version": "1.5.0",
            "_view_count": null,
            "_view_module_version": "1.5.0",
            "box_style": "",
            "layout": "IPY_MODEL_cccd5849fe8946be8d4b14ddb5883bf6",
            "_model_module": "@jupyter-widgets/controls",
            "children": [
              "IPY_MODEL_555ec3c0066948daa3cb3ac66f6ef28b",
              "IPY_MODEL_d236cb9fdb3244608d4511c12f4f826e",
              "IPY_MODEL_d4c86294b34c485291e3591196d67ed4"
            ]
          }
        },
        "cccd5849fe8946be8d4b14ddb5883bf6": {
          "model_module": "@jupyter-widgets/base",
          "model_name": "LayoutModel",
          "model_module_version": "1.2.0",
          "state": {
            "_view_name": "LayoutView",
            "grid_template_rows": null,
            "right": null,
            "justify_content": null,
            "_view_module": "@jupyter-widgets/base",
            "overflow": null,
            "_model_module_version": "1.2.0",
            "_view_count": null,
            "flex_flow": null,
            "width": null,
            "min_width": null,
            "border": null,
            "align_items": null,
            "bottom": null,
            "_model_module": "@jupyter-widgets/base",
            "top": null,
            "grid_column": null,
            "overflow_y": null,
            "overflow_x": null,
            "grid_auto_flow": null,
            "grid_area": null,
            "grid_template_columns": null,
            "flex": null,
            "_model_name": "LayoutModel",
            "justify_items": null,
            "grid_row": null,
            "max_height": null,
            "align_content": null,
            "visibility": null,
            "align_self": null,
            "height": null,
            "min_height": null,
            "padding": null,
            "grid_auto_rows": null,
            "grid_gap": null,
            "max_width": null,
            "order": null,
            "_view_module_version": "1.2.0",
            "grid_template_areas": null,
            "object_position": null,
            "object_fit": null,
            "grid_auto_columns": null,
            "margin": null,
            "display": null,
            "left": null
          }
        },
        "555ec3c0066948daa3cb3ac66f6ef28b": {
          "model_module": "@jupyter-widgets/controls",
          "model_name": "HTMLModel",
          "model_module_version": "1.5.0",
          "state": {
            "_view_name": "HTMLView",
            "style": "IPY_MODEL_a8b766f94ef44346891a30f168b677af",
            "_dom_classes": [],
            "description": "",
            "_model_name": "HTMLModel",
            "placeholder": "​",
            "_view_module": "@jupyter-widgets/controls",
            "_model_module_version": "1.5.0",
            "value": "100%",
            "_view_count": null,
            "_view_module_version": "1.5.0",
            "description_tooltip": null,
            "_model_module": "@jupyter-widgets/controls",
            "layout": "IPY_MODEL_daa0868a5ab84529bcd35f0a4783c59c"
          }
        },
        "d236cb9fdb3244608d4511c12f4f826e": {
          "model_module": "@jupyter-widgets/controls",
          "model_name": "FloatProgressModel",
          "model_module_version": "1.5.0",
          "state": {
            "_view_name": "ProgressView",
            "style": "IPY_MODEL_6519e0d1a25d4bda8a4c3658f97ee8bd",
            "_dom_classes": [],
            "description": "",
            "_model_name": "FloatProgressModel",
            "bar_style": "success",
            "max": 15,
            "_view_module": "@jupyter-widgets/controls",
            "_model_module_version": "1.5.0",
            "value": 15,
            "_view_count": null,
            "_view_module_version": "1.5.0",
            "orientation": "horizontal",
            "min": 0,
            "description_tooltip": null,
            "_model_module": "@jupyter-widgets/controls",
            "layout": "IPY_MODEL_906ede2419c74ef58191bda24ca469ff"
          }
        },
        "d4c86294b34c485291e3591196d67ed4": {
          "model_module": "@jupyter-widgets/controls",
          "model_name": "HTMLModel",
          "model_module_version": "1.5.0",
          "state": {
            "_view_name": "HTMLView",
            "style": "IPY_MODEL_bbbffd0c74484b139a31202d8b3155ce",
            "_dom_classes": [],
            "description": "",
            "_model_name": "HTMLModel",
            "placeholder": "​",
            "_view_module": "@jupyter-widgets/controls",
            "_model_module_version": "1.5.0",
            "value": " 15/15 [00:19&lt;00:00,  1.29s/it]",
            "_view_count": null,
            "_view_module_version": "1.5.0",
            "description_tooltip": null,
            "_model_module": "@jupyter-widgets/controls",
            "layout": "IPY_MODEL_bc68f4d813cc4f518b7a581c806881b5"
          }
        },
        "a8b766f94ef44346891a30f168b677af": {
          "model_module": "@jupyter-widgets/controls",
          "model_name": "DescriptionStyleModel",
          "model_module_version": "1.5.0",
          "state": {
            "_view_name": "StyleView",
            "_model_name": "DescriptionStyleModel",
            "description_width": "",
            "_view_module": "@jupyter-widgets/base",
            "_model_module_version": "1.5.0",
            "_view_count": null,
            "_view_module_version": "1.2.0",
            "_model_module": "@jupyter-widgets/controls"
          }
        },
        "daa0868a5ab84529bcd35f0a4783c59c": {
          "model_module": "@jupyter-widgets/base",
          "model_name": "LayoutModel",
          "model_module_version": "1.2.0",
          "state": {
            "_view_name": "LayoutView",
            "grid_template_rows": null,
            "right": null,
            "justify_content": null,
            "_view_module": "@jupyter-widgets/base",
            "overflow": null,
            "_model_module_version": "1.2.0",
            "_view_count": null,
            "flex_flow": null,
            "width": null,
            "min_width": null,
            "border": null,
            "align_items": null,
            "bottom": null,
            "_model_module": "@jupyter-widgets/base",
            "top": null,
            "grid_column": null,
            "overflow_y": null,
            "overflow_x": null,
            "grid_auto_flow": null,
            "grid_area": null,
            "grid_template_columns": null,
            "flex": null,
            "_model_name": "LayoutModel",
            "justify_items": null,
            "grid_row": null,
            "max_height": null,
            "align_content": null,
            "visibility": null,
            "align_self": null,
            "height": null,
            "min_height": null,
            "padding": null,
            "grid_auto_rows": null,
            "grid_gap": null,
            "max_width": null,
            "order": null,
            "_view_module_version": "1.2.0",
            "grid_template_areas": null,
            "object_position": null,
            "object_fit": null,
            "grid_auto_columns": null,
            "margin": null,
            "display": null,
            "left": null
          }
        },
        "6519e0d1a25d4bda8a4c3658f97ee8bd": {
          "model_module": "@jupyter-widgets/controls",
          "model_name": "ProgressStyleModel",
          "model_module_version": "1.5.0",
          "state": {
            "_view_name": "StyleView",
            "_model_name": "ProgressStyleModel",
            "description_width": "",
            "_view_module": "@jupyter-widgets/base",
            "_model_module_version": "1.5.0",
            "_view_count": null,
            "_view_module_version": "1.2.0",
            "bar_color": null,
            "_model_module": "@jupyter-widgets/controls"
          }
        },
        "906ede2419c74ef58191bda24ca469ff": {
          "model_module": "@jupyter-widgets/base",
          "model_name": "LayoutModel",
          "model_module_version": "1.2.0",
          "state": {
            "_view_name": "LayoutView",
            "grid_template_rows": null,
            "right": null,
            "justify_content": null,
            "_view_module": "@jupyter-widgets/base",
            "overflow": null,
            "_model_module_version": "1.2.0",
            "_view_count": null,
            "flex_flow": null,
            "width": null,
            "min_width": null,
            "border": null,
            "align_items": null,
            "bottom": null,
            "_model_module": "@jupyter-widgets/base",
            "top": null,
            "grid_column": null,
            "overflow_y": null,
            "overflow_x": null,
            "grid_auto_flow": null,
            "grid_area": null,
            "grid_template_columns": null,
            "flex": null,
            "_model_name": "LayoutModel",
            "justify_items": null,
            "grid_row": null,
            "max_height": null,
            "align_content": null,
            "visibility": null,
            "align_self": null,
            "height": null,
            "min_height": null,
            "padding": null,
            "grid_auto_rows": null,
            "grid_gap": null,
            "max_width": null,
            "order": null,
            "_view_module_version": "1.2.0",
            "grid_template_areas": null,
            "object_position": null,
            "object_fit": null,
            "grid_auto_columns": null,
            "margin": null,
            "display": null,
            "left": null
          }
        },
        "bbbffd0c74484b139a31202d8b3155ce": {
          "model_module": "@jupyter-widgets/controls",
          "model_name": "DescriptionStyleModel",
          "model_module_version": "1.5.0",
          "state": {
            "_view_name": "StyleView",
            "_model_name": "DescriptionStyleModel",
            "description_width": "",
            "_view_module": "@jupyter-widgets/base",
            "_model_module_version": "1.5.0",
            "_view_count": null,
            "_view_module_version": "1.2.0",
            "_model_module": "@jupyter-widgets/controls"
          }
        },
        "bc68f4d813cc4f518b7a581c806881b5": {
          "model_module": "@jupyter-widgets/base",
          "model_name": "LayoutModel",
          "model_module_version": "1.2.0",
          "state": {
            "_view_name": "LayoutView",
            "grid_template_rows": null,
            "right": null,
            "justify_content": null,
            "_view_module": "@jupyter-widgets/base",
            "overflow": null,
            "_model_module_version": "1.2.0",
            "_view_count": null,
            "flex_flow": null,
            "width": null,
            "min_width": null,
            "border": null,
            "align_items": null,
            "bottom": null,
            "_model_module": "@jupyter-widgets/base",
            "top": null,
            "grid_column": null,
            "overflow_y": null,
            "overflow_x": null,
            "grid_auto_flow": null,
            "grid_area": null,
            "grid_template_columns": null,
            "flex": null,
            "_model_name": "LayoutModel",
            "justify_items": null,
            "grid_row": null,
            "max_height": null,
            "align_content": null,
            "visibility": null,
            "align_self": null,
            "height": null,
            "min_height": null,
            "padding": null,
            "grid_auto_rows": null,
            "grid_gap": null,
            "max_width": null,
            "order": null,
            "_view_module_version": "1.2.0",
            "grid_template_areas": null,
            "object_position": null,
            "object_fit": null,
            "grid_auto_columns": null,
            "margin": null,
            "display": null,
            "left": null
          }
        }
      }
    }
  },
  "cells": [
    {
      "cell_type": "markdown",
      "metadata": {
        "id": "view-in-github",
        "colab_type": "text"
      },
      "source": [
        "<a href=\"https://colab.research.google.com/github/yeonkkk/AIFFEL-Project/blob/main/Exploration9/project/%5BE_09%5DMovie_Recommendation.ipynb\" target=\"_parent\"><img src=\"https://colab.research.google.com/assets/colab-badge.svg\" alt=\"Open In Colab\"/></a>"
      ]
    },
    {
      "cell_type": "markdown",
      "metadata": {
        "id": "DtvnkkMUXS50"
      },
      "source": [
        "# E-09. Movie Recommendation\n",
        "\n",
        "## 데이터 탐색 및 전처리\n",
        "\n",
        "- 사용할 데이터: [MovieLens 1M Dataset](https://grouplens.org/datasets/movielens/1m/)\n",
        "\n",
        "- 유저가 영화에 대해 평점을 매긴 데이터가 데이터 크기 별로 있음\n",
        "\n",
        "- 별점을 시청횟수로 해석할 것\n",
        "\n",
        "- 유저가 3점 미만으로 준 데이터는 선호하지 않는다고 가정하고 제외할 것"
      ]
    },
    {
      "cell_type": "code",
      "metadata": {
        "colab": {
          "base_uri": "https://localhost:8080/"
        },
        "id": "h95IPNNzUAJp",
        "outputId": "2ff0ac53-3949-4a65-e8a6-9814e6610b6c"
      },
      "source": [
        "from google.colab import drive\n",
        "drive.mount('/content/drive')"
      ],
      "execution_count": null,
      "outputs": [
        {
          "output_type": "stream",
          "name": "stdout",
          "text": [
            "Drive already mounted at /content/drive; to attempt to forcibly remount, call drive.mount(\"/content/drive\", force_remount=True).\n"
          ]
        }
      ]
    },
    {
      "cell_type": "code",
      "metadata": {
        "id": "R5P8toQeVK6V"
      },
      "source": [
        "import pandas as pd\n",
        "\n",
        "rating_file_path = \"/content/drive/MyDrive/ex9/ratings.dat\"\n",
        "ratings_cols = ['user_id', 'movie_id', 'ratings', 'timestamp']\n",
        "ratings = pd.read_csv(rating_file_path, sep='::',\n",
        "                      names=ratings_cols, \n",
        "                      engine='python', \n",
        "                      encoding = \"ISO-8859-1\")"
      ],
      "execution_count": null,
      "outputs": []
    },
    {
      "cell_type": "markdown",
      "metadata": {
        "id": "8vVWDPEGg6ke"
      },
      "source": [
        "- 불러온 데이터 확인하기\n",
        "\n",
        "- ratings 컬럼\n",
        "  - user_id: 사용자별 고유 번호\n",
        "  - movie_id: 영화별 고유 번호\n",
        "  - ratings: 사용자가 남긴 평점 (1~5)\n",
        "  - timestamp: 날짜와 시간\n"
      ]
    },
    {
      "cell_type": "code",
      "metadata": {
        "colab": {
          "base_uri": "https://localhost:8080/",
          "height": 202
        },
        "id": "B74DvO7yWf71",
        "outputId": "34d220b7-4d54-460d-8040-83e1acf9cda2"
      },
      "source": [
        "orginal_data_size = len(ratings)\n",
        "ratings.head()"
      ],
      "execution_count": null,
      "outputs": [
        {
          "output_type": "execute_result",
          "data": {
            "text/html": [
              "<div>\n",
              "<style scoped>\n",
              "    .dataframe tbody tr th:only-of-type {\n",
              "        vertical-align: middle;\n",
              "    }\n",
              "\n",
              "    .dataframe tbody tr th {\n",
              "        vertical-align: top;\n",
              "    }\n",
              "\n",
              "    .dataframe thead th {\n",
              "        text-align: right;\n",
              "    }\n",
              "</style>\n",
              "<table border=\"1\" class=\"dataframe\">\n",
              "  <thead>\n",
              "    <tr style=\"text-align: right;\">\n",
              "      <th></th>\n",
              "      <th>user_id</th>\n",
              "      <th>movie_id</th>\n",
              "      <th>ratings</th>\n",
              "      <th>timestamp</th>\n",
              "    </tr>\n",
              "  </thead>\n",
              "  <tbody>\n",
              "    <tr>\n",
              "      <th>0</th>\n",
              "      <td>1</td>\n",
              "      <td>1193</td>\n",
              "      <td>5</td>\n",
              "      <td>978300760</td>\n",
              "    </tr>\n",
              "    <tr>\n",
              "      <th>1</th>\n",
              "      <td>1</td>\n",
              "      <td>661</td>\n",
              "      <td>3</td>\n",
              "      <td>978302109</td>\n",
              "    </tr>\n",
              "    <tr>\n",
              "      <th>2</th>\n",
              "      <td>1</td>\n",
              "      <td>914</td>\n",
              "      <td>3</td>\n",
              "      <td>978301968</td>\n",
              "    </tr>\n",
              "    <tr>\n",
              "      <th>3</th>\n",
              "      <td>1</td>\n",
              "      <td>3408</td>\n",
              "      <td>4</td>\n",
              "      <td>978300275</td>\n",
              "    </tr>\n",
              "    <tr>\n",
              "      <th>4</th>\n",
              "      <td>1</td>\n",
              "      <td>2355</td>\n",
              "      <td>5</td>\n",
              "      <td>978824291</td>\n",
              "    </tr>\n",
              "  </tbody>\n",
              "</table>\n",
              "</div>"
            ],
            "text/plain": [
              "   user_id  movie_id  ratings  timestamp\n",
              "0        1      1193        5  978300760\n",
              "1        1       661        3  978302109\n",
              "2        1       914        3  978301968\n",
              "3        1      3408        4  978300275\n",
              "4        1      2355        5  978824291"
            ]
          },
          "metadata": {},
          "execution_count": 4
        }
      ]
    },
    {
      "cell_type": "markdown",
      "metadata": {
        "id": "SSCu_bwhhi4H"
      },
      "source": [
        "- 평점이 3점 미만인 경우 선호하지 않기로 하였으니, 3점 이상인 영화들만 남긴다.\n",
        "\n",
        "- 결과적으로 전체의 83% 정도의 영화만 활용"
      ]
    },
    {
      "cell_type": "code",
      "metadata": {
        "colab": {
          "base_uri": "https://localhost:8080/"
        },
        "id": "7ehsam_0Wi0r",
        "outputId": "b74e9082-2add-4d08-b0c7-f470684655c9"
      },
      "source": [
        "# 3점 이상만 남기기\n",
        "ratings = ratings[ratings['ratings']>=3]\n",
        "filtered_data_size = len(ratings)\n",
        "\n",
        "\n",
        "\n",
        "\n",
        "print(f'orginal_data_size: {orginal_data_size}, filtered_data_size: {filtered_data_size}')\n",
        "print(f'Ratio of Remaining Data is {filtered_data_size / orginal_data_size:.2%}')"
      ],
      "execution_count": null,
      "outputs": [
        {
          "output_type": "stream",
          "name": "stdout",
          "text": [
            "orginal_data_size: 1000209, filtered_data_size: 836478\n",
            "Ratio of Remaining Data is 83.63%\n"
          ]
        }
      ]
    },
    {
      "cell_type": "code",
      "metadata": {
        "id": "JRX7nu5mWkGc"
      },
      "source": [
        "# ratings 컬럼의 이름을 counts로 바꿉니다.\n",
        "# 별점을 재생 횟수로 생각하기로 했으므로!\n",
        "ratings.rename(columns={'ratings':'counts'}, inplace=True)"
      ],
      "execution_count": null,
      "outputs": []
    },
    {
      "cell_type": "code",
      "metadata": {
        "colab": {
          "base_uri": "https://localhost:8080/"
        },
        "id": "90c8b4XVWmzS",
        "outputId": "b9b49ac2-339b-4fb5-e9bc-a27d3e2423dc"
      },
      "source": [
        "ratings['counts']"
      ],
      "execution_count": null,
      "outputs": [
        {
          "output_type": "execute_result",
          "data": {
            "text/plain": [
              "0          5\n",
              "1          3\n",
              "2          3\n",
              "3          4\n",
              "4          5\n",
              "          ..\n",
              "1000203    3\n",
              "1000205    5\n",
              "1000206    5\n",
              "1000207    4\n",
              "1000208    4\n",
              "Name: counts, Length: 836478, dtype: int64"
            ]
          },
          "metadata": {},
          "execution_count": 7
        }
      ]
    },
    {
      "cell_type": "markdown",
      "metadata": {
        "id": "q-XWABSLEqoz"
      },
      "source": [
        "- 사용하지 않을 컬럼은 삭제해 준다."
      ]
    },
    {
      "cell_type": "code",
      "metadata": {
        "id": "kjNyDsWfWn3B"
      },
      "source": [
        "del ratings['timestamp']"
      ],
      "execution_count": null,
      "outputs": []
    },
    {
      "cell_type": "code",
      "metadata": {
        "colab": {
          "base_uri": "https://localhost:8080/",
          "height": 202
        },
        "id": "iSya3IK7WpUy",
        "outputId": "6f2503b5-d3b7-4572-f291-e55e86c77902"
      },
      "source": [
        "ratings.head()"
      ],
      "execution_count": null,
      "outputs": [
        {
          "output_type": "execute_result",
          "data": {
            "text/html": [
              "<div>\n",
              "<style scoped>\n",
              "    .dataframe tbody tr th:only-of-type {\n",
              "        vertical-align: middle;\n",
              "    }\n",
              "\n",
              "    .dataframe tbody tr th {\n",
              "        vertical-align: top;\n",
              "    }\n",
              "\n",
              "    .dataframe thead th {\n",
              "        text-align: right;\n",
              "    }\n",
              "</style>\n",
              "<table border=\"1\" class=\"dataframe\">\n",
              "  <thead>\n",
              "    <tr style=\"text-align: right;\">\n",
              "      <th></th>\n",
              "      <th>user_id</th>\n",
              "      <th>movie_id</th>\n",
              "      <th>counts</th>\n",
              "    </tr>\n",
              "  </thead>\n",
              "  <tbody>\n",
              "    <tr>\n",
              "      <th>0</th>\n",
              "      <td>1</td>\n",
              "      <td>1193</td>\n",
              "      <td>5</td>\n",
              "    </tr>\n",
              "    <tr>\n",
              "      <th>1</th>\n",
              "      <td>1</td>\n",
              "      <td>661</td>\n",
              "      <td>3</td>\n",
              "    </tr>\n",
              "    <tr>\n",
              "      <th>2</th>\n",
              "      <td>1</td>\n",
              "      <td>914</td>\n",
              "      <td>3</td>\n",
              "    </tr>\n",
              "    <tr>\n",
              "      <th>3</th>\n",
              "      <td>1</td>\n",
              "      <td>3408</td>\n",
              "      <td>4</td>\n",
              "    </tr>\n",
              "    <tr>\n",
              "      <th>4</th>\n",
              "      <td>1</td>\n",
              "      <td>2355</td>\n",
              "      <td>5</td>\n",
              "    </tr>\n",
              "  </tbody>\n",
              "</table>\n",
              "</div>"
            ],
            "text/plain": [
              "   user_id  movie_id  counts\n",
              "0        1      1193       5\n",
              "1        1       661       3\n",
              "2        1       914       3\n",
              "3        1      3408       4\n",
              "4        1      2355       5"
            ]
          },
          "metadata": {},
          "execution_count": 9
        }
      ]
    },
    {
      "cell_type": "markdown",
      "metadata": {
        "id": "Gb-Sx3Jy6sX6"
      },
      "source": [
        "- 영화 이름과 장르를 확인할 수 있는 파일인 movies 을 불러온다."
      ]
    },
    {
      "cell_type": "code",
      "metadata": {
        "colab": {
          "base_uri": "https://localhost:8080/",
          "height": 202
        },
        "id": "gOVhkMVrWqht",
        "outputId": "975c6174-cb86-4cd7-c55e-6f6b1dc1897e"
      },
      "source": [
        "# 영화 제목을 보기 위해 메타 데이터를 읽어옵니다.\n",
        "movie_file_path= \"/content/drive/MyDrive/ex9/movies.dat\"\n",
        "cols = ['movie_id', 'title', 'genre'] \n",
        "movies = pd.read_csv(movie_file_path, sep='::', names=cols, engine='python', encoding='ISO-8859-1')\n",
        "movies.head()"
      ],
      "execution_count": null,
      "outputs": [
        {
          "output_type": "execute_result",
          "data": {
            "text/html": [
              "<div>\n",
              "<style scoped>\n",
              "    .dataframe tbody tr th:only-of-type {\n",
              "        vertical-align: middle;\n",
              "    }\n",
              "\n",
              "    .dataframe tbody tr th {\n",
              "        vertical-align: top;\n",
              "    }\n",
              "\n",
              "    .dataframe thead th {\n",
              "        text-align: right;\n",
              "    }\n",
              "</style>\n",
              "<table border=\"1\" class=\"dataframe\">\n",
              "  <thead>\n",
              "    <tr style=\"text-align: right;\">\n",
              "      <th></th>\n",
              "      <th>movie_id</th>\n",
              "      <th>title</th>\n",
              "      <th>genre</th>\n",
              "    </tr>\n",
              "  </thead>\n",
              "  <tbody>\n",
              "    <tr>\n",
              "      <th>0</th>\n",
              "      <td>1</td>\n",
              "      <td>Toy Story (1995)</td>\n",
              "      <td>Animation|Children's|Comedy</td>\n",
              "    </tr>\n",
              "    <tr>\n",
              "      <th>1</th>\n",
              "      <td>2</td>\n",
              "      <td>Jumanji (1995)</td>\n",
              "      <td>Adventure|Children's|Fantasy</td>\n",
              "    </tr>\n",
              "    <tr>\n",
              "      <th>2</th>\n",
              "      <td>3</td>\n",
              "      <td>Grumpier Old Men (1995)</td>\n",
              "      <td>Comedy|Romance</td>\n",
              "    </tr>\n",
              "    <tr>\n",
              "      <th>3</th>\n",
              "      <td>4</td>\n",
              "      <td>Waiting to Exhale (1995)</td>\n",
              "      <td>Comedy|Drama</td>\n",
              "    </tr>\n",
              "    <tr>\n",
              "      <th>4</th>\n",
              "      <td>5</td>\n",
              "      <td>Father of the Bride Part II (1995)</td>\n",
              "      <td>Comedy</td>\n",
              "    </tr>\n",
              "  </tbody>\n",
              "</table>\n",
              "</div>"
            ],
            "text/plain": [
              "   movie_id                               title                         genre\n",
              "0         1                    Toy Story (1995)   Animation|Children's|Comedy\n",
              "1         2                      Jumanji (1995)  Adventure|Children's|Fantasy\n",
              "2         3             Grumpier Old Men (1995)                Comedy|Romance\n",
              "3         4            Waiting to Exhale (1995)                  Comedy|Drama\n",
              "4         5  Father of the Bride Part II (1995)                        Comedy"
            ]
          },
          "metadata": {},
          "execution_count": 10
        }
      ]
    },
    {
      "cell_type": "code",
      "metadata": {
        "colab": {
          "base_uri": "https://localhost:8080/",
          "height": 202
        },
        "id": "OcpidChlWzSJ",
        "outputId": "3a5d30ad-9ffe-40ad-b8db-93f09b0c120f"
      },
      "source": [
        "# 검색을 쉽게 하기 위해 문자열을 소문자로 바꿔줍시다.\n",
        "movies['title'] = movies['title'].str.lower() \n",
        "movies.head(5)"
      ],
      "execution_count": null,
      "outputs": [
        {
          "output_type": "execute_result",
          "data": {
            "text/html": [
              "<div>\n",
              "<style scoped>\n",
              "    .dataframe tbody tr th:only-of-type {\n",
              "        vertical-align: middle;\n",
              "    }\n",
              "\n",
              "    .dataframe tbody tr th {\n",
              "        vertical-align: top;\n",
              "    }\n",
              "\n",
              "    .dataframe thead th {\n",
              "        text-align: right;\n",
              "    }\n",
              "</style>\n",
              "<table border=\"1\" class=\"dataframe\">\n",
              "  <thead>\n",
              "    <tr style=\"text-align: right;\">\n",
              "      <th></th>\n",
              "      <th>movie_id</th>\n",
              "      <th>title</th>\n",
              "      <th>genre</th>\n",
              "    </tr>\n",
              "  </thead>\n",
              "  <tbody>\n",
              "    <tr>\n",
              "      <th>0</th>\n",
              "      <td>1</td>\n",
              "      <td>toy story (1995)</td>\n",
              "      <td>Animation|Children's|Comedy</td>\n",
              "    </tr>\n",
              "    <tr>\n",
              "      <th>1</th>\n",
              "      <td>2</td>\n",
              "      <td>jumanji (1995)</td>\n",
              "      <td>Adventure|Children's|Fantasy</td>\n",
              "    </tr>\n",
              "    <tr>\n",
              "      <th>2</th>\n",
              "      <td>3</td>\n",
              "      <td>grumpier old men (1995)</td>\n",
              "      <td>Comedy|Romance</td>\n",
              "    </tr>\n",
              "    <tr>\n",
              "      <th>3</th>\n",
              "      <td>4</td>\n",
              "      <td>waiting to exhale (1995)</td>\n",
              "      <td>Comedy|Drama</td>\n",
              "    </tr>\n",
              "    <tr>\n",
              "      <th>4</th>\n",
              "      <td>5</td>\n",
              "      <td>father of the bride part ii (1995)</td>\n",
              "      <td>Comedy</td>\n",
              "    </tr>\n",
              "  </tbody>\n",
              "</table>\n",
              "</div>"
            ],
            "text/plain": [
              "   movie_id                               title                         genre\n",
              "0         1                    toy story (1995)   Animation|Children's|Comedy\n",
              "1         2                      jumanji (1995)  Adventure|Children's|Fantasy\n",
              "2         3             grumpier old men (1995)                Comedy|Romance\n",
              "3         4            waiting to exhale (1995)                  Comedy|Drama\n",
              "4         5  father of the bride part ii (1995)                        Comedy"
            ]
          },
          "metadata": {},
          "execution_count": 11
        }
      ]
    },
    {
      "cell_type": "markdown",
      "metadata": {
        "id": "YUDzHSeROQZJ"
      },
      "source": [
        "\n",
        "- 유저수, 영화수, 인기 많은 영화 확인\n",
        "\n",
        "- 유저들이 몇 개의 영화를 보고 있는지에 대한 통계\n",
        "\n",
        "- 유저 영화 시청 횟수 중앙값에 대한 통계"
      ]
    },
    {
      "cell_type": "code",
      "metadata": {
        "colab": {
          "base_uri": "https://localhost:8080/"
        },
        "id": "njmwYuUbW04G",
        "outputId": "06f97328-34a1-4ae0-e6db-6627b13a273e"
      },
      "source": [
        "# 유저 수\n",
        "ratings['user_id'].nunique()"
      ],
      "execution_count": null,
      "outputs": [
        {
          "output_type": "execute_result",
          "data": {
            "text/plain": [
              "6039"
            ]
          },
          "metadata": {},
          "execution_count": 12
        }
      ]
    },
    {
      "cell_type": "code",
      "metadata": {
        "colab": {
          "base_uri": "https://localhost:8080/"
        },
        "id": "u54xl0acW2MD",
        "outputId": "1505986e-dfd5-4692-cb61-6a7042694e8e"
      },
      "source": [
        "# 영화 수\n",
        "ratings['movie_id'].nunique()"
      ],
      "execution_count": null,
      "outputs": [
        {
          "output_type": "execute_result",
          "data": {
            "text/plain": [
              "3628"
            ]
          },
          "metadata": {},
          "execution_count": 13
        }
      ]
    },
    {
      "cell_type": "code",
      "metadata": {
        "colab": {
          "base_uri": "https://localhost:8080/"
        },
        "id": "PACzlxJBW3Sq",
        "outputId": "4b51a14b-6cec-43fe-c701-d46df79263e9"
      },
      "source": [
        "len(ratings['user_id'])"
      ],
      "execution_count": null,
      "outputs": [
        {
          "output_type": "execute_result",
          "data": {
            "text/plain": [
              "836478"
            ]
          },
          "metadata": {},
          "execution_count": 14
        }
      ]
    },
    {
      "cell_type": "markdown",
      "metadata": {
        "id": "5SboqUM__HTm"
      },
      "source": [
        "- 활용할 컬럼만 남기고 나머지 컬럼은 삭제한다."
      ]
    },
    {
      "cell_type": "code",
      "metadata": {
        "id": "mTuEgepTW4SD"
      },
      "source": [
        "del movies['genre']"
      ],
      "execution_count": null,
      "outputs": []
    },
    {
      "cell_type": "markdown",
      "metadata": {
        "id": "jC3OB5hm_OQi"
      },
      "source": [
        "- 활용 및 가시적인 편의성을 위해 두 dataframe을 합친다"
      ]
    },
    {
      "cell_type": "code",
      "metadata": {
        "colab": {
          "base_uri": "https://localhost:8080/",
          "height": 414
        },
        "id": "AwCC-AHeW5Rw",
        "outputId": "8a34e9c9-7fcd-4a2b-ee26-e88ae898982d"
      },
      "source": [
        "data = pd.merge(ratings, movies, on='movie_id')\n",
        "data = data[['user_id', 'movie_id', 'title', 'counts']]\n",
        "data"
      ],
      "execution_count": null,
      "outputs": [
        {
          "output_type": "execute_result",
          "data": {
            "text/html": [
              "<div>\n",
              "<style scoped>\n",
              "    .dataframe tbody tr th:only-of-type {\n",
              "        vertical-align: middle;\n",
              "    }\n",
              "\n",
              "    .dataframe tbody tr th {\n",
              "        vertical-align: top;\n",
              "    }\n",
              "\n",
              "    .dataframe thead th {\n",
              "        text-align: right;\n",
              "    }\n",
              "</style>\n",
              "<table border=\"1\" class=\"dataframe\">\n",
              "  <thead>\n",
              "    <tr style=\"text-align: right;\">\n",
              "      <th></th>\n",
              "      <th>user_id</th>\n",
              "      <th>movie_id</th>\n",
              "      <th>title</th>\n",
              "      <th>counts</th>\n",
              "    </tr>\n",
              "  </thead>\n",
              "  <tbody>\n",
              "    <tr>\n",
              "      <th>0</th>\n",
              "      <td>1</td>\n",
              "      <td>1193</td>\n",
              "      <td>one flew over the cuckoo's nest (1975)</td>\n",
              "      <td>5</td>\n",
              "    </tr>\n",
              "    <tr>\n",
              "      <th>1</th>\n",
              "      <td>2</td>\n",
              "      <td>1193</td>\n",
              "      <td>one flew over the cuckoo's nest (1975)</td>\n",
              "      <td>5</td>\n",
              "    </tr>\n",
              "    <tr>\n",
              "      <th>2</th>\n",
              "      <td>12</td>\n",
              "      <td>1193</td>\n",
              "      <td>one flew over the cuckoo's nest (1975)</td>\n",
              "      <td>4</td>\n",
              "    </tr>\n",
              "    <tr>\n",
              "      <th>3</th>\n",
              "      <td>15</td>\n",
              "      <td>1193</td>\n",
              "      <td>one flew over the cuckoo's nest (1975)</td>\n",
              "      <td>4</td>\n",
              "    </tr>\n",
              "    <tr>\n",
              "      <th>4</th>\n",
              "      <td>17</td>\n",
              "      <td>1193</td>\n",
              "      <td>one flew over the cuckoo's nest (1975)</td>\n",
              "      <td>5</td>\n",
              "    </tr>\n",
              "    <tr>\n",
              "      <th>...</th>\n",
              "      <td>...</td>\n",
              "      <td>...</td>\n",
              "      <td>...</td>\n",
              "      <td>...</td>\n",
              "    </tr>\n",
              "    <tr>\n",
              "      <th>836473</th>\n",
              "      <td>5851</td>\n",
              "      <td>3607</td>\n",
              "      <td>one little indian (1973)</td>\n",
              "      <td>5</td>\n",
              "    </tr>\n",
              "    <tr>\n",
              "      <th>836474</th>\n",
              "      <td>5854</td>\n",
              "      <td>3026</td>\n",
              "      <td>slaughterhouse (1987)</td>\n",
              "      <td>4</td>\n",
              "    </tr>\n",
              "    <tr>\n",
              "      <th>836475</th>\n",
              "      <td>5854</td>\n",
              "      <td>690</td>\n",
              "      <td>promise, the (versprechen, das) (1994)</td>\n",
              "      <td>3</td>\n",
              "    </tr>\n",
              "    <tr>\n",
              "      <th>836476</th>\n",
              "      <td>5938</td>\n",
              "      <td>2909</td>\n",
              "      <td>five wives, three secretaries and me (1998)</td>\n",
              "      <td>4</td>\n",
              "    </tr>\n",
              "    <tr>\n",
              "      <th>836477</th>\n",
              "      <td>5948</td>\n",
              "      <td>1360</td>\n",
              "      <td>identification of a woman (identificazione di ...</td>\n",
              "      <td>5</td>\n",
              "    </tr>\n",
              "  </tbody>\n",
              "</table>\n",
              "<p>836478 rows × 4 columns</p>\n",
              "</div>"
            ],
            "text/plain": [
              "        user_id  ...  counts\n",
              "0             1  ...       5\n",
              "1             2  ...       5\n",
              "2            12  ...       4\n",
              "3            15  ...       4\n",
              "4            17  ...       5\n",
              "...         ...  ...     ...\n",
              "836473     5851  ...       5\n",
              "836474     5854  ...       4\n",
              "836475     5854  ...       3\n",
              "836476     5938  ...       4\n",
              "836477     5948  ...       5\n",
              "\n",
              "[836478 rows x 4 columns]"
            ]
          },
          "metadata": {},
          "execution_count": 16
        }
      ]
    },
    {
      "cell_type": "markdown",
      "metadata": {
        "id": "PoF-Cb-WAgnz"
      },
      "source": [
        "- 인기 영화 30개 확인해보기 "
      ]
    },
    {
      "cell_type": "code",
      "metadata": {
        "colab": {
          "base_uri": "https://localhost:8080/"
        },
        "id": "nMDP6yGfW6iz",
        "outputId": "5281370e-1bcf-40b1-9fec-2c7814680f16"
      },
      "source": [
        "# 인기 많은 영화\n",
        "movie_count = data.groupby(['movie_id', 'title'])['user_id'].count()\n",
        "movie_count.sort_values(ascending=False).head(30)"
      ],
      "execution_count": null,
      "outputs": [
        {
          "output_type": "execute_result",
          "data": {
            "text/plain": [
              "movie_id  title                                                \n",
              "2858      american beauty (1999)                                   3211\n",
              "260       star wars: episode iv - a new hope (1977)                2910\n",
              "1196      star wars: episode v - the empire strikes back (1980)    2885\n",
              "1210      star wars: episode vi - return of the jedi (1983)        2716\n",
              "2028      saving private ryan (1998)                               2561\n",
              "589       terminator 2: judgment day (1991)                        2509\n",
              "593       silence of the lambs, the (1991)                         2498\n",
              "1198      raiders of the lost ark (1981)                           2473\n",
              "1270      back to the future (1985)                                2460\n",
              "2571      matrix, the (1999)                                       2434\n",
              "480       jurassic park (1993)                                     2413\n",
              "2762      sixth sense, the (1999)                                  2385\n",
              "608       fargo (1996)                                             2371\n",
              "110       braveheart (1995)                                        2314\n",
              "1580      men in black (1997)                                      2297\n",
              "527       schindler's list (1993)                                  2257\n",
              "1197      princess bride, the (1987)                               2252\n",
              "2396      shakespeare in love (1998)                               2213\n",
              "1617      l.a. confidential (1997)                                 2210\n",
              "318       shawshank redemption, the (1994)                         2194\n",
              "858       godfather, the (1972)                                    2167\n",
              "1265      groundhog day (1993)                                     2121\n",
              "1097      e.t. the extra-terrestrial (1982)                        2102\n",
              "2997      being john malkovich (1999)                              2066\n",
              "2716      ghostbusters (1984)                                      2051\n",
              "296       pulp fiction (1994)                                      2030\n",
              "356       forrest gump (1994)                                      2022\n",
              "1240      terminator, the (1984)                                   2019\n",
              "1         toy story (1995)                                         2000\n",
              "457       fugitive, the (1993)                                     1941\n",
              "Name: user_id, dtype: int64"
            ]
          },
          "metadata": {},
          "execution_count": 18
        }
      ]
    },
    {
      "cell_type": "code",
      "metadata": {
        "colab": {
          "base_uri": "https://localhost:8080/"
        },
        "id": "CZBPLFecW77D",
        "outputId": "7cd624d7-cf01-4634-eaee-b402826f0e93"
      },
      "source": [
        "# 유저별 몇 개의 영화를 보고 있는지에 대한 통계\n",
        "user_count = data.groupby('user_id')['title'].count()\n",
        "user_count.describe()"
      ],
      "execution_count": null,
      "outputs": [
        {
          "output_type": "execute_result",
          "data": {
            "text/plain": [
              "count    6039.000000\n",
              "mean      138.512668\n",
              "std       156.241599\n",
              "min         1.000000\n",
              "25%        38.000000\n",
              "50%        81.000000\n",
              "75%       177.000000\n",
              "max      1968.000000\n",
              "Name: title, dtype: float64"
            ]
          },
          "metadata": {},
          "execution_count": 19
        }
      ]
    },
    {
      "cell_type": "code",
      "metadata": {
        "colab": {
          "base_uri": "https://localhost:8080/"
        },
        "id": "-lD03qewW_x6",
        "outputId": "ddf578d8-616b-4fe4-d78c-ead0a14f5d5f"
      },
      "source": [
        "# 유저별 counts 중앙값에 대한 통계\n",
        "user_median = data.groupby('user_id')['counts'].median()\n",
        "user_median.describe()"
      ],
      "execution_count": null,
      "outputs": [
        {
          "output_type": "execute_result",
          "data": {
            "text/plain": [
              "count    6039.000000\n",
              "mean        4.055970\n",
              "std         0.432143\n",
              "min         3.000000\n",
              "25%         4.000000\n",
              "50%         4.000000\n",
              "75%         4.000000\n",
              "max         5.000000\n",
              "Name: counts, dtype: float64"
            ]
          },
          "metadata": {},
          "execution_count": 20
        }
      ]
    },
    {
      "cell_type": "markdown",
      "metadata": {
        "id": "fpMHlxt2Ar0x"
      },
      "source": [
        "- 이후 영화 추천을 위해 새로운 사용자의 선호 영화 추가\n",
        "\n",
        "- 5개의 영화를 추가해보았으며, 각각 5, 4, 3, 5, 5회 시청하였다고 가정하였다."
      ]
    },
    {
      "cell_type": "code",
      "metadata": {
        "colab": {
          "base_uri": "https://localhost:8080/",
          "height": 355
        },
        "id": "iGbXh2-aXA6X",
        "outputId": "88701d82-9fe5-4568-b70b-c925a70bbd33"
      },
      "source": [
        "# 좋아하는 영화 5개 선택하기\n",
        "my_movie_id = ['1036', '2987', '1270', '1259', '1196']\n",
        "my_favorite = ['die hard (1988)', \n",
        "               'who framed roger rabbit? (1988)', \n",
        "               'back to the future (1985)',\n",
        "              'stand by me (1986)',\n",
        "              'star wars: episode v - the empire strikes back (1980)']\n",
        "\n",
        "# '6100'이라는 user_id가 각각의 횟수만큼 영화를 봤다고 가정하겠습니다.\n",
        "my_movielist = pd.DataFrame({'user_id': ['6100']*5,\n",
        "                             'movie_id': my_movie_id,\n",
        "                             'title': my_favorite,\n",
        "                             'counts':[5, 4, 3, 5, 5]})\n",
        "\n",
        "if not data.isin({'user_id':['6100']})['user_id'].any():  # user_id에 '6100'이라는 데이터가 없다면\n",
        "    data = data.append(my_movielist)                           # 위에 임의로 만든 my_favorite 데이터를 추가해 줍니다. \n",
        "\n",
        "data.tail(10)       # 잘 추가되었는지 확인해 봅시다."
      ],
      "execution_count": null,
      "outputs": [
        {
          "output_type": "execute_result",
          "data": {
            "text/html": [
              "<div>\n",
              "<style scoped>\n",
              "    .dataframe tbody tr th:only-of-type {\n",
              "        vertical-align: middle;\n",
              "    }\n",
              "\n",
              "    .dataframe tbody tr th {\n",
              "        vertical-align: top;\n",
              "    }\n",
              "\n",
              "    .dataframe thead th {\n",
              "        text-align: right;\n",
              "    }\n",
              "</style>\n",
              "<table border=\"1\" class=\"dataframe\">\n",
              "  <thead>\n",
              "    <tr style=\"text-align: right;\">\n",
              "      <th></th>\n",
              "      <th>user_id</th>\n",
              "      <th>movie_id</th>\n",
              "      <th>title</th>\n",
              "      <th>counts</th>\n",
              "    </tr>\n",
              "  </thead>\n",
              "  <tbody>\n",
              "    <tr>\n",
              "      <th>836473</th>\n",
              "      <td>5851</td>\n",
              "      <td>3607</td>\n",
              "      <td>one little indian (1973)</td>\n",
              "      <td>5</td>\n",
              "    </tr>\n",
              "    <tr>\n",
              "      <th>836474</th>\n",
              "      <td>5854</td>\n",
              "      <td>3026</td>\n",
              "      <td>slaughterhouse (1987)</td>\n",
              "      <td>4</td>\n",
              "    </tr>\n",
              "    <tr>\n",
              "      <th>836475</th>\n",
              "      <td>5854</td>\n",
              "      <td>690</td>\n",
              "      <td>promise, the (versprechen, das) (1994)</td>\n",
              "      <td>3</td>\n",
              "    </tr>\n",
              "    <tr>\n",
              "      <th>836476</th>\n",
              "      <td>5938</td>\n",
              "      <td>2909</td>\n",
              "      <td>five wives, three secretaries and me (1998)</td>\n",
              "      <td>4</td>\n",
              "    </tr>\n",
              "    <tr>\n",
              "      <th>836477</th>\n",
              "      <td>5948</td>\n",
              "      <td>1360</td>\n",
              "      <td>identification of a woman (identificazione di ...</td>\n",
              "      <td>5</td>\n",
              "    </tr>\n",
              "    <tr>\n",
              "      <th>0</th>\n",
              "      <td>6100</td>\n",
              "      <td>1036</td>\n",
              "      <td>die hard (1988)</td>\n",
              "      <td>5</td>\n",
              "    </tr>\n",
              "    <tr>\n",
              "      <th>1</th>\n",
              "      <td>6100</td>\n",
              "      <td>2987</td>\n",
              "      <td>who framed roger rabbit? (1988)</td>\n",
              "      <td>4</td>\n",
              "    </tr>\n",
              "    <tr>\n",
              "      <th>2</th>\n",
              "      <td>6100</td>\n",
              "      <td>1270</td>\n",
              "      <td>back to the future (1985)</td>\n",
              "      <td>3</td>\n",
              "    </tr>\n",
              "    <tr>\n",
              "      <th>3</th>\n",
              "      <td>6100</td>\n",
              "      <td>1259</td>\n",
              "      <td>stand by me (1986)</td>\n",
              "      <td>5</td>\n",
              "    </tr>\n",
              "    <tr>\n",
              "      <th>4</th>\n",
              "      <td>6100</td>\n",
              "      <td>1196</td>\n",
              "      <td>star wars: episode v - the empire strikes back...</td>\n",
              "      <td>5</td>\n",
              "    </tr>\n",
              "  </tbody>\n",
              "</table>\n",
              "</div>"
            ],
            "text/plain": [
              "       user_id  ... counts\n",
              "836473    5851  ...      5\n",
              "836474    5854  ...      4\n",
              "836475    5854  ...      3\n",
              "836476    5938  ...      4\n",
              "836477    5948  ...      5\n",
              "0         6100  ...      5\n",
              "1         6100  ...      4\n",
              "2         6100  ...      3\n",
              "3         6100  ...      5\n",
              "4         6100  ...      5\n",
              "\n",
              "[10 rows x 4 columns]"
            ]
          },
          "metadata": {},
          "execution_count": 21
        }
      ]
    },
    {
      "cell_type": "markdown",
      "metadata": {
        "id": "XIXAcfEgB8nY"
      },
      "source": [
        "## CSR matrix 만들기"
      ]
    },
    {
      "cell_type": "code",
      "metadata": {
        "id": "-_Mt3L4jXB_0"
      },
      "source": [
        "# 인덱싱 하기 \n",
        "# 고유한 유저, 영화를 찾아내는 코드\n",
        "user_unique = data['user_id'].unique()\n",
        "movie_unique = data['title'].unique()\n",
        "\n",
        "# 유저, 영화 indexing 하는 코드 idx는 index의 약자입니다.\n",
        "user_to_idx = {v:k for k,v in enumerate(user_unique)}\n",
        "movie_to_idx = {v:k for k,v in enumerate(movie_unique)}"
      ],
      "execution_count": null,
      "outputs": []
    },
    {
      "cell_type": "code",
      "metadata": {
        "colab": {
          "base_uri": "https://localhost:8080/"
        },
        "id": "YypXI05tXDM4",
        "outputId": "ea7600b6-3151-4002-fef5-cd91b8c5f82c"
      },
      "source": [
        "# 인덱싱이 잘 되었는지 확인해 봅니다. \n",
        "print(user_to_idx['6100']) \n",
        "print(movie_to_idx['die hard (1988)'])"
      ],
      "execution_count": null,
      "outputs": [
        {
          "output_type": "stream",
          "name": "stdout",
          "text": [
            "6039\n",
            "194\n"
          ]
        }
      ]
    },
    {
      "cell_type": "code",
      "metadata": {
        "colab": {
          "base_uri": "https://localhost:8080/"
        },
        "id": "wDELHUegXERl",
        "outputId": "f3117437-3d34-4f5c-a0dc-56c079016070"
      },
      "source": [
        "data['user_id'].nunique()"
      ],
      "execution_count": null,
      "outputs": [
        {
          "output_type": "execute_result",
          "data": {
            "text/plain": [
              "6040"
            ]
          },
          "metadata": {},
          "execution_count": 24
        }
      ]
    },
    {
      "cell_type": "code",
      "metadata": {
        "colab": {
          "base_uri": "https://localhost:8080/",
          "height": 450
        },
        "id": "v0XFwzoYXFlU",
        "outputId": "7b5eceac-2a73-462d-f424-3fe77b8dd553"
      },
      "source": [
        "# indexing을 통해 데이터 컬럼 내 값을 바꾸는 코드\n",
        "\n",
        "# user_to_idx.get을 통해 user_id 컬럼의 모든 값을 인덱싱한 Series를 구해 봅시다. \n",
        "# 혹시 정상적으로 인덱싱되지 않은 row가 있다면 인덱스가 NaN이 될 테니 dropna()로 제거합니다. \n",
        "temp_user_data = data['user_id'].map(user_to_idx.get).dropna()\n",
        "if len(temp_user_data) == len(data):   # 모든 row가 정상적으로 인덱싱되었다면\n",
        "    print('user_id column indexing OK!!')\n",
        "    data['user_id2'] = temp_user_data   # data['user_id']을 인덱싱된 Series로 교체해 줍니다. \n",
        "else:\n",
        "    print('user_id column indexing Fail!!')\n",
        "\n",
        "# movie_to_idx을 통해 title 컬럼도 동일한 방식으로 인덱싱해 줍니다. \n",
        "temp_movie_data = data['title'].map(movie_to_idx.get).dropna()\n",
        "if len(temp_movie_data) == len(data):\n",
        "    print('movie column indexing OK!!')\n",
        "    data['movie_id2'] = temp_movie_data\n",
        "else:\n",
        "    print('movie_id column indexing Fail!!')\n",
        "\n",
        "data"
      ],
      "execution_count": null,
      "outputs": [
        {
          "output_type": "stream",
          "name": "stdout",
          "text": [
            "user_id column indexing OK!!\n",
            "movie column indexing OK!!\n"
          ]
        },
        {
          "output_type": "execute_result",
          "data": {
            "text/html": [
              "<div>\n",
              "<style scoped>\n",
              "    .dataframe tbody tr th:only-of-type {\n",
              "        vertical-align: middle;\n",
              "    }\n",
              "\n",
              "    .dataframe tbody tr th {\n",
              "        vertical-align: top;\n",
              "    }\n",
              "\n",
              "    .dataframe thead th {\n",
              "        text-align: right;\n",
              "    }\n",
              "</style>\n",
              "<table border=\"1\" class=\"dataframe\">\n",
              "  <thead>\n",
              "    <tr style=\"text-align: right;\">\n",
              "      <th></th>\n",
              "      <th>user_id</th>\n",
              "      <th>movie_id</th>\n",
              "      <th>title</th>\n",
              "      <th>counts</th>\n",
              "      <th>user_id2</th>\n",
              "      <th>movie_id2</th>\n",
              "    </tr>\n",
              "  </thead>\n",
              "  <tbody>\n",
              "    <tr>\n",
              "      <th>0</th>\n",
              "      <td>1</td>\n",
              "      <td>1193</td>\n",
              "      <td>one flew over the cuckoo's nest (1975)</td>\n",
              "      <td>5</td>\n",
              "      <td>0</td>\n",
              "      <td>0</td>\n",
              "    </tr>\n",
              "    <tr>\n",
              "      <th>1</th>\n",
              "      <td>2</td>\n",
              "      <td>1193</td>\n",
              "      <td>one flew over the cuckoo's nest (1975)</td>\n",
              "      <td>5</td>\n",
              "      <td>1</td>\n",
              "      <td>0</td>\n",
              "    </tr>\n",
              "    <tr>\n",
              "      <th>2</th>\n",
              "      <td>12</td>\n",
              "      <td>1193</td>\n",
              "      <td>one flew over the cuckoo's nest (1975)</td>\n",
              "      <td>4</td>\n",
              "      <td>2</td>\n",
              "      <td>0</td>\n",
              "    </tr>\n",
              "    <tr>\n",
              "      <th>3</th>\n",
              "      <td>15</td>\n",
              "      <td>1193</td>\n",
              "      <td>one flew over the cuckoo's nest (1975)</td>\n",
              "      <td>4</td>\n",
              "      <td>3</td>\n",
              "      <td>0</td>\n",
              "    </tr>\n",
              "    <tr>\n",
              "      <th>4</th>\n",
              "      <td>17</td>\n",
              "      <td>1193</td>\n",
              "      <td>one flew over the cuckoo's nest (1975)</td>\n",
              "      <td>5</td>\n",
              "      <td>4</td>\n",
              "      <td>0</td>\n",
              "    </tr>\n",
              "    <tr>\n",
              "      <th>...</th>\n",
              "      <td>...</td>\n",
              "      <td>...</td>\n",
              "      <td>...</td>\n",
              "      <td>...</td>\n",
              "      <td>...</td>\n",
              "      <td>...</td>\n",
              "    </tr>\n",
              "    <tr>\n",
              "      <th>0</th>\n",
              "      <td>6100</td>\n",
              "      <td>1036</td>\n",
              "      <td>die hard (1988)</td>\n",
              "      <td>5</td>\n",
              "      <td>6039</td>\n",
              "      <td>194</td>\n",
              "    </tr>\n",
              "    <tr>\n",
              "      <th>1</th>\n",
              "      <td>6100</td>\n",
              "      <td>2987</td>\n",
              "      <td>who framed roger rabbit? (1988)</td>\n",
              "      <td>4</td>\n",
              "      <td>6039</td>\n",
              "      <td>201</td>\n",
              "    </tr>\n",
              "    <tr>\n",
              "      <th>2</th>\n",
              "      <td>6100</td>\n",
              "      <td>1270</td>\n",
              "      <td>back to the future (1985)</td>\n",
              "      <td>3</td>\n",
              "      <td>6039</td>\n",
              "      <td>22</td>\n",
              "    </tr>\n",
              "    <tr>\n",
              "      <th>3</th>\n",
              "      <td>6100</td>\n",
              "      <td>1259</td>\n",
              "      <td>stand by me (1986)</td>\n",
              "      <td>5</td>\n",
              "      <td>6039</td>\n",
              "      <td>80</td>\n",
              "    </tr>\n",
              "    <tr>\n",
              "      <th>4</th>\n",
              "      <td>6100</td>\n",
              "      <td>1196</td>\n",
              "      <td>star wars: episode v - the empire strikes back...</td>\n",
              "      <td>5</td>\n",
              "      <td>6039</td>\n",
              "      <td>117</td>\n",
              "    </tr>\n",
              "  </tbody>\n",
              "</table>\n",
              "<p>836483 rows × 6 columns</p>\n",
              "</div>"
            ],
            "text/plain": [
              "   user_id movie_id  ... user_id2  movie_id2\n",
              "0        1     1193  ...        0          0\n",
              "1        2     1193  ...        1          0\n",
              "2       12     1193  ...        2          0\n",
              "3       15     1193  ...        3          0\n",
              "4       17     1193  ...        4          0\n",
              "..     ...      ...  ...      ...        ...\n",
              "0     6100     1036  ...     6039        194\n",
              "1     6100     2987  ...     6039        201\n",
              "2     6100     1270  ...     6039         22\n",
              "3     6100     1259  ...     6039         80\n",
              "4     6100     1196  ...     6039        117\n",
              "\n",
              "[836483 rows x 6 columns]"
            ]
          },
          "metadata": {},
          "execution_count": 25
        }
      ]
    },
    {
      "cell_type": "code",
      "metadata": {
        "colab": {
          "base_uri": "https://localhost:8080/"
        },
        "id": "cbpP2F0IXG12",
        "outputId": "bd7f940e-2da9-45a2-e685-58f88e993aa7"
      },
      "source": [
        "from scipy.sparse import csr_matrix\n",
        "\n",
        "num_user = data['user_id2'].nunique()\n",
        "num_movie = data['movie_id2'].nunique()\n",
        "\n",
        "csr_data = csr_matrix((data.counts, \n",
        "                       (data.user_id2, data.movie_id2)), shape= (num_user, num_movie))\n",
        "csr_data"
      ],
      "execution_count": null,
      "outputs": [
        {
          "output_type": "execute_result",
          "data": {
            "text/plain": [
              "<6040x3628 sparse matrix of type '<class 'numpy.longlong'>'\n",
              "\twith 836483 stored elements in Compressed Sparse Row format>"
            ]
          },
          "metadata": {},
          "execution_count": 28
        }
      ]
    },
    {
      "cell_type": "markdown",
      "metadata": {
        "id": "GJy04RgDB3YJ"
      },
      "source": [
        "## 모델 설계, 훈련"
      ]
    },
    {
      "cell_type": "code",
      "metadata": {
        "colab": {
          "base_uri": "https://localhost:8080/"
        },
        "id": "WHCCtSv9iQKS",
        "outputId": "f95b467e-dbe9-4ac5-b251-c85b0df0cde7"
      },
      "source": [
        "pip install implicit"
      ],
      "execution_count": null,
      "outputs": [
        {
          "output_type": "stream",
          "name": "stdout",
          "text": [
            "Collecting implicit\n",
            "  Downloading implicit-0.4.8.tar.gz (1.1 MB)\n",
            "\u001b[?25l\r\u001b[K     |▎                               | 10 kB 23.1 MB/s eta 0:00:01\r\u001b[K     |▋                               | 20 kB 26.2 MB/s eta 0:00:01\r\u001b[K     |▉                               | 30 kB 11.7 MB/s eta 0:00:01\r\u001b[K     |█▏                              | 40 kB 9.1 MB/s eta 0:00:01\r\u001b[K     |█▍                              | 51 kB 5.2 MB/s eta 0:00:01\r\u001b[K     |█▊                              | 61 kB 5.7 MB/s eta 0:00:01\r\u001b[K     |██                              | 71 kB 5.5 MB/s eta 0:00:01\r\u001b[K     |██▎                             | 81 kB 6.1 MB/s eta 0:00:01\r\u001b[K     |██▋                             | 92 kB 4.7 MB/s eta 0:00:01\r\u001b[K     |██▉                             | 102 kB 5.0 MB/s eta 0:00:01\r\u001b[K     |███▏                            | 112 kB 5.0 MB/s eta 0:00:01\r\u001b[K     |███▍                            | 122 kB 5.0 MB/s eta 0:00:01\r\u001b[K     |███▊                            | 133 kB 5.0 MB/s eta 0:00:01\r\u001b[K     |████                            | 143 kB 5.0 MB/s eta 0:00:01\r\u001b[K     |████▎                           | 153 kB 5.0 MB/s eta 0:00:01\r\u001b[K     |████▋                           | 163 kB 5.0 MB/s eta 0:00:01\r\u001b[K     |████▉                           | 174 kB 5.0 MB/s eta 0:00:01\r\u001b[K     |█████▏                          | 184 kB 5.0 MB/s eta 0:00:01\r\u001b[K     |█████▍                          | 194 kB 5.0 MB/s eta 0:00:01\r\u001b[K     |█████▊                          | 204 kB 5.0 MB/s eta 0:00:01\r\u001b[K     |██████                          | 215 kB 5.0 MB/s eta 0:00:01\r\u001b[K     |██████▎                         | 225 kB 5.0 MB/s eta 0:00:01\r\u001b[K     |██████▋                         | 235 kB 5.0 MB/s eta 0:00:01\r\u001b[K     |██████▉                         | 245 kB 5.0 MB/s eta 0:00:01\r\u001b[K     |███████▏                        | 256 kB 5.0 MB/s eta 0:00:01\r\u001b[K     |███████▌                        | 266 kB 5.0 MB/s eta 0:00:01\r\u001b[K     |███████▊                        | 276 kB 5.0 MB/s eta 0:00:01\r\u001b[K     |████████                        | 286 kB 5.0 MB/s eta 0:00:01\r\u001b[K     |████████▎                       | 296 kB 5.0 MB/s eta 0:00:01\r\u001b[K     |████████▋                       | 307 kB 5.0 MB/s eta 0:00:01\r\u001b[K     |████████▉                       | 317 kB 5.0 MB/s eta 0:00:01\r\u001b[K     |█████████▏                      | 327 kB 5.0 MB/s eta 0:00:01\r\u001b[K     |█████████▌                      | 337 kB 5.0 MB/s eta 0:00:01\r\u001b[K     |█████████▊                      | 348 kB 5.0 MB/s eta 0:00:01\r\u001b[K     |██████████                      | 358 kB 5.0 MB/s eta 0:00:01\r\u001b[K     |██████████▎                     | 368 kB 5.0 MB/s eta 0:00:01\r\u001b[K     |██████████▋                     | 378 kB 5.0 MB/s eta 0:00:01\r\u001b[K     |██████████▉                     | 389 kB 5.0 MB/s eta 0:00:01\r\u001b[K     |███████████▏                    | 399 kB 5.0 MB/s eta 0:00:01\r\u001b[K     |███████████▌                    | 409 kB 5.0 MB/s eta 0:00:01\r\u001b[K     |███████████▊                    | 419 kB 5.0 MB/s eta 0:00:01\r\u001b[K     |████████████                    | 430 kB 5.0 MB/s eta 0:00:01\r\u001b[K     |████████████▎                   | 440 kB 5.0 MB/s eta 0:00:01\r\u001b[K     |████████████▋                   | 450 kB 5.0 MB/s eta 0:00:01\r\u001b[K     |█████████████                   | 460 kB 5.0 MB/s eta 0:00:01\r\u001b[K     |█████████████▏                  | 471 kB 5.0 MB/s eta 0:00:01\r\u001b[K     |█████████████▌                  | 481 kB 5.0 MB/s eta 0:00:01\r\u001b[K     |█████████████▊                  | 491 kB 5.0 MB/s eta 0:00:01\r\u001b[K     |██████████████                  | 501 kB 5.0 MB/s eta 0:00:01\r\u001b[K     |██████████████▎                 | 512 kB 5.0 MB/s eta 0:00:01\r\u001b[K     |██████████████▋                 | 522 kB 5.0 MB/s eta 0:00:01\r\u001b[K     |███████████████                 | 532 kB 5.0 MB/s eta 0:00:01\r\u001b[K     |███████████████▏                | 542 kB 5.0 MB/s eta 0:00:01\r\u001b[K     |███████████████▌                | 552 kB 5.0 MB/s eta 0:00:01\r\u001b[K     |███████████████▊                | 563 kB 5.0 MB/s eta 0:00:01\r\u001b[K     |████████████████                | 573 kB 5.0 MB/s eta 0:00:01\r\u001b[K     |████████████████▎               | 583 kB 5.0 MB/s eta 0:00:01\r\u001b[K     |████████████████▋               | 593 kB 5.0 MB/s eta 0:00:01\r\u001b[K     |█████████████████               | 604 kB 5.0 MB/s eta 0:00:01\r\u001b[K     |█████████████████▏              | 614 kB 5.0 MB/s eta 0:00:01\r\u001b[K     |█████████████████▌              | 624 kB 5.0 MB/s eta 0:00:01\r\u001b[K     |█████████████████▊              | 634 kB 5.0 MB/s eta 0:00:01\r\u001b[K     |██████████████████              | 645 kB 5.0 MB/s eta 0:00:01\r\u001b[K     |██████████████████▍             | 655 kB 5.0 MB/s eta 0:00:01\r\u001b[K     |██████████████████▋             | 665 kB 5.0 MB/s eta 0:00:01\r\u001b[K     |███████████████████             | 675 kB 5.0 MB/s eta 0:00:01\r\u001b[K     |███████████████████▏            | 686 kB 5.0 MB/s eta 0:00:01\r\u001b[K     |███████████████████▌            | 696 kB 5.0 MB/s eta 0:00:01\r\u001b[K     |███████████████████▊            | 706 kB 5.0 MB/s eta 0:00:01\r\u001b[K     |████████████████████            | 716 kB 5.0 MB/s eta 0:00:01\r\u001b[K     |████████████████████▍           | 727 kB 5.0 MB/s eta 0:00:01\r\u001b[K     |████████████████████▋           | 737 kB 5.0 MB/s eta 0:00:01\r\u001b[K     |█████████████████████           | 747 kB 5.0 MB/s eta 0:00:01\r\u001b[K     |█████████████████████▏          | 757 kB 5.0 MB/s eta 0:00:01\r\u001b[K     |█████████████████████▌          | 768 kB 5.0 MB/s eta 0:00:01\r\u001b[K     |█████████████████████▊          | 778 kB 5.0 MB/s eta 0:00:01\r\u001b[K     |██████████████████████          | 788 kB 5.0 MB/s eta 0:00:01\r\u001b[K     |██████████████████████▍         | 798 kB 5.0 MB/s eta 0:00:01\r\u001b[K     |██████████████████████▋         | 808 kB 5.0 MB/s eta 0:00:01\r\u001b[K     |███████████████████████         | 819 kB 5.0 MB/s eta 0:00:01\r\u001b[K     |███████████████████████▏        | 829 kB 5.0 MB/s eta 0:00:01\r\u001b[K     |███████████████████████▌        | 839 kB 5.0 MB/s eta 0:00:01\r\u001b[K     |███████████████████████▉        | 849 kB 5.0 MB/s eta 0:00:01\r\u001b[K     |████████████████████████        | 860 kB 5.0 MB/s eta 0:00:01\r\u001b[K     |████████████████████████▍       | 870 kB 5.0 MB/s eta 0:00:01\r\u001b[K     |████████████████████████▋       | 880 kB 5.0 MB/s eta 0:00:01\r\u001b[K     |█████████████████████████       | 890 kB 5.0 MB/s eta 0:00:01\r\u001b[K     |█████████████████████████▏      | 901 kB 5.0 MB/s eta 0:00:01\r\u001b[K     |█████████████████████████▌      | 911 kB 5.0 MB/s eta 0:00:01\r\u001b[K     |█████████████████████████▉      | 921 kB 5.0 MB/s eta 0:00:01\r\u001b[K     |██████████████████████████      | 931 kB 5.0 MB/s eta 0:00:01\r\u001b[K     |██████████████████████████▍     | 942 kB 5.0 MB/s eta 0:00:01\r\u001b[K     |██████████████████████████▋     | 952 kB 5.0 MB/s eta 0:00:01\r\u001b[K     |███████████████████████████     | 962 kB 5.0 MB/s eta 0:00:01\r\u001b[K     |███████████████████████████▏    | 972 kB 5.0 MB/s eta 0:00:01\r\u001b[K     |███████████████████████████▌    | 983 kB 5.0 MB/s eta 0:00:01\r\u001b[K     |███████████████████████████▉    | 993 kB 5.0 MB/s eta 0:00:01\r\u001b[K     |████████████████████████████    | 1.0 MB 5.0 MB/s eta 0:00:01\r\u001b[K     |████████████████████████████▍   | 1.0 MB 5.0 MB/s eta 0:00:01\r\u001b[K     |████████████████████████████▋   | 1.0 MB 5.0 MB/s eta 0:00:01\r\u001b[K     |█████████████████████████████   | 1.0 MB 5.0 MB/s eta 0:00:01\r\u001b[K     |█████████████████████████████▎  | 1.0 MB 5.0 MB/s eta 0:00:01\r\u001b[K     |█████████████████████████████▌  | 1.1 MB 5.0 MB/s eta 0:00:01\r\u001b[K     |█████████████████████████████▉  | 1.1 MB 5.0 MB/s eta 0:00:01\r\u001b[K     |██████████████████████████████  | 1.1 MB 5.0 MB/s eta 0:00:01\r\u001b[K     |██████████████████████████████▍ | 1.1 MB 5.0 MB/s eta 0:00:01\r\u001b[K     |██████████████████████████████▋ | 1.1 MB 5.0 MB/s eta 0:00:01\r\u001b[K     |███████████████████████████████ | 1.1 MB 5.0 MB/s eta 0:00:01\r\u001b[K     |███████████████████████████████▎| 1.1 MB 5.0 MB/s eta 0:00:01\r\u001b[K     |███████████████████████████████▌| 1.1 MB 5.0 MB/s eta 0:00:01\r\u001b[K     |███████████████████████████████▉| 1.1 MB 5.0 MB/s eta 0:00:01\r\u001b[K     |████████████████████████████████| 1.1 MB 5.0 MB/s \n",
            "\u001b[?25h  Installing build dependencies ... \u001b[?25l\u001b[?25hdone\n",
            "  Getting requirements to build wheel ... \u001b[?25l\u001b[?25hdone\n",
            "  Installing backend dependencies ... \u001b[?25l\u001b[?25hdone\n",
            "    Preparing wheel metadata ... \u001b[?25l\u001b[?25hdone\n",
            "Requirement already satisfied: numpy in /usr/local/lib/python3.7/dist-packages (from implicit) (1.19.5)\n",
            "Requirement already satisfied: scipy>=0.16 in /usr/local/lib/python3.7/dist-packages (from implicit) (1.4.1)\n",
            "Requirement already satisfied: tqdm>=4.27 in /usr/local/lib/python3.7/dist-packages (from implicit) (4.62.3)\n",
            "Building wheels for collected packages: implicit\n",
            "  Building wheel for implicit (PEP 517) ... \u001b[?25l\u001b[?25hdone\n",
            "  Created wheel for implicit: filename=implicit-0.4.8-cp37-cp37m-linux_x86_64.whl size=4606537 sha256=860f02e1c099dee0a82ec0faeb98fc8db020bad89263a45f6be6c1eaced03793\n",
            "  Stored in directory: /root/.cache/pip/wheels/88/e6/34/25e73cccbaf1a961154bb562a5f86123b68fdbf40e306073d6\n",
            "Successfully built implicit\n",
            "Installing collected packages: implicit\n",
            "Successfully installed implicit-0.4.8\n"
          ]
        }
      ]
    },
    {
      "cell_type": "code",
      "metadata": {
        "id": "ToK7pWaShjpN"
      },
      "source": [
        "from implicit.als import AlternatingLeastSquares\n",
        "import os\n",
        "import numpy as np\n",
        "\n",
        "# implicit 라이브러리에서 권장하고 있는 부분\n",
        "os.environ['OPENBLAS_NUM_THREADS']='1'\n",
        "os.environ['KMP_DUPLICATE_LIB_OK']='True'\n",
        "os.environ['MKL_NUM_THREADS']='1'"
      ],
      "execution_count": null,
      "outputs": []
    },
    {
      "cell_type": "code",
      "metadata": {
        "id": "2lCgdzZphd9D"
      },
      "source": [
        "# Implicit AlternatingLeastSquares 모델의 선언\n",
        "als_model = AlternatingLeastSquares(factors=100, \n",
        "                                    regularization=0.01, \n",
        "                                    use_gpu=False, \n",
        "                                    iterations=15, \n",
        "                                    dtype=np.float32)"
      ],
      "execution_count": null,
      "outputs": []
    },
    {
      "cell_type": "code",
      "metadata": {
        "colab": {
          "base_uri": "https://localhost:8080/"
        },
        "id": "rZluQY0whf1L",
        "outputId": "05612e7c-2d8c-46ed-da7e-eed4ecfc41f0"
      },
      "source": [
        "# als 모델은 input으로 (item X user 꼴의 matrix를 받기 때문에 Transpose해줍니다.)\n",
        "csr_data_transpose = csr_data.T\n",
        "csr_data_transpose"
      ],
      "execution_count": null,
      "outputs": [
        {
          "output_type": "execute_result",
          "data": {
            "text/plain": [
              "<3628x6040 sparse matrix of type '<class 'numpy.longlong'>'\n",
              "\twith 836483 stored elements in Compressed Sparse Column format>"
            ]
          },
          "metadata": {},
          "execution_count": 35
        }
      ]
    },
    {
      "cell_type": "code",
      "metadata": {
        "colab": {
          "base_uri": "https://localhost:8080/",
          "height": 48,
          "referenced_widgets": [
            "298dff9fd6cd4bf8bb62e337e5b55deb",
            "cccd5849fe8946be8d4b14ddb5883bf6",
            "555ec3c0066948daa3cb3ac66f6ef28b",
            "d236cb9fdb3244608d4511c12f4f826e",
            "d4c86294b34c485291e3591196d67ed4",
            "a8b766f94ef44346891a30f168b677af",
            "daa0868a5ab84529bcd35f0a4783c59c",
            "6519e0d1a25d4bda8a4c3658f97ee8bd",
            "906ede2419c74ef58191bda24ca469ff",
            "bbbffd0c74484b139a31202d8b3155ce",
            "bc68f4d813cc4f518b7a581c806881b5"
          ]
        },
        "id": "R1snkxPNicRS",
        "outputId": "156dcd5e-53ab-4c4f-cc35-d984c7dea1fa"
      },
      "source": [
        "# 모델 훈련\n",
        "als_model.fit(csr_data_transpose)"
      ],
      "execution_count": null,
      "outputs": [
        {
          "output_type": "display_data",
          "data": {
            "application/vnd.jupyter.widget-view+json": {
              "model_id": "298dff9fd6cd4bf8bb62e337e5b55deb",
              "version_minor": 0,
              "version_major": 2
            },
            "text/plain": [
              "  0%|          | 0/15 [00:00<?, ?it/s]"
            ]
          },
          "metadata": {}
        }
      ]
    },
    {
      "cell_type": "markdown",
      "metadata": {
        "id": "3g7m0DTmCXsK"
      },
      "source": [
        "## 예측 확인하기"
      ]
    },
    {
      "cell_type": "markdown",
      "metadata": {
        "id": "S3ZCQaoOC6oK"
      },
      "source": [
        "### 새로운 영화에 대한 선호도 예측"
      ]
    },
    {
      "cell_type": "code",
      "metadata": {
        "id": "lnASuYOTidfP"
      },
      "source": [
        "# 6100 벡터와 stand by me의 벡터를 어떻게 만들고 있는지 살펴보기\n",
        "yeonk, stand_by_me = user_to_idx['6100'], movie_to_idx['stand by me (1986)']\n",
        "yeonk_vector, stand_by_me_vector = als_model.user_factors[yeonk], als_model.item_factors[stand_by_me]"
      ],
      "execution_count": null,
      "outputs": []
    },
    {
      "cell_type": "code",
      "metadata": {
        "colab": {
          "base_uri": "https://localhost:8080/"
        },
        "id": "hKA7G1cgiggx",
        "outputId": "fed43b33-3680-4338-aed4-d6b1c3d81427"
      },
      "source": [
        "yeonk_vector"
      ],
      "execution_count": null,
      "outputs": [
        {
          "output_type": "execute_result",
          "data": {
            "text/plain": [
              "array([-0.13309902, -0.14665395,  0.23551907, -0.25294033,  0.57409096,\n",
              "        0.5231553 , -0.5521547 ,  0.14402701,  0.41556826, -0.10951859,\n",
              "        0.09305875,  0.11173218, -0.1920309 , -0.09276097,  0.09995529,\n",
              "        0.02002639,  0.65449923,  0.39605168, -0.74272746, -0.34615666,\n",
              "        0.50725096,  1.0886774 ,  0.6992015 , -0.31426752, -0.12645455,\n",
              "        0.4181726 ,  0.72847164,  0.3257795 , -0.13918799,  0.11838039,\n",
              "       -0.996633  ,  0.20965172, -0.31082174,  0.21506648, -0.11336543,\n",
              "       -0.21306463, -0.60583043,  0.14916945,  0.52444005,  0.10753248,\n",
              "        0.80157316, -0.9764798 , -0.01998127, -0.16507287, -0.39112118,\n",
              "        0.1893841 , -0.9918707 , -0.3256325 ,  0.27220958,  0.12936632,\n",
              "        0.16456783, -1.3457015 ,  0.5635626 ,  0.22574285, -0.28947318,\n",
              "       -0.24534397,  0.77191263,  0.25438341,  0.7557651 ,  0.5303375 ,\n",
              "        0.09244028,  0.53696823, -0.4031666 ,  0.87905496,  1.0348989 ,\n",
              "       -0.78435355,  0.5678662 ,  0.4272789 ,  0.46423224, -0.8573039 ,\n",
              "       -0.34269413,  0.63496876, -0.10281133, -0.2404083 ,  0.3818399 ,\n",
              "        0.33884346, -0.3264629 , -0.07160638,  0.09600478,  0.17621751,\n",
              "        0.6320212 ,  0.20181262,  0.88478875, -0.78489536, -0.28502262,\n",
              "        0.03712695,  0.59767586,  0.14168017,  0.6965849 , -1.0342733 ,\n",
              "       -0.77011234, -0.4642268 , -0.4467735 , -0.24953249, -0.18259169,\n",
              "       -0.5322669 , -0.63097924, -0.17672972, -0.68070674, -0.18225525],\n",
              "      dtype=float32)"
            ]
          },
          "metadata": {},
          "execution_count": 59
        }
      ]
    },
    {
      "cell_type": "code",
      "metadata": {
        "colab": {
          "base_uri": "https://localhost:8080/"
        },
        "id": "EEnBHEsVihRd",
        "outputId": "2070a12f-feb7-4998-e360-888d9a578533"
      },
      "source": [
        "stand_by_me_vector"
      ],
      "execution_count": null,
      "outputs": [
        {
          "output_type": "execute_result",
          "data": {
            "text/plain": [
              "array([ 0.00766326,  0.0009511 ,  0.0086639 ,  0.01795044,  0.02529761,\n",
              "       -0.00568419, -0.00738854,  0.03047804,  0.0169243 , -0.00243875,\n",
              "       -0.01099014,  0.01476682,  0.01886408,  0.00242149,  0.00396036,\n",
              "       -0.00513673, -0.00632041, -0.00862189, -0.01187225,  0.03256232,\n",
              "        0.00787817,  0.03420976,  0.04531543, -0.0027176 , -0.01515944,\n",
              "       -0.00292947,  0.02646234,  0.01153296,  0.00453851, -0.01659384,\n",
              "       -0.0018543 ,  0.00105652,  0.00772733,  0.00423437, -0.01411476,\n",
              "       -0.0140371 , -0.02572809,  0.02818452,  0.03850204,  0.02004455,\n",
              "       -0.01704827,  0.00363544,  0.02075369,  0.01472506,  0.0030869 ,\n",
              "       -0.00403751, -0.01317057, -0.01084308, -0.01258986,  0.00588472,\n",
              "       -0.00472328, -0.02333257,  0.06069714, -0.00997492, -0.00153336,\n",
              "       -0.00873834, -0.01330642,  0.01734079,  0.03214543,  0.02862642,\n",
              "        0.01268846, -0.00623462,  0.00947961,  0.01801164,  0.0483378 ,\n",
              "       -0.00676408,  0.01722723,  0.0168564 ,  0.02233932, -0.0025141 ,\n",
              "        0.0143803 ,  0.05455582,  0.01199485, -0.00405837,  0.0264942 ,\n",
              "        0.01742478,  0.00231752,  0.01314018, -0.0179517 ,  0.00370639,\n",
              "        0.03597019, -0.00185699,  0.04112924, -0.02939929,  0.00530809,\n",
              "        0.01074796, -0.01886436, -0.00043599,  0.01564069, -0.02223719,\n",
              "       -0.01750553, -0.00433405,  0.00607666, -0.02531526, -0.02806975,\n",
              "        0.0217049 , -0.03743615,  0.02093165, -0.03313865,  0.00503986],\n",
              "      dtype=float32)"
            ]
          },
          "metadata": {},
          "execution_count": 60
        }
      ]
    },
    {
      "cell_type": "code",
      "metadata": {
        "colab": {
          "base_uri": "https://localhost:8080/"
        },
        "id": "LQJ39S44iijr",
        "outputId": "e6f7fee6-a1af-4034-95fd-2a2745cf8ba4"
      },
      "source": [
        "# 6100과 stand by me를 내적하는 코드\n",
        "np.dot(yeonk_vector, stand_by_me_vector)"
      ],
      "execution_count": null,
      "outputs": [
        {
          "output_type": "execute_result",
          "data": {
            "text/plain": [
              "0.5385043"
            ]
          },
          "metadata": {},
          "execution_count": 61
        }
      ]
    },
    {
      "cell_type": "markdown",
      "metadata": {
        "id": "vdTnFFVpCeiL"
      },
      "source": [
        "- 선호 영화 목록에 없었던 toy story로 선호도 확인해보기"
      ]
    },
    {
      "cell_type": "code",
      "metadata": {
        "colab": {
          "base_uri": "https://localhost:8080/"
        },
        "id": "u8xGLS2uijfC",
        "outputId": "20ba79b0-69e7-4091-b8d7-2cd95498bf2a"
      },
      "source": [
        "# toy story에 대한 선호도 예측 확인\n",
        "toy_story = movie_to_idx['toy story (1995)']\n",
        "toy_story_vector = als_model.item_factors[toy_story]\n",
        "np.dot(yeonk_vector, toy_story_vector)"
      ],
      "execution_count": null,
      "outputs": [
        {
          "output_type": "execute_result",
          "data": {
            "text/plain": [
              "0.120279804"
            ]
          },
          "metadata": {},
          "execution_count": 42
        }
      ]
    },
    {
      "cell_type": "markdown",
      "metadata": {
        "id": "wZ2CCTo3CnSi"
      },
      "source": [
        "- 선호 영화 목록 중 5회 시청했다고 가정했던 star wars5에 대한 선호도 확인해보기"
      ]
    },
    {
      "cell_type": "code",
      "metadata": {
        "colab": {
          "base_uri": "https://localhost:8080/"
        },
        "id": "WjW2uMV6AE8f",
        "outputId": "23ed42b1-147a-4c11-f2a0-ffd580dbeada"
      },
      "source": [
        "# star wars5에 대한 선호도 예측 확인\n",
        "star_wars5 = movie_to_idx['star wars: episode v - the empire strikes back (1980)']\n",
        "star_wars5_vector = als_model.item_factors[star_wars5]\n",
        "np.dot(yeonk_vector, star_wars5_vector)"
      ],
      "execution_count": null,
      "outputs": [
        {
          "output_type": "execute_result",
          "data": {
            "text/plain": [
              "0.5869175"
            ]
          },
          "metadata": {},
          "execution_count": 63
        }
      ]
    },
    {
      "cell_type": "markdown",
      "metadata": {
        "id": "Qu_5-FDDCwGC"
      },
      "source": [
        "### 비슷한 영화 찾아보기"
      ]
    },
    {
      "cell_type": "code",
      "metadata": {
        "colab": {
          "base_uri": "https://localhost:8080/"
        },
        "id": "tADH-G6QjxVH",
        "outputId": "cb29fb35-149b-47a4-a1d9-bb0277e6425d"
      },
      "source": [
        "# star_wars5 와 비슷한 영화 찾아보기\n",
        "favorite_movie = 'star wars: episode v - the empire strikes back (1980)'\n",
        "movie_id2 = movie_to_idx[favorite_movie]\n",
        "similar_movie= als_model.similar_items(movie_id2, N=15)\n",
        "similar_movie"
      ],
      "execution_count": null,
      "outputs": [
        {
          "output_type": "execute_result",
          "data": {
            "text/plain": [
              "[(117, 1.0000001),\n",
              " (64, 0.8933432),\n",
              " (44, 0.8703181),\n",
              " (120, 0.68372875),\n",
              " (200, 0.48182806),\n",
              " (22, 0.45815232),\n",
              " (172, 0.45219558),\n",
              " (651, 0.42305163),\n",
              " (5, 0.40833947),\n",
              " (60, 0.3761487),\n",
              " (124, 0.37106925),\n",
              " (193, 0.36854777),\n",
              " (26, 0.36700907),\n",
              " (680, 0.3496446),\n",
              " (550, 0.31380063)]"
            ]
          },
          "metadata": {},
          "execution_count": 45
        }
      ]
    },
    {
      "cell_type": "code",
      "metadata": {
        "colab": {
          "base_uri": "https://localhost:8080/"
        },
        "id": "oosSGO4XkVfv",
        "outputId": "704542e2-b869-429f-b8f8-8a1cfb7cea55"
      },
      "source": [
        "# movie_to_idx 를 뒤집어, index로부터 movie 이름을 얻는 dict를 생성합니다. \n",
        "idx_to_movie = {v:k for k,v in movie_to_idx.items()}\n",
        "[idx_to_movie[i[0]] for i in similar_movie]"
      ],
      "execution_count": null,
      "outputs": [
        {
          "output_type": "execute_result",
          "data": {
            "text/plain": [
              "['star wars: episode v - the empire strikes back (1980)',\n",
              " 'star wars: episode vi - return of the jedi (1983)',\n",
              " 'star wars: episode iv - a new hope (1977)',\n",
              " 'raiders of the lost ark (1981)',\n",
              " 'terminator, the (1984)',\n",
              " 'back to the future (1985)',\n",
              " 'indiana jones and the last crusade (1989)',\n",
              " 'aliens (1986)',\n",
              " 'princess bride, the (1987)',\n",
              " 'star wars: episode i - the phantom menace (1999)',\n",
              " 'matrix, the (1999)',\n",
              " 'alien (1979)',\n",
              " 'e.t. the extra-terrestrial (1982)',\n",
              " 'blade runner (1982)',\n",
              " 'dr. strangelove or: how i learned to stop worrying and love the bomb (1963)']"
            ]
          },
          "metadata": {},
          "execution_count": 46
        }
      ]
    },
    {
      "cell_type": "code",
      "metadata": {
        "id": "98W5DN0TkkQ2"
      },
      "source": [
        "# 위 과정을 함수로 만들기\n",
        "def get_similar_movie(movie_name: str):\n",
        "    movie_id2 = movie_to_idx[movie_name]\n",
        "    similar_movie = als_model.similar_items(movie_id2)\n",
        "    similar_movie = [idx_to_movie[i[0]] for i in similar_movie]\n",
        "    return similar_movie"
      ],
      "execution_count": null,
      "outputs": []
    },
    {
      "cell_type": "markdown",
      "metadata": {
        "id": "ADJcymNIDDdm"
      },
      "source": [
        "- toy story와 비슷한 영화 찾아보기\n",
        "\n",
        "- 다수의 애니메이션 영화가 나오는 것을 확인할 수 있었다."
      ]
    },
    {
      "cell_type": "code",
      "metadata": {
        "colab": {
          "base_uri": "https://localhost:8080/",
          "height": 355
        },
        "id": "IQRSFCBCkzxW",
        "outputId": "ce2b1b5b-ae5c-47e7-c9df-731de62e0c0f"
      },
      "source": [
        "df = pd.DataFrame(get_similar_movie('toy story (1995)'))\n",
        "df.columns = ['title']\n",
        "df"
      ],
      "execution_count": null,
      "outputs": [
        {
          "output_type": "execute_result",
          "data": {
            "text/html": [
              "<div>\n",
              "<style scoped>\n",
              "    .dataframe tbody tr th:only-of-type {\n",
              "        vertical-align: middle;\n",
              "    }\n",
              "\n",
              "    .dataframe tbody tr th {\n",
              "        vertical-align: top;\n",
              "    }\n",
              "\n",
              "    .dataframe thead th {\n",
              "        text-align: right;\n",
              "    }\n",
              "</style>\n",
              "<table border=\"1\" class=\"dataframe\">\n",
              "  <thead>\n",
              "    <tr style=\"text-align: right;\">\n",
              "      <th></th>\n",
              "      <th>title</th>\n",
              "    </tr>\n",
              "  </thead>\n",
              "  <tbody>\n",
              "    <tr>\n",
              "      <th>0</th>\n",
              "      <td>toy story (1995)</td>\n",
              "    </tr>\n",
              "    <tr>\n",
              "      <th>1</th>\n",
              "      <td>toy story 2 (1999)</td>\n",
              "    </tr>\n",
              "    <tr>\n",
              "      <th>2</th>\n",
              "      <td>aladdin (1992)</td>\n",
              "    </tr>\n",
              "    <tr>\n",
              "      <th>3</th>\n",
              "      <td>bug's life, a (1998)</td>\n",
              "    </tr>\n",
              "    <tr>\n",
              "      <th>4</th>\n",
              "      <td>babe (1995)</td>\n",
              "    </tr>\n",
              "    <tr>\n",
              "      <th>5</th>\n",
              "      <td>groundhog day (1993)</td>\n",
              "    </tr>\n",
              "    <tr>\n",
              "      <th>6</th>\n",
              "      <td>lion king, the (1994)</td>\n",
              "    </tr>\n",
              "    <tr>\n",
              "      <th>7</th>\n",
              "      <td>beauty and the beast (1991)</td>\n",
              "    </tr>\n",
              "    <tr>\n",
              "      <th>8</th>\n",
              "      <td>pleasantville (1998)</td>\n",
              "    </tr>\n",
              "    <tr>\n",
              "      <th>9</th>\n",
              "      <td>there's something about mary (1998)</td>\n",
              "    </tr>\n",
              "  </tbody>\n",
              "</table>\n",
              "</div>"
            ],
            "text/plain": [
              "                                 title\n",
              "0                     toy story (1995)\n",
              "1                   toy story 2 (1999)\n",
              "2                       aladdin (1992)\n",
              "3                 bug's life, a (1998)\n",
              "4                          babe (1995)\n",
              "5                 groundhog day (1993)\n",
              "6                lion king, the (1994)\n",
              "7          beauty and the beast (1991)\n",
              "8                 pleasantville (1998)\n",
              "9  there's something about mary (1998)"
            ]
          },
          "metadata": {},
          "execution_count": 73
        }
      ]
    },
    {
      "cell_type": "markdown",
      "metadata": {
        "id": "K5mFpP9NDcOy"
      },
      "source": [
        "- One Flew Over the Cuckoo's Nest와 비슷한 영화를 확인해 보았다.\n",
        "\n",
        "- One Flew Over the Cuckoo's Nest는 범죄, 교도소, 정신병원 등을 배경으로 하는 코미디 드라마 장르의 영화이다.\n",
        "\n",
        "- 정말 흥미롭게도 유사하다고 나온 영화들이 범죄, 감옥이 연관된 영화가 많다!"
      ]
    },
    {
      "cell_type": "code",
      "metadata": {
        "colab": {
          "base_uri": "https://localhost:8080/",
          "height": 355
        },
        "id": "kr8n9hYpk5DQ",
        "outputId": "2681c120-bd9f-45c3-d9ee-1092a562d64e"
      },
      "source": [
        "df2 = pd.DataFrame(get_similar_movie('one flew over the cuckoo\\'s nest (1975)'))\n",
        "df2.columns = ['title']\n",
        "df2"
      ],
      "execution_count": null,
      "outputs": [
        {
          "output_type": "execute_result",
          "data": {
            "text/html": [
              "<div>\n",
              "<style scoped>\n",
              "    .dataframe tbody tr th:only-of-type {\n",
              "        vertical-align: middle;\n",
              "    }\n",
              "\n",
              "    .dataframe tbody tr th {\n",
              "        vertical-align: top;\n",
              "    }\n",
              "\n",
              "    .dataframe thead th {\n",
              "        text-align: right;\n",
              "    }\n",
              "</style>\n",
              "<table border=\"1\" class=\"dataframe\">\n",
              "  <thead>\n",
              "    <tr style=\"text-align: right;\">\n",
              "      <th></th>\n",
              "      <th>title</th>\n",
              "    </tr>\n",
              "  </thead>\n",
              "  <tbody>\n",
              "    <tr>\n",
              "      <th>0</th>\n",
              "      <td>one flew over the cuckoo's nest (1975)</td>\n",
              "    </tr>\n",
              "    <tr>\n",
              "      <th>1</th>\n",
              "      <td>apocalypse now (1979)</td>\n",
              "    </tr>\n",
              "    <tr>\n",
              "      <th>2</th>\n",
              "      <td>shawshank redemption, the (1994)</td>\n",
              "    </tr>\n",
              "    <tr>\n",
              "      <th>3</th>\n",
              "      <td>schindler's list (1993)</td>\n",
              "    </tr>\n",
              "    <tr>\n",
              "      <th>4</th>\n",
              "      <td>midnight cowboy (1969)</td>\n",
              "    </tr>\n",
              "    <tr>\n",
              "      <th>5</th>\n",
              "      <td>sunchaser, the (1996)</td>\n",
              "    </tr>\n",
              "    <tr>\n",
              "      <th>6</th>\n",
              "      <td>amadeus (1984)</td>\n",
              "    </tr>\n",
              "    <tr>\n",
              "      <th>7</th>\n",
              "      <td>adventures of milo and otis, the (1986)</td>\n",
              "    </tr>\n",
              "    <tr>\n",
              "      <th>8</th>\n",
              "      <td>dog park (1998)</td>\n",
              "    </tr>\n",
              "    <tr>\n",
              "      <th>9</th>\n",
              "      <td>papillon (1973)</td>\n",
              "    </tr>\n",
              "  </tbody>\n",
              "</table>\n",
              "</div>"
            ],
            "text/plain": [
              "                                     title\n",
              "0   one flew over the cuckoo's nest (1975)\n",
              "1                    apocalypse now (1979)\n",
              "2         shawshank redemption, the (1994)\n",
              "3                  schindler's list (1993)\n",
              "4                   midnight cowboy (1969)\n",
              "5                    sunchaser, the (1996)\n",
              "6                           amadeus (1984)\n",
              "7  adventures of milo and otis, the (1986)\n",
              "8                          dog park (1998)\n",
              "9                          papillon (1973)"
            ]
          },
          "metadata": {},
          "execution_count": 74
        }
      ]
    },
    {
      "cell_type": "markdown",
      "metadata": {
        "id": "jvDqxAMkl7pa"
      },
      "source": [
        "## 영화 추천 받아보기"
      ]
    },
    {
      "cell_type": "code",
      "metadata": {
        "colab": {
          "base_uri": "https://localhost:8080/"
        },
        "id": "y6yzYX3wlDGu",
        "outputId": "e8ecc99f-3d3e-4abd-d2ae-6f6b236412e7"
      },
      "source": [
        "user = user_to_idx['6100']\n",
        "# recommend에서는 user*item CSR Matrix를 받습니다.\n",
        "# filter_already_liked_items: 유저가 이미 본 영화는 제외\n",
        "movie_recommended = als_model.recommend(user, csr_data, N=20, filter_already_liked_items=True)\n",
        "movie_recommended"
      ],
      "execution_count": null,
      "outputs": [
        {
          "output_type": "execute_result",
          "data": {
            "text/plain": [
              "[(120, 0.6082065),\n",
              " (64, 0.5409119),\n",
              " (172, 0.46695912),\n",
              " (44, 0.4361921),\n",
              " (200, 0.38118833),\n",
              " (5, 0.35645068),\n",
              " (243, 0.31230456),\n",
              " (13, 0.29915622),\n",
              " (680, 0.26902986),\n",
              " (651, 0.260333),\n",
              " (15, 0.2542924),\n",
              " (189, 0.24874298),\n",
              " (7, 0.23267923),\n",
              " (488, 0.22632773),\n",
              " (527, 0.22330981),\n",
              " (26, 0.21482837),\n",
              " (637, 0.21412359),\n",
              " (92, 0.21081987),\n",
              " (648, 0.20890892),\n",
              " (87, 0.20641075)]"
            ]
          },
          "metadata": {},
          "execution_count": 75
        }
      ]
    },
    {
      "cell_type": "code",
      "metadata": {
        "colab": {
          "base_uri": "https://localhost:8080/",
          "height": 662
        },
        "id": "578jSjKkl52q",
        "outputId": "51f85729-bd8a-4d29-d7b1-deadc76c6aed"
      },
      "source": [
        "df3 = pd.DataFrame([idx_to_movie[i[0]] for i in movie_recommended])\n",
        "df3.columns = ['title']\n",
        "df3"
      ],
      "execution_count": null,
      "outputs": [
        {
          "output_type": "execute_result",
          "data": {
            "text/html": [
              "<div>\n",
              "<style scoped>\n",
              "    .dataframe tbody tr th:only-of-type {\n",
              "        vertical-align: middle;\n",
              "    }\n",
              "\n",
              "    .dataframe tbody tr th {\n",
              "        vertical-align: top;\n",
              "    }\n",
              "\n",
              "    .dataframe thead th {\n",
              "        text-align: right;\n",
              "    }\n",
              "</style>\n",
              "<table border=\"1\" class=\"dataframe\">\n",
              "  <thead>\n",
              "    <tr style=\"text-align: right;\">\n",
              "      <th></th>\n",
              "      <th>title</th>\n",
              "    </tr>\n",
              "  </thead>\n",
              "  <tbody>\n",
              "    <tr>\n",
              "      <th>0</th>\n",
              "      <td>raiders of the lost ark (1981)</td>\n",
              "    </tr>\n",
              "    <tr>\n",
              "      <th>1</th>\n",
              "      <td>star wars: episode vi - return of the jedi (1983)</td>\n",
              "    </tr>\n",
              "    <tr>\n",
              "      <th>2</th>\n",
              "      <td>indiana jones and the last crusade (1989)</td>\n",
              "    </tr>\n",
              "    <tr>\n",
              "      <th>3</th>\n",
              "      <td>star wars: episode iv - a new hope (1977)</td>\n",
              "    </tr>\n",
              "    <tr>\n",
              "      <th>4</th>\n",
              "      <td>terminator, the (1984)</td>\n",
              "    </tr>\n",
              "    <tr>\n",
              "      <th>5</th>\n",
              "      <td>princess bride, the (1987)</td>\n",
              "    </tr>\n",
              "    <tr>\n",
              "      <th>6</th>\n",
              "      <td>ghostbusters (1984)</td>\n",
              "    </tr>\n",
              "    <tr>\n",
              "      <th>7</th>\n",
              "      <td>ferris bueller's day off (1986)</td>\n",
              "    </tr>\n",
              "    <tr>\n",
              "      <th>8</th>\n",
              "      <td>blade runner (1982)</td>\n",
              "    </tr>\n",
              "    <tr>\n",
              "      <th>9</th>\n",
              "      <td>aliens (1986)</td>\n",
              "    </tr>\n",
              "    <tr>\n",
              "      <th>10</th>\n",
              "      <td>airplane! (1980)</td>\n",
              "    </tr>\n",
              "    <tr>\n",
              "      <th>11</th>\n",
              "      <td>breakfast club, the (1985)</td>\n",
              "    </tr>\n",
              "    <tr>\n",
              "      <th>12</th>\n",
              "      <td>christmas story, a (1983)</td>\n",
              "    </tr>\n",
              "    <tr>\n",
              "      <th>13</th>\n",
              "      <td>when harry met sally... (1989)</td>\n",
              "    </tr>\n",
              "    <tr>\n",
              "      <th>14</th>\n",
              "      <td>batman (1989)</td>\n",
              "    </tr>\n",
              "    <tr>\n",
              "      <th>15</th>\n",
              "      <td>e.t. the extra-terrestrial (1982)</td>\n",
              "    </tr>\n",
              "    <tr>\n",
              "      <th>16</th>\n",
              "      <td>abyss, the (1989)</td>\n",
              "    </tr>\n",
              "    <tr>\n",
              "      <th>17</th>\n",
              "      <td>terminator 2: judgment day (1991)</td>\n",
              "    </tr>\n",
              "    <tr>\n",
              "      <th>18</th>\n",
              "      <td>lethal weapon (1987)</td>\n",
              "    </tr>\n",
              "    <tr>\n",
              "      <th>19</th>\n",
              "      <td>braveheart (1995)</td>\n",
              "    </tr>\n",
              "  </tbody>\n",
              "</table>\n",
              "</div>"
            ],
            "text/plain": [
              "                                                title\n",
              "0                      raiders of the lost ark (1981)\n",
              "1   star wars: episode vi - return of the jedi (1983)\n",
              "2           indiana jones and the last crusade (1989)\n",
              "3           star wars: episode iv - a new hope (1977)\n",
              "4                              terminator, the (1984)\n",
              "5                          princess bride, the (1987)\n",
              "6                                 ghostbusters (1984)\n",
              "7                     ferris bueller's day off (1986)\n",
              "8                                 blade runner (1982)\n",
              "9                                       aliens (1986)\n",
              "10                                   airplane! (1980)\n",
              "11                         breakfast club, the (1985)\n",
              "12                          christmas story, a (1983)\n",
              "13                     when harry met sally... (1989)\n",
              "14                                      batman (1989)\n",
              "15                  e.t. the extra-terrestrial (1982)\n",
              "16                                  abyss, the (1989)\n",
              "17                  terminator 2: judgment day (1991)\n",
              "18                               lethal weapon (1987)\n",
              "19                                  braveheart (1995)"
            ]
          },
          "metadata": {},
          "execution_count": 81
        }
      ]
    },
    {
      "cell_type": "markdown",
      "metadata": {
        "id": "rNiXZjZxGK_V"
      },
      "source": [
        "- 추천된 영화들이 사전에 선호한다고 선택한 5개의 영화들에 어느 정도 영향을 받았는지 확인<br>\n",
        " (사전 선택 영화의 기여도 확인)\n",
        "\n",
        "- 기여도를 잘 나타내는지 보고 싶어서 의도적으로 star wars4로 확인해보았다.\n",
        "\n",
        "- star wars5가 0.473으로 가장 높은 기여도를 나타내는 것으로 보아 잘 작동하는 것으로 판단 된다."
      ]
    },
    {
      "cell_type": "code",
      "metadata": {
        "id": "YE8gwttOmIvz"
      },
      "source": [
        "#  explain 메소드를 사용하면 기록을 남긴 데이터 중 이 추천에 기여한 정도를 확인\n",
        "star_wars6 =movie_to_idx['star wars: episode vi - return of the jedi (1983)']\n",
        "explain = als_model.explain(user, csr_data, itemid=star_wars6)"
      ],
      "execution_count": null,
      "outputs": []
    },
    {
      "cell_type": "code",
      "metadata": {
        "colab": {
          "base_uri": "https://localhost:8080/",
          "height": 202
        },
        "id": "qtvVCesAmbNP",
        "outputId": "c558248a-3d01-4174-e316-c24259c366a2"
      },
      "source": [
        "df4 = pd.DataFrame([(idx_to_movie[i[0]], i[1]) for i in explain[1]])\n",
        "df4.columns = ['title', 'Contribution']\n",
        "df4"
      ],
      "execution_count": null,
      "outputs": [
        {
          "output_type": "execute_result",
          "data": {
            "text/html": [
              "<div>\n",
              "<style scoped>\n",
              "    .dataframe tbody tr th:only-of-type {\n",
              "        vertical-align: middle;\n",
              "    }\n",
              "\n",
              "    .dataframe tbody tr th {\n",
              "        vertical-align: top;\n",
              "    }\n",
              "\n",
              "    .dataframe thead th {\n",
              "        text-align: right;\n",
              "    }\n",
              "</style>\n",
              "<table border=\"1\" class=\"dataframe\">\n",
              "  <thead>\n",
              "    <tr style=\"text-align: right;\">\n",
              "      <th></th>\n",
              "      <th>title</th>\n",
              "      <th>Contribution</th>\n",
              "    </tr>\n",
              "  </thead>\n",
              "  <tbody>\n",
              "    <tr>\n",
              "      <th>0</th>\n",
              "      <td>star wars: episode v - the empire strikes back...</td>\n",
              "      <td>0.473476</td>\n",
              "    </tr>\n",
              "    <tr>\n",
              "      <th>1</th>\n",
              "      <td>back to the future (1985)</td>\n",
              "      <td>0.077007</td>\n",
              "    </tr>\n",
              "    <tr>\n",
              "      <th>2</th>\n",
              "      <td>who framed roger rabbit? (1988)</td>\n",
              "      <td>0.015665</td>\n",
              "    </tr>\n",
              "    <tr>\n",
              "      <th>3</th>\n",
              "      <td>die hard (1988)</td>\n",
              "      <td>0.001597</td>\n",
              "    </tr>\n",
              "    <tr>\n",
              "      <th>4</th>\n",
              "      <td>stand by me (1986)</td>\n",
              "      <td>-0.032957</td>\n",
              "    </tr>\n",
              "  </tbody>\n",
              "</table>\n",
              "</div>"
            ],
            "text/plain": [
              "                                               title  Contribution\n",
              "0  star wars: episode v - the empire strikes back...      0.473476\n",
              "1                          back to the future (1985)      0.077007\n",
              "2                    who framed roger rabbit? (1988)      0.015665\n",
              "3                                    die hard (1988)      0.001597\n",
              "4                                 stand by me (1986)     -0.032957"
            ]
          },
          "metadata": {},
          "execution_count": 85
        }
      ]
    },
    {
      "cell_type": "markdown",
      "metadata": {
        "id": "T7-bNLZcHlmJ"
      },
      "source": [
        "- raiders of the lost ark로 기여도를 한 번 더 확인해보았다.\n",
        "\n",
        "- 이번 영화도 star wars가 0.278로 가장 높은 기여도를 보였다.\n",
        "\n",
        "- 두 영화 모두 제작에 조지 루커스가 관여 되어있고, 액션 영화인 것을 생각하면 기여도가 잘 나타난 것 같다."
      ]
    },
    {
      "cell_type": "code",
      "metadata": {
        "id": "1hmgAqQcGzM7"
      },
      "source": [
        "raiders =movie_to_idx['raiders of the lost ark (1981)']\n",
        "explain2 = als_model.explain(user, csr_data, itemid=raiders)"
      ],
      "execution_count": 86,
      "outputs": []
    },
    {
      "cell_type": "code",
      "metadata": {
        "colab": {
          "base_uri": "https://localhost:8080/",
          "height": 202
        },
        "id": "BPNNeaVKHLQB",
        "outputId": "573b0110-7f0c-48c6-d723-13dfae4cc313"
      },
      "source": [
        "df5 = pd.DataFrame([(idx_to_movie[i[0]], i[1]) for i in explain2[1]])\n",
        "df5.columns = ['title', 'Contribution']\n",
        "df5"
      ],
      "execution_count": 87,
      "outputs": [
        {
          "output_type": "execute_result",
          "data": {
            "text/html": [
              "<div>\n",
              "<style scoped>\n",
              "    .dataframe tbody tr th:only-of-type {\n",
              "        vertical-align: middle;\n",
              "    }\n",
              "\n",
              "    .dataframe tbody tr th {\n",
              "        vertical-align: top;\n",
              "    }\n",
              "\n",
              "    .dataframe thead th {\n",
              "        text-align: right;\n",
              "    }\n",
              "</style>\n",
              "<table border=\"1\" class=\"dataframe\">\n",
              "  <thead>\n",
              "    <tr style=\"text-align: right;\">\n",
              "      <th></th>\n",
              "      <th>title</th>\n",
              "      <th>Contribution</th>\n",
              "    </tr>\n",
              "  </thead>\n",
              "  <tbody>\n",
              "    <tr>\n",
              "      <th>0</th>\n",
              "      <td>star wars: episode v - the empire strikes back...</td>\n",
              "      <td>0.278401</td>\n",
              "    </tr>\n",
              "    <tr>\n",
              "      <th>1</th>\n",
              "      <td>die hard (1988)</td>\n",
              "      <td>0.153315</td>\n",
              "    </tr>\n",
              "    <tr>\n",
              "      <th>2</th>\n",
              "      <td>stand by me (1986)</td>\n",
              "      <td>0.076373</td>\n",
              "    </tr>\n",
              "    <tr>\n",
              "      <th>3</th>\n",
              "      <td>back to the future (1985)</td>\n",
              "      <td>0.048109</td>\n",
              "    </tr>\n",
              "    <tr>\n",
              "      <th>4</th>\n",
              "      <td>who framed roger rabbit? (1988)</td>\n",
              "      <td>0.042334</td>\n",
              "    </tr>\n",
              "  </tbody>\n",
              "</table>\n",
              "</div>"
            ],
            "text/plain": [
              "                                               title  Contribution\n",
              "0  star wars: episode v - the empire strikes back...      0.278401\n",
              "1                                    die hard (1988)      0.153315\n",
              "2                                 stand by me (1986)      0.076373\n",
              "3                          back to the future (1985)      0.048109\n",
              "4                    who framed roger rabbit? (1988)      0.042334"
            ]
          },
          "metadata": {},
          "execution_count": 87
        }
      ]
    },
    {
      "cell_type": "markdown",
      "metadata": {
        "id": "e2mR65kyK9Pc"
      },
      "source": [
        "## 회고\n",
        "\n",
        "- 이번 프로젝트는 조금  흥미로운 점이 많았던 것 같다.\n",
        "\n",
        "- 아무래도 일상 생활에서 어렵지 않게 이용하고 있었던 추천 시스템을 다뤘기 때문이었던 것 같다.\n",
        "\n",
        "- 최근에는 넷플릭스나 멜론과 같은 플랫폼 이외에도 에이블리나 쿠팡 등의 쇼핑몰에서도 추천 시스템이 많이 활용되고 있고 나 역시 잘 사용하고 있다.\n",
        "\n",
        "- 하지만 사용을 하면서도 이 서비스가 어떻게 제공 되고 있는 것인지,, 궁금하면서도 조금 무섭다는 생각이 들었었다.\n",
        "\n",
        "- 직접 추천 시스템 코드를 작성해보니 궁금했던 부분이 많이 해소 되었다.\n",
        "\n",
        "- 그렇지만 아쉬운 점은 필수 컬럼이 아니라고 제외 했던 영화 장르를 활용해보지 못한 것이다.. 프로젝트 제출 기한만 아니었으면 활용해보고 싶은 욕망이....ㅠ \n",
        "\n",
        "- 나중에 조금 한가할 때(? 과연 올까..) 다시 다뤄보고 싶다.\n"
      ]
    }
  ]
}
