{
 "cells": [
  {
   "cell_type": "markdown",
   "id": "gross-belfast",
   "metadata": {},
   "source": [
    "# [E-10] news_summarization\n",
    "\n",
    "데이터: [sunnysai12345/News_Summary](https://github.com/sunnysai12345/News_Summary)"
   ]
  },
  {
   "cell_type": "markdown",
   "id": "breeding-arbor",
   "metadata": {},
   "source": [
    "## 1. 모듈 & 데이터 가져오기"
   ]
  },
  {
   "cell_type": "code",
   "execution_count": 4,
   "id": "graphic-buyer",
   "metadata": {},
   "outputs": [
    {
     "name": "stderr",
     "output_type": "stream",
     "text": [
      "[nltk_data] Downloading package stopwords to /aiffel/nltk_data...\n",
      "[nltk_data]   Unzipping corpora/stopwords.zip.\n"
     ]
    }
   ],
   "source": [
    "# NLTK 패키지에서 불용어 사전을 다운로드\n",
    "# 데이터 전처리를 위한 패키지 불러오기\n",
    "import nltk\n",
    "nltk.download('stopwords')\n",
    "\n",
    "import numpy as np\n",
    "import pandas as pd\n",
    "import os\n",
    "import re\n",
    "import matplotlib.pyplot as plt\n",
    "from nltk.corpus import stopwords\n",
    "from bs4 import BeautifulSoup \n",
    "from tensorflow.keras.preprocessing.text import Tokenizer \n",
    "from tensorflow.keras.preprocessing.sequence import pad_sequences\n",
    "import urllib.request"
   ]
  },
  {
   "cell_type": "code",
   "execution_count": 4,
   "id": "black-shock",
   "metadata": {},
   "outputs": [],
   "source": [
    "import urllib.request\n",
    "urllib.request.urlretrieve(\"https://raw.githubusercontent.com/sunnysai12345/News_Summary/master/news_summary_more.csv\", filename=\"news_summary_more.csv\")\n",
    "data = pd.read_csv('news_summary_more.csv', encoding='iso-8859-1')"
   ]
  },
  {
   "cell_type": "code",
   "execution_count": 5,
   "id": "raised-penetration",
   "metadata": {},
   "outputs": [
    {
     "data": {
      "text/html": [
       "<div>\n",
       "<style scoped>\n",
       "    .dataframe tbody tr th:only-of-type {\n",
       "        vertical-align: middle;\n",
       "    }\n",
       "\n",
       "    .dataframe tbody tr th {\n",
       "        vertical-align: top;\n",
       "    }\n",
       "\n",
       "    .dataframe thead th {\n",
       "        text-align: right;\n",
       "    }\n",
       "</style>\n",
       "<table border=\"1\" class=\"dataframe\">\n",
       "  <thead>\n",
       "    <tr style=\"text-align: right;\">\n",
       "      <th></th>\n",
       "      <th>headlines</th>\n",
       "      <th>text</th>\n",
       "    </tr>\n",
       "  </thead>\n",
       "  <tbody>\n",
       "    <tr>\n",
       "      <th>927</th>\n",
       "      <td>UP man gets 7 years in jail for abetting wife'...</td>\n",
       "      <td>A fast track court in Muzaffarnagar has senten...</td>\n",
       "    </tr>\n",
       "    <tr>\n",
       "      <th>89452</th>\n",
       "      <td>UP govt refuses trial for CM Yogi in Gorakhpur...</td>\n",
       "      <td>The UP government on Thursday denied permissio...</td>\n",
       "    </tr>\n",
       "    <tr>\n",
       "      <th>46812</th>\n",
       "      <td>Diljit mentions celebrity crush Kylie in new s...</td>\n",
       "      <td>Singer Diljit Dosanjh has mentioned his celebr...</td>\n",
       "    </tr>\n",
       "    <tr>\n",
       "      <th>11379</th>\n",
       "      <td>Picture of Jennifer Lopez posing in just a cap...</td>\n",
       "      <td>A picture of singer Jennifer Lopez posing in j...</td>\n",
       "    </tr>\n",
       "    <tr>\n",
       "      <th>41093</th>\n",
       "      <td>Journos guilty of writing fake news could lose...</td>\n",
       "      <td>The Information and Broadcasting Ministry has ...</td>\n",
       "    </tr>\n",
       "    <tr>\n",
       "      <th>25044</th>\n",
       "      <td>Kangana's 'Manikarnika' to clash with Hrithik'...</td>\n",
       "      <td>The release date of Kangana Ranaut starrer 'Ma...</td>\n",
       "    </tr>\n",
       "    <tr>\n",
       "      <th>37036</th>\n",
       "      <td>Tamil Nadu becoming breeding ground for extrem...</td>\n",
       "      <td>BJP MP Pon Radhakrishnan has claimed that Tami...</td>\n",
       "    </tr>\n",
       "    <tr>\n",
       "      <th>87809</th>\n",
       "      <td>Suspected Manchester bomber identified as Salm...</td>\n",
       "      <td>UK Police on Tuesday named 22-year-old Salman ...</td>\n",
       "    </tr>\n",
       "    <tr>\n",
       "      <th>11186</th>\n",
       "      <td>Amnesty renames road outside Saudi embassy aft...</td>\n",
       "      <td>Activists of human rights organisation Amnesty...</td>\n",
       "    </tr>\n",
       "    <tr>\n",
       "      <th>50447</th>\n",
       "      <td>SRH retain Rashid for Ã¢ÂÂ¹9cr after buying h...</td>\n",
       "      <td>Nineteen-year-old Afghan spinner Rashid Khan, ...</td>\n",
       "    </tr>\n",
       "  </tbody>\n",
       "</table>\n",
       "</div>"
      ],
      "text/plain": [
       "                                               headlines  \\\n",
       "927    UP man gets 7 years in jail for abetting wife'...   \n",
       "89452  UP govt refuses trial for CM Yogi in Gorakhpur...   \n",
       "46812  Diljit mentions celebrity crush Kylie in new s...   \n",
       "11379  Picture of Jennifer Lopez posing in just a cap...   \n",
       "41093  Journos guilty of writing fake news could lose...   \n",
       "25044  Kangana's 'Manikarnika' to clash with Hrithik'...   \n",
       "37036  Tamil Nadu becoming breeding ground for extrem...   \n",
       "87809  Suspected Manchester bomber identified as Salm...   \n",
       "11186  Amnesty renames road outside Saudi embassy aft...   \n",
       "50447  SRH retain Rashid for Ã¢ÂÂ¹9cr after buying h...   \n",
       "\n",
       "                                                    text  \n",
       "927    A fast track court in Muzaffarnagar has senten...  \n",
       "89452  The UP government on Thursday denied permissio...  \n",
       "46812  Singer Diljit Dosanjh has mentioned his celebr...  \n",
       "11379  A picture of singer Jennifer Lopez posing in j...  \n",
       "41093  The Information and Broadcasting Ministry has ...  \n",
       "25044  The release date of Kangana Ranaut starrer 'Ma...  \n",
       "37036  BJP MP Pon Radhakrishnan has claimed that Tami...  \n",
       "87809  UK Police on Tuesday named 22-year-old Salman ...  \n",
       "11186  Activists of human rights organisation Amnesty...  \n",
       "50447  Nineteen-year-old Afghan spinner Rashid Khan, ...  "
      ]
     },
     "execution_count": 5,
     "metadata": {},
     "output_type": "execute_result"
    }
   ],
   "source": [
    "data.sample(10)"
   ]
  },
  {
   "cell_type": "markdown",
   "id": "scheduled-internship",
   "metadata": {},
   "source": [
    "---\n",
    "\n",
    "## 2. 데이터 전처리\n",
    "\n",
    "1. 빈칸으로 존재하는 null 데이터\n",
    "\n",
    "2. 의미는 같지만 다른 식으로 작성된 글 같은 중복 항목"
   ]
  },
  {
   "cell_type": "code",
   "execution_count": 5,
   "id": "after-worse",
   "metadata": {},
   "outputs": [
    {
     "name": "stdout",
     "output_type": "stream",
     "text": [
      "전체 샘플수 : 98401\n"
     ]
    }
   ],
   "source": [
    "print('전체 샘플수 :', (len(data)))"
   ]
  },
  {
   "cell_type": "code",
   "execution_count": 6,
   "id": "million-passage",
   "metadata": {},
   "outputs": [
    {
     "name": "stdout",
     "output_type": "stream",
     "text": [
      "text 열에서 중복을 배제한 유일한 샘플의 수 : 98360\n",
      "headlines 열에서 중복을 배제한 유일한 샘플의 수 : 98280\n"
     ]
    }
   ],
   "source": [
    "# 데이터의 중복 샘플 유무를 확인\n",
    "print('text 열에서 중복을 배제한 유일한 샘플의 수 :', data['text'].nunique())\n",
    "print('headlines 열에서 중복을 배제한 유일한 샘플의 수 :', data['headlines'].nunique())"
   ]
  },
  {
   "cell_type": "code",
   "execution_count": 7,
   "id": "latest-convenience",
   "metadata": {},
   "outputs": [
    {
     "name": "stdout",
     "output_type": "stream",
     "text": [
      "전체 샘플수 : 98360\n"
     ]
    }
   ],
   "source": [
    "# text가 달라도 headlines는 동일할 수 있다.\n",
    "# 하지만 text 자체가 중복이 된 경우는 중복 샘플이므로 제거\n",
    "# 데이터프레임의 drop_duplicates()를 사용\n",
    "\n",
    "# inplace=True 를 설정하면 DataFrame 타입 값을 return 하지 않고 \n",
    "# data 내부를 직접적으로 바꿉니다\n",
    "data.drop_duplicates(subset = ['text'], inplace=True)\n",
    "print('전체 샘플수 :', (len(data)))"
   ]
  },
  {
   "cell_type": "code",
   "execution_count": 8,
   "id": "refined-omega",
   "metadata": {},
   "outputs": [
    {
     "name": "stdout",
     "output_type": "stream",
     "text": [
      "headlines    0\n",
      "text         0\n",
      "dtype: int64\n"
     ]
    }
   ],
   "source": [
    "# Null 값이 남아있는지 확인 \n",
    "# .isnull().sum()을 사용\n",
    "\n",
    "print(data.isnull().sum())"
   ]
  },
  {
   "cell_type": "markdown",
   "id": "corrected-blanket",
   "metadata": {},
   "source": [
    "### 텍스트 정규화, 불용어 제거"
   ]
  },
  {
   "cell_type": "code",
   "execution_count": 9,
   "id": "referenced-forth",
   "metadata": {},
   "outputs": [
    {
     "name": "stdout",
     "output_type": "stream",
     "text": [
      "정규화 사전의 수:  120\n"
     ]
    }
   ],
   "source": [
    "# 텍스트 정규화(text normalization) \n",
    "contractions = {\"ain't\": \"is not\", \"aren't\": \"are not\",\"can't\": \"cannot\", \"'cause\": \"because\", \"could've\": \"could have\", \"couldn't\": \"could not\",\n",
    "                           \"didn't\": \"did not\",  \"doesn't\": \"does not\", \"don't\": \"do not\", \"hadn't\": \"had not\", \"hasn't\": \"has not\", \"haven't\": \"have not\",\n",
    "                           \"he'd\": \"he would\",\"he'll\": \"he will\", \"he's\": \"he is\", \"how'd\": \"how did\", \"how'd'y\": \"how do you\", \"how'll\": \"how will\", \"how's\": \"how is\",\n",
    "                           \"I'd\": \"I would\", \"I'd've\": \"I would have\", \"I'll\": \"I will\", \"I'll've\": \"I will have\",\"I'm\": \"I am\", \"I've\": \"I have\", \"i'd\": \"i would\",\n",
    "                           \"i'd've\": \"i would have\", \"i'll\": \"i will\",  \"i'll've\": \"i will have\",\"i'm\": \"i am\", \"i've\": \"i have\", \"isn't\": \"is not\", \"it'd\": \"it would\",\n",
    "                           \"it'd've\": \"it would have\", \"it'll\": \"it will\", \"it'll've\": \"it will have\",\"it's\": \"it is\", \"let's\": \"let us\", \"ma'am\": \"madam\",\n",
    "                           \"mayn't\": \"may not\", \"might've\": \"might have\",\"mightn't\": \"might not\",\"mightn't've\": \"might not have\", \"must've\": \"must have\",\n",
    "                           \"mustn't\": \"must not\", \"mustn't've\": \"must not have\", \"needn't\": \"need not\", \"needn't've\": \"need not have\",\"o'clock\": \"of the clock\",\n",
    "                           \"oughtn't\": \"ought not\", \"oughtn't've\": \"ought not have\", \"shan't\": \"shall not\", \"sha'n't\": \"shall not\", \"shan't've\": \"shall not have\",\n",
    "                           \"she'd\": \"she would\", \"she'd've\": \"she would have\", \"she'll\": \"she will\", \"she'll've\": \"she will have\", \"she's\": \"she is\",\n",
    "                           \"should've\": \"should have\", \"shouldn't\": \"should not\", \"shouldn't've\": \"should not have\", \"so've\": \"so have\",\"so's\": \"so as\",\n",
    "                           \"this's\": \"this is\",\"that'd\": \"that would\", \"that'd've\": \"that would have\", \"that's\": \"that is\", \"there'd\": \"there would\",\n",
    "                           \"there'd've\": \"there would have\", \"there's\": \"there is\", \"here's\": \"here is\",\"they'd\": \"they would\", \"they'd've\": \"they would have\",\n",
    "                           \"they'll\": \"they will\", \"they'll've\": \"they will have\", \"they're\": \"they are\", \"they've\": \"they have\", \"to've\": \"to have\",\n",
    "                           \"wasn't\": \"was not\", \"we'd\": \"we would\", \"we'd've\": \"we would have\", \"we'll\": \"we will\", \"we'll've\": \"we will have\", \"we're\": \"we are\",\n",
    "                           \"we've\": \"we have\", \"weren't\": \"were not\", \"what'll\": \"what will\", \"what'll've\": \"what will have\", \"what're\": \"what are\",\n",
    "                           \"what's\": \"what is\", \"what've\": \"what have\", \"when's\": \"when is\", \"when've\": \"when have\", \"where'd\": \"where did\", \"where's\": \"where is\",\n",
    "                           \"where've\": \"where have\", \"who'll\": \"who will\", \"who'll've\": \"who will have\", \"who's\": \"who is\", \"who've\": \"who have\",\n",
    "                           \"why's\": \"why is\", \"why've\": \"why have\", \"will've\": \"will have\", \"won't\": \"will not\", \"won't've\": \"will not have\",\n",
    "                           \"would've\": \"would have\", \"wouldn't\": \"would not\", \"wouldn't've\": \"would not have\", \"y'all\": \"you all\",\n",
    "                           \"y'all'd\": \"you all would\",\"y'all'd've\": \"you all would have\",\"y'all're\": \"you all are\",\"y'all've\": \"you all have\",\n",
    "                           \"you'd\": \"you would\", \"you'd've\": \"you would have\", \"you'll\": \"you will\", \"you'll've\": \"you will have\",\n",
    "                           \"you're\": \"you are\", \"you've\": \"you have\"}\n",
    "\n",
    "print(\"정규화 사전의 수: \", len(contractions))"
   ]
  },
  {
   "cell_type": "code",
   "execution_count": 10,
   "id": "distant-denial",
   "metadata": {
    "scrolled": true
   },
   "outputs": [
    {
     "name": "stdout",
     "output_type": "stream",
     "text": [
      "불용어 개수 : 179\n",
      "['i', 'me', 'my', 'myself', 'we', 'our', 'ours', 'ourselves', 'you', \"you're\", \"you've\", \"you'll\", \"you'd\", 'your', 'yours', 'yourself', 'yourselves', 'he', 'him', 'his', 'himself', 'she', \"she's\", 'her', 'hers', 'herself', 'it', \"it's\", 'its', 'itself', 'they', 'them', 'their', 'theirs', 'themselves', 'what', 'which', 'who', 'whom', 'this', 'that', \"that'll\", 'these', 'those', 'am', 'is', 'are', 'was', 'were', 'be', 'been', 'being', 'have', 'has', 'had', 'having', 'do', 'does', 'did', 'doing', 'a', 'an', 'the', 'and', 'but', 'if', 'or', 'because', 'as', 'until', 'while', 'of', 'at', 'by', 'for', 'with', 'about', 'against', 'between', 'into', 'through', 'during', 'before', 'after', 'above', 'below', 'to', 'from', 'up', 'down', 'in', 'out', 'on', 'off', 'over', 'under', 'again', 'further', 'then', 'once', 'here', 'there', 'when', 'where', 'why', 'how', 'all', 'any', 'both', 'each', 'few', 'more', 'most', 'other', 'some', 'such', 'no', 'nor', 'not', 'only', 'own', 'same', 'so', 'than', 'too', 'very', 's', 't', 'can', 'will', 'just', 'don', \"don't\", 'should', \"should've\", 'now', 'd', 'll', 'm', 'o', 're', 've', 'y', 'ain', 'aren', \"aren't\", 'couldn', \"couldn't\", 'didn', \"didn't\", 'doesn', \"doesn't\", 'hadn', \"hadn't\", 'hasn', \"hasn't\", 'haven', \"haven't\", 'isn', \"isn't\", 'ma', 'mightn', \"mightn't\", 'mustn', \"mustn't\", 'needn', \"needn't\", 'shan', \"shan't\", 'shouldn', \"shouldn't\", 'wasn', \"wasn't\", 'weren', \"weren't\", 'won', \"won't\", 'wouldn', \"wouldn't\"]\n"
     ]
    }
   ],
   "source": [
    "# 불용어(stopwords)\n",
    "print('불용어 개수 :', len(stopwords.words('english') ))\n",
    "print(stopwords.words('english'))"
   ]
  },
  {
   "cell_type": "code",
   "execution_count": 11,
   "id": "gentle-jungle",
   "metadata": {},
   "outputs": [
    {
     "name": "stdout",
     "output_type": "stream",
     "text": [
      "Saurav Kant, an alumnus of upGrad and IIIT-B's PG Program in Machine learning and Artificial Intelligence, was a Sr Systems Engineer at Infosys with almost 5 years of work experience. The program and upGrad's 360-degree career support helped him transition to a Data Scientist at Tech Mahindra with 90% salary hike. upGrad's Online Power Learning has powered 3 lakh+ careers.\n",
      "Kunal Shah's credit card bill payment platform, CRED, gave users a chance to win free food from Swiggy for one year. Pranav Kaushik, a Delhi techie, bagged this reward after spending 2000 CRED coins. Users get one CRED coin per rupee of bill paid, which can be used to avail rewards from brands like Ixigo, BookMyShow, UberEats, Cult.Fit and more.\n"
     ]
    }
   ],
   "source": [
    "# 전처리 전 데이터의 일부 내용 확인해보기\n",
    "print(data['text'][0])\n",
    "print(data['text'][1])"
   ]
  },
  {
   "cell_type": "code",
   "execution_count": 12,
   "id": "understood-vector",
   "metadata": {},
   "outputs": [],
   "source": [
    "# 모든 영어 문자는 소문자로 만들고, \n",
    "# 섞여있는 html 태그를 제거하고, \n",
    "# 정규 표현식을 통해 각종 특수문자를 제거\n",
    "\n",
    "# 데이터 전처리 함수\n",
    "def preprocess_sentence(sentence, remove_stopwords=True):\n",
    "    sentence = sentence.lower() # 텍스트 소문자화\n",
    "    sentence = BeautifulSoup(sentence, \"lxml\").text # <br />, <a href = ...> 등의 html 태그 제거\n",
    "    sentence = re.sub(r'\\([^)]*\\)', '', sentence) # 괄호로 닫힌 문자열 (...) 제거 Ex) my husband (and myself!) for => my husband for\n",
    "    sentence = re.sub('\"','', sentence) # 쌍따옴표 \" 제거\n",
    "    sentence = ' '.join([contractions[t] if t in contractions else t for t in sentence.split(\" \")]) # 약어 정규화\n",
    "    sentence = re.sub(r\"'s\\b\",\"\", sentence) # 소유격 제거. Ex) roland's -> roland\n",
    "    sentence = re.sub(\"[^a-zA-Z]\", \" \", sentence) # 영어 외 문자(숫자, 특수문자 등) 공백으로 변환\n",
    "    sentence = re.sub('[m]{2,}', 'mm', sentence) # m이 3개 이상이면 2개로 변경. Ex) ummmmmmm yeah -> umm yeah\n",
    "    \n",
    "    # 불용어 제거 (text)\n",
    "    if remove_stopwords:\n",
    "        tokens = ' '.join(word for word in sentence.split() if not word in stopwords.words('english') if len(word) > 1)\n",
    "    # 불용어 미제거 (headlines)\n",
    "    else:\n",
    "        tokens = ' '.join(word for word in sentence.split() if len(word) > 1)\n",
    "    return tokens"
   ]
  },
  {
   "cell_type": "code",
   "execution_count": 13,
   "id": "alpha-angola",
   "metadata": {},
   "outputs": [
    {
     "name": "stdout",
     "output_type": "stream",
     "text": [
      "everything bought great infact ordered twice third ordered wasfor mother father\n",
      "great way to start the day\n"
     ]
    }
   ],
   "source": [
    "# 전처리 전, 후의 결과를 확인하기 위해서 임의의 text와 headlines를 만들어 함수를 호출\n",
    "temp_text = 'Everything I bought was great, infact I ordered twice and the third ordered was<br />for my mother and father.'\n",
    "temp_headlines = 'Great way to start (or finish) the day!!!'\n",
    "\n",
    "print(preprocess_sentence(temp_text))\n",
    "print(preprocess_sentence(temp_headlines, False))  # 불용어를 제거하지 않습니다."
   ]
  },
  {
   "cell_type": "code",
   "execution_count": 14,
   "id": "brave-niagara",
   "metadata": {},
   "outputs": [
    {
     "name": "stdout",
     "output_type": "stream",
     "text": [
      "426.032639503479  seconds\n",
      "['saurav kant alumnus upgrad iiit pg program machine learning artificial intelligence sr systems engineer infosys almost years work experience program upgrad degree career support helped transition data scientist tech mahindra salary hike upgrad online power learning powered lakh careers'\n",
      " 'kunal shah credit card bill payment platform cred gave users chance win free food swiggy one year pranav kaushik delhi techie bagged reward spending cred coins users get one cred coin per rupee bill paid used avail rewards brands like ixigo bookmyshow ubereats cult fit'\n",
      " 'new zealand defeated india wickets fourth odi hamilton thursday win first match five match odi series india lost international match rohit sharma captaincy consecutive victories dating back march match witnessed india getting seventh lowest total odi cricket history'\n",
      " ...\n",
      " 'according reports new version science fiction film matrix development michael jordan reportedly play lead role film screenwriter zak penn talks write script film reports added actor keanu reeves starred original film followed two sequels'\n",
      " 'new music video shows rapper snoop dogg aiming toy gun clown character parodying us president donald trump video also shows tv airing news conference headline ronald klump wants deport doggs airing live clown house video remixed version song lavender'\n",
      " 'madhesi morcha alliance seven political parties withdrawn support pm pushpa kamal dahal led nepal government failed meet seven day ultimatum fulfil demands including endorsement revised constitution amendment bill morcha seats parliament despite withdrawal support immediate threat government']\n",
      "12.9193115234375  seconds\n",
      "['upgrad learner switches to career in ml al with salary hike'\n",
      " 'delhi techie wins free food from swiggy for one year on cred'\n",
      " 'new zealand end rohit sharma led india match winning streak' ...\n",
      " 'the matrix film to get reboot reports'\n",
      " 'snoop dogg aims gun at clown dressed as trump in new video'\n",
      " 'madhesi morcha withdraws support to nepalese government']\n"
     ]
    }
   ],
   "source": [
    "# 멀티프로세싱을 사용해보자.\n",
    "\n",
    "import multiprocessing as mp   # 멀티 프로세싱으로 전처리 속도를 획기적으로 줄여봅시다\n",
    "from multiprocessing import Pool\n",
    "import numpy as np\n",
    "import time\n",
    "from functools import partial  # map을 할 때 함수에 여러 인자를 넣어줄 수 있도록 합니다\n",
    "\n",
    "start = time.time()\n",
    "\n",
    "# num_cores 만큼 쪼개진 데이터를 전처리하여 반환합니다\n",
    "def appendTexts(sentences, remove_stopwords):\n",
    "  texts = []\n",
    "  for s in sentences:\n",
    "    texts += preprocess_sentence(s, remove_stopwords),\n",
    "  return texts\n",
    "\n",
    "def preprocess_data(data, remove_stopwords=True):\n",
    "  start_time = time.time()\n",
    "  num_cores = mp.cpu_count()  # 컴퓨터의 코어 수를 구합니다\n",
    "\n",
    "  text_data_split = np.array_split(data, num_cores)  # 코어 수만큼 데이터를 배분하여 병렬적으로 처리할 수 있게 합니다\n",
    "  pool = Pool(num_cores)\n",
    "\n",
    "  processed_data = np.concatenate(pool.map(partial(appendTexts, remove_stopwords=remove_stopwords), text_data_split))  # 각자 작업한 데이터를 하나로 합쳐줍니다\n",
    "  pool.close()\n",
    "  pool.join()\n",
    "  print(time.time() - start_time, \" seconds\")\n",
    "  return processed_data\n",
    "\n",
    "clean_text = preprocess_data(data['text'])  \n",
    "print(clean_text)\n",
    "\n",
    "clean_headlines = preprocess_data(data['headlines'], remove_stopwords=False) \n",
    "print(clean_headlines)"
   ]
  },
  {
   "cell_type": "code",
   "execution_count": 15,
   "id": "fabulous-lounge",
   "metadata": {},
   "outputs": [],
   "source": [
    "# 정제 과정에서 단어가 사라지는 경우가 있기 때문에 빈값을 한 번더 확인 한다.\n",
    "# 빈 값들은 모두 Null 값으로 변환\n",
    "data['text'] = clean_text\n",
    "data['headlines'] = clean_headlines\n",
    "\n",
    "# 빈 값을 Null 값으로 변환\n",
    "data.replace('', np.nan, inplace=True)"
   ]
  },
  {
   "cell_type": "code",
   "execution_count": 16,
   "id": "reflected-framing",
   "metadata": {},
   "outputs": [
    {
     "data": {
      "text/plain": [
       "headlines    0\n",
       "text         0\n",
       "dtype: int64"
      ]
     },
     "execution_count": 16,
     "metadata": {},
     "output_type": "execute_result"
    }
   ],
   "source": [
    "# Null값이 잘 들어갔는지 확인\n",
    "data.isnull().sum()"
   ]
  },
  {
   "cell_type": "code",
   "execution_count": 17,
   "id": "announced-illustration",
   "metadata": {},
   "outputs": [
    {
     "name": "stdout",
     "output_type": "stream",
     "text": [
      "전체 샘플수 : 98360\n"
     ]
    }
   ],
   "source": [
    "# 빈 샘플 삭제\n",
    "data.dropna(axis=0, inplace=True)\n",
    "print('전체 샘플수 :', (len(data)))"
   ]
  },
  {
   "cell_type": "markdown",
   "id": "identical-confidence",
   "metadata": {},
   "source": [
    "---\n",
    "\n",
    "### 훈련 데이터와 테스트 데이터 나누기"
   ]
  },
  {
   "cell_type": "code",
   "execution_count": 19,
   "id": "cubic-archive",
   "metadata": {},
   "outputs": [
    {
     "name": "stdout",
     "output_type": "stream",
     "text": [
      "텍스트의 최소 길이 : 1\n",
      "텍스트의 최대 길이 : 60\n",
      "텍스트의 평균 길이 : 35.09968483123221\n",
      "요약의 최소 길이 : 1\n",
      "요약의 최대 길이 : 16\n",
      "요약의 평균 길이 : 9.299532330215534\n"
     ]
    },
    {
     "data": {
      "image/png": "[encoded data removed]",
      "text/plain": [
       "<Figure size 432x288 with 2 Axes>"
      ]
     },
     "metadata": {
      "needs_background": "light"
     },
     "output_type": "display_data"
    },
    {
     "data": {
      "image/png": "[encoded data removed]",
      "text/plain": [
       "<Figure size 432x288 with 1 Axes>"
      ]
     },
     "metadata": {
      "needs_background": "light"
     },
     "output_type": "display_data"
    },
    {
     "data": {
      "image/png": "[encoded data removed]",
      "text/plain": [
       "<Figure size 432x288 with 1 Axes>"
      ]
     },
     "metadata": {
      "needs_background": "light"
     },
     "output_type": "display_data"
    }
   ],
   "source": [
    "# 훈련에 사용할 샘플의 최대 길이 설정하기\n",
    "# Text와  headlines의 최소, 최대, 평균 길이를 구하고 또한 길이 분포를 시각화\n",
    "\n",
    "# 길이 분포 출력\n",
    "import matplotlib.pyplot as plt\n",
    "\n",
    "text_len = [len(s.split()) for s in data['text']]\n",
    "headlines_len = [len(s.split()) for s in data['headlines']]\n",
    "\n",
    "print('텍스트의 최소 길이 : {}'.format(np.min(text_len)))\n",
    "print('텍스트의 최대 길이 : {}'.format(np.max(text_len)))\n",
    "print('텍스트의 평균 길이 : {}'.format(np.mean(text_len)))\n",
    "print('요약의 최소 길이 : {}'.format(np.min(headlines_len)))\n",
    "print('요약의 최대 길이 : {}'.format(np.max(headlines_len)))\n",
    "print('요약의 평균 길이 : {}'.format(np.mean(headlines_len)))\n",
    "\n",
    "plt.subplot(1,2,1)\n",
    "plt.boxplot(headlines_len)\n",
    "plt.title('headlines')\n",
    "plt.subplot(1,2,2)\n",
    "plt.boxplot(text_len)\n",
    "plt.title('text')\n",
    "plt.tight_layout()\n",
    "plt.show()\n",
    "\n",
    "plt.title('headlines')\n",
    "plt.hist(headlines_len, bins = 40)\n",
    "plt.xlabel('length of samples')\n",
    "plt.ylabel('number of samples')\n",
    "plt.show()\n",
    "\n",
    "plt.title('text')\n",
    "plt.hist(text_len, bins = 40)\n",
    "plt.xlabel('length of samples')\n",
    "plt.ylabel('number of samples')\n",
    "plt.show()"
   ]
  },
  {
   "cell_type": "code",
   "execution_count": 39,
   "id": "antique-rates",
   "metadata": {},
   "outputs": [],
   "source": [
    "# 임의로 최대 길이 지정\n",
    "text_max_len = 50\n",
    "headlines_max_len = 12"
   ]
  },
  {
   "cell_type": "code",
   "execution_count": 40,
   "id": "corrected-michigan",
   "metadata": {},
   "outputs": [],
   "source": [
    "# 훈련 데이터와 샘플의 길이를 입력하면, \n",
    "# 데이터의 몇 %가 해당하는지 계산하는 함수\n",
    "\n",
    "def below_threshold_len(max_len, nested_list):\n",
    "  cnt = 0\n",
    "  for s in nested_list:\n",
    "    if(len(s.split()) <= max_len):\n",
    "        cnt = cnt + 1\n",
    "  print('전체 샘플 중 길이가 %s 이하인 샘플의 비율: %s'%(max_len, (cnt / len(nested_list))))"
   ]
  },
  {
   "cell_type": "code",
   "execution_count": 41,
   "id": "three-notification",
   "metadata": {},
   "outputs": [
    {
     "name": "stdout",
     "output_type": "stream",
     "text": [
      "전체 샘플 중 길이가 50 이하인 샘플의 비율: 1.0\n",
      "전체 샘플 중 길이가 12 이하인 샘플의 비율: 1.0\n"
     ]
    }
   ],
   "source": [
    "below_threshold_len(text_max_len, data['text'])\n",
    "below_threshold_len(headlines_max_len,  data['headlines'])"
   ]
  },
  {
   "cell_type": "code",
   "execution_count": 42,
   "id": "searching-cowboy",
   "metadata": {},
   "outputs": [
    {
     "name": "stdout",
     "output_type": "stream",
     "text": [
      "전체 샘플수 : 97169\n"
     ]
    }
   ],
   "source": [
    "# 정해진 길이보다 길면 제외하도록 샘플 정제\n",
    "data = data[data['text'].apply(lambda x: len(x.split()) <= text_max_len)]\n",
    "data = data[data['headlines'].apply(lambda x: len(x.split()) <= headlines_max_len)]\n",
    "print('전체 샘플수 :', (len(data)))"
   ]
  },
  {
   "cell_type": "markdown",
   "id": "worst-aircraft",
   "metadata": {},
   "source": [
    "### 시작 토큰, 종료토큰 추가\n",
    "\n",
    "- 시작 토큰은 sostoken, 종료 토큰은 eostoken이라 임의로 명명\n",
    "\n",
    "- decoder_input: 디코더의 입력에 해당하면서 시작 토큰이 맨 앞에 있는 문장\n",
    "\n",
    "- decoder_target: 디코더의 출력 또는 레이블에 해당되면서 종료 토큰이 맨 뒤에 붙는 문장\n",
    "\n"
   ]
  },
  {
   "cell_type": "code",
   "execution_count": 43,
   "id": "defensive-speech",
   "metadata": {},
   "outputs": [
    {
     "data": {
      "text/html": [
       "<div>\n",
       "<style scoped>\n",
       "    .dataframe tbody tr th:only-of-type {\n",
       "        vertical-align: middle;\n",
       "    }\n",
       "\n",
       "    .dataframe tbody tr th {\n",
       "        vertical-align: top;\n",
       "    }\n",
       "\n",
       "    .dataframe thead th {\n",
       "        text-align: right;\n",
       "    }\n",
       "</style>\n",
       "<table border=\"1\" class=\"dataframe\">\n",
       "  <thead>\n",
       "    <tr style=\"text-align: right;\">\n",
       "      <th></th>\n",
       "      <th>headlines</th>\n",
       "      <th>text</th>\n",
       "      <th>decoder_input</th>\n",
       "      <th>decoder_target</th>\n",
       "    </tr>\n",
       "  </thead>\n",
       "  <tbody>\n",
       "    <tr>\n",
       "      <th>0</th>\n",
       "      <td>upgrad learner switches to career in ml al wit...</td>\n",
       "      <td>saurav kant alumnus upgrad iiit pg program mac...</td>\n",
       "      <td>sostoken upgrad learner switches to career in ...</td>\n",
       "      <td>upgrad learner switches to career in ml al wit...</td>\n",
       "    </tr>\n",
       "    <tr>\n",
       "      <th>1</th>\n",
       "      <td>delhi techie wins free food from swiggy for on...</td>\n",
       "      <td>kunal shah credit card bill payment platform c...</td>\n",
       "      <td>sostoken delhi techie wins free food from swig...</td>\n",
       "      <td>delhi techie wins free food from swiggy for on...</td>\n",
       "    </tr>\n",
       "    <tr>\n",
       "      <th>2</th>\n",
       "      <td>new zealand end rohit sharma led india match w...</td>\n",
       "      <td>new zealand defeated india wickets fourth odi ...</td>\n",
       "      <td>sostoken new zealand end rohit sharma led indi...</td>\n",
       "      <td>new zealand end rohit sharma led india match w...</td>\n",
       "    </tr>\n",
       "    <tr>\n",
       "      <th>3</th>\n",
       "      <td>aegon life iterm insurance plan helps customer...</td>\n",
       "      <td>aegon life iterm insurance plan customers enjo...</td>\n",
       "      <td>sostoken aegon life iterm insurance plan helps...</td>\n",
       "      <td>aegon life iterm insurance plan helps customer...</td>\n",
       "    </tr>\n",
       "    <tr>\n",
       "      <th>5</th>\n",
       "      <td>rahat fateh ali khan denies getting notice for...</td>\n",
       "      <td>pakistani singer rahat fateh ali khan denied r...</td>\n",
       "      <td>sostoken rahat fateh ali khan denies getting n...</td>\n",
       "      <td>rahat fateh ali khan denies getting notice for...</td>\n",
       "    </tr>\n",
       "  </tbody>\n",
       "</table>\n",
       "</div>"
      ],
      "text/plain": [
       "                                           headlines  \\\n",
       "0  upgrad learner switches to career in ml al wit...   \n",
       "1  delhi techie wins free food from swiggy for on...   \n",
       "2  new zealand end rohit sharma led india match w...   \n",
       "3  aegon life iterm insurance plan helps customer...   \n",
       "5  rahat fateh ali khan denies getting notice for...   \n",
       "\n",
       "                                                text  \\\n",
       "0  saurav kant alumnus upgrad iiit pg program mac...   \n",
       "1  kunal shah credit card bill payment platform c...   \n",
       "2  new zealand defeated india wickets fourth odi ...   \n",
       "3  aegon life iterm insurance plan customers enjo...   \n",
       "5  pakistani singer rahat fateh ali khan denied r...   \n",
       "\n",
       "                                       decoder_input  \\\n",
       "0  sostoken upgrad learner switches to career in ...   \n",
       "1  sostoken delhi techie wins free food from swig...   \n",
       "2  sostoken new zealand end rohit sharma led indi...   \n",
       "3  sostoken aegon life iterm insurance plan helps...   \n",
       "5  sostoken rahat fateh ali khan denies getting n...   \n",
       "\n",
       "                                      decoder_target  \n",
       "0  upgrad learner switches to career in ml al wit...  \n",
       "1  delhi techie wins free food from swiggy for on...  \n",
       "2  new zealand end rohit sharma led india match w...  \n",
       "3  aegon life iterm insurance plan helps customer...  \n",
       "5  rahat fateh ali khan denies getting notice for...  "
      ]
     },
     "execution_count": 43,
     "metadata": {},
     "output_type": "execute_result"
    }
   ],
   "source": [
    "# 요약 데이터에는 시작 토큰과 종료 토큰을 추가한다.\n",
    "data['decoder_input'] = data['headlines'].apply(lambda x : 'sostoken '+ x)\n",
    "data['decoder_target'] = data['headlines'].apply(lambda x : x + ' eostoken')\n",
    "data.head()"
   ]
  },
  {
   "cell_type": "code",
   "execution_count": 44,
   "id": "eligible-queue",
   "metadata": {},
   "outputs": [],
   "source": [
    "encoder_input = np.array(data['text']) # 인코더의 입력\n",
    "decoder_input = np.array(data['decoder_input']) # 디코더의 입력\n",
    "decoder_target = np.array(data['decoder_target']) # 디코더의 레이블"
   ]
  },
  {
   "cell_type": "code",
   "execution_count": 45,
   "id": "sharp-population",
   "metadata": {},
   "outputs": [
    {
     "name": "stdout",
     "output_type": "stream",
     "text": [
      "[32180 67531 47635 ... 12129 30482 26783]\n"
     ]
    }
   ],
   "source": [
    "# encoder_input과 크기와 형태가 같은 순서가 섞인 정수 시퀀스 생성\n",
    "indices = np.arange(encoder_input.shape[0])\n",
    "np.random.shuffle(indices)\n",
    "print(indices)"
   ]
  },
  {
   "cell_type": "code",
   "execution_count": 46,
   "id": "sapphire-freeware",
   "metadata": {},
   "outputs": [],
   "source": [
    "# 정수 시퀀스를 이용해 데이터의 샘플 순서 정의\n",
    "\n",
    "encoder_input = encoder_input[indices]\n",
    "decoder_input = decoder_input[indices]\n",
    "decoder_target = decoder_target[indices]"
   ]
  },
  {
   "cell_type": "code",
   "execution_count": 47,
   "id": "demanding-attitude",
   "metadata": {},
   "outputs": [
    {
     "name": "stdout",
     "output_type": "stream",
     "text": [
      "테스트 데이터의 수 : 19433\n"
     ]
    }
   ],
   "source": [
    "# 섞인 데이터를 8:2의 비율로 훈련 데이터와 테스트 데이터로 분리\n",
    "# 테스트 데이터의 크기 정의\n",
    "n_of_val = int(len(encoder_input)*0.2)\n",
    "print('테스트 데이터의 수 :', n_of_val)"
   ]
  },
  {
   "cell_type": "code",
   "execution_count": 48,
   "id": "clean-therapy",
   "metadata": {},
   "outputs": [
    {
     "name": "stdout",
     "output_type": "stream",
     "text": [
      "훈련 데이터의 개수 : 77736\n",
      "훈련 레이블의 개수 : 77736\n",
      "테스트 데이터의 개수 : 19433\n",
      "테스트 레이블의 개수 : 19433\n"
     ]
    }
   ],
   "source": [
    "# 전체 데이터 양분\n",
    "encoder_input_train = encoder_input[:-n_of_val]\n",
    "decoder_input_train = decoder_input[:-n_of_val]\n",
    "decoder_target_train = decoder_target[:-n_of_val]\n",
    "\n",
    "encoder_input_test = encoder_input[-n_of_val:]\n",
    "decoder_input_test = decoder_input[-n_of_val:]\n",
    "decoder_target_test = decoder_target[-n_of_val:]\n",
    "\n",
    "print('훈련 데이터의 개수 :', len(encoder_input_train))\n",
    "print('훈련 레이블의 개수 :', len(decoder_input_train))\n",
    "print('테스트 데이터의 개수 :', len(encoder_input_test))\n",
    "print('테스트 레이블의 개수 :', len(decoder_input_test))"
   ]
  },
  {
   "cell_type": "code",
   "execution_count": 49,
   "id": "popular-speaker",
   "metadata": {},
   "outputs": [],
   "source": [
    "# 데이터의 단어들을 모두 정수로 바꾸기\n",
    "# 각 단어에 고유한 정수를 맵핑하는 작업이 필요 - 단어 집합(vocabulary) 을 만든다\n",
    "# 훈련 데이터의 단어집합\n",
    "# Keras의 토크나이저를 사용\n",
    "\n",
    "src_tokenizer = Tokenizer() # 토크나이저 정의\n",
    "src_tokenizer.fit_on_texts(encoder_input_train) # 입력된 데이터로부터 단어 집합 생성"
   ]
  },
  {
   "cell_type": "code",
   "execution_count": 50,
   "id": "mysterious-royal",
   "metadata": {},
   "outputs": [
    {
     "name": "stdout",
     "output_type": "stream",
     "text": [
      "단어 집합(vocabulary)의 크기 : 69275\n",
      "등장 빈도가 6번 이하인 희귀 단어의 수: 47234\n",
      "단어 집합에서 희귀 단어를 제외시킬 경우의 단어 집합의 크기 22041\n",
      "단어 집합에서 희귀 단어의 비율: 68.18332731865753\n",
      "전체 등장 빈도에서 희귀 단어 등장 빈도 비율: 3.515720070727123\n"
     ]
    }
   ],
   "source": [
    "# 등장 빈도수가 7회 미만인 단어들이 이 데이터에서 얼만큼의 비중을 차지하는지 확인\n",
    "# src_tokenizer.word_counts.items(): 단어와 각 단어의 등장 빈도수 저장\n",
    "\n",
    "threshold = 7\n",
    "total_cnt = len(src_tokenizer.word_index) # 단어의 수\n",
    "rare_cnt = 0 # 등장 빈도수가 threshold보다 작은 단어의 개수를 카운트\n",
    "total_freq = 0 # 훈련 데이터의 전체 단어 빈도수 총 합\n",
    "rare_freq = 0 # 등장 빈도수가 threshold보다 작은 단어의 등장 빈도수의 총 합\n",
    "\n",
    "# 단어와 빈도수의 쌍(pair)을 key와 value로 받는다.\n",
    "for key, value in src_tokenizer.word_counts.items():\n",
    "    total_freq = total_freq + value\n",
    "\n",
    "    # 단어의 등장 빈도수가 threshold보다 작으면\n",
    "    if(value < threshold):\n",
    "        rare_cnt = rare_cnt + 1\n",
    "        rare_freq = rare_freq + value\n",
    "\n",
    "print('단어 집합(vocabulary)의 크기 :', total_cnt)\n",
    "print('등장 빈도가 %s번 이하인 희귀 단어의 수: %s'%(threshold - 1, rare_cnt))\n",
    "print('단어 집합에서 희귀 단어를 제외시킬 경우의 단어 집합의 크기 %s'%(total_cnt - rare_cnt))\n",
    "print(\"단어 집합에서 희귀 단어의 비율:\", (rare_cnt / total_cnt)*100)\n",
    "print(\"전체 등장 빈도에서 희귀 단어 등장 빈도 비율:\", (rare_freq / total_freq)*100)"
   ]
  },
  {
   "cell_type": "code",
   "execution_count": 51,
   "id": "saving-mobile",
   "metadata": {},
   "outputs": [],
   "source": [
    "# 토크나이저를 정의할 때 num_words의 값을 정해주면, 단어 집합의 크기를 제한\n",
    "src_vocab = 22000\n",
    "src_tokenizer = Tokenizer(num_words=src_vocab) # 단어 집합의 크기를 22000으로 제한\n",
    "src_tokenizer.fit_on_texts(encoder_input_train) # 단어 집합 재생성."
   ]
  },
  {
   "cell_type": "code",
   "execution_count": 52,
   "id": "absent-guess",
   "metadata": {},
   "outputs": [
    {
     "name": "stdout",
     "output_type": "stream",
     "text": [
      "[[302, 77, 860, 742, 921, 4093, 25, 2510, 241, 351, 171, 3960, 3, 1228, 152, 234, 2510, 648, 860, 1208, 5302, 1797, 748, 2510, 186, 219, 921, 21, 8, 331, 143, 5475, 2510, 21], [2692, 563, 595, 3054, 1848, 4160, 1074, 224, 217, 217, 660, 104, 3054, 1, 463, 618, 2403, 1681, 5643, 1755, 337, 6, 582, 11217, 5055, 66, 1849, 163], [1646, 1554, 2432, 200, 4022, 1448, 382, 1675, 5944, 1933, 274, 3037, 1448, 382, 976, 50, 200, 1520, 382, 14716, 5886, 3141, 674, 3670, 67, 19, 1554, 1]]\n"
     ]
    }
   ],
   "source": [
    "# 텍스트 시퀀스를 정수 시퀀스로 변환\n",
    "encoder_input_train = src_tokenizer.texts_to_sequences(encoder_input_train) \n",
    "encoder_input_test = src_tokenizer.texts_to_sequences(encoder_input_test)\n",
    "\n",
    "# 잘 진행되었는지 샘플 출력\n",
    "print(encoder_input_train[:3])"
   ]
  },
  {
   "cell_type": "code",
   "execution_count": 53,
   "id": "crucial-anniversary",
   "metadata": {},
   "outputs": [],
   "source": [
    "# decoder_input_train을 입력으로 전체 단어 집합과 각 단어에 대한 빈도수를 계산\n",
    "\n",
    "tar_tokenizer = Tokenizer()\n",
    "tar_tokenizer.fit_on_texts(decoder_input_train)"
   ]
  },
  {
   "cell_type": "code",
   "execution_count": 54,
   "id": "naval-charity",
   "metadata": {},
   "outputs": [
    {
     "name": "stdout",
     "output_type": "stream",
     "text": [
      "단어 집합(vocabulary)의 크기 : 29932\n",
      "등장 빈도가 5번 이하인 희귀 단어의 수: 19570\n",
      "단어 집합에서 희귀 단어를 제외시킬 경우의 단어 집합의 크기 10362\n",
      "단어 집합에서 희귀 단어의 비율: 65.38153147133502\n",
      "전체 등장 빈도에서 희귀 단어 등장 빈도 비율: 4.707876318354658\n"
     ]
    }
   ],
   "source": [
    "# 등장 빈도수가 6회 미만인 단어들이 이 데이터에서 얼만큼의 비중을 차지하는지 확인\n",
    "threshold = 6\n",
    "total_cnt = len(tar_tokenizer.word_index) # 단어의 수\n",
    "rare_cnt = 0 # 등장 빈도수가 threshold보다 작은 단어의 개수를 카운트\n",
    "total_freq = 0 # 훈련 데이터의 전체 단어 빈도수 총 합\n",
    "rare_freq = 0 # 등장 빈도수가 threshold보다 작은 단어의 등장 빈도수의 총 합\n",
    "\n",
    "# 단어와 빈도수의 쌍(pair)을 key와 value로 받는다.\n",
    "for key, value in tar_tokenizer.word_counts.items():\n",
    "    total_freq = total_freq + value\n",
    "\n",
    "    # 단어의 등장 빈도수가 threshold보다 작으면\n",
    "    if(value < threshold):\n",
    "        rare_cnt = rare_cnt + 1\n",
    "        rare_freq = rare_freq + value\n",
    "\n",
    "print('단어 집합(vocabulary)의 크기 :', total_cnt)\n",
    "print('등장 빈도가 %s번 이하인 희귀 단어의 수: %s'%(threshold - 1, rare_cnt))\n",
    "print('단어 집합에서 희귀 단어를 제외시킬 경우의 단어 집합의 크기 %s'%(total_cnt - rare_cnt))\n",
    "print(\"단어 집합에서 희귀 단어의 비율:\", (rare_cnt / total_cnt)*100)\n",
    "print(\"전체 등장 빈도에서 희귀 단어 등장 빈도 비율:\", (rare_freq / total_freq)*100)"
   ]
  },
  {
   "cell_type": "code",
   "execution_count": 55,
   "id": "identified-knife",
   "metadata": {},
   "outputs": [
    {
     "name": "stdout",
     "output_type": "stream",
     "text": [
      "input\n",
      "input  [[1, 55, 799, 696, 39, 2254], [1, 1988, 1117, 3, 3011, 9488, 310, 5], [1, 1460, 839, 196, 144, 3, 8754, 1823, 159, 3648], [1, 346, 20, 42, 480, 4246, 3, 1491, 1707], [1, 6789, 261, 449, 1852, 355, 5, 756, 3227]]\n",
      "target\n",
      "decoder  [[55, 799, 696, 39, 2254, 2], [1988, 1117, 3, 3011, 9488, 310, 5, 2], [1460, 839, 196, 144, 3, 8754, 1823, 159, 3648, 2], [346, 20, 42, 480, 4246, 3, 1491, 1707, 2], [6789, 261, 449, 1852, 355, 5, 756, 3227, 2]]\n"
     ]
    }
   ],
   "source": [
    "# 비중이 상대적으로 적은 빈도수가 5이하인 단어들 제거\n",
    "# 어림잡아 10,000을 단어 집합의 크기로 제한\n",
    "\n",
    "tar_vocab = 10000\n",
    "tar_tokenizer = Tokenizer(num_words=tar_vocab) \n",
    "tar_tokenizer.fit_on_texts(decoder_input_train)\n",
    "tar_tokenizer.fit_on_texts(decoder_target_train)\n",
    "\n",
    "# 텍스트 시퀀스를 정수 시퀀스로 변환\n",
    "decoder_input_train = tar_tokenizer.texts_to_sequences(decoder_input_train) \n",
    "decoder_target_train = tar_tokenizer.texts_to_sequences(decoder_target_train)\n",
    "decoder_input_test = tar_tokenizer.texts_to_sequences(decoder_input_test)\n",
    "decoder_target_test = tar_tokenizer.texts_to_sequences(decoder_target_test)\n",
    "\n",
    "# 잘 변환되었는지 확인\n",
    "print('input')\n",
    "print('input ',decoder_input_train[:5])\n",
    "print('target')\n",
    "print('decoder ',decoder_target_train[:5])"
   ]
  },
  {
   "cell_type": "code",
   "execution_count": 56,
   "id": "featured-request",
   "metadata": {},
   "outputs": [
    {
     "name": "stdout",
     "output_type": "stream",
     "text": [
      "삭제할 훈련 데이터의 개수 : 0\n",
      "삭제할 테스트 데이터의 개수 : 0\n"
     ]
    },
    {
     "name": "stderr",
     "output_type": "stream",
     "text": [
      "/opt/conda/lib/python3.7/site-packages/numpy/core/_asarray.py:83: VisibleDeprecationWarning: Creating an ndarray from ragged nested sequences (which is a list-or-tuple of lists-or-tuples-or ndarrays with different lengths or shapes) is deprecated. If you meant to do this, you must specify 'dtype=object' when creating the ndarray\n",
      "  return array(a, dtype, copy=False, order=order)\n"
     ]
    },
    {
     "name": "stdout",
     "output_type": "stream",
     "text": [
      "훈련 데이터의 개수 : 77736\n",
      "훈련 레이블의 개수 : 77736\n",
      "테스트 데이터의 개수 : 19433\n",
      "테스트 레이블의 개수 : 19433\n"
     ]
    }
   ],
   "source": [
    "# 요약문에서 길이가 0이 된 샘플들의 인덱스 확인\n",
    "\n",
    "drop_train = [index for index, sentence in enumerate(decoder_input_train) if len(sentence) == 1]\n",
    "drop_test = [index for index, sentence in enumerate(decoder_input_test) if len(sentence) == 1]\n",
    "\n",
    "print('삭제할 훈련 데이터의 개수 :', len(drop_train))\n",
    "print('삭제할 테스트 데이터의 개수 :', len(drop_test))\n",
    "\n",
    "encoder_input_train = np.delete(encoder_input_train, drop_train, axis=0)\n",
    "decoder_input_train = np.delete(decoder_input_train, drop_train, axis=0)\n",
    "decoder_target_train = np.delete(decoder_target_train, drop_train, axis=0)\n",
    "\n",
    "encoder_input_test = np.delete(encoder_input_test, drop_test, axis=0)\n",
    "decoder_input_test = np.delete(decoder_input_test, drop_test, axis=0)\n",
    "decoder_target_test = np.delete(decoder_target_test, drop_test, axis=0)\n",
    "\n",
    "print('훈련 데이터의 개수 :', len(encoder_input_train))\n",
    "print('훈련 레이블의 개수 :', len(decoder_input_train))\n",
    "print('테스트 데이터의 개수 :', len(encoder_input_test))\n",
    "print('테스트 레이블의 개수 :', len(decoder_input_test))"
   ]
  },
  {
   "cell_type": "code",
   "execution_count": 57,
   "id": "breeding-swedish",
   "metadata": {},
   "outputs": [],
   "source": [
    "# 정해두었던 최대 길이로 패딩\n",
    "\n",
    "encoder_input_train = pad_sequences(encoder_input_train, maxlen=text_max_len, padding='post')\n",
    "encoder_input_test = pad_sequences(encoder_input_test, maxlen=text_max_len, padding='post')\n",
    "decoder_input_train = pad_sequences(decoder_input_train, maxlen=headlines_max_len, padding='post')\n",
    "decoder_target_train = pad_sequences(decoder_target_train, maxlen=headlines_max_len, padding='post')\n",
    "decoder_input_test = pad_sequences(decoder_input_test, maxlen=headlines_max_len, padding='post')\n",
    "decoder_target_test = pad_sequences(decoder_target_test, maxlen=headlines_max_len, padding='post')"
   ]
  },
  {
   "cell_type": "markdown",
   "id": "local-shooting",
   "metadata": {},
   "source": [
    "## 3. 모델 설계"
   ]
  },
  {
   "cell_type": "code",
   "execution_count": 38,
   "id": "median-paint",
   "metadata": {},
   "outputs": [
    {
     "name": "stdout",
     "output_type": "stream",
     "text": [
      "WARNING:tensorflow:Layer lstm will not use cuDNN kernel since it doesn't meet the cuDNN kernel criteria. It will use generic GPU kernel as fallback when running on GPU\n",
      "WARNING:tensorflow:Layer lstm_1 will not use cuDNN kernel since it doesn't meet the cuDNN kernel criteria. It will use generic GPU kernel as fallback when running on GPU\n",
      "WARNING:tensorflow:Layer lstm_2 will not use cuDNN kernel since it doesn't meet the cuDNN kernel criteria. It will use generic GPU kernel as fallback when running on GPU\n"
     ]
    }
   ],
   "source": [
    "# 함수형 API를 이용해서 인코더를 설계\n",
    "\n",
    "from tensorflow.keras.layers import Input, LSTM, Embedding, Dense, Concatenate\n",
    "from tensorflow.keras.models import Model\n",
    "from tensorflow.keras.callbacks import EarlyStopping, ModelCheckpoint\n",
    "\n",
    "\n",
    "# 인코더 설계 시작\n",
    "embedding_dim = 128 # 임베딩 벡터 차원 정의\n",
    "hidden_size = 256 # hidden state: LSTM에서 얼만큼 수용력을 가질지를 정하는 파라미터\n",
    "\n",
    "# 인코더\n",
    "encoder_inputs = Input(shape=(text_max_len,))\n",
    "\n",
    "# 인코더의 임베딩 층\n",
    "enc_emb = Embedding(src_vocab, embedding_dim)(encoder_inputs)\n",
    "\n",
    "# 인코더의 LSTM 1\n",
    "encoder_lstm1 = LSTM(hidden_size, return_sequences=True, return_state=True ,dropout = 0.4, recurrent_dropout = 0.4)\n",
    "encoder_output1, state_h1, state_c1 = encoder_lstm1(enc_emb)\n",
    "\n",
    "# 인코더의 LSTM 2\n",
    "encoder_lstm2 = LSTM(hidden_size, return_sequences=True, return_state=True, dropout=0.4, recurrent_dropout=0.4)\n",
    "encoder_output2, state_h2, state_c2 = encoder_lstm2(encoder_output1)\n",
    "\n",
    "# 인코더의 LSTM 3\n",
    "encoder_lstm3 = LSTM(hidden_size, return_state=True, return_sequences=True, dropout=0.4, recurrent_dropout=0.4)\n",
    "encoder_outputs, state_h, state_c= encoder_lstm3(encoder_output2)"
   ]
  },
  {
   "cell_type": "code",
   "execution_count": 39,
   "id": "fifty-banner",
   "metadata": {},
   "outputs": [
    {
     "name": "stdout",
     "output_type": "stream",
     "text": [
      "WARNING:tensorflow:Layer lstm_3 will not use cuDNN kernel since it doesn't meet the cuDNN kernel criteria. It will use generic GPU kernel as fallback when running on GPU\n"
     ]
    }
   ],
   "source": [
    "# 디코더 설계\n",
    "decoder_inputs = Input(shape=(None,))\n",
    "\n",
    "# 디코더의 임베딩 층\n",
    "dec_emb_layer = Embedding(tar_vocab, embedding_dim)\n",
    "dec_emb = dec_emb_layer(decoder_inputs)\n",
    "\n",
    "# 디코더의 LSTM\n",
    "decoder_lstm = LSTM(hidden_size, return_sequences=True, return_state=True, dropout=0.4, recurrent_dropout=0.2)\n",
    "decoder_outputs, _, _ = decoder_lstm(dec_emb, initial_state=[state_h, state_c])\n",
    "\n",
    "# 디코더는 LSTM의 입력을 정의할 때 initial state의 인자값으로 \n",
    "# 인코더의 hidden state와 cell state의 값을 넣어줘야 함"
   ]
  },
  {
   "cell_type": "code",
   "execution_count": 40,
   "id": "collectible-ending",
   "metadata": {},
   "outputs": [
    {
     "name": "stdout",
     "output_type": "stream",
     "text": [
      "Model: \"model\"\n",
      "__________________________________________________________________________________________________\n",
      "Layer (type)                    Output Shape         Param #     Connected to                     \n",
      "==================================================================================================\n",
      "input_1 (InputLayer)            [(None, 50)]         0                                            \n",
      "__________________________________________________________________________________________________\n",
      "embedding (Embedding)           (None, 50, 128)      2816000     input_1[0][0]                    \n",
      "__________________________________________________________________________________________________\n",
      "lstm (LSTM)                     [(None, 50, 256), (N 394240      embedding[0][0]                  \n",
      "__________________________________________________________________________________________________\n",
      "input_2 (InputLayer)            [(None, None)]       0                                            \n",
      "__________________________________________________________________________________________________\n",
      "lstm_1 (LSTM)                   [(None, 50, 256), (N 525312      lstm[0][0]                       \n",
      "__________________________________________________________________________________________________\n",
      "embedding_1 (Embedding)         (None, None, 128)    1280000     input_2[0][0]                    \n",
      "__________________________________________________________________________________________________\n",
      "lstm_2 (LSTM)                   [(None, 50, 256), (N 525312      lstm_1[0][0]                     \n",
      "__________________________________________________________________________________________________\n",
      "lstm_3 (LSTM)                   [(None, None, 256),  394240      embedding_1[0][0]                \n",
      "                                                                 lstm_2[0][1]                     \n",
      "                                                                 lstm_2[0][2]                     \n",
      "__________________________________________________________________________________________________\n",
      "dense (Dense)                   (None, None, 10000)  2570000     lstm_3[0][0]                     \n",
      "==================================================================================================\n",
      "Total params: 8,505,104\n",
      "Trainable params: 8,505,104\n",
      "Non-trainable params: 0\n",
      "__________________________________________________________________________________________________\n"
     ]
    }
   ],
   "source": [
    "# 디코더의 출력층\n",
    "decoder_softmax_layer = Dense(tar_vocab, activation='softmax')\n",
    "decoder_softmax_outputs = decoder_softmax_layer(decoder_outputs) \n",
    "\n",
    "# 모델 정의\n",
    "model = Model([encoder_inputs, decoder_inputs], decoder_softmax_outputs)\n",
    "model.summary()"
   ]
  },
  {
   "cell_type": "markdown",
   "id": "arbitrary-matter",
   "metadata": {},
   "source": [
    "## 4. 어텐션 메커니즘 적용\n",
    "\n",
    "어텐션 함수를 설계하는 것은 또 다른 새로운 신경망을 설계해야 한다"
   ]
  },
  {
   "cell_type": "code",
   "execution_count": 41,
   "id": "parallel-honduras",
   "metadata": {},
   "outputs": [],
   "source": [
    "# 깃허브에 공개된 어텐션 함수 다운로드\n",
    "\n",
    "urllib.request.urlretrieve(\"https://raw.githubusercontent.com/thushv89/attention_keras/master/src/layers/attention.py\", filename=\"attention.py\")\n",
    "from attention import AttentionLayer"
   ]
  },
  {
   "cell_type": "code",
   "execution_count": 42,
   "id": "laden-baker",
   "metadata": {},
   "outputs": [
    {
     "name": "stdout",
     "output_type": "stream",
     "text": [
      "Model: \"model_1\"\n",
      "__________________________________________________________________________________________________\n",
      "Layer (type)                    Output Shape         Param #     Connected to                     \n",
      "==================================================================================================\n",
      "input_1 (InputLayer)            [(None, 50)]         0                                            \n",
      "__________________________________________________________________________________________________\n",
      "embedding (Embedding)           (None, 50, 128)      2816000     input_1[0][0]                    \n",
      "__________________________________________________________________________________________________\n",
      "lstm (LSTM)                     [(None, 50, 256), (N 394240      embedding[0][0]                  \n",
      "__________________________________________________________________________________________________\n",
      "input_2 (InputLayer)            [(None, None)]       0                                            \n",
      "__________________________________________________________________________________________________\n",
      "lstm_1 (LSTM)                   [(None, 50, 256), (N 525312      lstm[0][0]                       \n",
      "__________________________________________________________________________________________________\n",
      "embedding_1 (Embedding)         (None, None, 128)    1280000     input_2[0][0]                    \n",
      "__________________________________________________________________________________________________\n",
      "lstm_2 (LSTM)                   [(None, 50, 256), (N 525312      lstm_1[0][0]                     \n",
      "__________________________________________________________________________________________________\n",
      "lstm_3 (LSTM)                   [(None, None, 256),  394240      embedding_1[0][0]                \n",
      "                                                                 lstm_2[0][1]                     \n",
      "                                                                 lstm_2[0][2]                     \n",
      "__________________________________________________________________________________________________\n",
      "attention_layer (AttentionLayer ((None, None, 256),  131328      lstm_2[0][0]                     \n",
      "                                                                 lstm_3[0][0]                     \n",
      "__________________________________________________________________________________________________\n",
      "concat_layer (Concatenate)      (None, None, 512)    0           lstm_3[0][0]                     \n",
      "                                                                 attention_layer[0][0]            \n",
      "__________________________________________________________________________________________________\n",
      "dense_1 (Dense)                 (None, None, 10000)  5130000     concat_layer[0][0]               \n",
      "==================================================================================================\n",
      "Total params: 11,196,432\n",
      "Trainable params: 11,196,432\n",
      "Non-trainable params: 0\n",
      "__________________________________________________________________________________________________\n"
     ]
    }
   ],
   "source": [
    "# 설계한 디코더의 출력층을 수정\n",
    "\n",
    "# 어텐션 층(어텐션 함수)\n",
    "attn_layer = AttentionLayer(name='attention_layer')\n",
    "# 인코더와 디코더의 모든 time step의 hidden state를 어텐션 층에 전달하고 결과를 리턴\n",
    "attn_out, attn_states = attn_layer([encoder_outputs, decoder_outputs])\n",
    "\n",
    "# 어텐션의 결과와 디코더의 hidden state들을 연결\n",
    "decoder_concat_input = Concatenate(axis=-1, name='concat_layer')([decoder_outputs, attn_out])\n",
    "\n",
    "# 디코더의 출력층\n",
    "decoder_softmax_layer = Dense(tar_vocab, activation='softmax')\n",
    "decoder_softmax_outputs = decoder_softmax_layer(decoder_concat_input)\n",
    "\n",
    "# 모델 정의\n",
    "model = Model([encoder_inputs, decoder_inputs], decoder_softmax_outputs)\n",
    "model.summary()"
   ]
  },
  {
   "cell_type": "markdown",
   "id": "geological-minute",
   "metadata": {},
   "source": [
    "### 모델 훈련\n",
    "\n",
    "EarlyStopping: 특정 조건이 충족되면 훈련을 멈추는 역할"
   ]
  },
  {
   "cell_type": "code",
   "execution_count": 43,
   "id": "hourly-expense",
   "metadata": {},
   "outputs": [
    {
     "name": "stdout",
     "output_type": "stream",
     "text": [
      "Epoch 1/50\n",
      "304/304 [==============================] - 637s 2s/step - loss: 6.0015 - val_loss: 5.1632\n",
      "Epoch 2/50\n",
      "304/304 [==============================] - 604s 2s/step - loss: 5.0949 - val_loss: 4.7822\n",
      "Epoch 3/50\n",
      "304/304 [==============================] - 499s 2s/step - loss: 4.7244 - val_loss: 4.5335\n",
      "Epoch 4/50\n",
      "304/304 [==============================] - 268s 880ms/step - loss: 4.4446 - val_loss: 4.3353\n",
      "Epoch 5/50\n",
      "304/304 [==============================] - 263s 864ms/step - loss: 4.2285 - val_loss: 4.1931\n",
      "Epoch 6/50\n",
      "304/304 [==============================] - 262s 863ms/step - loss: 4.0533 - val_loss: 4.0696\n",
      "Epoch 7/50\n",
      "304/304 [==============================] - 262s 861ms/step - loss: 3.8956 - val_loss: 3.9752\n",
      "Epoch 8/50\n",
      "304/304 [==============================] - 264s 868ms/step - loss: 3.7517 - val_loss: 3.9095\n",
      "Epoch 9/50\n",
      "304/304 [==============================] - 267s 880ms/step - loss: 3.6380 - val_loss: 3.8436\n",
      "Epoch 10/50\n",
      "304/304 [==============================] - 261s 860ms/step - loss: 3.5350 - val_loss: 3.7877\n",
      "Epoch 11/50\n",
      "304/304 [==============================] - 262s 863ms/step - loss: 3.4416 - val_loss: 3.7434\n",
      "Epoch 12/50\n",
      "304/304 [==============================] - 264s 867ms/step - loss: 3.3528 - val_loss: 3.7017\n",
      "Epoch 13/50\n",
      "304/304 [==============================] - 262s 860ms/step - loss: 3.2778 - val_loss: 3.6740\n",
      "Epoch 14/50\n",
      "304/304 [==============================] - 262s 861ms/step - loss: 3.2124 - val_loss: 3.6512\n",
      "Epoch 15/50\n",
      "304/304 [==============================] - 265s 872ms/step - loss: 3.1467 - val_loss: 3.6200\n",
      "Epoch 16/50\n",
      "304/304 [==============================] - 262s 860ms/step - loss: 3.0876 - val_loss: 3.6064\n",
      "Epoch 17/50\n",
      "304/304 [==============================] - 261s 859ms/step - loss: 3.0344 - val_loss: 3.5942\n",
      "Epoch 18/50\n",
      "304/304 [==============================] - 261s 859ms/step - loss: 2.9859 - val_loss: 3.5724\n",
      "Epoch 19/50\n",
      "304/304 [==============================] - 265s 873ms/step - loss: 2.9440 - val_loss: 3.5701\n",
      "Epoch 20/50\n",
      "304/304 [==============================] - 263s 864ms/step - loss: 2.9060 - val_loss: 3.5588\n",
      "Epoch 21/50\n",
      "304/304 [==============================] - 270s 887ms/step - loss: 2.8564 - val_loss: 3.5425\n",
      "Epoch 22/50\n",
      "304/304 [==============================] - 267s 877ms/step - loss: 2.8259 - val_loss: 3.5414\n",
      "Epoch 23/50\n",
      "304/304 [==============================] - 264s 868ms/step - loss: 2.7849 - val_loss: 3.5354\n",
      "Epoch 24/50\n",
      "304/304 [==============================] - 264s 868ms/step - loss: 2.7523 - val_loss: 3.5229\n",
      "Epoch 25/50\n",
      "304/304 [==============================] - 262s 863ms/step - loss: 2.7109 - val_loss: 3.5241\n",
      "Epoch 26/50\n",
      "304/304 [==============================] - 265s 870ms/step - loss: 2.6821 - val_loss: 3.5245\n",
      "Epoch 00026: early stopping\n"
     ]
    }
   ],
   "source": [
    "model.compile(optimizer='rmsprop', loss='sparse_categorical_crossentropy')\n",
    "es = EarlyStopping(monitor='val_loss', patience=2, verbose=1)\n",
    "history = model.fit(x=[encoder_input_train, decoder_input_train], y=decoder_target_train, \\\n",
    "          validation_data=([encoder_input_test, decoder_input_test], decoder_target_test), \\\n",
    "          batch_size=256, callbacks=[es], epochs=50)"
   ]
  },
  {
   "cell_type": "code",
   "execution_count": 44,
   "id": "outdoor-power",
   "metadata": {},
   "outputs": [
    {
     "data": {
      "image/png": "[encoded data removed]",
      "text/plain": [
       "<Figure size 432x288 with 1 Axes>"
      ]
     },
     "metadata": {
      "needs_background": "light"
     },
     "output_type": "display_data"
    }
   ],
   "source": [
    "# 훈련 데이터의 손실과 검증 데이터의 손실이 줄어드는 과정을 시각화\n",
    "\n",
    "plt.plot(history.history['loss'], label='train')\n",
    "plt.plot(history.history['val_loss'], label='test')\n",
    "plt.legend()\n",
    "plt.show()"
   ]
  },
  {
   "cell_type": "markdown",
   "id": "collect-blink",
   "metadata": {},
   "source": [
    "### 인퍼런스 모델 구현"
   ]
  },
  {
   "cell_type": "code",
   "execution_count": 45,
   "id": "thick-breast",
   "metadata": {},
   "outputs": [],
   "source": [
    "# 정수 인덱스 행렬로 존재하던 텍스트 데이터를 실제 데이터로 복원\n",
    "# 필요한 3개의 사전을 미리 준비\n",
    "\n",
    "src_index_to_word = src_tokenizer.index_word # 원문 단어 집합에서 정수 -> 단어를 얻음\n",
    "tar_word_to_index = tar_tokenizer.word_index # 요약 단어 집합에서 단어 -> 정수를 얻음\n",
    "tar_index_to_word = tar_tokenizer.index_word # 요약 단어 집합에서 정수 -> 단어를 얻음"
   ]
  },
  {
   "cell_type": "code",
   "execution_count": 46,
   "id": "miniature-stake",
   "metadata": {},
   "outputs": [],
   "source": [
    "# seq2seq는 훈련할 때와 실제 동작할 때(인퍼런스 단계)의 방식이 다르므로 \n",
    "#그에 맞게 모델 설계를 별개로 진행해야 한다\n",
    "# 인퍼런스 단계에서는 만들어야 할 문장의 길이만큼 디코더가 반복 구조로 동작\n",
    "# 인퍼런스를 위한 모델 설계를 별도로 해주어야 함\n",
    "# 인코더 모델과 디코더 모델을 분리해서 설계\n",
    "\n",
    "\n",
    "# 인코더 설계\n",
    "encoder_model = Model(inputs=encoder_inputs, outputs=[encoder_outputs, state_h, state_c])\n",
    "\n",
    "# 이전 시점의 상태들을 저장하는 텐서\n",
    "decoder_state_input_h = Input(shape=(hidden_size,))\n",
    "decoder_state_input_c = Input(shape=(hidden_size,))\n",
    "\n",
    "dec_emb2 = dec_emb_layer(decoder_inputs)\n",
    "\n",
    "# 문장의 다음 단어를 예측하기 위해서 초기 상태(initial_state)를 이전 시점의 상태로 사용. 이는 뒤의 함수 decode_sequence()에 구현\n",
    "# 훈련 과정에서와 달리 LSTM의 리턴하는 은닉 상태와 셀 상태인 state_h와 state_c를 버리지 않음.\n",
    "decoder_outputs2, state_h2, state_c2 = decoder_lstm(dec_emb2, initial_state=[decoder_state_input_h, decoder_state_input_c])"
   ]
  },
  {
   "cell_type": "code",
   "execution_count": 47,
   "id": "joined-forge",
   "metadata": {},
   "outputs": [],
   "source": [
    "# 어텐션 함수\n",
    "decoder_hidden_state_input = Input(shape=(text_max_len, hidden_size))\n",
    "attn_out_inf, attn_states_inf = attn_layer([decoder_hidden_state_input, decoder_outputs2])\n",
    "decoder_inf_concat = Concatenate(axis=-1, name='concat')([decoder_outputs2, attn_out_inf])\n",
    "\n",
    "# 디코더의 출력층\n",
    "decoder_outputs2 = decoder_softmax_layer(decoder_inf_concat) \n",
    "\n",
    "# 최종 디코더 모델\n",
    "decoder_model = Model(\n",
    "    [decoder_inputs] + [decoder_hidden_state_input,decoder_state_input_h, decoder_state_input_c],\n",
    "    [decoder_outputs2] + [state_h2, state_c2])"
   ]
  },
  {
   "cell_type": "code",
   "execution_count": 48,
   "id": "adolescent-superintendent",
   "metadata": {},
   "outputs": [],
   "source": [
    "# 인퍼런스 단계에서 단어 시퀀스를 완성하는 함수\n",
    "\n",
    "def decode_sequence(input_seq):\n",
    "    # 입력으로부터 인코더의 상태를 얻음\n",
    "    e_out, e_h, e_c = encoder_model.predict(input_seq)\n",
    "\n",
    "     # <SOS>에 해당하는 토큰 생성\n",
    "    target_seq = np.zeros((1,1))\n",
    "    target_seq[0, 0] = tar_word_to_index['sostoken']\n",
    "\n",
    "    stop_condition = False\n",
    "    decoded_sentence = ''\n",
    "    while not stop_condition: # stop_condition이 True가 될 때까지 루프 반복\n",
    "\n",
    "        output_tokens, h, c = decoder_model.predict([target_seq] + [e_out, e_h, e_c])\n",
    "        sampled_token_index = np.argmax(output_tokens[0, -1, :])\n",
    "        sampled_token = tar_index_to_word[sampled_token_index]\n",
    "\n",
    "        if (sampled_token!='eostoken'):\n",
    "            decoded_sentence += ' '+sampled_token\n",
    "\n",
    "        #  <eos>에 도달하거나 최대 길이를 넘으면 중단.\n",
    "        if (sampled_token == 'eostoken'  or len(decoded_sentence.split()) >= (headlines_max_len-1)):\n",
    "            stop_condition = True\n",
    "\n",
    "        # 길이가 1인 타겟 시퀀스를 업데이트\n",
    "        target_seq = np.zeros((1,1))\n",
    "        target_seq[0, 0] = sampled_token_index\n",
    "\n",
    "        # 상태를 업데이트 합니다.\n",
    "        e_h, e_c = h, c\n",
    "\n",
    "    return decoded_sentence"
   ]
  },
  {
   "cell_type": "markdown",
   "id": "intelligent-shelf",
   "metadata": {},
   "source": [
    "## 5. 실제 결과와 요약문 비교 (추상적 요약)"
   ]
  },
  {
   "cell_type": "code",
   "execution_count": 2,
   "id": "global-adoption",
   "metadata": {},
   "outputs": [],
   "source": [
    "# 정수 시퀀스를 텍스트 시퀀스로 변환하는 함수\n",
    "# Text의 정수 시퀀스에서는 패딩을 위해 사용되는 숫자 0을 제외\n",
    "# headlines의 정수 시퀀스에서는 \n",
    "# 숫자 0, 시작 토큰의 인덱스, 종료 토큰의 인덱스를 출력에서 제외\n",
    "\n",
    "# 원문의 정수 시퀀스를 텍스트 시퀀스로 변환\n",
    "def seq2text(input_seq):\n",
    "    temp=''\n",
    "    for i in input_seq:\n",
    "        if (i!=0):\n",
    "            temp = temp + src_index_to_word[i]+' '\n",
    "    return temp\n",
    "\n",
    "# 요약문의 정수 시퀀스를 텍스트 시퀀스로 변환\n",
    "def seq2summary(input_seq):\n",
    "    temp=''\n",
    "    for i in input_seq:\n",
    "        if ((i!=0 and i!=tar_word_to_index['sostoken']) and i!=tar_word_to_index['eostoken']):\n",
    "            temp = temp + tar_index_to_word[i] + ' '\n",
    "    return temp"
   ]
  },
  {
   "cell_type": "code",
   "execution_count": 50,
   "id": "electrical-administrator",
   "metadata": {
    "scrolled": false
   },
   "outputs": [
    {
     "name": "stdout",
     "output_type": "stream",
     "text": [
      "원문 : tripura government decided introduce reservation women levels police department initially start reservation fight crime women may hike later depending feedback state law minister ratan lal nath said state government also made written test mandatory recruitment ensure transparency \n",
      "실제 요약 : tripura govt reserves posts in police force for women \n",
      "예측 요약 :  tripura govt withdraws reservation for women in telangana\n",
      "\n",
      "\n",
      "원문 : us secretary state mike pompeo said country rejects russia annexation crimea russian foreign ministry said us fails stick commitments citing us withdrawal iran nuclear deal paris climate agreement ministry added us foreign policy changes change leadership \n",
      "실제 요약 : us fails to stick to russian foreign ministry \n",
      "예측 요약 :  russia cannot be ready for us russia\n",
      "\n",
      "\n",
      "원문 : indian shuttler kidambi srikanth knocked contention season ending bwf world tour finals eighth seed beat straight games quarter finals hong kong open friday year old shuttler four superseries titles registered sixth quarter final defeat season \n",
      "실제 요약 : srikanth out of world tour finals after loss \n",
      "예측 요약 :  srikanth beats srikanth to reach world no superseries finals\n",
      "\n",
      "\n",
      "원문 : maharashtra cm devendra fadnavis monday said doubts regarding killing tigress avni suspected killed least people probed speaking union minister maneka gandhi criticism avni murder fadnavis said used harsh words adding sentiments understood animal lovers sentiments harsh regarding incident \n",
      "실제 요약 : maneka used harsh words will probe tigress death maha cm \n",
      "예측 요약 :  maha cm blames maha cm for killing those who killed self\n",
      "\n",
      "\n",
      "원문 : info edge parent company real estate website acres job portal invested crore digital medical platform company stake startup deal founded facilitates remote follow consultations doctors users medical records \n",
      "실제 요약 : owner of invests in health tech startup \n",
      "예측 요약 :  acquires hyderabad based app for crore\n",
      "\n",
      "\n",
      "원문 : white house considering former pepsico chief executive officer indra nooyi position world bank president new york times reported nooyi stepped last october leading pepsico years ivanka trump reportedly floated name potential successor tweeted views nooyi mentor inspiration \n",
      "실제 요약 : white house considering indra nooyi to head world bank reports \n",
      "예측 요약 :  ex us president nooyi replaces ex head of head\n",
      "\n",
      "\n",
      "원문 : cybersecurity expert john mcafee monday tweeted used cryptocurrency pay prostitutes drugs pornography earlier day mcafee said used cryptocurrency food entertainment clothing homes sex hire services past began issuing weekly recommendations cryptocurrencies headline coin week \n",
      "실제 요약 : paid for porn using cryptocurrency admits mcafee \n",
      "예측 요약 :  mcafee mcafee calls for cryptocurrency trading\n",
      "\n",
      "\n",
      "원문 : lakh indians forced flee homes according internal displacement monitoring centre report claiming india third highest population displaced people report said crore people worldwide internally displaced conflict violence disasters people displaced china philippines india \n",
      "실제 요약 : lakh indians forced to leave their homes in report \n",
      "예측 요약 :  indians will be affected by indians in years report\n",
      "\n",
      "\n",
      "원문 : late tv actress pratyusha banerjee last short film hum naa released first death anniversary saturday friend kamya punjabi film story reportedly bears similarities pratyusha life character named rahul said veiled reference boyfriend shot one half months pratyusha committed suicide \n",
      "실제 요약 : late actress pratyusha banerjee last short film released \n",
      "예측 요약 :  tv actress releases short film on death anniversary\n",
      "\n",
      "\n",
      "원문 : rajasthan college education directorate issued circular stating women college students wear either salwar kameez sarees uniform men wear shirt trousers left college administrations decide colour uniform meanwhile congress promised oppose decision \n",
      "실제 요약 : raj govt introduces saree only dress code for girls \n",
      "예측 요약 :  du college to wear shorts to wear shorts at college\n",
      "\n",
      "\n",
      "원문 : sri lanka cricket denied perera took help dressing room drs review first test india sunday perera appeared look towards dressing room turning around review clarified message dressing room call delayed due confusion regarding review availability \n",
      "실제 요약 : sri lanka deny batsman took help from dressing room for drs \n",
      "예측 요약 :  sl captain sl captain asks to bat for field\n",
      "\n",
      "\n",
      "원문 : italy year old motorcycle racer pulled stefano brake lever riding speed kmph san coast grand prix sunday disqualified laps later banned two races officials never race motorcycle motogp rider said \n",
      "실제 요약 : motorcycle racer grabs opponent brake at kmph gets banned \n",
      "예측 요약 :  man crashes into race to race over race\n",
      "\n",
      "\n",
      "원문 : people uttar pradesh unnao quack transmitted hiv around people syringe claimed quack polite respectful medicines cheap people also said afraid visit doctors community health centres claiming misbehaved patients prescribed expensive medicines \n",
      "실제 요약 : local doctor was cheaper up town after hiv cases detected \n",
      "예측 요약 :  uttar pradesh village has no place in old\n",
      "\n",
      "\n",
      "원문 : us president donald trump wrongly claimed apple planning build new manufacturing plants country speech trump said apple alone bringing billion gonna spending money trump first claimed last year apple ceo tim cook promised build manufacturing plants us \n",
      "실제 요약 : prez trump wrongly claims apple will build new plants in us \n",
      "예측 요약 :  apple battery of iphones in us prez trump\n",
      "\n",
      "\n",
      "원문 : us house representatives tuesday voted approve new sanctions russia interference presidential elections despite president donald trump objecting legislation bill would also levy new sanctions north korea iran nations ballistic missile programs white house officials said reviewing bill \n",
      "실제 요약 : us house approves new sanctions against russia \n",
      "예측 요약 :  us house to end trump sanctions on iran sanctions\n",
      "\n",
      "\n",
      "원문 : calling abolition article jammu kashmir deputy chief minister nirmal singh said provision grants special autonomous status state done harm anything bjp leader added party achieved plus target assembly elections things would different \n",
      "실제 요약 : article has done more harm to than anything dy cm \n",
      "예측 요약 :  govt will not be given to power for power dy cm\n",
      "\n",
      "\n",
      "원문 : maharashtra chief minister devendra fadnavis friday visited victims stampede mumbai elphinstone road station king edward memorial hospital adding audit bridges started railway ministry said maharashtra whole country shock tragic incident \n",
      "실제 요약 : maha cm visits victims of mumbai stampede in hospital \n",
      "예측 요약 :  mumbai cm announces mumbai cm for stampede at mumbai\n",
      "\n",
      "\n",
      "원문 : police complaint filed gujarat mla jignesh mevani jnu student umar khalid allegedly making inflammatory speeches maharashtra day bhima koregaon violence broke two leaders local hindu bodies booked allegedly instigating clashes sparked pune district year old man killed violence \n",
      "실제 요약 : fir against mevani over speech before maha riots \n",
      "예측 요약 :  fir filed against unnao student over bhima koregaon case\n",
      "\n",
      "\n",
      "원문 : members parliament proposed domestic airlines automatically upgrade mps seats business class flights vacant seats civil aviation ministry also asked issue circular stating guidelines airlines notably mp entitled free air journeys per year opt travel business class \n",
      "실제 요약 : mps ask for flight seats to be to business class \n",
      "예측 요약 :  mps fly to fly fee for air india privatisation\n",
      "\n",
      "\n",
      "원문 : nasa shared image cosmic pair supermassive black holes seen background nearby spiral galaxy galaxy located million light years earth new data nasa chandra ray observatory revealed black holes earlier classified stars billion light years away \n",
      "실제 요약 : nasa sees black hole pair galaxy \n",
      "예측 요약 :  nasa telescope finds galaxy on galaxy\n",
      "\n",
      "\n",
      "원문 : former sbi chairman op bhatt thursday resigned search selection committee set identify new ceo yes bank bhatt tendered immediate resignation panel citing may potential conflict interest rbi given yes bank time till january find rana kapoor successor \n",
      "실제 요약 : former sbi chief op bhatt resigns from yes bank ceo search panel \n",
      "예측 요약 :  mallya to be part of ceo extension report\n",
      "\n",
      "\n",
      "원문 : tenant family delhi allegedly murdered son hid body inside suitcase month police said condition boy body seems like killed soon went missing month ago tenant reportedly boy parents objected \n",
      "실제 요약 : boy body found in bag month after he went missing \n"
     ]
    },
    {
     "name": "stdout",
     "output_type": "stream",
     "text": [
      "예측 요약 :  father kills self son for son found in delhi\n",
      "\n",
      "\n",
      "원문 : essar group monday said repaid lakh crore debt past two years group debt group holding company essar global holdings repaid last debt crore various banks continuing lender essar global russia group \n",
      "실제 요약 : essar group more than of its total debt in years \n",
      "예측 요약 :  essar bank to invest cr in debt for fy\n",
      "\n",
      "\n",
      "원문 : claiming mahagathbandhan failed idea prime minister narendra modi wednesday said parties constantly come together opportunity form government added us winning election defeating rivals serving people \n",
      "실제 요약 : first parties fight then try to form govt pm on grand alliance \n",
      "예측 요약 :  pm modi is not to make world pm modi\n",
      "\n",
      "\n",
      "원문 : fake town new york invented stop people map however another included place map observed general store actually built exact place located company maps \n",
      "실제 요약 : an town was once turned into real place \n",
      "예측 요약 :  fake news of china spy on fake news\n",
      "\n",
      "\n",
      "원문 : united nations investigators wednesday found mass graves democratic republic congo bringing total number since clashes soldiers local militia intensified august last year least people including children reported killed soldiers clashes investigators said \n",
      "실제 요약 : un finds new mass graves in congo \n",
      "예측 요약 :  un declares children in congo amid clashes\n",
      "\n",
      "\n",
      "원문 : least people injured jallikattu event held district tamil nadu friday around bulls reportedly involved event also saw total participants earlier year state government passed law legalise jallikattu overturned supreme court imposed ban traditional bull sport \n",
      "실제 요약 : injured at jallikattu event in tamil nadu \n",
      "예측 요약 :  injured in tn ahead of tamil nadu polls\n",
      "\n",
      "\n",
      "원문 : england allow women take early abortion pill home currently women england seeking terminate pregnancy first weeks must take two pills clinic hours apart new plan women take second pill safe familiar surroundings home government said \n",
      "실제 요약 : england to allow women to take early abortion pill at home \n",
      "예측 요약 :  aus women to have abortion doctors\n",
      "\n",
      "\n",
      "원문 : following record tenth title french open spaniard rafael nadal jumped second spot latest atp men singles rankings former world number one novak djokovic slipped fourth spot crashing french open quarterfinals britain andy murray remained top spot despite semifinal exit \n",
      "실제 요약 : rafael nadal climbs to nd spot in world rankings \n",
      "예측 요약 :  nadal beats world no to reach world no one one one\n",
      "\n",
      "\n",
      "원문 : kerala police thursday detained people alleged involvement violent protests entry women sabarimala temple police said checking role detained people help video footage condemning police action bjp said government headed non believers destroy sanctity temple \n",
      "실제 요약 : police detain over people over sabarimala temple violence \n",
      "예측 요약 :  kerala police arrest kerala police protest against sabarimala\n",
      "\n",
      "\n",
      "원문 : teachers across russia launched social media sharing pictures support colleague fired modelling swimsuit told violated school code conduct campaign gained strength offered job back school different one \n",
      "실제 요약 : teachers launch bikini for sacked colleague in russia \n",
      "예측 요약 :  teachers use to use of social media to combat\n",
      "\n",
      "\n",
      "원문 : singer ariana grande visited young children hospital injured blast concert manchester uk may year old singer presented shirts gifts young children ariana along justin bieber miley cyrus perform june raise funds victims terrorist attack concert \n",
      "실제 요약 : ariana grande visits kids injured after blast at her concert \n",
      "예측 요약 :  ariana grande to get ariana manchester concert after manchester concert\n",
      "\n",
      "\n",
      "원문 : cbi monday filed chargesheet former canara bank cmd rk dubey two former executive directors alleged loan default crore two directors delhi based private jewellery company also charged agency alleged directors knew dubey used connection get loans turned non performing \n",
      "실제 요약 : cbi ex bank cmd over cr default case \n",
      "예측 요약 :  cbi books ex icici bank of cr fraud\n",
      "\n",
      "\n",
      "원문 : picture purportedly bilal kashmiri student went missing private university noida sunday surfaced online picture bilal seen wearing black outfit weapons strapped body posing islamic state flag police said verifying authenticity picture \n",
      "실제 요약 : pic shows kashmiri student missing from noida posing as militant \n",
      "예측 요약 :  video of tribal couple goes viral on mumbai hostel\n",
      "\n",
      "\n",
      "원문 : death toll floods sierra leone crossed others still missing according red cross humanitarian organisation said hopes find survivors chances getting smaller every day disaster occurred heavy rains triggered mudslides led people washed away buildings getting submerged \n",
      "실제 요약 : death toll in sierra leone floods crosses \n",
      "예측 요약 :  death toll rises to death in kerala floods rises to\n",
      "\n",
      "\n",
      "원문 : year old alwar priest chopped genitals public meeting threw air compared rape accused babas like asaram bapu baba daati maharaj anil purohit urged villagers calm cutting genitals reports said rushed jaipur sawai man singh hospital fainted \n",
      "실제 요약 : priest chops genitals in public on rape accused babas taunts \n",
      "예측 요약 :  girl who raped me was sexually harassed yr old girl\n",
      "\n",
      "\n",
      "원문 : delhi health minister kumar jain admitted hospital sunday th day ongoing protest lieutenant governor anil baijal official residence jain protesting along cm arvind kejriwal deputy cm manish sisodia cabinet minister gopal rai demanding ias officers end undeclared strike \n",
      "실제 요약 : delhi minister hospitalised on day of protest at house \n",
      "예측 요약 :  delhi cm to visit after days of state\n",
      "\n",
      "\n",
      "원문 : dig alleged photoshopped cover vanity fair cover gq magazine comedy issue features extra photoshopped hands legs actresses kate rae sarah gq issued mock apology cover stating intention celebrate three super funny superstars deeply regret results violated laws nature \n",
      "실제 요약 : gq magazine cover features extra photoshopped hands legs \n",
      "예측 요약 :  twitter reacts to cover of jeans dress code\n",
      "\n",
      "\n",
      "원문 : rafael nadal record eleventh french open title might lose world number one ranking roger federer swiss reaches third round upcoming grass court tournament stuttgart open federer reach tournament final registers three wins lost opening round tommy last year \n",
      "실제 요약 : nadal may lose world rank to federer despite french open win \n",
      "예측 요약 :  nadal nadal to open world no no no no no no\n",
      "\n",
      "\n",
      "원문 : virat kohli dismissed duck first time career nd match australia tuesday kohli caught bowled australian pacer jason playing second incidentally dismissed former indian cricketers sachin tendulkar rahul dravid last professional career ducks \n",
      "실제 요약 : kohli gets out for duck for the first time after is \n",
      "예측 요약 :  kohli only player to hit tons as captain of sachin\n",
      "\n",
      "\n",
      "원문 : passengers us flight saved life fellow flyer collapsed moments takeoff nurse flight confirmed pulse breathing following passengers crew members used onboard revive passengers reportedly cheered revived paramedics escorted hospital \n",
      "실제 요약 : man saved by passengers after he collapses on flight \n",
      "예측 요약 :  flight saves man with wife during flight mid air\n",
      "\n",
      "\n",
      "원문 : former australian captain ricky ponting claimed rcb captain virat kohli done next nothing season one major reasons rcb poor performance ipl ponting added absence indian top order batsman kl rahul also major factor rcb poor ipl season \n",
      "실제 요약 : kohli has done next to nothing this ipl season ponting \n",
      "예측 요약 :  kohli is the best ipl ponting ponting\n",
      "\n",
      "\n",
      "원문 : actress manisha koirala praising sanju co star ranbir kapoor said feeling ranbir bigger game superstar best years come actor added talking ranbir transformation film sanju manisha said surpassed \n",
      "실제 요약 : ranbir out for bigger game than just being superstar manisha \n",
      "예측 요약 :  ranbir is the most superstar of the world song richa\n",
      "\n",
      "\n",
      "원문 : archaeologists discovered bronze containing year old liquor excavation site china contained ml liquor opening sealed natural fibres researcher said among items including sword turtle shell unearthed commoners tombs dynasty \n",
      "실제 요약 : year old liquor discovered in ancient tomb in china \n",
      "예측 요약 :  found in china for illegal construction\n",
      "\n",
      "\n",
      "원문 : student west bengal biplab mondal appeared class th board examinations along parents students school state nadia district also subjects competitors exam hall year old biplab said \n",
      "실제 요약 : parents son together appear for board exams in west bengal \n"
     ]
    },
    {
     "name": "stdout",
     "output_type": "stream",
     "text": [
      "예측 요약 :  class student scores in class exam in pakistan\n",
      "\n",
      "\n",
      "원문 : premier league playoff would held liverpool arsenal manchester city finish identical results city liverpool would play third city draw liverpool win arsenal draw liverpool lose two play fourth city arsenal playoff likely city lose arsenal win \n",
      "실제 요약 : what happens if liverpool arsenal city finish \n",
      "예측 요약 :  man city win man utd win streak with pl win\n",
      "\n",
      "\n",
      "원문 : retired year old japanese banker created gaming app based japanese doll festival oldest person attend apple worldwide developers conference year started using computer age took online coding apple annual conference showcases new software technologies \n",
      "실제 요약 : yr old woman app maker oldest to attend apple conference \n",
      "예측 요약 :  ex nasa year old becomes world largest smartphone\n",
      "\n",
      "\n",
      "원문 : csk rounder dwayne bravo pulled diving catch dismiss srh yusuf pathan runs bowling ipl qualifier tuesday year old dived low follow reacted time pluck catch jumping regain control bravo picked two wickets innings \n",
      "실제 요약 : csk dwayne bravo produces diving catch off own bowling \n",
      "예측 요약 :  kxip batsman takes catch to pull out of boundary to boundary\n",
      "\n",
      "\n",
      "원문 : finance ministry issues circular states union territories ministries departments september prepare estimates next financial year estimates submitted finance ministry holds extensive discussions ministries meetings finance minister takes call tax proposals pm freezing budget \n",
      "실제 요약 : how is the union budget prepared \n",
      "예측 요약 :  govt to set up govt to set up govt for next\n",
      "\n",
      "\n",
      "원문 : french president emmanuel macron criticised telling unemployed man could easily find job crossing road single place go say looking people told gardener france unemployment rate \n",
      "실제 요약 : would get you job by crossing road macron to unemployed man \n",
      "예측 요약 :  french prez macron calls man behind bitcoin\n",
      "\n",
      "\n"
     ]
    }
   ],
   "source": [
    "text_list = []\n",
    "target_sum = []\n",
    "\n",
    "\n",
    "for i in range(50, 100):\n",
    "    print(\"원문 :\", seq2text(encoder_input_test[i]))\n",
    "    print(\"실제 요약 :\", seq2summary(decoder_input_test[i]))\n",
    "    print(\"예측 요약 :\", decode_sequence(encoder_input_test[i].reshape(1, text_max_len)))\n",
    "    print(\"\\n\")"
   ]
  },
  {
   "cell_type": "markdown",
   "id": "smart-sacramento",
   "metadata": {},
   "source": [
    "- 요약 결과가 그리 좋지 못한 것 같다.\n",
    "- 어느 정도 유사하게 요약한 경우가 있긴하지만 대부분이 요약을 잘 하지 못하는 것 같다.\n",
    "- 특히나 동어 반복 문제가 좀 있는 것 같다.\n",
    "\n",
    "<br><br>\n",
    "\n",
    "### 유사도 확인: Sentence Transformers 패키지 활용\n",
    "\n",
    "- 문장 하나하나 50개를 주관적으로 비교하는 것이 불편하여 다르게 비교 할 수 있는 방법을 고민해 보았다.\n",
    "\n",
    "- 그러던 중 문장간 유사도를 확인해보면 어떨까 생각이 들어 서치해보았고, 간단하게 사전 훈련된 모델을 사용할 수 있는 `Sentence-Transformers' 패키지를 활용해보았다.\n",
    "\n",
    "- 해당 패키지를 통해 BERT, RoBERTa, XLM-RoBERTa 등의 알고리즘을 사용할 수 있고, 100개 이상의 언어에 대해 사전 훈련된 모델도 이용 가능\n",
    "\n",
    "- 위 결과를 별도 csv 파일로 따로 추출해서 불러왔다.\n",
    "\n"
   ]
  },
  {
   "cell_type": "code",
   "execution_count": 5,
   "id": "productive-cemetery",
   "metadata": {
    "scrolled": true
   },
   "outputs": [
    {
     "data": {
      "text/html": [
       "<div>\n",
       "<style scoped>\n",
       "    .dataframe tbody tr th:only-of-type {\n",
       "        vertical-align: middle;\n",
       "    }\n",
       "\n",
       "    .dataframe tbody tr th {\n",
       "        vertical-align: top;\n",
       "    }\n",
       "\n",
       "    .dataframe thead th {\n",
       "        text-align: right;\n",
       "    }\n",
       "</style>\n",
       "<table border=\"1\" class=\"dataframe\">\n",
       "  <thead>\n",
       "    <tr style=\"text-align: right;\">\n",
       "      <th></th>\n",
       "      <th>text</th>\n",
       "      <th>target</th>\n",
       "      <th>prediction</th>\n",
       "    </tr>\n",
       "  </thead>\n",
       "  <tbody>\n",
       "    <tr>\n",
       "      <th>0</th>\n",
       "      <td>tripura government decided introduce reservati...</td>\n",
       "      <td>tripura govt reserves posts in police force fo...</td>\n",
       "      <td>tripura govt withdraws reservation for women i...</td>\n",
       "    </tr>\n",
       "    <tr>\n",
       "      <th>1</th>\n",
       "      <td>us secretary state mike pompeo said country re...</td>\n",
       "      <td>us fails to stick to russian foreign ministry</td>\n",
       "      <td>russia cannot be ready for us russia</td>\n",
       "    </tr>\n",
       "    <tr>\n",
       "      <th>2</th>\n",
       "      <td>indian shuttler kidambi srikanth knocked conte...</td>\n",
       "      <td>srikanth out of world tour finals after loss</td>\n",
       "      <td>srikanth beats srikanth to reach world no supe...</td>\n",
       "    </tr>\n",
       "    <tr>\n",
       "      <th>3</th>\n",
       "      <td>maharashtra cm devendra fadnavis monday said ...</td>\n",
       "      <td>maneka used harsh words will probe tigress de...</td>\n",
       "      <td>maha cm blames maha cm for killing those who k...</td>\n",
       "    </tr>\n",
       "    <tr>\n",
       "      <th>4</th>\n",
       "      <td>info edge parent company real estate website a...</td>\n",
       "      <td>owner of invests in health tech startup</td>\n",
       "      <td>acquires hyderabad based app for crore</td>\n",
       "    </tr>\n",
       "  </tbody>\n",
       "</table>\n",
       "</div>"
      ],
      "text/plain": [
       "                                                text  \\\n",
       "0  tripura government decided introduce reservati...   \n",
       "1  us secretary state mike pompeo said country re...   \n",
       "2  indian shuttler kidambi srikanth knocked conte...   \n",
       "3   maharashtra cm devendra fadnavis monday said ...   \n",
       "4  info edge parent company real estate website a...   \n",
       "\n",
       "                                              target  \\\n",
       "0  tripura govt reserves posts in police force fo...   \n",
       "1      us fails to stick to russian foreign ministry   \n",
       "2      srikanth out of world tour finals after loss    \n",
       "3   maneka used harsh words will probe tigress de...   \n",
       "4           owner of invests in health tech startup    \n",
       "\n",
       "                                          prediction  \n",
       "0  tripura govt withdraws reservation for women i...  \n",
       "1               russia cannot be ready for us russia  \n",
       "2  srikanth beats srikanth to reach world no supe...  \n",
       "3  maha cm blames maha cm for killing those who k...  \n",
       "4             acquires hyderabad based app for crore  "
      ]
     },
     "execution_count": 5,
     "metadata": {},
     "output_type": "execute_result"
    }
   ],
   "source": [
    "sum_data = pd.read_csv('~/aiffel/news_summarization/data/summarization.csv')\n",
    "sum_data.head()"
   ]
  },
  {
   "cell_type": "markdown",
   "id": "signed-producer",
   "metadata": {},
   "source": [
    "- sentence-transformers 패키지 설치 및 불러오기"
   ]
  },
  {
   "cell_type": "code",
   "execution_count": 6,
   "id": "challenging-horizon",
   "metadata": {
    "scrolled": true
   },
   "outputs": [
    {
     "name": "stdout",
     "output_type": "stream",
     "text": [
      "Collecting sentence-transformers\n",
      "  Downloading sentence-transformers-2.1.0.tar.gz (78 kB)\n",
      "\u001b[K     |████████████████████████████████| 78 kB 3.9 MB/s eta 0:00:011\n",
      "\u001b[?25hRequirement already satisfied: tqdm in /opt/conda/lib/python3.7/site-packages (from sentence-transformers) (4.56.0)\n",
      "Requirement already satisfied: torch>=1.6.0 in /opt/conda/lib/python3.7/site-packages (from sentence-transformers) (1.9.0+cu111)\n",
      "Requirement already satisfied: torchvision in /opt/conda/lib/python3.7/site-packages (from sentence-transformers) (0.10.0+cu111)\n",
      "Requirement already satisfied: numpy in /opt/conda/lib/python3.7/site-packages (from sentence-transformers) (1.19.5)\n",
      "Requirement already satisfied: scikit-learn in /opt/conda/lib/python3.7/site-packages (from sentence-transformers) (0.23.0)\n",
      "Requirement already satisfied: scipy in /opt/conda/lib/python3.7/site-packages (from sentence-transformers) (1.4.1)\n",
      "Requirement already satisfied: nltk in /opt/conda/lib/python3.7/site-packages (from sentence-transformers) (3.5)\n",
      "Requirement already satisfied: sentencepiece in /opt/conda/lib/python3.7/site-packages (from sentence-transformers) (0.1.95)\n",
      "Collecting tokenizers>=0.10.3\n",
      "  Downloading tokenizers-0.10.3-cp37-cp37m-manylinux_2_5_x86_64.manylinux1_x86_64.manylinux_2_12_x86_64.manylinux2010_x86_64.whl (3.3 MB)\n",
      "\u001b[K     |████████████████████████████████| 3.3 MB 10.0 MB/s eta 0:00:01\n",
      "\u001b[?25hRequirement already satisfied: typing-extensions in /opt/conda/lib/python3.7/site-packages (from torch>=1.6.0->sentence-transformers) (3.7.4.3)\n",
      "Collecting transformers<5.0.0,>=4.6.0\n",
      "  Downloading transformers-4.12.3-py3-none-any.whl (3.1 MB)\n",
      "\u001b[K     |████████████████████████████████| 3.1 MB 42.8 MB/s eta 0:00:01\n",
      "\u001b[?25hRequirement already satisfied: pyyaml>=5.1 in /opt/conda/lib/python3.7/site-packages (from transformers<5.0.0,>=4.6.0->sentence-transformers) (5.3.1)\n",
      "Requirement already satisfied: regex!=2019.12.17 in /opt/conda/lib/python3.7/site-packages (from transformers<5.0.0,>=4.6.0->sentence-transformers) (2020.11.13)\n",
      "Requirement already satisfied: importlib-metadata in /opt/conda/lib/python3.7/site-packages (from transformers<5.0.0,>=4.6.0->sentence-transformers) (3.4.0)\n",
      "Requirement already satisfied: sacremoses in /opt/conda/lib/python3.7/site-packages (from transformers<5.0.0,>=4.6.0->sentence-transformers) (0.0.43)\n",
      "Requirement already satisfied: packaging>=20.0 in /opt/conda/lib/python3.7/site-packages (from transformers<5.0.0,>=4.6.0->sentence-transformers) (20.8)\n",
      "Requirement already satisfied: requests in /opt/conda/lib/python3.7/site-packages (from transformers<5.0.0,>=4.6.0->sentence-transformers) (2.25.1)\n",
      "Requirement already satisfied: filelock in /opt/conda/lib/python3.7/site-packages (from transformers<5.0.0,>=4.6.0->sentence-transformers) (3.0.12)\n",
      "Collecting huggingface-hub\n",
      "  Downloading huggingface_hub-0.1.0-py3-none-any.whl (59 kB)\n",
      "\u001b[K     |████████████████████████████████| 59 kB 14.0 MB/s eta 0:00:01\n",
      "\u001b[?25hCollecting packaging>=20.0\n",
      "  Downloading packaging-21.2-py3-none-any.whl (40 kB)\n",
      "\u001b[K     |████████████████████████████████| 40 kB 12.3 MB/s eta 0:00:01\n",
      "\u001b[?25hRequirement already satisfied: pyparsing<3,>=2.0.2 in /opt/conda/lib/python3.7/site-packages (from packaging>=20.0->transformers<5.0.0,>=4.6.0->sentence-transformers) (2.4.7)\n",
      "Requirement already satisfied: zipp>=0.5 in /opt/conda/lib/python3.7/site-packages (from importlib-metadata->transformers<5.0.0,>=4.6.0->sentence-transformers) (3.4.0)\n",
      "Requirement already satisfied: joblib in /opt/conda/lib/python3.7/site-packages (from nltk->sentence-transformers) (1.0.0)\n",
      "Requirement already satisfied: click in /opt/conda/lib/python3.7/site-packages (from nltk->sentence-transformers) (7.1.2)\n",
      "Requirement already satisfied: urllib3<1.27,>=1.21.1 in /opt/conda/lib/python3.7/site-packages (from requests->transformers<5.0.0,>=4.6.0->sentence-transformers) (1.26.2)\n",
      "Requirement already satisfied: idna<3,>=2.5 in /opt/conda/lib/python3.7/site-packages (from requests->transformers<5.0.0,>=4.6.0->sentence-transformers) (2.10)\n",
      "Requirement already satisfied: certifi>=2017.4.17 in /opt/conda/lib/python3.7/site-packages (from requests->transformers<5.0.0,>=4.6.0->sentence-transformers) (2020.12.5)\n",
      "Requirement already satisfied: chardet<5,>=3.0.2 in /opt/conda/lib/python3.7/site-packages (from requests->transformers<5.0.0,>=4.6.0->sentence-transformers) (3.0.4)\n",
      "Requirement already satisfied: six in /opt/conda/lib/python3.7/site-packages (from sacremoses->transformers<5.0.0,>=4.6.0->sentence-transformers) (1.15.0)\n",
      "Requirement already satisfied: threadpoolctl>=2.0.0 in /opt/conda/lib/python3.7/site-packages (from scikit-learn->sentence-transformers) (2.1.0)\n",
      "Requirement already satisfied: pillow>=5.3.0 in /opt/conda/lib/python3.7/site-packages (from torchvision->sentence-transformers) (8.1.0)\n",
      "Building wheels for collected packages: sentence-transformers\n",
      "  Building wheel for sentence-transformers (setup.py) ... \u001b[?25ldone\n",
      "\u001b[?25h  Created wheel for sentence-transformers: filename=sentence_transformers-2.1.0-py3-none-any.whl size=120999 sha256=de838cc6b504b6222b647ce90701a5d65102a4896117f313936e2c881b3b9f59\n",
      "  Stored in directory: /aiffel/.cache/pip/wheels/90/f0/bb/ed1add84da70092ea526466eadc2bfb197c4bcb8d4fa5f7bad\n",
      "Successfully built sentence-transformers\n",
      "Installing collected packages: packaging, tokenizers, huggingface-hub, transformers, sentence-transformers\n",
      "  Attempting uninstall: packaging\n",
      "    Found existing installation: packaging 20.8\n",
      "    Uninstalling packaging-20.8:\n",
      "      Successfully uninstalled packaging-20.8\n",
      "  Attempting uninstall: tokenizers\n",
      "    Found existing installation: tokenizers 0.9.4\n",
      "    Uninstalling tokenizers-0.9.4:\n",
      "      Successfully uninstalled tokenizers-0.9.4\n",
      "  Attempting uninstall: transformers\n",
      "    Found existing installation: transformers 4.2.1\n",
      "    Uninstalling transformers-4.2.1:\n",
      "      Successfully uninstalled transformers-4.2.1\n",
      "Successfully installed huggingface-hub-0.1.0 packaging-21.2 sentence-transformers-2.1.0 tokenizers-0.10.3 transformers-4.12.3\n",
      "\u001b[33mWARNING: You are using pip version 20.3.3; however, version 21.3.1 is available.\n",
      "You should consider upgrading via the '/opt/conda/bin/python -m pip install --upgrade pip' command.\u001b[0m\n",
      "Note: you may need to restart the kernel to use updated packages.\n"
     ]
    }
   ],
   "source": [
    "pip install -U sentence-transformers"
   ]
  },
  {
   "cell_type": "code",
   "execution_count": 7,
   "id": "parallel-cabinet",
   "metadata": {
    "scrolled": true
   },
   "outputs": [
    {
     "data": {
      "application/vnd.jupyter.widget-view+json": {
       "model_id": "a9bbfc230eef4b9face0a25cb6aa15cd",
       "version_major": 2,
       "version_minor": 0
      },
      "text/plain": [
       "Downloading:   0%|          | 0.00/391 [00:00<?, ?B/s]"
      ]
     },
     "metadata": {},
     "output_type": "display_data"
    },
    {
     "data": {
      "application/vnd.jupyter.widget-view+json": {
       "model_id": "f9f96594affa47859d9ee3c32684dc4e",
       "version_major": 2,
       "version_minor": 0
      },
      "text/plain": [
       "Downloading:   0%|          | 0.00/3.74k [00:00<?, ?B/s]"
      ]
     },
     "metadata": {},
     "output_type": "display_data"
    },
    {
     "data": {
      "application/vnd.jupyter.widget-view+json": {
       "model_id": "9edec73fdc4b45a88df36a50de9cca86",
       "version_major": 2,
       "version_minor": 0
      },
      "text/plain": [
       "Downloading:   0%|          | 0.00/718 [00:00<?, ?B/s]"
      ]
     },
     "metadata": {},
     "output_type": "display_data"
    },
    {
     "data": {
      "application/vnd.jupyter.widget-view+json": {
       "model_id": "4ec409b2af754a5d830af02aa7d1f97d",
       "version_major": 2,
       "version_minor": 0
      },
      "text/plain": [
       "Downloading:   0%|          | 0.00/122 [00:00<?, ?B/s]"
      ]
     },
     "metadata": {},
     "output_type": "display_data"
    },
    {
     "data": {
      "application/vnd.jupyter.widget-view+json": {
       "model_id": "4c48c09a72ad470ead3ee16b999cf505",
       "version_major": 2,
       "version_minor": 0
      },
      "text/plain": [
       "Downloading:   0%|          | 0.00/456k [00:00<?, ?B/s]"
      ]
     },
     "metadata": {},
     "output_type": "display_data"
    },
    {
     "data": {
      "application/vnd.jupyter.widget-view+json": {
       "model_id": "4c31e8fff88640acb12b48322443518f",
       "version_major": 2,
       "version_minor": 0
      },
      "text/plain": [
       "Downloading:   0%|          | 0.00/229 [00:00<?, ?B/s]"
      ]
     },
     "metadata": {},
     "output_type": "display_data"
    },
    {
     "data": {
      "application/vnd.jupyter.widget-view+json": {
       "model_id": "a1600355f73e4e709cbf46765b27a9c3",
       "version_major": 2,
       "version_minor": 0
      },
      "text/plain": [
       "Downloading:   0%|          | 0.00/329M [00:00<?, ?B/s]"
      ]
     },
     "metadata": {},
     "output_type": "display_data"
    },
    {
     "data": {
      "application/vnd.jupyter.widget-view+json": {
       "model_id": "d55b6e9b89ff4a4f84fd1886690632a6",
       "version_major": 2,
       "version_minor": 0
      },
      "text/plain": [
       "Downloading:   0%|          | 0.00/53.0 [00:00<?, ?B/s]"
      ]
     },
     "metadata": {},
     "output_type": "display_data"
    },
    {
     "data": {
      "application/vnd.jupyter.widget-view+json": {
       "model_id": "87ece7bc24e54c809c1df45940675bd7",
       "version_major": 2,
       "version_minor": 0
      },
      "text/plain": [
       "Downloading:   0%|          | 0.00/239 [00:00<?, ?B/s]"
      ]
     },
     "metadata": {},
     "output_type": "display_data"
    },
    {
     "data": {
      "application/vnd.jupyter.widget-view+json": {
       "model_id": "02684d018e1b4def98a82fbff7c4ee7f",
       "version_major": 2,
       "version_minor": 0
      },
      "text/plain": [
       "Downloading:   0%|          | 0.00/1.36M [00:00<?, ?B/s]"
      ]
     },
     "metadata": {},
     "output_type": "display_data"
    },
    {
     "data": {
      "application/vnd.jupyter.widget-view+json": {
       "model_id": "b83a92c110b743bb8febb245673427a1",
       "version_major": 2,
       "version_minor": 0
      },
      "text/plain": [
       "Downloading:   0%|          | 0.00/1.35k [00:00<?, ?B/s]"
      ]
     },
     "metadata": {},
     "output_type": "display_data"
    },
    {
     "data": {
      "application/vnd.jupyter.widget-view+json": {
       "model_id": "e031f5c5c3354310b0b133d341e25938",
       "version_major": 2,
       "version_minor": 0
      },
      "text/plain": [
       "Downloading:   0%|          | 0.00/798k [00:00<?, ?B/s]"
      ]
     },
     "metadata": {},
     "output_type": "display_data"
    },
    {
     "data": {
      "application/vnd.jupyter.widget-view+json": {
       "model_id": "76a36cf467864b95b855b5efd7d52470",
       "version_major": 2,
       "version_minor": 0
      },
      "text/plain": [
       "Downloading:   0%|          | 0.00/190 [00:00<?, ?B/s]"
      ]
     },
     "metadata": {},
     "output_type": "display_data"
    }
   ],
   "source": [
    "from sentence_transformers import SentenceTransformer, util\n",
    "model = SentenceTransformer('paraphrase-distilroberta-base-v1') # 사용할 모델"
   ]
  },
  {
   "cell_type": "code",
   "execution_count": 8,
   "id": "banner-background",
   "metadata": {},
   "outputs": [],
   "source": [
    "target_list = sum_data['target'].to_list()\n",
    "pred_list = sum_data['prediction'].to_list()"
   ]
  },
  {
   "cell_type": "code",
   "execution_count": 9,
   "id": "fixed-forward",
   "metadata": {},
   "outputs": [],
   "source": [
    "embedding1 = model.encode(target_list, convert_to_tensor=True)\n",
    "embedding2 = model.encode(pred_list, convert_to_tensor=True)"
   ]
  },
  {
   "cell_type": "code",
   "execution_count": 10,
   "id": "collected-magnitude",
   "metadata": {},
   "outputs": [],
   "source": [
    "cosine_scores = util.pytorch_cos_sim(embedding1, embedding2)"
   ]
  },
  {
   "cell_type": "code",
   "execution_count": 46,
   "id": "annual-mercury",
   "metadata": {
    "scrolled": false
   },
   "outputs": [
    {
     "name": "stdout",
     "output_type": "stream",
     "text": [
      "1. \n",
      "실제 요약:tripura govt reserves posts in police force for women \n",
      "예측 요약:tripura govt withdraws reservation for women in telangana \n",
      "Score: 0.685911\n",
      "==================================================\n",
      "2. \n",
      "실제 요약:us fails to stick to russian foreign ministry \n",
      "예측 요약:russia cannot be ready for us russia \n",
      "Score: 0.306064\n",
      "==================================================\n",
      "3. \n",
      "실제 요약:srikanth out of world tour finals after loss  \n",
      "예측 요약:srikanth beats srikanth to reach world no superseries finals \n",
      "Score: 0.638735\n",
      "==================================================\n",
      "4. \n",
      "실제 요약: maneka used harsh words will probe tigress death maha cm \n",
      "예측 요약:maha cm blames maha cm for killing those who killed self \n",
      "Score: 0.343844\n",
      "==================================================\n",
      "5. \n",
      "실제 요약:owner of invests in health tech startup  \n",
      "예측 요약:acquires hyderabad based app for crore \n",
      "Score: 0.224301\n",
      "==================================================\n",
      "6. \n",
      "실제 요약:white house considering indra nooyi to head world bank reports \n",
      "예측 요약:ex us president nooyi replaces ex head of head \n",
      "Score: 0.379884\n",
      "==================================================\n",
      "7. \n",
      "실제 요약:paid for porn using cryptocurrency admits mcafee  \n",
      "예측 요약:mcafee mcafee calls for cryptocurrency trading \n",
      "Score: 0.636056\n",
      "==================================================\n",
      "8. \n",
      "실제 요약:lakh indians forced to leave their homes in report \n",
      "예측 요약:indians will be affected by indians in years report \n",
      "Score: 0.382819\n",
      "==================================================\n",
      "9. \n",
      "실제 요약:late actress pratyusha banerjee last short film released  \n",
      "예측 요약:tv actress releases short film on death anniversary \n",
      "Score: 0.468556\n",
      "==================================================\n",
      "10. \n",
      "실제 요약: raj govt introduces saree only dress code for girls \n",
      "예측 요약:du college to wear shorts to wear shorts at college \n",
      "Score: 0.160483\n",
      "==================================================\n",
      "11. \n",
      "실제 요약:sri lanka deny batsman took help from dressing room for drs \n",
      "예측 요약:sl captain sl captain asks to bat for field \n",
      "Score: 0.305233\n",
      "==================================================\n",
      "12. \n",
      "실제 요약:motorcycle racer grabs opponent brake at kmph gets banned  \n",
      "예측 요약:man crashes into race to race over race \n",
      "Score: 0.264947\n",
      "==================================================\n",
      "13. \n",
      "실제 요약:local doctor was cheaper up town after hiv cases detected  \n",
      "예측 요약:uttar pradesh village has no place in old \n",
      "Score: 0.174977\n",
      "==================================================\n",
      "14. \n",
      "실제 요약:prez trump wrongly claims apple will build new plants in us \n",
      "예측 요약:apple battery of iphones in us prez trump \n",
      "Score: 0.392597\n",
      "==================================================\n",
      "15. \n",
      "실제 요약:us house approves new sanctions against russia \n",
      "예측 요약: us house to end trump sanctions on iran sanctions \n",
      "Score: 0.622425\n",
      "==================================================\n",
      "16. \n",
      "실제 요약:article has done more harm to than anything dy cm  \n",
      "예측 요약:govt will not be given to power for power dy cm \n",
      "Score: 0.268864\n",
      "==================================================\n",
      "17. \n",
      "실제 요약:maha cm visits victims of mumbai stampede in hospital  \n",
      "예측 요약:mumbai cm announces mumbai cm for stampede at mumbai \n",
      "Score: 0.638928\n",
      "==================================================\n",
      "18. \n",
      "실제 요약:fir against mevani over speech before maha riots  \n",
      "예측 요약:fir filed against unnao student over bhima koregaon case \n",
      "Score: 0.265665\n",
      "==================================================\n",
      "19. \n",
      "실제 요약:mps ask for flight seats to be to business class \n",
      "예측 요약:mps fly to fly fee for air india privatisation \n",
      "Score: 0.447135\n",
      "==================================================\n",
      "20. \n",
      "실제 요약:nasa sees black hole pair galaxy  \n",
      "예측 요약:nasa telescope finds galaxy on galaxy \n",
      "Score: 0.697525\n",
      "==================================================\n",
      "21. \n",
      "실제 요약:former sbi chief op bhatt resigns from yes bank ceo search panel \n",
      "예측 요약:mallya to be part of ceo extension report \n",
      "Score: 0.234018\n",
      "==================================================\n",
      "22. \n",
      "실제 요약:boy body found in bag month after he went missing  \n",
      "예측 요약:father kills self son for son found in delhi \n",
      "Score: 0.338261\n",
      "==================================================\n",
      "23. \n",
      "실제 요약:essar group more than of its total debt in years \n",
      "예측 요약:essar bank to invest cr in debt for fy \n",
      "Score: 0.461137\n",
      "==================================================\n",
      "24. \n",
      "실제 요약:first parties fight then try to form govt pm on grand alliance \n",
      "예측 요약: pm modi is not to make world pm modi \n",
      "Score: 0.255048\n",
      "==================================================\n",
      "25. \n",
      "실제 요약:an town was once turned into real place \n",
      "예측 요약:fake news of china spy on fake news \n",
      "Score: 0.154767\n",
      "==================================================\n",
      "26. \n",
      "실제 요약: un finds new mass graves in congo  \n",
      "예측 요약:un declares children in congo amid clashes \n",
      "Score: 0.498506\n",
      "==================================================\n",
      "27. \n",
      "실제 요약:injured at jallikattu event in tamil nadu  \n",
      "예측 요약:injured in tn ahead of tamil nadu polls \n",
      "Score: 0.638215\n",
      "==================================================\n",
      "28. \n",
      "실제 요약:england to allow women to take early abortion pill at home  \n",
      "예측 요약:aus women to have abortion doctors \n",
      "Score: 0.566663\n",
      "==================================================\n",
      "29. \n",
      "실제 요약:rafael nadal climbs to nd spot in world rankings \n",
      "예측 요약:nadal beats world no to reach world no one one one \n",
      "Score: 0.468329\n",
      "==================================================\n",
      "30. \n",
      "실제 요약:police detain over people over sabarimala temple violence  \n",
      "예측 요약:kerala police arrest kerala police protest against sabarimala \n",
      "Score: 0.501878\n",
      "==================================================\n",
      "31. \n",
      "실제 요약:teachers launch bikini for sacked colleague in russia \n",
      "예측 요약:teachers use to use of social media to combat \n",
      "Score: 0.273114\n",
      "==================================================\n",
      "32. \n",
      "실제 요약:ariana grande visits kids injured after blast at her concert \n",
      "예측 요약:ariana grande to get ariana manchester concert after manchester concert \n",
      "Score: 0.479628\n",
      "==================================================\n",
      "33. \n",
      "실제 요약:cbi ex bank cmd over cr default case  \n",
      "예측 요약:cbi books ex icici bank of cr fraud \n",
      "Score: 0.554388\n",
      "==================================================\n",
      "34. \n",
      "실제 요약:pic shows kashmiri student missing from noida posing as militant \n",
      "예측 요약:video of tribal couple goes viral on mumbai hostel \n",
      "Score: 0.215193\n",
      "==================================================\n",
      "35. \n",
      "실제 요약:death toll in sierra leone floods crosses \n",
      "예측 요약:death toll rises to death in kerala floods rises to \n",
      "Score: 0.528090\n",
      "==================================================\n",
      "36. \n",
      "실제 요약:priest chops genitals in public on rape accused babas taunts  \n",
      "예측 요약:girl who raped me was sexually harassed yr old girl \n",
      "Score: 0.269878\n",
      "==================================================\n",
      "37. \n",
      "실제 요약:delhi minister hospitalised on day of protest at house \n",
      "예측 요약:delhi cm to visit after days of state \n",
      "Score: 0.539018\n",
      "==================================================\n",
      "38. \n",
      "실제 요약: gq magazine cover features extra photoshopped hands legs \n",
      "예측 요약:twitter reacts to cover of jeans dress code \n",
      "Score: 0.245360\n",
      "==================================================\n",
      "39. \n",
      "실제 요약:nadal may lose world rank to federer despite french open win  \n",
      "예측 요약:nadal nadal to open world no no no no no no \n",
      "Score: 0.376985\n",
      "==================================================\n",
      "40. \n",
      "실제 요약:kohli gets out for duck for the first time after is  \n",
      "예측 요약:kohli only player to hit tons as captain of sachin \n",
      "Score: 0.346475\n",
      "==================================================\n",
      "41. \n",
      "실제 요약:man saved by passengers after he collapses on flight  \n",
      "예측 요약:flight saves man with wife during flight mid air \n",
      "Score: 0.626512\n",
      "==================================================\n",
      "42. \n",
      "실제 요약:kohli has done next to nothing this ipl season ponting \n",
      "예측 요약:kohli is the best ipl ponting ponting \n",
      "Score: 0.617859\n",
      "==================================================\n",
      "43. \n",
      "실제 요약:ranbir out for bigger game than just being superstar manisha  \n",
      "예측 요약:ranbir is the most superstar of the world song richa \n",
      "Score: 0.490748\n",
      "==================================================\n",
      "44. \n",
      "실제 요약:year old liquor discovered in ancient tomb in china  \n",
      "예측 요약:found in china for illegal construction \n",
      "Score: 0.413237\n",
      "==================================================\n",
      "45. \n",
      "실제 요약:parents son together appear for board exams in west bengal \n",
      "예측 요약:class student scores in class exam in pakistan \n",
      "Score: 0.388528\n",
      "==================================================\n",
      "46. \n",
      "실제 요약:what happens if liverpool arsenal city finish \n",
      "예측 요약:man city win man utd win streak with pl win \n",
      "Score: 0.300701\n",
      "==================================================\n",
      "47. \n",
      "실제 요약:yr old woman app maker oldest to attend apple conference  \n",
      "예측 요약:ex nasa year old becomes world largest smartphone \n",
      "Score: 0.354409\n",
      "==================================================\n",
      "48. \n",
      "실제 요약:csk dwayne bravo produces diving catch off own bowling \n",
      "예측 요약:kxip batsman takes catch to pull out of boundary to boundary \n",
      "Score: 0.423430\n",
      "==================================================\n",
      "49. \n",
      "실제 요약:how is the union budget prepared  \n",
      "예측 요약:govt to set up govt to set up govt for next \n",
      "Score: 0.048661\n",
      "==================================================\n",
      "50. \n",
      "실제 요약:would get you job by crossing road macron to unemployed man  \n",
      "예측 요약:french prez macron calls man behind bitcoin \n",
      "Score: 0.230399\n",
      "==================================================\n"
     ]
    }
   ],
   "source": [
    "for i, idx in enumerate(cosine_scores):\n",
    "    print(f\"{i+1}. \\n실제 요약:{target_list[i]} \\n예측 요약:{pred_list[i]} \\nScore: {cosine_scores[i][i]:4f}\")\n",
    "    print(\"=\"*50)"
   ]
  },
  {
   "cell_type": "markdown",
   "id": "premium-button",
   "metadata": {},
   "source": [
    "- 위 유사도를 보니 스코어가 50%를 넘는 경우가 50개 중 14개밖에 되질 않는다.\n",
    "- 확실히 요약이 잘 안된 것을 직관적으로 확인할 수 있다."
   ]
  },
  {
   "cell_type": "markdown",
   "id": "trained-colonial",
   "metadata": {},
   "source": [
    "## 6. 추출적 요약 \n",
    "\n",
    "패키지 Summa에서는 추출적 요약을 위한 모듈인 summarize를 제공"
   ]
  },
  {
   "cell_type": "code",
   "execution_count": 51,
   "id": "running-board",
   "metadata": {},
   "outputs": [
    {
     "name": "stdout",
     "output_type": "stream",
     "text": [
      "summa                         1.2.0\n",
      "\u001b[33mWARNING: You are using pip version 20.3.3; however, version 21.3.1 is available.\n",
      "You should consider upgrading via the '/opt/conda/bin/python3.7 -m pip install --upgrade pip' command.\u001b[0m\n"
     ]
    }
   ],
   "source": [
    "! pip list | grep summa"
   ]
  },
  {
   "cell_type": "code",
   "execution_count": 42,
   "id": "infectious-tucson",
   "metadata": {},
   "outputs": [],
   "source": [
    "import requests\n",
    "from summa.summarizer import summarize"
   ]
  },
  {
   "cell_type": "code",
   "execution_count": 43,
   "id": "dependent-formation",
   "metadata": {},
   "outputs": [],
   "source": [
    "import urllib.request\n",
    "urllib.request.urlretrieve(\"https://raw.githubusercontent.com/sunnysai12345/News_Summary/master/news_summary_more.csv\", filename=\"news_summary_more.csv\")\n",
    "data2 = pd.read_csv('news_summary_more.csv', encoding='iso-8859-1')"
   ]
  },
  {
   "cell_type": "code",
   "execution_count": 44,
   "id": "helpful-boulder",
   "metadata": {},
   "outputs": [
    {
     "name": "stdout",
     "output_type": "stream",
     "text": [
      "                                              headlines  \\\n",
      "0     upGrad learner switches to career in ML & Al w...   \n",
      "1     Delhi techie wins free food from Swiggy for on...   \n",
      "2     New Zealand end Rohit Sharma-led India's 12-ma...   \n",
      "3     Aegon life iTerm insurance plan helps customer...   \n",
      "4     Have known Hirani for yrs, what if MeToo claim...   \n",
      "...                                                 ...   \n",
      "1495  Have seen Sachin Tendulkar get angry but not M...   \n",
      "1496  Player ensures wife stays dry in rain during A...   \n",
      "1497  Federer denied entry into locker room by secur...   \n",
      "1498  42/42 seats in West Bengal: CM Mamata's cutout...   \n",
      "1499  Court refuses chargesheet by Delhi Police agai...   \n",
      "\n",
      "                                                   text  \n",
      "0     Saurav Kant, an alumnus of upGrad and IIIT-B's...  \n",
      "1     Kunal Shah's credit card bill payment platform...  \n",
      "2     New Zealand defeated India by 8 wickets in the...  \n",
      "3     With Aegon Life iTerm Insurance plan, customer...  \n",
      "4     Speaking about the sexual harassment allegatio...  \n",
      "...                                                 ...  \n",
      "1495  India head coach Ravi Shastri has said that he...  \n",
      "1496  Italian tennis player Andreas Seppi ensured hi...  \n",
      "1497  World number three Roger Federer was stopped b...  \n",
      "1498  A cutout of TMC chief and West Bengal CM Mamat...  \n",
      "1499  A Delhi court on Saturday pulled up Delhi Poli...  \n",
      "\n",
      "[1500 rows x 2 columns]\n"
     ]
    }
   ],
   "source": [
    "print(data2[:1500])"
   ]
  },
  {
   "cell_type": "markdown",
   "id": "drawn-watson",
   "metadata": {},
   "source": [
    "### summarize 사용하기\n",
    "\n",
    "- Summa의 summarize()의 인자\n",
    "    \n",
    "    - text (str) : 요약할 테스트.\n",
    "    - ratio (float, optional) – 요약문에서 원본에서 선택되는 문장 비율. 0~1 사이값\n",
    "    - words (int or None, optional) – 출력에 포함할 단어 수.\n",
    "    - 만약, ratio와 함께 두 파라미터가 모두 제공되는 경우 ratio는 무시한다.\n",
    "    - split (bool, optional) – True면 문장 list / False는 조인(join)된 문자열을 반환\n",
    "    \n",
    "- Summa의 summarize는 내부적으로 문장 토큰화를 수행 \n",
    "- 원문을 바로 입력\n"
   ]
  },
  {
   "cell_type": "code",
   "execution_count": 45,
   "id": "restricted-cabin",
   "metadata": {},
   "outputs": [
    {
     "name": "stdout",
     "output_type": "stream",
     "text": [
      "실제 요약 :  upGrad learner switches to career in ML & Al with 90% salary hike\n",
      "예측 요약 :  upGrad's Online Power Learning has powered 3 lakh+ careers.\n",
      "\n",
      "\n",
      "실제 요약 :  Delhi techie wins free food from Swiggy for one year on CRED\n",
      "예측 요약 :  Users get one CRED coin per rupee of bill paid, which can be used to avail rewards from brands like Ixigo, BookMyShow, UberEats, Cult.Fit and more.\n",
      "\n",
      "\n",
      "실제 요약 :  New Zealand end Rohit Sharma-led India's 12-match winning streak\n",
      "예측 요약 :  The match witnessed India getting all out for 92, their seventh lowest total in ODI cricket history.\n",
      "\n",
      "\n",
      "실제 요약 :  Aegon life iTerm insurance plan helps customers save tax\n",
      "예측 요약 :  Also, customers have options to insure against Critical Illnesses, Disability and Accidental Death Benefit Rider with a life cover up to the age of 80 years.\n",
      "\n",
      "\n",
      "실제 요약 :  Have known Hirani for yrs, what if MeToo claims are not true: Sonam\n",
      "예측 요약 :  Speaking about the sexual harassment allegations against Rajkumar Hirani, Sonam Kapoor said, \"I've known Hirani for many years...What if it's not true, the [#MeToo] movement will get derailed.\" \"In the #MeToo movement, I always believe a woman.\n",
      "\n",
      "\n",
      "실제 요약 :  Rahat Fateh Ali Khan denies getting notice for smuggling currency\n",
      "예측 요약 :  Pakistani singer Rahat Fateh Ali Khan has denied receiving any notice from the Enforcement Directorate over allegedly smuggling foreign currency out of India.\n",
      "\n",
      "\n",
      "실제 요약 :  India get all out for 92, their lowest ODI total in New Zealand\n",
      "예측 요약 :  India's previous lowest ODI total in New Zealand was 108.\n",
      "\n",
      "\n",
      "실제 요약 :  Govt directs Alok Verma to join work 1 day before his retirement\n",
      "예측 요약 :  Weeks after ex-CBI Director Alok Verma told the Department of Personnel and Training to consider him retired, the Home Ministry asked him to join work on the last day of his fixed tenure as Director on Thursday.\n",
      "\n",
      "\n",
      "실제 요약 :  Called PM Modi 'sir' 10 times to satisfy his ego: Andhra CM\n",
      "예측 요약 :  Andhra Pradesh CM N Chandrababu Naidu has said, \"When I met then US President Bill Clinton, I addressed him as Mr Clinton, not as 'sir'.\n",
      "\n",
      "\n",
      "실제 요약 :  Cong wins Ramgarh bypoll in Rajasthan, takes total to 100 seats\n",
      "예측 요약 :  Congress candidate Shafia Zubair won the Ramgarh Assembly seat in Rajasthan, by defeating BJP's Sukhwant Singh with a margin of 12,228 votes in the bypoll.\n",
      "\n",
      "\n"
     ]
    }
   ],
   "source": [
    "for i in range(10):\n",
    "    print(\"실제 요약 : \", data2['headlines'][i])\n",
    "    print(\"예측 요약 : \", summarize(data2['text'][i], ratio=0.5))\n",
    "    print(\"\\n\")"
   ]
  },
  {
   "cell_type": "markdown",
   "id": "tested-syria",
   "metadata": {},
   "source": [
    "### 유사도 확인: Sentence Transformers 패키지 활용\n",
    "\n",
    "- 마찬가지로 문장간 유사도를 확인하기 위해 sentence transformers 패키지를 활용하였다.\n",
    "\n",
    "- 위 결과를 별도 csv 파일로 따로 추출해서 불러왔다."
   ]
  },
  {
   "cell_type": "code",
   "execution_count": 47,
   "id": "portuguese-cotton",
   "metadata": {},
   "outputs": [
    {
     "data": {
      "text/html": [
       "<div>\n",
       "<style scoped>\n",
       "    .dataframe tbody tr th:only-of-type {\n",
       "        vertical-align: middle;\n",
       "    }\n",
       "\n",
       "    .dataframe tbody tr th {\n",
       "        vertical-align: top;\n",
       "    }\n",
       "\n",
       "    .dataframe thead th {\n",
       "        text-align: right;\n",
       "    }\n",
       "</style>\n",
       "<table border=\"1\" class=\"dataframe\">\n",
       "  <thead>\n",
       "    <tr style=\"text-align: right;\">\n",
       "      <th></th>\n",
       "      <th>target</th>\n",
       "      <th>prediction</th>\n",
       "    </tr>\n",
       "  </thead>\n",
       "  <tbody>\n",
       "    <tr>\n",
       "      <th>0</th>\n",
       "      <td>upGrad learner switches to career in ML &amp; Al w...</td>\n",
       "      <td>upGrad's Online Power Learning has powered 3 l...</td>\n",
       "    </tr>\n",
       "    <tr>\n",
       "      <th>1</th>\n",
       "      <td>Delhi techie wins free food from Swiggy for on...</td>\n",
       "      <td>Users get one CRED coin per rupee of bill paid...</td>\n",
       "    </tr>\n",
       "    <tr>\n",
       "      <th>2</th>\n",
       "      <td>New Zealand end Rohit Sharma-led India's 12-ma...</td>\n",
       "      <td>The match witnessed India getting all out for ...</td>\n",
       "    </tr>\n",
       "    <tr>\n",
       "      <th>3</th>\n",
       "      <td>Aegon life iTerm insurance plan helps customer...</td>\n",
       "      <td>Also, customers have options to insure against...</td>\n",
       "    </tr>\n",
       "    <tr>\n",
       "      <th>4</th>\n",
       "      <td>Have known Hirani for yrs, what if MeToo claim...</td>\n",
       "      <td>Speaking about the sexual harassment allegatio...</td>\n",
       "    </tr>\n",
       "  </tbody>\n",
       "</table>\n",
       "</div>"
      ],
      "text/plain": [
       "                                              target  \\\n",
       "0  upGrad learner switches to career in ML & Al w...   \n",
       "1  Delhi techie wins free food from Swiggy for on...   \n",
       "2  New Zealand end Rohit Sharma-led India's 12-ma...   \n",
       "3  Aegon life iTerm insurance plan helps customer...   \n",
       "4  Have known Hirani for yrs, what if MeToo claim...   \n",
       "\n",
       "                                          prediction  \n",
       "0  upGrad's Online Power Learning has powered 3 l...  \n",
       "1  Users get one CRED coin per rupee of bill paid...  \n",
       "2  The match witnessed India getting all out for ...  \n",
       "3  Also, customers have options to insure against...  \n",
       "4  Speaking about the sexual harassment allegatio...  "
      ]
     },
     "execution_count": 47,
     "metadata": {},
     "output_type": "execute_result"
    }
   ],
   "source": [
    "sum_data2 = pd.read_csv('~/aiffel/news_summarization/data/summarization2.csv')\n",
    "sum_data2.head()"
   ]
  },
  {
   "cell_type": "code",
   "execution_count": 48,
   "id": "tropical-harmony",
   "metadata": {},
   "outputs": [],
   "source": [
    "model = SentenceTransformer('paraphrase-distilroberta-base-v1')\n",
    "target_list2 = sum_data2['target'].to_list()\n",
    "pred_list2 = sum_data2['prediction'].to_list()\n",
    "embedding3 = model.encode(target_list2, convert_to_tensor=True)\n",
    "embedding4 = model.encode(pred_list2, convert_to_tensor=True)\n",
    "cosine_scores2 = util.pytorch_cos_sim(embedding3, embedding4)"
   ]
  },
  {
   "cell_type": "code",
   "execution_count": 49,
   "id": "graduate-distributor",
   "metadata": {},
   "outputs": [
    {
     "name": "stdout",
     "output_type": "stream",
     "text": [
      "1. \n",
      "실제 요약:upGrad learner switches to career in ML & Al with 90% salary hike \n",
      "예측 요약:upGrad's Online Power Learning has powered 3 lakh+ careers. \n",
      "Score: 0.399107\n",
      "==================================================\n",
      "2. \n",
      "실제 요약:Delhi techie wins free food from Swiggy for one year on CRED \n",
      "예측 요약:Users get one CRED coin per rupee of bill paid, which can be used to avail rewards from brands like Ixigo, BookMyShow, UberEats, Cult.Fit and more. \n",
      "Score: 0.337327\n",
      "==================================================\n",
      "3. \n",
      "실제 요약:New Zealand end Rohit Sharma-led India's 12-match winning streak \n",
      "예측 요약:The match witnessed India getting all out for 92, their seventh lowest total in ODI cricket history. \n",
      "Score: 0.355554\n",
      "==================================================\n",
      "4. \n",
      "실제 요약:Aegon life iTerm insurance plan helps customers save tax \n",
      "예측 요약:Also, customers have options to insure against Critical Illnesses, Disability and Accidental Death Benefit Rider with a life cover up to the age of 80 years. \n",
      "Score: 0.277798\n",
      "==================================================\n",
      "5. \n",
      "실제 요약:Have known Hirani for yrs, what if MeToo claims are not true: Sonam \n",
      "예측 요약:Speaking about the sexual harassment allegations against Rajkumar Hirani, Sonam Kapoor said, \"I've known Hirani for many years...What if it's not true, the [#MeToo] movement will get derailed.\" \"In the #MeToo movement, I always believe a woman. \n",
      "Score: 0.516085\n",
      "==================================================\n",
      "6. \n",
      "실제 요약:Rahat Fateh Ali Khan denies getting notice for smuggling currency \n",
      "예측 요약:Pakistani singer Rahat Fateh Ali Khan has denied receiving any notice from the Enforcement Directorate over allegedly smuggling foreign currency out of India. \n",
      "Score: 0.838171\n",
      "==================================================\n",
      "7. \n",
      "실제 요약:India get all out for 92, their lowest ODI total in New Zealand \n",
      "예측 요약:India's previous lowest ODI total in New Zealand was 108. \n",
      "Score: 0.655774\n",
      "==================================================\n",
      "8. \n",
      "실제 요약:Govt directs Alok Verma to join work 1 day before his retirement \n",
      "예측 요약:Weeks after ex-CBI Director Alok Verma told the Department of Personnel and Training to consider him retired, the Home Ministry asked him to join work on the last day of his fixed tenure as Director on Thursday. \n",
      "Score: 0.671249\n",
      "==================================================\n",
      "9. \n",
      "실제 요약:Called PM Modi 'sir' 10 times to satisfy his ego: Andhra CM \n",
      "예측 요약:Andhra Pradesh CM N Chandrababu Naidu has said, \"When I met then US President Bill Clinton, I addressed him as Mr Clinton, not as 'sir' \n",
      "Score: 0.319093\n",
      "==================================================\n",
      "10. \n",
      "실제 요약:Cong wins Ramgarh bypoll in Rajasthan, takes total to 100 seats \n",
      "예측 요약:Congress candidate Shafia Zubair won the Ramgarh Assembly seat in Rajasthan, by defeating BJP's Sukhwant Singh with a margin of 12,228 votes in the bypoll. \n",
      "Score: 0.473086\n",
      "==================================================\n"
     ]
    }
   ],
   "source": [
    "for i, idx in enumerate(cosine_scores2):\n",
    "    print(f\"{i+1}. \\n실제 요약:{target_list2[i]} \\n예측 요약:{pred_list2[i]} \\nScore: {cosine_scores2[i][i]:4f}\")\n",
    "    print(\"=\"*50)"
   ]
  },
  {
   "cell_type": "markdown",
   "id": "supposed-computer",
   "metadata": {},
   "source": [
    "- 추출적 요약 역시 결과가 처참하다.\n",
    "- 유사도가 50%이상인 경우가 10개 중 3개뿐이다."
   ]
  },
  {
   "cell_type": "markdown",
   "id": "literary-attribute",
   "metadata": {},
   "source": [
    "## 회고"
   ]
  },
  {
   "cell_type": "markdown",
   "id": "permanent-extraction",
   "metadata": {},
   "source": [
    "- 이전에 뉴스 요약봇을 사용 할 때, 어떤 방법으로 뉴스를 요약하는지에 대한 궁금증이 있었는데 이번 프로젝트를 통해서 궁금증이 크게 해소되었다.\n",
    "\n",
    "\n",
    "- 막상 요약봇을 만들고 나니 생각보다 어려웠던 것 같다.\n",
    "\n",
    "\n",
    "- 위 추출적 요약, 추상적 요약의 결과 문장들과 유사도가 둘 다 좋지 않은 것을 보니 전처리가 조금 부족하지 않았나 생각이 든다.\n",
    "\n",
    "\n",
    "- 프로젝트를 매번 하면서 느끼는 것은... 역시 데이터 전처리가 정말 중요하다..!!!!\n",
    "\n",
    "\n",
    "- 조금 더 전처리를 잘 했으면 결과가 좋지 않았을까 싶다... 전처리... 정말 잘 하고싶다.\n",
    "\n",
    "\n",
    "- 그리고 문장 유사도를 확인해보고 싶어서 여러가지 알고리즘을 많이 찾아보게 되었고, 그 과정에서 또 많이 배운 것 같다.\n",
    "\n",
    "\n",
    "- 그렇지만 아직도 부족함이 많으니,, 더 공부하러 가는 것으로 !\n",
    "\n",
    "\n",
    "- 이번에도 유익한 정보를 많이 얻은 프로젝트였다.\n"
   ]
  },
  {
   "cell_type": "markdown",
   "id": "optional-dancing",
   "metadata": {},
   "source": [
    "## 참고 자료\n",
    "\n",
    "[텍스트 유사도 구하기(주요 4가지 알고리즘)](https://wiserloner.tistory.com/932)\n",
    "\n",
    "[Sentence Transformers](https://huggingface.co/sentence-transformers)\n",
    "\n",
    "[Pretrained Models](https://www.sbert.net/docs/pretrained_models.html)\n",
    "\n",
    "[파이썬 문장 유사도 알고리즘 쉽게 확인하는 방법은?](https://www.infoking.site/52)"
   ]
  }
 ],
 "metadata": {
  "kernelspec": {
   "display_name": "Python 3",
   "language": "python",
   "name": "python3"
  },
  "language_info": {
   "codemirror_mode": {
    "name": "ipython",
    "version": 3
   },
   "file_extension": ".py",
   "mimetype": "text/x-python",
   "name": "python",
   "nbconvert_exporter": "python",
   "pygments_lexer": "ipython3",
   "version": "3.7.9"
  }
 },
 "nbformat": 4,
 "nbformat_minor": 5
}
