{
 "cells": [
  {
   "cell_type": "markdown",
   "id": "organizational-medium",
   "metadata": {},
   "source": [
    "# E-04.  lyrics_generator"
   ]
  },
  {
   "cell_type": "markdown",
   "id": "aware-australian",
   "metadata": {},
   "source": [
    "## 1. 데이터 읽어오기"
   ]
  },
  {
   "cell_type": "code",
   "execution_count": 16,
   "id": "promotional-hopkins",
   "metadata": {},
   "outputs": [],
   "source": [
    "import glob\n",
    "import os, re\n",
    "from sklearn.model_selection import train_test_split\n",
    "import numpy as np\n",
    "import tensorflow as tf"
   ]
  },
  {
   "cell_type": "code",
   "execution_count": 17,
   "id": "serious-tourist",
   "metadata": {},
   "outputs": [
    {
     "name": "stdout",
     "output_type": "stream",
     "text": [
      "The number of lyrics : 49\n",
      "The number of raw corpus: 187088\n",
      "Examples:\n",
      " ['[Hook]', \"I've been down so long, it look like up to me\", 'They look up to me']\n"
     ]
    }
   ],
   "source": [
    "\n",
    "txt_file_path = os.getenv('HOME')+'/aiffel/lyricist/data/lyrics/*'\n",
    "\n",
    "txt_list = glob.glob(txt_file_path)\n",
    "print(f'The number of lyrics : {len(txt_list)}')\n",
    "\n",
    "\n",
    "raw_corpus = []\n",
    "\n",
    "# 여러개의 txt 파일을 모두 읽어서 raw_corpus 에 담습니다.\n",
    "for txt_file in txt_list:\n",
    "    with open(txt_file, \"r\") as f:\n",
    "        raw = f.read().splitlines()\n",
    "        raw_corpus.extend(raw)\n",
    "\n",
    "print(\"The number of raw corpus:\", len(raw_corpus))\n",
    "print(\"Examples:\\n\", raw_corpus[:3])"
   ]
  },
  {
   "cell_type": "markdown",
   "id": "transparent-colors",
   "metadata": {},
   "source": [
    "---\n",
    "\n",
    "## 2. 데이터 정제\n",
    "- `preprocess_sentence()`함수 만들기\n",
    "-  토큰화 했을 때 토큰의 개수가 15개를 넘어가는 문장을 학습 데이터에서 제외할 것\n",
    "(다른 데이터들이 과도한 Padding을 갖게 하므로)\n",
    "\n",
    "**정규 표현식을 이용해서 필터링**\n",
    "1. 소문자로 바꾸고, 양쪽 공백을 지우기\n",
    "2. 특수문자 양쪽에 공백을 넣기\n",
    "3. 여러개의 공백은 하나의 공백으로 바꾸기\n",
    "4. a-zA-Z?.!,¿가 아닌 모든 문자를 하나의 공백으로 바꾸기\n",
    "5. `[]` 해당하는 부분은 파트 분배 임으로 필터링\n",
    "6. `()` 해당하는 부분은 코러스 부분, 연속된 부분을 표기한 것이므로 필터링\n",
    "7. 양쪽 공백 지우기\n",
    "8. 문장 시작에는 `<start>`, 끝에는 `<end>`를 추가\n",
    "    "
   ]
  },
  {
   "cell_type": "code",
   "execution_count": 18,
   "id": "cooperative-success",
   "metadata": {},
   "outputs": [],
   "source": [
    "def preprocess_sentence(sentence):\n",
    "    sentence = sentence.lower().strip() # 1\n",
    "    sentence = re.sub(r\"([?.!,¿])\", r\" \\1 \", sentence) # 2\n",
    "    sentence = re.sub(r'[\" \"]+', \" \", sentence) # 3\n",
    "    sentence = re.sub(r\"[^a-zA-Z?.!,¿]+\", \" \", sentence) # 4\n",
    "    sentence = re.sub(r\"(\\[.*\\])\", '', sentence) # 5\n",
    "    sentence = re.sub(r\"(\\(.*\\))\", '', sentence) # 6\n",
    "    sentence = sentence.strip() # 7\n",
    "    sentence = '<start> ' + sentence + ' <end>' # 8\n",
    "    return sentence\n"
   ]
  },
  {
   "cell_type": "code",
   "execution_count": 19,
   "id": "cardiovascular-liability",
   "metadata": {
    "scrolled": true
   },
   "outputs": [
    {
     "data": {
      "text/plain": [
       "['<start> i ve been down so long , it look like up to me <end>',\n",
       " '<start> they look up to me <end>',\n",
       " '<start> i got fake people showin fake love to me <end>',\n",
       " '<start> straight up to my face , straight up to my face <end>',\n",
       " '<start> i ve been down so long , it look like up to me <end>',\n",
       " '<start> they look up to me <end>',\n",
       " '<start> i got fake people showin fake love to me <end>',\n",
       " '<start> somethin ain t right when we talkin <end>',\n",
       " '<start> somethin ain t right when we talkin <end>',\n",
       " '<start> look like you hidin your problems <end>']"
      ]
     },
     "execution_count": 19,
     "metadata": {},
     "output_type": "execute_result"
    }
   ],
   "source": [
    "# 여기에 정제된 문장을 모을겁니다\n",
    "corpus = []\n",
    "\n",
    "for sentence in raw_corpus:\n",
    "    if len(sentence) == 0: continue\n",
    "    if sentence[-1] == \"]\": continue    \n",
    "    if sentence[-1] == \")\": continue     \n",
    "    \n",
    "    preprocessed_sentence = preprocess_sentence(sentence)\n",
    "    corpus.append(preprocessed_sentence)\n",
    "        \n",
    "# 정제된 결과를 10개만 확인해보죠\n",
    "corpus[:10]\n"
   ]
  },
  {
   "cell_type": "markdown",
   "id": "expired-danish",
   "metadata": {},
   "source": [
    "----\n",
    "\n",
    "## 3. 평가 데이터셋 분리\n",
    "- `tokenize()` 함수로 데이터를 `Tensor`로 변환\n",
    "-  `sklearn` 모듈의 `train_test_split()` 함수를 사용해 훈련 데이터와 평가 데이터를 분리\n",
    "- 단어장의 크기는 12,000 이상 으로 설정\n",
    "- 총 데이터의 20% 를 평가 데이터셋으로 사용"
   ]
  },
  {
   "cell_type": "code",
   "execution_count": 20,
   "id": "billion-architect",
   "metadata": {},
   "outputs": [
    {
     "name": "stdout",
     "output_type": "stream",
     "text": [
      "[[   2    5   90 ...   10   12    3]\n",
      " [   2   42  131 ...    0    0    0]\n",
      " [   2    5   39 ...    0    0    0]\n",
      " ...\n",
      " [   2   86  716 ...    0    0    0]\n",
      " [   2  214    3 ...    0    0    0]\n",
      " [   2    9 1300 ...    0    0    0]] <keras_preprocessing.text.Tokenizer object at 0x7f2851a89150>\n"
     ]
    }
   ],
   "source": [
    "def tokenize(corpus):\n",
    "    # 15000단어를 기억할 수 있는 tokenizer를 만들겁니다\n",
    "    # 우리는 이미 문장을 정제했으니 filters가 필요없어요\n",
    "    # 7000단어에 포함되지 못한 단어는 '<unk>'로 바꿀거에요\n",
    "    tokenizer = tf.keras.preprocessing.text.Tokenizer(\n",
    "        num_words=15000, \n",
    "        filters=' ',\n",
    "        oov_token=\"<unk>\"\n",
    "    )\n",
    "    # corpus를 이용해 tokenizer 내부의 단어장을 완성합니다\n",
    "    tokenizer.fit_on_texts(corpus)\n",
    "    # 준비한 tokenizer를 이용해 corpus를 Tensor로 변환합니다\n",
    "    tensor = tokenizer.texts_to_sequences(corpus)   \n",
    "    # 입력 데이터의 시퀀스 길이를 일정하게 맞춰줍니다\n",
    "    # 만약 시퀀스가 짧다면 문장 뒤에 패딩을 붙여 길이를 맞춰줍니다.\n",
    "    # 문장 앞에 패딩을 붙여 길이를 맞추고 싶다면 padding='pre'를 사용합니다\n",
    "    # 토큰화 했을 때 토큰의 개수가 15개를 넘어가는 문장을 학습 데이터에서 제외\n",
    "    tensor = tf.keras.preprocessing.sequence.pad_sequences(tensor, padding='post', maxlen=15)  \n",
    "    \n",
    "    print(tensor,tokenizer)\n",
    "    return tensor, tokenizer\n",
    "\n",
    "tensor, tokenizer = tokenize(corpus)"
   ]
  },
  {
   "cell_type": "code",
   "execution_count": 21,
   "id": "prostate-relation",
   "metadata": {},
   "outputs": [
    {
     "name": "stdout",
     "output_type": "stream",
     "text": [
      "1 : <unk>\n",
      "2 : <start>\n",
      "3 : <end>\n",
      "4 : ,\n",
      "5 : i\n",
      "6 : the\n",
      "7 : you\n",
      "8 : and\n",
      "9 : a\n",
      "10 : to\n"
     ]
    }
   ],
   "source": [
    "# 단어사전이 어떻게 구축되었는지 확인한다.\n",
    "for idx in tokenizer.index_word:\n",
    "    print(idx, \":\", tokenizer.index_word[idx])\n",
    "\n",
    "    if idx >= 10: break"
   ]
  },
  {
   "cell_type": "markdown",
   "id": "chief-training",
   "metadata": {},
   "source": [
    "- 텐서를 소스와 타겟으로 분리"
   ]
  },
  {
   "cell_type": "code",
   "execution_count": 22,
   "id": "killing-conditioning",
   "metadata": {},
   "outputs": [
    {
     "name": "stdout",
     "output_type": "stream",
     "text": [
      "[  2   5  90 101  59  29 158   4  11 131  24  31  10  12]\n",
      "[  5  90 101  59  29 158   4  11 131  24  31  10  12   3]\n"
     ]
    }
   ],
   "source": [
    "# tensor에서 마지막 토큰을 잘라내서 소스 문장을 생성합니다\n",
    "# 마지막 토큰은 <end>가 아니라 <pad>일 가능성이 높습니다.\n",
    "src_input = tensor[:, :-1]  \n",
    "# tensor에서 <start>를 잘라내서 타겟 문장을 생성합니다.\n",
    "tgt_input = tensor[:, 1:]    \n",
    "\n",
    "print(src_input[0])\n",
    "print(tgt_input[0])"
   ]
  },
  {
   "cell_type": "markdown",
   "id": "arabic-publication",
   "metadata": {},
   "source": [
    " - train, validation 데이터 분리"
   ]
  },
  {
   "cell_type": "code",
   "execution_count": 23,
   "id": "billion-source",
   "metadata": {},
   "outputs": [
    {
     "name": "stdout",
     "output_type": "stream",
     "text": [
      "Source Train: (133342, 14)\n",
      "Target Train: (133342, 14)\n"
     ]
    }
   ],
   "source": [
    "enc_train, enc_val, dec_train, dec_val = train_test_split(src_input,\n",
    "                                       tgt_input,\n",
    "                                       test_size=0.2,\n",
    "                                       random_state=7)\n",
    "\n",
    "\n",
    "\n",
    "print(\"Source Train:\", enc_train.shape)\n",
    "print(\"Target Train:\", dec_train.shape)"
   ]
  },
  {
   "cell_type": "code",
   "execution_count": 24,
   "id": "stupid-zoning",
   "metadata": {},
   "outputs": [
    {
     "name": "stdout",
     "output_type": "stream",
     "text": [
      "Source Train: (133342, 14)\n",
      "Target Train: (133342, 14)\n"
     ]
    }
   ],
   "source": [
    "enc_train2, enc_val2, dec_train2, dec_val2 = train_test_split(enc_train,\n",
    "                                       dec_train,\n",
    "                                       test_size=0.15,\n",
    "                                       random_state=7)\n",
    "\n",
    "\n",
    "\n",
    "print(\"Source Train:\", enc_train.shape)\n",
    "print(\"Target Train:\", dec_train.shape)"
   ]
  },
  {
   "cell_type": "markdown",
   "id": "catholic-clause",
   "metadata": {},
   "source": [
    " - 데이터셋 객체 생성\n",
    "     \n",
    "     - 텐서로 생성된 데이터를 이용해 tf.data.Dataset객체를 생성\n",
    "     - tf.data.Dataset.from_tensor_slices() 메소드를 이용해 tf.data.Dataset객체를 생성"
   ]
  },
  {
   "cell_type": "code",
   "execution_count": 25,
   "id": "ceramic-reach",
   "metadata": {},
   "outputs": [
    {
     "data": {
      "text/plain": [
       "<BatchDataset shapes: ((512, 14), (512, 14)), types: (tf.int32, tf.int32)>"
      ]
     },
     "execution_count": 25,
     "metadata": {},
     "output_type": "execute_result"
    }
   ],
   "source": [
    "BUFFER_SIZE = len(src_input)\n",
    "BATCH_SIZE = 512\n",
    "steps_per_epoch = len(src_input) // BATCH_SIZE\n",
    "\n",
    "# tokenizer가 구축한 단어사전 내 7000개와, \n",
    "#여기 포함되지 않은 0:<pad>를 포함하여 7001개\n",
    "VOCAB_SIZE = tokenizer.num_words + 1   \n",
    "\n",
    "# 준비한 데이터 소스로부터 데이터셋을 만듭니다 \n",
    "dataset = tf.data.Dataset.from_tensor_slices((src_input, tgt_input))\n",
    "dataset = dataset.shuffle(BUFFER_SIZE)\n",
    "dataset = dataset.batch(BATCH_SIZE, drop_remainder=True)\n",
    "dataset"
   ]
  },
  {
   "cell_type": "markdown",
   "id": "aging-alexandria",
   "metadata": {},
   "source": [
    "----\n",
    "## 4. 인공지능 만들기\n",
    "\n",
    "모델의 Embedding Size와 Hidden Size를 조절하며 10 Epoch 안에 val_loss 값을 2.2 수준으로 줄일 수 있는 모델을 설계"
   ]
  },
  {
   "cell_type": "code",
   "execution_count": 26,
   "id": "architectural-terrorist",
   "metadata": {},
   "outputs": [],
   "source": [
    "class TextGenerator(tf.keras.Model):\n",
    "    def __init__(self, vocab_size, embedding_size, hidden_size):\n",
    "        super().__init__()\n",
    "        \n",
    "        self.embedding = tf.keras.layers.Embedding(vocab_size, embedding_size)\n",
    "        self.rnn_1 = tf.keras.layers.LSTM(hidden_size, dropout = 0.5, return_sequences=True)\n",
    "        self.rnn_2 = tf.keras.layers.LSTM(hidden_size, return_sequences=True)\n",
    "        self.linear = tf.keras.layers.Dense(vocab_size)\n",
    "        \n",
    "    def call(self, x):\n",
    "        out = self.embedding(x)\n",
    "        out = self.rnn_1(out)\n",
    "        out = self.rnn_2(out)\n",
    "        out = self.linear(out)\n",
    "        \n",
    "        return out\n",
    "    \n",
    "embedding_size = 512\n",
    "hidden_size = 2048\n",
    "model = TextGenerator(tokenizer.num_words + 1, embedding_size , hidden_size)"
   ]
  },
  {
   "cell_type": "code",
   "execution_count": 27,
   "id": "neural-union",
   "metadata": {
    "scrolled": false
   },
   "outputs": [
    {
     "data": {
      "text/plain": [
       "<tf.Tensor: shape=(512, 14, 15001), dtype=float32, numpy=\n",
       "array([[[ 2.82894238e-04, -6.45709661e-05, -1.36316768e-04, ...,\n",
       "          3.06724032e-05, -3.07589245e-04,  4.28568674e-05],\n",
       "        [ 2.49079254e-04,  1.44311081e-04, -3.64360516e-04, ...,\n",
       "          3.15817626e-04, -7.21276854e-04, -1.90669976e-04],\n",
       "        [-2.52893260e-05,  3.12461489e-04, -6.46914530e-04, ...,\n",
       "          3.71406757e-04, -5.08299388e-04, -1.43291414e-04],\n",
       "        ...,\n",
       "        [-1.69529300e-03,  1.36812089e-03, -1.21944395e-04, ...,\n",
       "          1.17128843e-03,  1.86690793e-03, -1.30189816e-03],\n",
       "        [-1.89099228e-03,  1.59666745e-03, -1.04779581e-04, ...,\n",
       "          1.25293003e-03,  2.24550394e-03, -1.46287668e-03],\n",
       "        [-2.07564933e-03,  1.78572990e-03, -8.34557650e-05, ...,\n",
       "          1.30734709e-03,  2.58155935e-03, -1.58402522e-03]],\n",
       "\n",
       "       [[ 2.82894238e-04, -6.45709661e-05, -1.36316768e-04, ...,\n",
       "          3.06724032e-05, -3.07589245e-04,  4.28568674e-05],\n",
       "        [ 2.67819152e-04, -1.97274450e-04,  2.23555344e-05, ...,\n",
       "          9.52745322e-05, -5.10426005e-04,  4.66350350e-04],\n",
       "        [ 4.27636769e-05, -2.71064462e-04,  1.95689703e-04, ...,\n",
       "         -5.82058465e-06, -7.75359513e-04,  6.95321651e-04],\n",
       "        ...,\n",
       "        [-1.80744962e-03,  4.97561996e-04,  7.77679612e-04, ...,\n",
       "         -8.49155695e-05,  1.67356001e-03, -9.77973337e-04],\n",
       "        [-1.93620089e-03,  7.68516562e-04,  6.32831303e-04, ...,\n",
       "          1.52113731e-04,  2.09286693e-03, -1.23140123e-03],\n",
       "        [-2.05305312e-03,  1.01935805e-03,  5.07169578e-04, ...,\n",
       "          3.63869825e-04,  2.46081245e-03, -1.43274828e-03]],\n",
       "\n",
       "       [[ 2.82894238e-04, -6.45709661e-05, -1.36316768e-04, ...,\n",
       "          3.06724032e-05, -3.07589245e-04,  4.28568674e-05],\n",
       "        [ 3.50031682e-04, -3.60676466e-04, -1.45580416e-04, ...,\n",
       "         -3.37219099e-05, -1.04613908e-04,  5.70508164e-05],\n",
       "        [ 4.53510933e-04, -3.50033428e-04, -2.20684451e-04, ...,\n",
       "         -2.87143426e-04, -9.52412884e-05,  5.31876460e-04],\n",
       "        ...,\n",
       "        [-9.12124524e-04, -3.48120258e-04,  1.06691041e-04, ...,\n",
       "         -4.55847796e-04, -1.24284879e-05, -5.83063404e-04],\n",
       "        [-1.22630992e-03, -9.79167453e-05,  1.83169304e-05, ...,\n",
       "         -3.03997309e-04,  5.32529200e-04, -8.32044287e-04],\n",
       "        [-1.49555923e-03,  1.86356061e-04, -5.85119269e-05, ...,\n",
       "         -1.05638195e-04,  1.06747774e-03, -1.05195376e-03]],\n",
       "\n",
       "       ...,\n",
       "\n",
       "       [[ 2.82894238e-04, -6.45709661e-05, -1.36316768e-04, ...,\n",
       "          3.06724032e-05, -3.07589245e-04,  4.28568674e-05],\n",
       "        [ 2.40559690e-04,  4.55482332e-05, -3.72196722e-04, ...,\n",
       "         -1.60758165e-04, -5.62700443e-04,  1.21932375e-04],\n",
       "        [ 2.96132435e-04,  1.58474941e-04, -3.88755871e-04, ...,\n",
       "         -4.78928996e-04, -8.15685024e-04,  1.26520797e-04],\n",
       "        ...,\n",
       "        [-3.94241739e-04,  1.16228184e-03,  7.62642361e-04, ...,\n",
       "         -6.30276103e-04,  5.87090144e-05, -7.99603935e-04],\n",
       "        [-9.75129078e-05,  1.18122902e-03,  7.03997386e-04, ...,\n",
       "         -5.07328485e-04,  4.80969211e-05, -5.68715215e-04],\n",
       "        [ 1.67505728e-04,  1.03518111e-03,  4.14208567e-04, ...,\n",
       "         -2.76972569e-04,  1.63777600e-04, -3.92959540e-04]],\n",
       "\n",
       "       [[ 2.82894238e-04, -6.45709661e-05, -1.36316768e-04, ...,\n",
       "          3.06724032e-05, -3.07589245e-04,  4.28568674e-05],\n",
       "        [ 2.87284667e-04,  2.27633820e-04,  4.59689036e-04, ...,\n",
       "         -4.83917684e-05, -4.49165731e-04, -2.47818127e-04],\n",
       "        [ 9.91826237e-05,  4.74865170e-04,  9.06356028e-04, ...,\n",
       "         -1.30113753e-04, -3.31196468e-04, -3.56998731e-04],\n",
       "        ...,\n",
       "        [-4.19949210e-04,  7.65476609e-04,  9.30027338e-04, ...,\n",
       "         -3.23234824e-04,  1.51992706e-03, -1.25151465e-03],\n",
       "        [-7.79711118e-04,  1.06410275e-03,  7.67010904e-04, ...,\n",
       "         -1.06243184e-04,  1.84785377e-03, -1.37217110e-03],\n",
       "        [-1.12062879e-03,  1.34169811e-03,  6.23353641e-04, ...,\n",
       "          1.27356616e-04,  2.16952153e-03, -1.47795340e-03]],\n",
       "\n",
       "       [[ 2.82894238e-04, -6.45709661e-05, -1.36316768e-04, ...,\n",
       "          3.06724032e-05, -3.07589245e-04,  4.28568674e-05],\n",
       "        [ 3.96714895e-04,  1.85752142e-04,  1.29192631e-04, ...,\n",
       "         -1.13938739e-04, -1.64824451e-04,  1.04912222e-04],\n",
       "        [ 4.02652600e-04,  7.23592413e-04,  2.64642818e-04, ...,\n",
       "         -1.77943570e-04,  8.62545348e-05,  6.58932331e-05],\n",
       "        ...,\n",
       "        [-1.78661093e-03,  1.91915187e-03, -4.76699293e-04, ...,\n",
       "          8.80062929e-04,  2.62288586e-03, -2.19937926e-03],\n",
       "        [-1.97415217e-03,  2.02123052e-03, -4.19931486e-04, ...,\n",
       "          1.01361447e-03,  2.89564091e-03, -2.22165091e-03],\n",
       "        [-2.14861659e-03,  2.10455502e-03, -3.55395052e-04, ...,\n",
       "          1.11732923e-03,  3.13417311e-03, -2.21167179e-03]]],\n",
       "      dtype=float32)>"
      ]
     },
     "execution_count": 27,
     "metadata": {},
     "output_type": "execute_result"
    }
   ],
   "source": [
    "# 데이터셋에서 데이터 한 배치만 불러오는 방법입니다.\n",
    "# 지금은 동작 원리에 너무 빠져들지 마세요~\n",
    "for src_sample, tgt_sample in dataset.take(1): break\n",
    "\n",
    "# 한 배치만 불러온 데이터를 모델에 넣어봅니다\n",
    "model(src_sample)"
   ]
  },
  {
   "cell_type": "code",
   "execution_count": 28,
   "id": "contrary-whale",
   "metadata": {},
   "outputs": [
    {
     "name": "stdout",
     "output_type": "stream",
     "text": [
      "Model: \"text_generator_1\"\n",
      "_________________________________________________________________\n",
      "Layer (type)                 Output Shape              Param #   \n",
      "=================================================================\n",
      "embedding_1 (Embedding)      multiple                  7680512   \n",
      "_________________________________________________________________\n",
      "lstm_2 (LSTM)                multiple                  20979712  \n",
      "_________________________________________________________________\n",
      "lstm_3 (LSTM)                multiple                  33562624  \n",
      "_________________________________________________________________\n",
      "dense_1 (Dense)              multiple                  30737049  \n",
      "=================================================================\n",
      "Total params: 92,959,897\n",
      "Trainable params: 92,959,897\n",
      "Non-trainable params: 0\n",
      "_________________________________________________________________\n"
     ]
    }
   ],
   "source": [
    "model.summary()"
   ]
  },
  {
   "cell_type": "markdown",
   "id": "historical-assumption",
   "metadata": {},
   "source": [
    "---\n",
    "### n차 시도\n",
    "- 하이퍼 파라미터를 여러 조합으로 바꿔서 모델을 학습시켜봤으나, val_loss 값이 2.2 이하로 떨어지질 않았다.\n",
    "- 고민하던 중 dropout을 추가해보았다.\n",
    "- 아래 결과는 Rnn1과 Rnn2 LSTM 에 dropout을 각각 0.5로 준 결과이다."
   ]
  },
  {
   "cell_type": "code",
   "execution_count": 14,
   "id": "continued-parameter",
   "metadata": {
    "scrolled": false
   },
   "outputs": [
    {
     "name": "stdout",
     "output_type": "stream",
     "text": [
      "Epoch 1/10\n",
      "1042/1042 [==============================] - 573s 547ms/step - loss: 3.9679 - val_loss: 3.1224\n",
      "Epoch 2/10\n",
      "1042/1042 [==============================] - 574s 551ms/step - loss: 3.0081 - val_loss: 2.8700\n",
      "Epoch 3/10\n",
      "1042/1042 [==============================] - 573s 550ms/step - loss: 2.6625 - val_loss: 2.6989\n",
      "Epoch 4/10\n",
      "1042/1042 [==============================] - 572s 549ms/step - loss: 2.3433 - val_loss: 2.5842\n",
      "Epoch 5/10\n",
      "1042/1042 [==============================] - 570s 547ms/step - loss: 2.0717 - val_loss: 2.5076\n",
      "Epoch 6/10\n",
      "1042/1042 [==============================] - 568s 545ms/step - loss: 1.8443 - val_loss: 2.4635\n",
      "Epoch 7/10\n",
      "1042/1042 [==============================] - 572s 549ms/step - loss: 1.6586 - val_loss: 2.4421\n",
      "Epoch 8/10\n",
      "1042/1042 [==============================] - 568s 545ms/step - loss: 1.5125 - val_loss: 2.4425\n",
      "Epoch 9/10\n",
      "1042/1042 [==============================] - 570s 547ms/step - loss: 1.3952 - val_loss: 2.4524\n",
      "Epoch 10/10\n",
      "1042/1042 [==============================] - 571s 548ms/step - loss: 1.3041 - val_loss: 2.4724\n"
     ]
    }
   ],
   "source": [
    "optimizer = tf.keras.optimizers.Adam()\n",
    "loss = tf.keras.losses.SparseCategoricalCrossentropy(\n",
    "    from_logits=True,\n",
    "    reduction='none'\n",
    ")\n",
    "\n",
    "model.compile(loss=loss, optimizer=optimizer)\n",
    "data1 = model.fit(enc_train, dec_train, validation_data=(enc_val, dec_val), epochs=10, batch_size=128, verbose=1)"
   ]
  },
  {
   "cell_type": "markdown",
   "id": "unavailable-supplier",
   "metadata": {},
   "source": [
    "- dropout을 Rnn1, Rnn2 LSTM에 모두 0.5씩 설정하였으나, Val_loss값이 유의미하게 떨어지지 않아 다시 설정해보았다.\n",
    "- 아래 학습에서는 dropout을 Rnn1 LSTM에만 0.5 주었다."
   ]
  },
  {
   "cell_type": "code",
   "execution_count": 29,
   "id": "identified-brain",
   "metadata": {},
   "outputs": [
    {
     "name": "stdout",
     "output_type": "stream",
     "text": [
      "Epoch 1/10\n",
      "1042/1042 [==============================] - 553s 528ms/step - loss: 3.8158 - val_loss: 2.9010\n",
      "Epoch 2/10\n",
      "1042/1042 [==============================] - 551s 529ms/step - loss: 2.8552 - val_loss: 2.4170\n",
      "Epoch 3/10\n",
      "1042/1042 [==============================] - 552s 529ms/step - loss: 2.4121 - val_loss: 1.9917\n",
      "Epoch 4/10\n",
      "1042/1042 [==============================] - 550s 528ms/step - loss: 2.0191 - val_loss: 1.6510\n",
      "Epoch 5/10\n",
      "1042/1042 [==============================] - 550s 528ms/step - loss: 1.6955 - val_loss: 1.3901\n",
      "Epoch 6/10\n",
      "1042/1042 [==============================] - 551s 529ms/step - loss: 1.4487 - val_loss: 1.2023\n",
      "Epoch 7/10\n",
      "1042/1042 [==============================] - 550s 528ms/step - loss: 1.2671 - val_loss: 1.0752\n",
      "Epoch 8/10\n",
      "1042/1042 [==============================] - 552s 529ms/step - loss: 1.1365 - val_loss: 0.9895\n",
      "Epoch 9/10\n",
      "1042/1042 [==============================] - 551s 529ms/step - loss: 1.0521 - val_loss: 0.9416\n",
      "Epoch 10/10\n",
      "1042/1042 [==============================] - 548s 526ms/step - loss: 1.0019 - val_loss: 0.9114\n"
     ]
    }
   ],
   "source": [
    "# dropout을 Rnn1에만 0.5로 준 것\n",
    "# optimizer와 loss등은 나중에 배운다\n",
    "optimizer = tf.keras.optimizers.Adam()\n",
    "loss = tf.keras.losses.SparseCategoricalCrossentropy(\n",
    "    from_logits=True,\n",
    "    reduction='none')\n",
    "\n",
    "model.compile(loss=loss, optimizer=optimizer)\n",
    "data2 = model.fit(enc_train, dec_train, validation_data=(enc_val2, dec_val2), epochs=10, batch_size=128, verbose=1)"
   ]
  },
  {
   "cell_type": "markdown",
   "id": "strong-joining",
   "metadata": {},
   "source": [
    "---\n",
    "\n",
    "## 5. 모델이 가사를 잘 생성하는지 확인하기\n",
    "주어지는 단어에 알맞게 가사를 잘 생성하는 것을 볼 수 있다."
   ]
  },
  {
   "cell_type": "code",
   "execution_count": 40,
   "id": "applicable-morris",
   "metadata": {},
   "outputs": [],
   "source": [
    "def generate_text(model, tokenizer, init_sentence=\"<start>\", max_len=20):\n",
    "    # 테스트를 위해서 입력받은 init_sentence도 텐서로 변환합니다\n",
    "    test_input = tokenizer.texts_to_sequences([init_sentence])\n",
    "    test_tensor = tf.convert_to_tensor(test_input, dtype=tf.int64)\n",
    "    end_token = tokenizer.word_index[\"<end>\"]\n",
    "\n",
    "    # 단어 하나씩 예측해 문장을 만듭니다\n",
    "    #    1. 입력받은 문장의 텐서를 입력합니다\n",
    "    #    2. 예측된 값 중 가장 높은 확률인 word index를 뽑아냅니다\n",
    "    #    3. 2에서 예측된 word index를 문장 뒤에 붙입니다\n",
    "    #    4. 모델이 <end>를 예측했거나, max_len에 도달했다면 문장 생성을 마칩니다\n",
    "    while True:\n",
    "        # 1\n",
    "        predict = model(test_tensor) \n",
    "        # 2\n",
    "        predict_word = tf.argmax(tf.nn.softmax(predict, axis=-1), axis=-1)[:, -1] \n",
    "        # 3 \n",
    "        test_tensor = tf.concat([test_tensor, tf.expand_dims(predict_word, axis=0)], axis=-1)\n",
    "        # 4\n",
    "        if predict_word.numpy()[0] == end_token: break\n",
    "        if test_tensor.shape[1] >= max_len: break\n",
    "\n",
    "    generated = \"\"\n",
    "    # tokenizer를 이용해 word index를 단어로 하나씩 변환합니다 \n",
    "    for word_index in test_tensor[0].numpy():\n",
    "        generated += tokenizer.index_word[word_index] + \" \"\n",
    "\n",
    "    return generated"
   ]
  },
  {
   "cell_type": "code",
   "execution_count": 44,
   "id": "human-theta",
   "metadata": {},
   "outputs": [
    {
     "data": {
      "text/plain": [
       "'<start> i love you <end> '"
      ]
     },
     "execution_count": 44,
     "metadata": {},
     "output_type": "execute_result"
    }
   ],
   "source": [
    "generate_text(model, tokenizer, init_sentence=\"<start> i love\", max_len=20)"
   ]
  },
  {
   "cell_type": "code",
   "execution_count": 69,
   "id": "charming-joint",
   "metadata": {},
   "outputs": [
    {
     "name": "stdout",
     "output_type": "stream",
     "text": [
      "<start> i love you <end> \n",
      "<start> i hate to see the moments disappear <end> \n",
      "<start> i m not your babe , fernando <end> \n",
      "<start> you love me when im hungover <end> \n",
      "<start> you know i m bad , i m bad you know it <end> \n",
      "<start> your love is soft and wet <end> \n",
      "<start> mine is the day , the ghost of the sea <end> \n",
      "<start> love is a beautiful thing <end> \n",
      "<start> coffee across the sky , high <end> \n",
      "<start> sweet baby <end> \n",
      "<start> i am a godi just talked to jesus <end> \n",
      "<start> never been a type to bite my words <end> \n"
     ]
    }
   ],
   "source": [
    "test_word = ['i love', 'i hate', 'I','you love' ,'you', 'your love', 'mine', 'love is', 'coffee', 'sweet','i am','never']\n",
    "result_dict = {}\n",
    "for word in test_word:\n",
    "    result = generate_text(model, tokenizer, init_sentence= ' '.join([\"<start>\", word]))\n",
    "    result_dict[word] = result\n",
    "    print(result)"
   ]
  },
  {
   "cell_type": "markdown",
   "id": "fifth-brand",
   "metadata": {},
   "source": [
    "### DataFrame으로 결과 확인해보기\n",
    "pandas의 dataframe을 사용하여 첫 단어로 준 문장 및 단어들과 그에 따른 결과를 정리해서 확인해보았다.\n",
    "\n",
    "문장의 첫 단어로 잘 들어가지 않는 단어들을 사용했더니 모델이 당황한 것이 느껴졌다."
   ]
  },
  {
   "cell_type": "code",
   "execution_count": 73,
   "id": "prospective-parade",
   "metadata": {},
   "outputs": [
    {
     "data": {
      "text/html": [
       "<div>\n",
       "<style scoped>\n",
       "    .dataframe tbody tr th:only-of-type {\n",
       "        vertical-align: middle;\n",
       "    }\n",
       "\n",
       "    .dataframe tbody tr th {\n",
       "        vertical-align: top;\n",
       "    }\n",
       "\n",
       "    .dataframe thead th {\n",
       "        text-align: right;\n",
       "    }\n",
       "</style>\n",
       "<table border=\"1\" class=\"dataframe\">\n",
       "  <thead>\n",
       "    <tr style=\"text-align: right;\">\n",
       "      <th></th>\n",
       "      <th>start</th>\n",
       "      <th>result</th>\n",
       "    </tr>\n",
       "  </thead>\n",
       "  <tbody>\n",
       "    <tr>\n",
       "      <th>0</th>\n",
       "      <td>i love</td>\n",
       "      <td>&lt;start&gt; i love you &lt;end&gt;</td>\n",
       "    </tr>\n",
       "    <tr>\n",
       "      <th>1</th>\n",
       "      <td>i hate</td>\n",
       "      <td>&lt;start&gt; i hate to see the moments disappear &lt;e...</td>\n",
       "    </tr>\n",
       "    <tr>\n",
       "      <th>2</th>\n",
       "      <td>I</td>\n",
       "      <td>&lt;start&gt; i m not your babe , fernando &lt;end&gt;</td>\n",
       "    </tr>\n",
       "    <tr>\n",
       "      <th>3</th>\n",
       "      <td>you love</td>\n",
       "      <td>&lt;start&gt; you love me when im hungover &lt;end&gt;</td>\n",
       "    </tr>\n",
       "    <tr>\n",
       "      <th>4</th>\n",
       "      <td>you</td>\n",
       "      <td>&lt;start&gt; you know i m bad , i m bad you know it...</td>\n",
       "    </tr>\n",
       "    <tr>\n",
       "      <th>5</th>\n",
       "      <td>your love</td>\n",
       "      <td>&lt;start&gt; your love is soft and wet &lt;end&gt;</td>\n",
       "    </tr>\n",
       "    <tr>\n",
       "      <th>6</th>\n",
       "      <td>mine</td>\n",
       "      <td>&lt;start&gt; mine is the day , the ghost of the sea...</td>\n",
       "    </tr>\n",
       "    <tr>\n",
       "      <th>7</th>\n",
       "      <td>love is</td>\n",
       "      <td>&lt;start&gt; love is a beautiful thing &lt;end&gt;</td>\n",
       "    </tr>\n",
       "    <tr>\n",
       "      <th>8</th>\n",
       "      <td>coffee</td>\n",
       "      <td>&lt;start&gt; coffee across the sky , high &lt;end&gt;</td>\n",
       "    </tr>\n",
       "    <tr>\n",
       "      <th>9</th>\n",
       "      <td>sweet</td>\n",
       "      <td>&lt;start&gt; sweet baby &lt;end&gt;</td>\n",
       "    </tr>\n",
       "    <tr>\n",
       "      <th>10</th>\n",
       "      <td>i am</td>\n",
       "      <td>&lt;start&gt; i am a godi just talked to jesus &lt;end&gt;</td>\n",
       "    </tr>\n",
       "    <tr>\n",
       "      <th>11</th>\n",
       "      <td>never</td>\n",
       "      <td>&lt;start&gt; never been a type to bite my words &lt;end&gt;</td>\n",
       "    </tr>\n",
       "  </tbody>\n",
       "</table>\n",
       "</div>"
      ],
      "text/plain": [
       "        start                                             result\n",
       "0      i love                          <start> i love you <end> \n",
       "1      i hate  <start> i hate to see the moments disappear <e...\n",
       "2           I        <start> i m not your babe , fernando <end> \n",
       "3    you love        <start> you love me when im hungover <end> \n",
       "4         you  <start> you know i m bad , i m bad you know it...\n",
       "5   your love           <start> your love is soft and wet <end> \n",
       "6        mine  <start> mine is the day , the ghost of the sea...\n",
       "7     love is           <start> love is a beautiful thing <end> \n",
       "8      coffee        <start> coffee across the sky , high <end> \n",
       "9       sweet                          <start> sweet baby <end> \n",
       "10       i am    <start> i am a godi just talked to jesus <end> \n",
       "11      never  <start> never been a type to bite my words <end> "
      ]
     },
     "execution_count": 73,
     "metadata": {},
     "output_type": "execute_result"
    }
   ],
   "source": [
    "import pandas as pd\n",
    "\n",
    "pd.DataFrame(list(result_dict.items()),\n",
    "                   columns=['start', 'result'])"
   ]
  },
  {
   "cell_type": "markdown",
   "id": "bored-cleaning",
   "metadata": {},
   "source": [
    "### loss값 시각화 해보기"
   ]
  },
  {
   "cell_type": "code",
   "execution_count": 76,
   "id": "arbitrary-encounter",
   "metadata": {},
   "outputs": [
    {
     "data": {
      "image/png": "[encoded data removed]",
      "text/plain": [
       "<Figure size 720x360 with 2 Axes>"
      ]
     },
     "metadata": {
      "needs_background": "light"
     },
     "output_type": "display_data"
    }
   ],
   "source": [
    "import matplotlib.pyplot as plt\n",
    "\n",
    "fig = plt.figure(figsize=(10,5))\n",
    "\n",
    "ax1 = fig.add_subplot(1,2,1)\n",
    "plt.plot(data1.history['loss'])\n",
    "plt.plot(data1.history['val_loss'])\n",
    "plt.title('Model1 loss(Rnn1& Rnn2 Dropout 0.5)')\n",
    "plt.ylabel('loss')\n",
    "plt.xlabel('Epoch')\n",
    "plt.legend(['Train', 'Validation'], loc='upper left')\n",
    "\n",
    "ax1 = fig.add_subplot(1,2,2)\n",
    "plt.plot(data2.history['loss'])\n",
    "plt.plot(data2.history['val_loss'])\n",
    "plt.title('Model2 loss(Rnn1 Dropout 0.5)')\n",
    "plt.ylabel('loss')\n",
    "plt.xlabel('Epoch')\n",
    "plt.legend(['Train', 'Validation'], loc='upper left')\n",
    "plt.show()"
   ]
  },
  {
   "cell_type": "markdown",
   "id": "rough-tamil",
   "metadata": {},
   "source": [
    "---\n",
    "\n",
    "## 6. 회고 \n",
    "고난의 연속이었던 작사가 만들기 프로젝트.. 휴일 내내 모델만 돌린 것 같다.\n",
    "덕분에 내가 많이 부족하다는 것을 다시 한번 느끼게 되었다.\n",
    "\n",
    "사실 이전에는 loss 값도 중요하게 생각하긴 했지만 accuracy에 좀 더 집중 했던 것 같다.\n",
    "이렇게 loss값에 집중한 적이 있었던가..? 하고 생각을 하다보니, 그 동안은 많은 것을 간과하고 있었던 것 같다고 느꼈다.\n",
    "\n",
    "이번 기회를 통해 loss 값에 대해서도 많이 생각하게 되고 rnn에 대해서도 많이 배운 것 같다. \n",
    "\n",
    "그리고 loss 값의 변화를 시각화 하고 싶다는 생각이 들어 서치를 하다보니 keras 에서 모델 훈련 history를 확인할 수 있다는 사실도 알게되었다.\n",
    "\n",
    "여러모로 나를 많이 채울 수 있는 프로젝트 였다고 생각한다.\n",
    "\n",
    "이후에 더 확실하게 loss를 잡을 수 있는 방법을 찾아봐야겠다.\n"
   ]
  },
  {
   "cell_type": "markdown",
   "id": "worse-spain",
   "metadata": {},
   "source": [
    "---\n",
    "\n",
    "## 참고 자료\n",
    "\n",
    "[Keras Documentation](https://keras.io/ko/visualization/)\n"
   ]
  }
 ],
 "metadata": {
  "kernelspec": {
   "display_name": "Python 3",
   "language": "python",
   "name": "python3"
  },
  "language_info": {
   "codemirror_mode": {
    "name": "ipython",
    "version": 3
   },
   "file_extension": ".py",
   "mimetype": "text/x-python",
   "name": "python",
   "nbconvert_exporter": "python",
   "pygments_lexer": "ipython3",
   "version": "3.7.9"
  }
 },
 "nbformat": 4,
 "nbformat_minor": 5
}
