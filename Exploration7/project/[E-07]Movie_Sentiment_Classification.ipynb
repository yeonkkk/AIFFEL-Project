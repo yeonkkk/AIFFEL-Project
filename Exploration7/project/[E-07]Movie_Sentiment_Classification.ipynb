{
 "cells": [
  {
   "cell_type": "markdown",
   "id": "sophisticated-lounge",
   "metadata": {},
   "source": [
    "# E-07. 네이버 영화리뷰 감성분석\n",
    "\n",
    "- 데이터 준비와 확인\n",
    "- 데이터로더 구성\n",
    "- 모델구성을 위한 데이터 분석 및 가공\n",
    "- 모델구성 및 validation set 구성\n",
    "- 모델 훈련 개시\n",
    "- Loss, Accuracy 그래프 시각화\n",
    "- 학습된 Embedding 레이어 분석\n",
    "- 한국어 Word2Vec 임베딩 활용하여 성능 개선\n",
    "\n",
    "---"
   ]
  },
  {
   "cell_type": "markdown",
   "id": "recovered-excess",
   "metadata": {},
   "source": [
    "## 1. 데이터 준비와 확인\n",
    "\n",
    "활용 데이터: [Naver sentiment movie corpus](https://github.com/e9t/nsmc)"
   ]
  },
  {
   "cell_type": "code",
   "execution_count": 1,
   "id": "increased-sustainability",
   "metadata": {
    "scrolled": true
   },
   "outputs": [],
   "source": [
    "import pandas as pd\n",
    "import urllib.request\n",
    "%matplotlib inline\n",
    "import matplotlib.pyplot as plt\n",
    "import re\n",
    "from konlpy.tag import Okt\n",
    "import tensorflow as tf\n",
    "from tensorflow import keras\n",
    "from tensorflow.keras.preprocessing.text import Tokenizer\n",
    "import numpy as np\n",
    "from tensorflow.keras.preprocessing.sequence import pad_sequences\n",
    "from collections import Counter\n",
    "\n",
    "# 데이터를 읽어봅시다. \n",
    "train_data = pd.read_table('~/aiffel/sentiment_classification/data/ratings_train.txt')\n",
    "test_data = pd.read_table('~/aiffel/sentiment_classification/data/ratings_test.txt')"
   ]
  },
  {
   "cell_type": "code",
   "execution_count": 2,
   "id": "personal-issue",
   "metadata": {},
   "outputs": [
    {
     "data": {
      "text/html": [
       "<div>\n",
       "<style scoped>\n",
       "    .dataframe tbody tr th:only-of-type {\n",
       "        vertical-align: middle;\n",
       "    }\n",
       "\n",
       "    .dataframe tbody tr th {\n",
       "        vertical-align: top;\n",
       "    }\n",
       "\n",
       "    .dataframe thead th {\n",
       "        text-align: right;\n",
       "    }\n",
       "</style>\n",
       "<table border=\"1\" class=\"dataframe\">\n",
       "  <thead>\n",
       "    <tr style=\"text-align: right;\">\n",
       "      <th></th>\n",
       "      <th>id</th>\n",
       "      <th>document</th>\n",
       "      <th>label</th>\n",
       "    </tr>\n",
       "  </thead>\n",
       "  <tbody>\n",
       "    <tr>\n",
       "      <th>0</th>\n",
       "      <td>9976970</td>\n",
       "      <td>아 더빙.. 진짜 짜증나네요 목소리</td>\n",
       "      <td>0</td>\n",
       "    </tr>\n",
       "    <tr>\n",
       "      <th>1</th>\n",
       "      <td>3819312</td>\n",
       "      <td>흠...포스터보고 초딩영화줄....오버연기조차 가볍지 않구나</td>\n",
       "      <td>1</td>\n",
       "    </tr>\n",
       "    <tr>\n",
       "      <th>2</th>\n",
       "      <td>10265843</td>\n",
       "      <td>너무재밓었다그래서보는것을추천한다</td>\n",
       "      <td>0</td>\n",
       "    </tr>\n",
       "    <tr>\n",
       "      <th>3</th>\n",
       "      <td>9045019</td>\n",
       "      <td>교도소 이야기구먼 ..솔직히 재미는 없다..평점 조정</td>\n",
       "      <td>0</td>\n",
       "    </tr>\n",
       "    <tr>\n",
       "      <th>4</th>\n",
       "      <td>6483659</td>\n",
       "      <td>사이몬페그의 익살스런 연기가 돋보였던 영화!스파이더맨에서 늙어보이기만 했던 커스틴 ...</td>\n",
       "      <td>1</td>\n",
       "    </tr>\n",
       "  </tbody>\n",
       "</table>\n",
       "</div>"
      ],
      "text/plain": [
       "         id                                           document  label\n",
       "0   9976970                                아 더빙.. 진짜 짜증나네요 목소리      0\n",
       "1   3819312                  흠...포스터보고 초딩영화줄....오버연기조차 가볍지 않구나      1\n",
       "2  10265843                                  너무재밓었다그래서보는것을추천한다      0\n",
       "3   9045019                      교도소 이야기구먼 ..솔직히 재미는 없다..평점 조정      0\n",
       "4   6483659  사이몬페그의 익살스런 연기가 돋보였던 영화!스파이더맨에서 늙어보이기만 했던 커스틴 ...      1"
      ]
     },
     "execution_count": 2,
     "metadata": {},
     "output_type": "execute_result"
    }
   ],
   "source": [
    "train_data.head(5)"
   ]
  },
  {
   "cell_type": "code",
   "execution_count": 3,
   "id": "generous-birmingham",
   "metadata": {
    "scrolled": true
   },
   "outputs": [
    {
     "data": {
      "text/html": [
       "<div>\n",
       "<style scoped>\n",
       "    .dataframe tbody tr th:only-of-type {\n",
       "        vertical-align: middle;\n",
       "    }\n",
       "\n",
       "    .dataframe tbody tr th {\n",
       "        vertical-align: top;\n",
       "    }\n",
       "\n",
       "    .dataframe thead th {\n",
       "        text-align: right;\n",
       "    }\n",
       "</style>\n",
       "<table border=\"1\" class=\"dataframe\">\n",
       "  <thead>\n",
       "    <tr style=\"text-align: right;\">\n",
       "      <th></th>\n",
       "      <th>id</th>\n",
       "      <th>document</th>\n",
       "      <th>label</th>\n",
       "    </tr>\n",
       "  </thead>\n",
       "  <tbody>\n",
       "    <tr>\n",
       "      <th>0</th>\n",
       "      <td>6270596</td>\n",
       "      <td>굳 ㅋ</td>\n",
       "      <td>1</td>\n",
       "    </tr>\n",
       "    <tr>\n",
       "      <th>1</th>\n",
       "      <td>9274899</td>\n",
       "      <td>GDNTOPCLASSINTHECLUB</td>\n",
       "      <td>0</td>\n",
       "    </tr>\n",
       "    <tr>\n",
       "      <th>2</th>\n",
       "      <td>8544678</td>\n",
       "      <td>뭐야 이 평점들은.... 나쁘진 않지만 10점 짜리는 더더욱 아니잖아</td>\n",
       "      <td>0</td>\n",
       "    </tr>\n",
       "    <tr>\n",
       "      <th>3</th>\n",
       "      <td>6825595</td>\n",
       "      <td>지루하지는 않은데 완전 막장임... 돈주고 보기에는....</td>\n",
       "      <td>0</td>\n",
       "    </tr>\n",
       "    <tr>\n",
       "      <th>4</th>\n",
       "      <td>6723715</td>\n",
       "      <td>3D만 아니었어도 별 다섯 개 줬을텐데.. 왜 3D로 나와서 제 심기를 불편하게 하죠??</td>\n",
       "      <td>0</td>\n",
       "    </tr>\n",
       "  </tbody>\n",
       "</table>\n",
       "</div>"
      ],
      "text/plain": [
       "        id                                           document  label\n",
       "0  6270596                                                굳 ㅋ      1\n",
       "1  9274899                               GDNTOPCLASSINTHECLUB      0\n",
       "2  8544678             뭐야 이 평점들은.... 나쁘진 않지만 10점 짜리는 더더욱 아니잖아      0\n",
       "3  6825595                   지루하지는 않은데 완전 막장임... 돈주고 보기에는....      0\n",
       "4  6723715  3D만 아니었어도 별 다섯 개 줬을텐데.. 왜 3D로 나와서 제 심기를 불편하게 하죠??      0"
      ]
     },
     "execution_count": 3,
     "metadata": {},
     "output_type": "execute_result"
    }
   ],
   "source": [
    "test_data.head(5)"
   ]
  },
  {
   "cell_type": "markdown",
   "id": "swedish-transformation",
   "metadata": {},
   "source": [
    "---\n",
    "## 2. 데이터로더 구성\n",
    "- `stopwords`: 불용어\n",
    "- `drop_duplicates`: 중복 데이터가 포함된 행 제거\n",
    "- `dropna`: 누락된 값이 포함된 행이나 열 삭제\n",
    "    - `axis=0`: 행 삭제, `axis=1`: 열삭제\n",
    "    - `any`: 하나 이상의 NA가 있으면 행 또는 열 삭제\n",
    "- `inplace=Ture`: 객체를 새로 선언하지 않고 지금 객체를 업데이트 하고 싶을 때\n",
    "- `Subset`: 중복 여부를 테스트할 때 colunms의 이름을 리스트 형태로 적음\n",
    "- `tolist()`: 넘파이 어레이를 리스트로 변환\n",
    "- `np.concatenate`: Numpy 배열들을 하나로 합치는데 이용"
   ]
  },
  {
   "cell_type": "code",
   "execution_count": 4,
   "id": "postal-species",
   "metadata": {},
   "outputs": [],
   "source": [
    "from konlpy.tag import Mecab\n",
    "tokenizer = Mecab()\n",
    "# 불용어\n",
    "stopwords = ['아이고', '의해', '의','가','이','은','들','는','좀','잘',\n",
    "             '걍','과','도','를','으로','자','에','와','한','하다', '아', '휴',\n",
    "            '우리', '을', '에게', '로', '물론', '엉엉']\n",
    "\n",
    "def load_data(train_data, test_data, num_words=10000):\n",
    "    train_data.drop_duplicates(subset=['document'], inplace=True) # 중복제거\n",
    "    train_data = train_data.dropna(how = 'any') # 결측값이 있는 행이나 열 제거 \n",
    "    test_data.drop_duplicates(subset=['document'], inplace=True)\n",
    "    test_data = test_data.dropna(how = 'any') \n",
    "    \n",
    "    X_train = []\n",
    "    for sentence in train_data['document']:\n",
    "        temp_X = tokenizer.morphs(sentence) # 토큰화\n",
    "        temp_X = [word for word in temp_X if not word in stopwords] # 불용어 제거\n",
    "        X_train.append(temp_X)\n",
    "\n",
    "    X_test = []\n",
    "    for sentence in test_data['document']:\n",
    "        temp_X = tokenizer.morphs(sentence) # 토큰화\n",
    "        temp_X = [word for word in temp_X if not word in stopwords] # 불용어 제거\n",
    "        X_test.append(temp_X)\n",
    "    \n",
    "    # 사전word_to_index 구성\n",
    "    words = np.concatenate(X_train).tolist() # 리스트 안에 리스트를 플랫하게 만드는 것 [[1,2][3,4]] 이걸 [1,2,3,4]\n",
    "    counter = Counter(words) # counter를 쓰면 셀 수 있다.\n",
    "    counter = counter.most_common(10000-4)\n",
    "    vocab = ['', '', '', ''] + [key for key, _ in counter]\n",
    "    word_to_index = {word:index for index, word in enumerate(vocab)}\n",
    "    \n",
    "    # 텍스트 스트링을 사전 인덱스 스트링으로 변환하는 함수\n",
    "    def wordlist_to_indexlist(wordlist):\n",
    "        return [word_to_index[word] if word in word_to_index else word_to_index[''] for word in wordlist]\n",
    "        \n",
    "    X_train = list(map(wordlist_to_indexlist, X_train))\n",
    "    X_test = list(map(wordlist_to_indexlist, X_test))\n",
    "        \n",
    "    return X_train, np.array(list(train_data['label'])), X_test, np.array(list(test_data['label'])), word_to_index\n",
    "    \n",
    "X_train, y_train, X_test, y_test, word_to_index = load_data(train_data, test_data)"
   ]
  },
  {
   "cell_type": "code",
   "execution_count": 5,
   "id": "sufficient-colleague",
   "metadata": {},
   "outputs": [
    {
     "name": "stdout",
     "output_type": "stream",
     "text": [
      "train data: 146182 , test data: 49157\n",
      "word_to_index :  9997 <class 'dict'>\n"
     ]
    }
   ],
   "source": [
    "print(\"train data: {} , test data: {}\".format(len(X_train), len(X_test))) \n",
    "print('word_to_index : ',len(word_to_index), type(word_to_index))"
   ]
  },
  {
   "cell_type": "markdown",
   "id": "looking-conclusion",
   "metadata": {},
   "source": [
    "- `word_to_index` 내에 `<PAD>`, `<BOS>`, `<UNK>`, `<UNUSED>` 가 있는지 확인\n",
    "- 없으니 인덱스 0~3에 넣어준다."
   ]
  },
  {
   "cell_type": "code",
   "execution_count": 6,
   "id": "modified-triple",
   "metadata": {
    "scrolled": true
   },
   "outputs": [
    {
     "name": "stdout",
     "output_type": "stream",
     "text": [
      "False\n",
      "False\n",
      "False\n",
      "False\n"
     ]
    }
   ],
   "source": [
    "print('<PAD>' in word_to_index)\n",
    "print('<BOS>' in word_to_index)\n",
    "print('<UNK>' in word_to_index)\n",
    "print('<UNUSED>' in word_to_index)"
   ]
  },
  {
   "cell_type": "code",
   "execution_count": 7,
   "id": "ethical-persian",
   "metadata": {},
   "outputs": [],
   "source": [
    "word_to_index[\"<PAD>\"] = 0\n",
    "word_to_index[\"<BOS>\"] = 1\n",
    "word_to_index[\"<UNK>\"] = 2  # unknown\n",
    "word_to_index[\"<UNUSED>\"] = 3"
   ]
  },
  {
   "cell_type": "code",
   "execution_count": 8,
   "id": "junior-alaska",
   "metadata": {},
   "outputs": [
    {
     "name": "stdout",
     "output_type": "stream",
     "text": [
      "True\n",
      "True\n",
      "True\n",
      "True\n"
     ]
    }
   ],
   "source": [
    "print('<PAD>' in word_to_index)\n",
    "print('<BOS>' in word_to_index)\n",
    "print('<UNK>' in word_to_index)\n",
    "print('<UNUSED>' in word_to_index)"
   ]
  },
  {
   "cell_type": "code",
   "execution_count": 9,
   "id": "apart-there",
   "metadata": {},
   "outputs": [],
   "source": [
    "index_to_word = {index:word for word, index in word_to_index.items()}"
   ]
  },
  {
   "cell_type": "code",
   "execution_count": 10,
   "id": "maritime-family",
   "metadata": {},
   "outputs": [],
   "source": [
    "# 문장 1개를 활용할 딕셔너리와 함께 주면, 단어 인덱스 리스트 벡터로 변환해 주는 함수입니다. \n",
    "# 단, 모든 문장은 <BOS>로 시작하는 것으로 합니다. \n",
    "def get_encoded_sentence(sentence, word_to_index):\n",
    "    return [word_to_index['<BOS>']]+[word_to_index[word] if word in word_to_index else word_to_index['<UNK>'] for word in sentence.split()]\n",
    "\n",
    "# 여러 개의 문장 리스트를 한꺼번에 단어 인덱스 리스트 벡터로 encode해 주는 함수입니다. \n",
    "def get_encoded_sentences(sentences, word_to_index):\n",
    "    return [get_encoded_sentence(sentence, word_to_index) for sentence in sentences]\n",
    "\n",
    "# 숫자 벡터로 encode된 문장을 원래대로 decode하는 함수입니다. \n",
    "def get_decoded_sentence(encoded_sentence, index_to_word):\n",
    "    return ' '.join(index_to_word[index] if index in index_to_word else '<UNK>' for index in encoded_sentence[1:])  #[1:]를 통해 <BOS>를 제외\n",
    "\n",
    "# 여러 개의 숫자 벡터로 encode된 문장을 한꺼번에 원래대로 decode하는 함수입니다. \n",
    "def get_decoded_sentences(encoded_sentences, index_to_word):\n",
    "    return [get_decoded_sentence(encoded_sentence, index_to_word) for encoded_sentence in encoded_sentences]"
   ]
  },
  {
   "cell_type": "code",
   "execution_count": 11,
   "id": "current-first",
   "metadata": {},
   "outputs": [
    {
     "name": "stdout",
     "output_type": "stream",
     "text": [
      "[71, 913, 4, 4, 36, 223, 19, 30, 743]\n",
      "빙 . . 진짜 짜증 나 네요 목소리\n",
      "0\n"
     ]
    }
   ],
   "source": [
    "print(X_train[0])\n",
    "print(get_decoded_sentence(X_train[0], index_to_word))\n",
    "print(y_train[0])"
   ]
  },
  {
   "cell_type": "code",
   "execution_count": 12,
   "id": "persistent-bosnia",
   "metadata": {},
   "outputs": [
    {
     "name": "stdout",
     "output_type": "stream",
     "text": [
      "[71, 913, 4, 4, 36, 223, 19, 30, 743]\n",
      "빙 . . 진짜 짜증 나 네요 목소리\n",
      "0\n",
      "[1022, 4, 10, 514, 544, 682, 5, 117, 4, 67, 1632, 49, 919, 1000, 14, 41, 386]\n",
      ". .. 포스터 보고 초딩 영화 줄 . ... 오버 연기 조차 가볍 지 않 구나\n",
      "1\n",
      "[23, 200, 3]\n",
      "재 <UNUSED>\n",
      "0\n",
      "[8399, 155, 3917, 4, 4, 293, 91, 16, 6, 4, 4, 55, 3471]\n",
      "이야기 구먼 . . 솔직히 재미 없 다 . . 평점 조정\n",
      "0\n",
      "[3, 8884, 1102, 49, 2825, 57, 5, 13, 2751, 38, 1182, 32, 346, 39, 21, 37, 57, 3, 3, 422, 3094, 1759, 6]\n",
      "익살 스런 연기 돋보였 던 영화 ! 스파이더맨 에서 늙 어 보이 기 만 했 던 <UNUSED> <UNUSED> 너무나 이뻐 보였 다\n",
      "1\n"
     ]
    }
   ],
   "source": [
    "for i in range(5):\n",
    "    print(X_train[i])\n",
    "    print(get_decoded_sentence(X_train[i], index_to_word))\n",
    "    print(y_train[i])"
   ]
  },
  {
   "cell_type": "markdown",
   "id": "opened-investigator",
   "metadata": {},
   "source": [
    "---\n",
    "## 3. 모델 구성을 위한데이터 분석 및 가공\n",
    "- 데이터셋 내 문장 길이 분포\n",
    "- 적절한 최대 문장 길이 지정\n",
    "- `keras.preprocessing.sequence.pad_sequences` 을 활용한 패딩 추가"
   ]
  },
  {
   "cell_type": "code",
   "execution_count": 13,
   "id": "pretty-baltimore",
   "metadata": {},
   "outputs": [
    {
     "name": "stdout",
     "output_type": "stream",
     "text": [
      "문장길이 평균 :  15.607477257485705\n",
      "문장길이 최대 :  116\n",
      "문장길이 표준편차 :  12.497268361387638\n",
      "pad_sequences maxlen :  40\n",
      "전체 문장의 0.9343705046099345%가 maxlen 설정값 이내에 포함됩니다. \n"
     ]
    }
   ],
   "source": [
    "total_data_text = list(X_train) + list(X_test)\n",
    "# 텍스트데이터 문장길이의 리스트를 생성한 후\n",
    "num_tokens = [len(tokens) for tokens in total_data_text]\n",
    "num_tokens = np.array(num_tokens)\n",
    "# 문장길이의 평균값, 최대값, 표준편차를 계산해 본다. \n",
    "print('문장길이 평균 : ', np.mean(num_tokens))\n",
    "print('문장길이 최대 : ', np.max(num_tokens))\n",
    "print('문장길이 표준편차 : ', np.std(num_tokens))\n",
    "\n",
    "# 예를들어, 최대 길이를 (평균 + 2*표준편차)로 한다면,  \n",
    "max_tokens = np.mean(num_tokens) + 2 * np.std(num_tokens)\n",
    "maxlen = int(max_tokens)\n",
    "print('pad_sequences maxlen : ', maxlen)\n",
    "print('전체 문장의 {}%가 maxlen 설정값 이내에 포함됩니다. '.format(np.sum(num_tokens < max_tokens) / len(num_tokens)))"
   ]
  },
  {
   "cell_type": "code",
   "execution_count": 14,
   "id": "freelance-canyon",
   "metadata": {},
   "outputs": [
    {
     "name": "stdout",
     "output_type": "stream",
     "text": [
      "(146182, 40)\n"
     ]
    }
   ],
   "source": [
    "X_train = keras.preprocessing.sequence.pad_sequences(X_train,\n",
    "                                                        value=word_to_index[\"<PAD>\"],\n",
    "                                                        padding='post', # 혹은 'pre'\n",
    "                                                        maxlen=maxlen)\n",
    "\n",
    "X_test = keras.preprocessing.sequence.pad_sequences(X_test,\n",
    "                                                       value=word_to_index[\"<PAD>\"],\n",
    "                                                       padding='post', # 혹은 'pre'\n",
    "                                                       maxlen=maxlen)\n",
    "\n",
    "print(X_train.shape)"
   ]
  },
  {
   "cell_type": "code",
   "execution_count": 15,
   "id": "loaded-binary",
   "metadata": {},
   "outputs": [],
   "source": [
    "vocab_size = len(word_to_index)  # 딕셔너리에 포함된 단어 개수(어휘 사전 크기)\n",
    "word_vector_dim = 4     # 워드 벡터의 차원 수 (변경 가능한 하이퍼파라미터)"
   ]
  },
  {
   "cell_type": "markdown",
   "id": "rental-romance",
   "metadata": {},
   "source": [
    "---\n",
    "## 4. 모델 구성, 훈련\n",
    "\n",
    "### validation set 구분\n",
    "- 모델은 3가지 이상 다양하게 구성하여 실험하기\n",
    "- train 데이터의 25%를 validation set으로 설정하였다 (3500개)"
   ]
  },
  {
   "cell_type": "code",
   "execution_count": 16,
   "id": "adolescent-peter",
   "metadata": {},
   "outputs": [
    {
     "name": "stdout",
     "output_type": "stream",
     "text": [
      "(142682, 40)\n",
      "(142682,)\n",
      "(3500, 40)\n",
      "(3500,)\n"
     ]
    }
   ],
   "source": [
    "# validation set 3500건 분리\n",
    "x_val = X_train[:3500]   \n",
    "y_val = y_train[:3500]\n",
    "\n",
    "# validation set을 제외한 나머지 15000건\n",
    "partial_x_train = X_train[3500:]  \n",
    "partial_y_train = y_train[3500:]\n",
    "\n",
    "print(partial_x_train.shape)\n",
    "print(partial_y_train.shape)\n",
    "print(x_val.shape)\n",
    "print(y_val.shape)"
   ]
  },
  {
   "cell_type": "markdown",
   "id": "skilled-hopkins",
   "metadata": {},
   "source": [
    "---\n",
    "\n",
    "### 여러 모델로 테스트 해보기\n",
    "- 노드에서 제시해준 LSTM, 1D-CNN, GlobalMaxPooling1D 을 적용해서 결과를 산출해보았다.\n",
    "- 추가적으로 풀잎스쿨에서 배운 optimizer를 적용하여 각 모델에 적용해보았다.\n",
    "- 일반적으로 adam을 많이 사용한다고 하였는데 이번 모델에서 가장 좋은 결과를 도출할지 궁금하여 시도해보았다."
   ]
  },
  {
   "cell_type": "markdown",
   "id": "integrated-business",
   "metadata": {},
   "source": [
    "### 4-1. LSTM 사용"
   ]
  },
  {
   "cell_type": "code",
   "execution_count": 64,
   "id": "chinese-rwanda",
   "metadata": {},
   "outputs": [
    {
     "name": "stdout",
     "output_type": "stream",
     "text": [
      "Model: \"sequential_6\"\n",
      "_________________________________________________________________\n",
      "Layer (type)                 Output Shape              Param #   \n",
      "=================================================================\n",
      "embedding_5 (Embedding)      (None, None, 200)         2000000   \n",
      "_________________________________________________________________\n",
      "lstm_5 (LSTM)                (None, 8)                 6688      \n",
      "_________________________________________________________________\n",
      "dense_10 (Dense)             (None, 8)                 72        \n",
      "_________________________________________________________________\n",
      "dense_11 (Dense)             (None, 1)                 9         \n",
      "=================================================================\n",
      "Total params: 2,006,769\n",
      "Trainable params: 2,006,769\n",
      "Non-trainable params: 0\n",
      "_________________________________________________________________\n"
     ]
    }
   ],
   "source": [
    "model1 = keras.Sequential()\n",
    "model1.add(keras.layers.Embedding(vocab_size, word_vector_dim, input_shape=(None,)))\n",
    "model1.add(keras.layers.LSTM(8))   # 가장 널리 쓰이는 RNN인 LSTM 레이어를 사용하였습니다. 이때 LSTM state 벡터의 차원수는 8로 하였습니다. (변경 가능)\n",
    "model1.add(keras.layers.Dense(8, activation='relu'))\n",
    "model1.add(keras.layers.Dense(1, activation='sigmoid'))  # 최종 출력은 긍정/부정을 나타내는 1dim 입니다.\n",
    "\n",
    "model1.summary()"
   ]
  },
  {
   "cell_type": "code",
   "execution_count": 65,
   "id": "complicated-macro",
   "metadata": {
    "scrolled": false
   },
   "outputs": [
    {
     "name": "stdout",
     "output_type": "stream",
     "text": [
      "Epoch 1/10\n",
      "1115/1115 [==============================] - 23s 19ms/step - loss: 0.5945 - accuracy: 0.6853 - val_loss: 0.6227 - val_accuracy: 0.6266\n",
      "Epoch 2/10\n",
      "1115/1115 [==============================] - 21s 19ms/step - loss: 0.5537 - accuracy: 0.7337 - val_loss: 0.4706 - val_accuracy: 0.8126\n",
      "Epoch 3/10\n",
      "1115/1115 [==============================] - 21s 19ms/step - loss: 0.4350 - accuracy: 0.8163 - val_loss: 0.4054 - val_accuracy: 0.8303\n",
      "Epoch 4/10\n",
      "1115/1115 [==============================] - 21s 18ms/step - loss: 0.3684 - accuracy: 0.8527 - val_loss: 0.3984 - val_accuracy: 0.8354\n",
      "Epoch 5/10\n",
      "1115/1115 [==============================] - 20s 18ms/step - loss: 0.3558 - accuracy: 0.8624 - val_loss: 0.4253 - val_accuracy: 0.8260\n",
      "Epoch 6/10\n",
      "1115/1115 [==============================] - 21s 18ms/step - loss: 0.3522 - accuracy: 0.8675 - val_loss: 0.4032 - val_accuracy: 0.8383\n",
      "Epoch 7/10\n",
      "1115/1115 [==============================] - 21s 19ms/step - loss: 0.3228 - accuracy: 0.8757 - val_loss: 0.3834 - val_accuracy: 0.8429\n",
      "Epoch 8/10\n",
      "1115/1115 [==============================] - 20s 18ms/step - loss: 0.2987 - accuracy: 0.8859 - val_loss: 0.3768 - val_accuracy: 0.8469\n",
      "Epoch 9/10\n",
      "1115/1115 [==============================] - 21s 18ms/step - loss: 0.2796 - accuracy: 0.8950 - val_loss: 0.3868 - val_accuracy: 0.8434\n",
      "Epoch 10/10\n",
      "1115/1115 [==============================] - 21s 19ms/step - loss: 0.2600 - accuracy: 0.9037 - val_loss: 0.3804 - val_accuracy: 0.8500\n"
     ]
    }
   ],
   "source": [
    "model1.compile(optimizer='adam',\n",
    "              loss='binary_crossentropy',\n",
    "              metrics=['accuracy'])\n",
    "              \n",
    "epochs=10  # 몇 epoch를 훈련하면 좋을지 결과를 보면서 바꾸어 봅시다. \n",
    "\n",
    "history1 = model1.fit(partial_x_train,\n",
    "                    partial_y_train,\n",
    "                    epochs=epochs,\n",
    "                    batch_size=128,\n",
    "                    validation_data=(x_val, y_val),\n",
    "                    verbose=1)"
   ]
  },
  {
   "cell_type": "code",
   "execution_count": 66,
   "id": "varied-contractor",
   "metadata": {},
   "outputs": [
    {
     "name": "stdout",
     "output_type": "stream",
     "text": [
      "1537/1537 - 5s - loss: 0.3857 - accuracy: 0.8441\n",
      "[0.3856655955314636, 0.8440710306167603]\n"
     ]
    }
   ],
   "source": [
    "results1 = model1.evaluate(X_test,  y_test, verbose=2)\n",
    "\n",
    "print(results1)"
   ]
  },
  {
   "cell_type": "markdown",
   "id": "alternative-mistake",
   "metadata": {},
   "source": [
    "### 4-2. 1-D Convolution Neural Network(1-D CNN) 사용"
   ]
  },
  {
   "cell_type": "code",
   "execution_count": 20,
   "id": "medium-inventory",
   "metadata": {},
   "outputs": [
    {
     "name": "stdout",
     "output_type": "stream",
     "text": [
      "Model: \"sequential_1\"\n",
      "_________________________________________________________________\n",
      "Layer (type)                 Output Shape              Param #   \n",
      "=================================================================\n",
      "embedding_1 (Embedding)      (None, None, 4)           40004     \n",
      "_________________________________________________________________\n",
      "conv1d (Conv1D)              (None, None, 32)          416       \n",
      "_________________________________________________________________\n",
      "max_pooling1d (MaxPooling1D) (None, None, 32)          0         \n",
      "_________________________________________________________________\n",
      "conv1d_1 (Conv1D)            (None, None, 16)          1552      \n",
      "_________________________________________________________________\n",
      "global_max_pooling1d (Global (None, 16)                0         \n",
      "_________________________________________________________________\n",
      "dense_2 (Dense)              (None, 8)                 136       \n",
      "_________________________________________________________________\n",
      "dense_3 (Dense)              (None, 1)                 9         \n",
      "=================================================================\n",
      "Total params: 42,117\n",
      "Trainable params: 42,117\n",
      "Non-trainable params: 0\n",
      "_________________________________________________________________\n"
     ]
    }
   ],
   "source": [
    "model = keras.Sequential()\n",
    "model.add(keras.layers.Embedding(vocab_size, word_vector_dim, input_shape=(None,)))\n",
    "model.add(keras.layers.Conv1D(32, 3, activation='relu'))\n",
    "model.add(keras.layers.MaxPooling1D(5))\n",
    "model.add(keras.layers.Conv1D(16, 3, activation='relu'))\n",
    "model.add(keras.layers.GlobalMaxPooling1D())\n",
    "model.add(keras.layers.Dense(8, activation='relu'))\n",
    "model.add(keras.layers.Dense(1, activation='sigmoid'))  # 최종 출력은 긍정/부정을 나타내는 1dim 입니다.\n",
    "\n",
    "model.summary()"
   ]
  },
  {
   "cell_type": "code",
   "execution_count": 21,
   "id": "impaired-adolescent",
   "metadata": {
    "scrolled": false
   },
   "outputs": [
    {
     "name": "stdout",
     "output_type": "stream",
     "text": [
      "Epoch 1/10\n",
      "1115/1115 [==============================] - 13s 8ms/step - loss: 0.5125 - accuracy: 0.7255 - val_loss: 0.3388 - val_accuracy: 0.8511\n",
      "Epoch 2/10\n",
      "1115/1115 [==============================] - 5s 5ms/step - loss: 0.3235 - accuracy: 0.8615 - val_loss: 0.3349 - val_accuracy: 0.8486\n",
      "Epoch 3/10\n",
      "1115/1115 [==============================] - 5s 5ms/step - loss: 0.2934 - accuracy: 0.8783 - val_loss: 0.3367 - val_accuracy: 0.8503\n",
      "Epoch 4/10\n",
      "1115/1115 [==============================] - 5s 5ms/step - loss: 0.2714 - accuracy: 0.8896 - val_loss: 0.3432 - val_accuracy: 0.8500\n",
      "Epoch 5/10\n",
      "1115/1115 [==============================] - 5s 5ms/step - loss: 0.2564 - accuracy: 0.8957 - val_loss: 0.3535 - val_accuracy: 0.8463\n",
      "Epoch 6/10\n",
      "1115/1115 [==============================] - 5s 5ms/step - loss: 0.2459 - accuracy: 0.9005 - val_loss: 0.3631 - val_accuracy: 0.8457\n",
      "Epoch 7/10\n",
      "1115/1115 [==============================] - 5s 5ms/step - loss: 0.2344 - accuracy: 0.9074 - val_loss: 0.3831 - val_accuracy: 0.8400\n",
      "Epoch 8/10\n",
      "1115/1115 [==============================] - 5s 5ms/step - loss: 0.2225 - accuracy: 0.9136 - val_loss: 0.3923 - val_accuracy: 0.8354\n",
      "Epoch 9/10\n",
      "1115/1115 [==============================] - 5s 5ms/step - loss: 0.2136 - accuracy: 0.9172 - val_loss: 0.3994 - val_accuracy: 0.8340\n",
      "Epoch 10/10\n",
      "1115/1115 [==============================] - 5s 5ms/step - loss: 0.2034 - accuracy: 0.9216 - val_loss: 0.4138 - val_accuracy: 0.8314\n"
     ]
    }
   ],
   "source": [
    "model.compile(optimizer='adam',\n",
    "              loss='binary_crossentropy',\n",
    "              metrics=['accuracy'])\n",
    "              \n",
    "epochs=10  # 몇 epoch를 훈련하면 좋을지 결과를 보면서 바꾸어 봅시다. \n",
    "\n",
    "history2 = model.fit(partial_x_train,\n",
    "                    partial_y_train,\n",
    "                    epochs=epochs,\n",
    "                    batch_size=128,\n",
    "                    validation_data=(x_val, y_val),\n",
    "                    verbose=1)"
   ]
  },
  {
   "cell_type": "code",
   "execution_count": 22,
   "id": "essential-mongolia",
   "metadata": {},
   "outputs": [
    {
     "name": "stdout",
     "output_type": "stream",
     "text": [
      "1537/1537 - 5s - loss: 0.4068 - accuracy: 0.8382\n",
      "[0.40681061148643494, 0.8381716012954712]\n"
     ]
    }
   ],
   "source": [
    "results2 = model.evaluate(X_test,  y_test, verbose=2)\n",
    "\n",
    "print(results2)"
   ]
  },
  {
   "cell_type": "markdown",
   "id": "danish-lesbian",
   "metadata": {},
   "source": [
    "### 4-3. GlobalMaxPooling1D 사용"
   ]
  },
  {
   "cell_type": "code",
   "execution_count": 23,
   "id": "careful-frontier",
   "metadata": {},
   "outputs": [
    {
     "name": "stdout",
     "output_type": "stream",
     "text": [
      "Model: \"sequential_2\"\n",
      "_________________________________________________________________\n",
      "Layer (type)                 Output Shape              Param #   \n",
      "=================================================================\n",
      "embedding_2 (Embedding)      (None, None, 4)           40004     \n",
      "_________________________________________________________________\n",
      "global_max_pooling1d_1 (Glob (None, 4)                 0         \n",
      "_________________________________________________________________\n",
      "dense_4 (Dense)              (None, 8)                 40        \n",
      "_________________________________________________________________\n",
      "dense_5 (Dense)              (None, 1)                 9         \n",
      "=================================================================\n",
      "Total params: 40,053\n",
      "Trainable params: 40,053\n",
      "Non-trainable params: 0\n",
      "_________________________________________________________________\n"
     ]
    }
   ],
   "source": [
    "model = keras.Sequential()\n",
    "model.add(keras.layers.Embedding(vocab_size, word_vector_dim, input_shape=(None,)))\n",
    "model.add(keras.layers.GlobalMaxPooling1D())\n",
    "model.add(keras.layers.Dense(8, activation='relu'))\n",
    "model.add(keras.layers.Dense(1, activation='sigmoid'))  # 최종 출력은 긍정/부정을 나타내는 1dim 입니다.\n",
    "\n",
    "model.summary()"
   ]
  },
  {
   "cell_type": "code",
   "execution_count": 24,
   "id": "social-homework",
   "metadata": {},
   "outputs": [
    {
     "name": "stdout",
     "output_type": "stream",
     "text": [
      "Epoch 1/10\n",
      "1115/1115 [==============================] - 5s 4ms/step - loss: 0.6024 - accuracy: 0.6649 - val_loss: 0.3933 - val_accuracy: 0.8246\n",
      "Epoch 2/10\n",
      "1115/1115 [==============================] - 4s 3ms/step - loss: 0.3796 - accuracy: 0.8331 - val_loss: 0.3775 - val_accuracy: 0.8371\n",
      "Epoch 3/10\n",
      "1115/1115 [==============================] - 4s 3ms/step - loss: 0.3470 - accuracy: 0.8501 - val_loss: 0.3769 - val_accuracy: 0.8394\n",
      "Epoch 4/10\n",
      "1115/1115 [==============================] - 4s 3ms/step - loss: 0.3276 - accuracy: 0.8602 - val_loss: 0.3804 - val_accuracy: 0.8383\n",
      "Epoch 5/10\n",
      "1115/1115 [==============================] - 4s 3ms/step - loss: 0.3200 - accuracy: 0.8641 - val_loss: 0.3842 - val_accuracy: 0.8337\n",
      "Epoch 6/10\n",
      "1115/1115 [==============================] - 4s 3ms/step - loss: 0.3124 - accuracy: 0.8672 - val_loss: 0.3881 - val_accuracy: 0.8309\n",
      "Epoch 7/10\n",
      "1115/1115 [==============================] - 4s 3ms/step - loss: 0.3073 - accuracy: 0.8703 - val_loss: 0.3912 - val_accuracy: 0.8351\n",
      "Epoch 8/10\n",
      "1115/1115 [==============================] - 4s 3ms/step - loss: 0.3073 - accuracy: 0.8699 - val_loss: 0.3938 - val_accuracy: 0.8383\n",
      "Epoch 9/10\n",
      "1115/1115 [==============================] - 4s 3ms/step - loss: 0.3026 - accuracy: 0.8727 - val_loss: 0.3949 - val_accuracy: 0.8369\n",
      "Epoch 10/10\n",
      "1115/1115 [==============================] - 4s 3ms/step - loss: 0.2998 - accuracy: 0.8730 - val_loss: 0.4001 - val_accuracy: 0.8374\n"
     ]
    }
   ],
   "source": [
    "model.compile(optimizer='adam',\n",
    "              loss='binary_crossentropy',\n",
    "              metrics=['accuracy'])\n",
    "              \n",
    "epochs=10  # 몇 epoch를 훈련하면 좋을지 결과를 보면서 바꾸어 봅시다. \n",
    "\n",
    "history3 = model.fit(partial_x_train,\n",
    "                    partial_y_train,\n",
    "                    epochs=epochs,\n",
    "                    batch_size=128,\n",
    "                    validation_data=(x_val, y_val),\n",
    "                    verbose=1)"
   ]
  },
  {
   "cell_type": "code",
   "execution_count": 25,
   "id": "elder-joshua",
   "metadata": {},
   "outputs": [
    {
     "name": "stdout",
     "output_type": "stream",
     "text": [
      "1537/1537 - 2s - loss: 0.4062 - accuracy: 0.8252\n",
      "[0.4061557650566101, 0.8251520395278931]\n"
     ]
    }
   ],
   "source": [
    "results3 = model.evaluate(X_test,  y_test, verbose=2)\n",
    "\n",
    "print(results3)"
   ]
  },
  {
   "cell_type": "markdown",
   "id": "controversial-valuable",
   "metadata": {},
   "source": [
    "###  4-4. LSTM + SGD"
   ]
  },
  {
   "cell_type": "code",
   "execution_count": 26,
   "id": "aboriginal-executive",
   "metadata": {},
   "outputs": [
    {
     "name": "stdout",
     "output_type": "stream",
     "text": [
      "Model: \"sequential_3\"\n",
      "_________________________________________________________________\n",
      "Layer (type)                 Output Shape              Param #   \n",
      "=================================================================\n",
      "embedding_3 (Embedding)      (None, None, 4)           40004     \n",
      "_________________________________________________________________\n",
      "lstm_1 (LSTM)                (None, 8)                 416       \n",
      "_________________________________________________________________\n",
      "dense_6 (Dense)              (None, 8)                 72        \n",
      "_________________________________________________________________\n",
      "dense_7 (Dense)              (None, 1)                 9         \n",
      "=================================================================\n",
      "Total params: 40,501\n",
      "Trainable params: 40,501\n",
      "Non-trainable params: 0\n",
      "_________________________________________________________________\n"
     ]
    }
   ],
   "source": [
    "model = keras.Sequential()\n",
    "model.add(keras.layers.Embedding(vocab_size, word_vector_dim, input_shape=(None,)))\n",
    "model.add(keras.layers.LSTM(8))   # 가장 널리 쓰이는 RNN인 LSTM 레이어를 사용하였습니다. 이때 LSTM state 벡터의 차원수는 8로 하였습니다. (변경 가능)\n",
    "model.add(keras.layers.Dense(8, activation='relu'))\n",
    "model.add(keras.layers.Dense(1, activation='sigmoid'))  # 최종 출력은 긍정/부정을 나타내는 1dim 입니다.\n",
    "\n",
    "model.summary()"
   ]
  },
  {
   "cell_type": "code",
   "execution_count": 27,
   "id": "desirable-review",
   "metadata": {},
   "outputs": [
    {
     "name": "stdout",
     "output_type": "stream",
     "text": [
      "Epoch 1/10\n",
      "1115/1115 [==============================] - 10s 8ms/step - loss: 0.6931 - accuracy: 0.5028 - val_loss: 0.6931 - val_accuracy: 0.4937\n",
      "Epoch 2/10\n",
      "1115/1115 [==============================] - 8s 7ms/step - loss: 0.6930 - accuracy: 0.5042 - val_loss: 0.6929 - val_accuracy: 0.5123\n",
      "Epoch 3/10\n",
      "1115/1115 [==============================] - 8s 7ms/step - loss: 0.6930 - accuracy: 0.5072 - val_loss: 0.6932 - val_accuracy: 0.4937\n",
      "Epoch 4/10\n",
      "1115/1115 [==============================] - 8s 7ms/step - loss: 0.6929 - accuracy: 0.5059 - val_loss: 0.6928 - val_accuracy: 0.5126\n",
      "Epoch 5/10\n",
      "1115/1115 [==============================] - 8s 7ms/step - loss: 0.6930 - accuracy: 0.5038 - val_loss: 0.6928 - val_accuracy: 0.5149\n",
      "Epoch 6/10\n",
      "1115/1115 [==============================] - 8s 7ms/step - loss: 0.6929 - accuracy: 0.5036 - val_loss: 0.6927 - val_accuracy: 0.5126\n",
      "Epoch 7/10\n",
      "1115/1115 [==============================] - 8s 7ms/step - loss: 0.6928 - accuracy: 0.5058 - val_loss: 0.6927 - val_accuracy: 0.5154\n",
      "Epoch 8/10\n",
      "1115/1115 [==============================] - 8s 7ms/step - loss: 0.6928 - accuracy: 0.5031 - val_loss: 0.6927 - val_accuracy: 0.5149\n",
      "Epoch 9/10\n",
      "1115/1115 [==============================] - 8s 7ms/step - loss: 0.6928 - accuracy: 0.5066 - val_loss: 0.6927 - val_accuracy: 0.5154\n",
      "Epoch 10/10\n",
      "1115/1115 [==============================] - 8s 7ms/step - loss: 0.6928 - accuracy: 0.5099 - val_loss: 0.6929 - val_accuracy: 0.4937\n"
     ]
    }
   ],
   "source": [
    "model.compile(optimizer='SGD',\n",
    "              loss='binary_crossentropy',\n",
    "              metrics=['accuracy'])\n",
    "              \n",
    "epochs=10  # 몇 epoch를 훈련하면 좋을지 결과를 보면서 바꾸어 봅시다. \n",
    "\n",
    "history4 = model.fit(partial_x_train,\n",
    "                    partial_y_train,\n",
    "                    epochs=epochs,\n",
    "                    batch_size=128,\n",
    "                    validation_data=(x_val, y_val),\n",
    "                    verbose=1)"
   ]
  },
  {
   "cell_type": "code",
   "execution_count": 28,
   "id": "hungry-amino",
   "metadata": {},
   "outputs": [
    {
     "name": "stdout",
     "output_type": "stream",
     "text": [
      "1537/1537 - 4s - loss: 0.6929 - accuracy: 0.4973\n",
      "[0.6928703784942627, 0.4973045587539673]\n"
     ]
    }
   ],
   "source": [
    "results4 = model.evaluate(X_test,  y_test, verbose=2)\n",
    "\n",
    "print(results4)"
   ]
  },
  {
   "cell_type": "markdown",
   "id": "coupled-extent",
   "metadata": {},
   "source": [
    "###  4-5. LSTM + RMSprop"
   ]
  },
  {
   "cell_type": "code",
   "execution_count": 17,
   "id": "loose-earthquake",
   "metadata": {},
   "outputs": [
    {
     "name": "stdout",
     "output_type": "stream",
     "text": [
      "Model: \"sequential\"\n",
      "_________________________________________________________________\n",
      "Layer (type)                 Output Shape              Param #   \n",
      "=================================================================\n",
      "embedding (Embedding)        (None, None, 4)           40004     \n",
      "_________________________________________________________________\n",
      "lstm (LSTM)                  (None, 8)                 416       \n",
      "_________________________________________________________________\n",
      "dense (Dense)                (None, 8)                 72        \n",
      "_________________________________________________________________\n",
      "dense_1 (Dense)              (None, 1)                 9         \n",
      "=================================================================\n",
      "Total params: 40,501\n",
      "Trainable params: 40,501\n",
      "Non-trainable params: 0\n",
      "_________________________________________________________________\n"
     ]
    }
   ],
   "source": [
    "model = keras.Sequential()\n",
    "model.add(keras.layers.Embedding(vocab_size, word_vector_dim, input_shape=(None,)))\n",
    "model.add(keras.layers.LSTM(8))   # 가장 널리 쓰이는 RNN인 LSTM 레이어를 사용하였습니다. 이때 LSTM state 벡터의 차원수는 8로 하였습니다. (변경 가능)\n",
    "model.add(keras.layers.Dense(8, activation='relu'))\n",
    "model.add(keras.layers.Dense(1, activation='sigmoid'))  # 최종 출력은 긍정/부정을 나타내는 1dim 입니다.\n",
    "\n",
    "model.summary()"
   ]
  },
  {
   "cell_type": "code",
   "execution_count": 18,
   "id": "informed-receptor",
   "metadata": {},
   "outputs": [
    {
     "name": "stdout",
     "output_type": "stream",
     "text": [
      "Epoch 1/10\n",
      "1115/1115 [==============================] - 12s 8ms/step - loss: 0.5562 - accuracy: 0.6852 - val_loss: 0.3523 - val_accuracy: 0.8426\n",
      "Epoch 2/10\n",
      "1115/1115 [==============================] - 8s 7ms/step - loss: 0.3551 - accuracy: 0.8460 - val_loss: 0.3363 - val_accuracy: 0.8529\n",
      "Epoch 3/10\n",
      "1115/1115 [==============================] - 8s 7ms/step - loss: 0.3389 - accuracy: 0.8547 - val_loss: 0.3432 - val_accuracy: 0.8471\n",
      "Epoch 4/10\n",
      "1115/1115 [==============================] - 8s 7ms/step - loss: 0.3311 - accuracy: 0.8576 - val_loss: 0.3249 - val_accuracy: 0.8580\n",
      "Epoch 5/10\n",
      "1115/1115 [==============================] - 8s 7ms/step - loss: 0.3215 - accuracy: 0.8619 - val_loss: 0.3270 - val_accuracy: 0.8563\n",
      "Epoch 6/10\n",
      "1115/1115 [==============================] - 8s 7ms/step - loss: 0.3196 - accuracy: 0.8634 - val_loss: 0.3253 - val_accuracy: 0.8586\n",
      "Epoch 7/10\n",
      "1115/1115 [==============================] - 8s 7ms/step - loss: 0.3186 - accuracy: 0.8640 - val_loss: 0.3193 - val_accuracy: 0.8649\n",
      "Epoch 8/10\n",
      "1115/1115 [==============================] - 8s 7ms/step - loss: 0.3131 - accuracy: 0.8655 - val_loss: 0.3256 - val_accuracy: 0.8580\n",
      "Epoch 9/10\n",
      "1115/1115 [==============================] - 8s 7ms/step - loss: 0.3108 - accuracy: 0.8668 - val_loss: 0.3246 - val_accuracy: 0.8577\n",
      "Epoch 10/10\n",
      "1115/1115 [==============================] - 8s 7ms/step - loss: 0.3080 - accuracy: 0.8689 - val_loss: 0.3227 - val_accuracy: 0.8629\n"
     ]
    }
   ],
   "source": [
    "model.compile(optimizer='RMSprop',\n",
    "              loss='binary_crossentropy',\n",
    "              metrics=['accuracy'])\n",
    "              \n",
    "epochs=10  # 몇 epoch를 훈련하면 좋을지 결과를 보면서 바꾸어 봅시다. \n",
    "\n",
    "history5 = model.fit(partial_x_train,\n",
    "                    partial_y_train,\n",
    "                    epochs=epochs,\n",
    "                    batch_size=128,\n",
    "                    validation_data=(x_val, y_val),\n",
    "                    verbose=1)"
   ]
  },
  {
   "cell_type": "code",
   "execution_count": 19,
   "id": "romantic-genius",
   "metadata": {},
   "outputs": [
    {
     "name": "stdout",
     "output_type": "stream",
     "text": [
      "1537/1537 - 4s - loss: 0.3413 - accuracy: 0.8506\n",
      "[0.34131869673728943, 0.8506011366844177]\n"
     ]
    }
   ],
   "source": [
    "results5 = model.evaluate(X_test,  y_test, verbose=2)\n",
    "\n",
    "print(results5)"
   ]
  },
  {
   "cell_type": "markdown",
   "id": "multiple-poster",
   "metadata": {},
   "source": [
    "###  4-6. LSTM + Adagrad"
   ]
  },
  {
   "cell_type": "code",
   "execution_count": 32,
   "id": "russian-sterling",
   "metadata": {},
   "outputs": [
    {
     "name": "stdout",
     "output_type": "stream",
     "text": [
      "Model: \"sequential_5\"\n",
      "_________________________________________________________________\n",
      "Layer (type)                 Output Shape              Param #   \n",
      "=================================================================\n",
      "embedding_5 (Embedding)      (None, None, 4)           40004     \n",
      "_________________________________________________________________\n",
      "lstm_3 (LSTM)                (None, 8)                 416       \n",
      "_________________________________________________________________\n",
      "dense_10 (Dense)             (None, 8)                 72        \n",
      "_________________________________________________________________\n",
      "dense_11 (Dense)             (None, 1)                 9         \n",
      "=================================================================\n",
      "Total params: 40,501\n",
      "Trainable params: 40,501\n",
      "Non-trainable params: 0\n",
      "_________________________________________________________________\n"
     ]
    }
   ],
   "source": [
    "model = keras.Sequential()\n",
    "model.add(keras.layers.Embedding(vocab_size, word_vector_dim, input_shape=(None,)))\n",
    "model.add(keras.layers.LSTM(8))   # 가장 널리 쓰이는 RNN인 LSTM 레이어를 사용하였습니다. 이때 LSTM state 벡터의 차원수는 8로 하였습니다. (변경 가능)\n",
    "model.add(keras.layers.Dense(8, activation='relu'))\n",
    "model.add(keras.layers.Dense(1, activation='sigmoid'))  # 최종 출력은 긍정/부정을 나타내는 1dim 입니다.\n",
    "\n",
    "model.summary()"
   ]
  },
  {
   "cell_type": "code",
   "execution_count": 33,
   "id": "czech-distributor",
   "metadata": {},
   "outputs": [
    {
     "name": "stdout",
     "output_type": "stream",
     "text": [
      "Epoch 1/10\n",
      "1115/1115 [==============================] - 10s 7ms/step - loss: 0.6931 - accuracy: 0.5009 - val_loss: 0.6931 - val_accuracy: 0.4937\n",
      "Epoch 2/10\n",
      "1115/1115 [==============================] - 8s 7ms/step - loss: 0.6931 - accuracy: 0.5051 - val_loss: 0.6931 - val_accuracy: 0.4937\n",
      "Epoch 3/10\n",
      "1115/1115 [==============================] - 8s 7ms/step - loss: 0.6931 - accuracy: 0.5001 - val_loss: 0.6931 - val_accuracy: 0.4937\n",
      "Epoch 4/10\n",
      "1115/1115 [==============================] - 8s 7ms/step - loss: 0.6930 - accuracy: 0.4973 - val_loss: 0.6931 - val_accuracy: 0.4826\n",
      "Epoch 5/10\n",
      "1115/1115 [==============================] - 8s 7ms/step - loss: 0.6930 - accuracy: 0.5017 - val_loss: 0.6930 - val_accuracy: 0.5154\n",
      "Epoch 6/10\n",
      "1115/1115 [==============================] - 8s 7ms/step - loss: 0.6930 - accuracy: 0.5023 - val_loss: 0.6930 - val_accuracy: 0.5151\n",
      "Epoch 7/10\n",
      "1115/1115 [==============================] - 8s 7ms/step - loss: 0.6930 - accuracy: 0.5076 - val_loss: 0.6930 - val_accuracy: 0.5149\n",
      "Epoch 8/10\n",
      "1115/1115 [==============================] - 8s 7ms/step - loss: 0.6930 - accuracy: 0.5031 - val_loss: 0.6930 - val_accuracy: 0.5157\n",
      "Epoch 9/10\n",
      "1115/1115 [==============================] - 8s 7ms/step - loss: 0.6930 - accuracy: 0.5008 - val_loss: 0.6930 - val_accuracy: 0.5154\n",
      "Epoch 10/10\n",
      "1115/1115 [==============================] - 8s 7ms/step - loss: 0.6930 - accuracy: 0.5038 - val_loss: 0.6930 - val_accuracy: 0.5160\n"
     ]
    }
   ],
   "source": [
    "model.compile(optimizer='Adagrad',\n",
    "              loss='binary_crossentropy',\n",
    "              metrics=['accuracy'])\n",
    "              \n",
    "epochs=10  # 몇 epoch를 훈련하면 좋을지 결과를 보면서 바꾸어 봅시다. \n",
    "\n",
    "history6 = model.fit(partial_x_train,\n",
    "                    partial_y_train,\n",
    "                    epochs=epochs,\n",
    "                    batch_size=128,\n",
    "                    validation_data=(x_val, y_val),\n",
    "                    verbose=1)"
   ]
  },
  {
   "cell_type": "code",
   "execution_count": 34,
   "id": "homeless-square",
   "metadata": {},
   "outputs": [
    {
     "name": "stdout",
     "output_type": "stream",
     "text": [
      "1537/1537 - 4s - loss: 0.6930 - accuracy: 0.5102\n",
      "[0.6929829120635986, 0.5101816654205322]\n"
     ]
    }
   ],
   "source": [
    "results6 = model.evaluate(X_test,  y_test, verbose=2)\n",
    "\n",
    "print(results6)"
   ]
  },
  {
   "cell_type": "markdown",
   "id": "respective-state",
   "metadata": {},
   "source": [
    "### 4-7. LSTM + Adamax"
   ]
  },
  {
   "cell_type": "code",
   "execution_count": 35,
   "id": "established-springfield",
   "metadata": {},
   "outputs": [
    {
     "name": "stdout",
     "output_type": "stream",
     "text": [
      "Model: \"sequential_6\"\n",
      "_________________________________________________________________\n",
      "Layer (type)                 Output Shape              Param #   \n",
      "=================================================================\n",
      "embedding_6 (Embedding)      (None, None, 4)           40004     \n",
      "_________________________________________________________________\n",
      "lstm_4 (LSTM)                (None, 8)                 416       \n",
      "_________________________________________________________________\n",
      "dense_12 (Dense)             (None, 8)                 72        \n",
      "_________________________________________________________________\n",
      "dense_13 (Dense)             (None, 1)                 9         \n",
      "=================================================================\n",
      "Total params: 40,501\n",
      "Trainable params: 40,501\n",
      "Non-trainable params: 0\n",
      "_________________________________________________________________\n"
     ]
    }
   ],
   "source": [
    "model = keras.Sequential()\n",
    "model.add(keras.layers.Embedding(vocab_size, word_vector_dim, input_shape=(None,)))\n",
    "model.add(keras.layers.LSTM(8))   # 가장 널리 쓰이는 RNN인 LSTM 레이어를 사용하였습니다. 이때 LSTM state 벡터의 차원수는 8로 하였습니다. (변경 가능)\n",
    "model.add(keras.layers.Dense(8, activation='relu'))\n",
    "model.add(keras.layers.Dense(1, activation='sigmoid'))  # 최종 출력은 긍정/부정을 나타내는 1dim 입니다.\n",
    "\n",
    "model.summary()"
   ]
  },
  {
   "cell_type": "code",
   "execution_count": 36,
   "id": "final-spending",
   "metadata": {},
   "outputs": [
    {
     "name": "stdout",
     "output_type": "stream",
     "text": [
      "Epoch 1/10\n",
      "1115/1115 [==============================] - 10s 8ms/step - loss: 0.6931 - accuracy: 0.5017 - val_loss: 0.6918 - val_accuracy: 0.5309\n",
      "Epoch 2/10\n",
      "1115/1115 [==============================] - 8s 7ms/step - loss: 0.5861 - accuracy: 0.6854 - val_loss: 0.4099 - val_accuracy: 0.8154\n",
      "Epoch 3/10\n",
      "1115/1115 [==============================] - 8s 7ms/step - loss: 0.4104 - accuracy: 0.8171 - val_loss: 0.3709 - val_accuracy: 0.8309\n",
      "Epoch 4/10\n",
      "1115/1115 [==============================] - 8s 7ms/step - loss: 0.3808 - accuracy: 0.8328 - val_loss: 0.3559 - val_accuracy: 0.8366\n",
      "Epoch 5/10\n",
      "1115/1115 [==============================] - 8s 7ms/step - loss: 0.3621 - accuracy: 0.8428 - val_loss: 0.3498 - val_accuracy: 0.8414\n",
      "Epoch 6/10\n",
      "1115/1115 [==============================] - 8s 7ms/step - loss: 0.3514 - accuracy: 0.8488 - val_loss: 0.3439 - val_accuracy: 0.8449\n",
      "Epoch 7/10\n",
      "1115/1115 [==============================] - 8s 7ms/step - loss: 0.3404 - accuracy: 0.8550 - val_loss: 0.3395 - val_accuracy: 0.8497\n",
      "Epoch 8/10\n",
      "1115/1115 [==============================] - 8s 7ms/step - loss: 0.3353 - accuracy: 0.8566 - val_loss: 0.3387 - val_accuracy: 0.8494\n",
      "Epoch 9/10\n",
      "1115/1115 [==============================] - 8s 7ms/step - loss: 0.3292 - accuracy: 0.8595 - val_loss: 0.3478 - val_accuracy: 0.8451\n",
      "Epoch 10/10\n",
      "1115/1115 [==============================] - 8s 7ms/step - loss: 0.3218 - accuracy: 0.8630 - val_loss: 0.3364 - val_accuracy: 0.8574\n"
     ]
    }
   ],
   "source": [
    "model.compile(optimizer='Adamax',\n",
    "              loss='binary_crossentropy',\n",
    "              metrics=['accuracy'])\n",
    "              \n",
    "epochs=10  # 몇 epoch를 훈련하면 좋을지 결과를 보면서 바꾸어 봅시다. \n",
    "\n",
    "history7 = model.fit(partial_x_train,\n",
    "                    partial_y_train,\n",
    "                    epochs=epochs,\n",
    "                    batch_size=128,\n",
    "                    validation_data=(x_val, y_val),\n",
    "                    verbose=1)"
   ]
  },
  {
   "cell_type": "code",
   "execution_count": 37,
   "id": "confirmed-picking",
   "metadata": {},
   "outputs": [
    {
     "name": "stdout",
     "output_type": "stream",
     "text": [
      "1537/1537 - 4s - loss: 0.3565 - accuracy: 0.8415\n",
      "[0.35648593306541443, 0.8415077924728394]\n"
     ]
    }
   ],
   "source": [
    "results7 = model.evaluate(X_test,  y_test, verbose=2)\n",
    "\n",
    "print(results7)"
   ]
  },
  {
   "cell_type": "markdown",
   "id": "royal-istanbul",
   "metadata": {},
   "source": [
    "---\n",
    "\n",
    "## 5.  Loss, Accuracy 그래프 시각화 시각화\n",
    "### 5-1.  `LSTM`, `1D-CNN`, `GlobalMaxPooling1D 3`  비교하기 (Training & Validation)"
   ]
  },
  {
   "cell_type": "code",
   "execution_count": 38,
   "id": "wireless-sapphire",
   "metadata": {},
   "outputs": [],
   "source": [
    "history_dict1 = history1.history\n",
    "history_dict2 = history2.history\n",
    "history_dict3 = history3.history\n",
    "history_dict4 = history4.history\n",
    "history_dict5 = history5.history\n",
    "history_dict6 = history6.history\n",
    "history_dict7 = history7.history"
   ]
  },
  {
   "cell_type": "code",
   "execution_count": 39,
   "id": "proper-qatar",
   "metadata": {},
   "outputs": [],
   "source": [
    "model1_acc = history_dict1['accuracy']\n",
    "model2_acc = history_dict2['accuracy']\n",
    "model3_acc = history_dict3['accuracy']\n",
    "model4_acc = history_dict4['accuracy']\n",
    "model5_acc = history_dict5['accuracy']\n",
    "model6_acc = history_dict6['accuracy']\n",
    "model7_acc = history_dict7['accuracy']\n",
    "\n",
    "model1_vacc = history_dict1['val_accuracy']\n",
    "model2_vacc = history_dict2['val_accuracy']\n",
    "model3_vacc = history_dict3['val_accuracy']\n",
    "model4_vacc = history_dict4['val_accuracy']\n",
    "model5_vacc = history_dict5['val_accuracy']\n",
    "model6_vacc = history_dict6['val_accuracy']\n",
    "model7_vacc = history_dict7['val_accuracy']\n",
    "\n",
    "\n",
    "model1_loss = history_dict1['loss']\n",
    "model2_loss = history_dict2['loss']\n",
    "model3_loss = history_dict3['loss']\n",
    "model4_loss = history_dict4['loss']\n",
    "model5_loss = history_dict5['loss']\n",
    "model6_loss = history_dict6['loss']\n",
    "model7_loss = history_dict7['loss']\n",
    "\n",
    "model1_val_loss = history_dict1['val_loss']\n",
    "model2_val_loss = history_dict2['val_loss']\n",
    "model3_val_loss = history_dict3['val_loss']\n",
    "model4_val_loss = history_dict4['val_loss']\n",
    "model5_val_loss = history_dict5['val_loss']\n",
    "model6_val_loss = history_dict6['val_loss']\n",
    "model7_val_loss = history_dict7['val_loss']\n",
    "\n",
    "m1_tacc = results1[1]\n",
    "m2_tacc = results2[1]\n",
    "m3_tacc = results3[1]\n",
    "m4_tacc = results4[1]\n",
    "m5_tacc = results5[1]\n",
    "m6_tacc = results6[1]\n",
    "m7_tacc = results7[1]\n",
    "\n",
    "m1_tloss = results1[0]\n",
    "m2_tloss = results2[0]\n",
    "m3_tloss = results3[0]\n",
    "m4_tloss = results4[0]\n",
    "m5_tloss = results5[0]\n",
    "m6_tloss = results6[0]\n",
    "m7_tloss = results7[0]\n"
   ]
  },
  {
   "cell_type": "code",
   "execution_count": 40,
   "id": "fleet-friendship",
   "metadata": {},
   "outputs": [
    {
     "data": {
      "text/plain": [
       "<Figure size 432x288 with 0 Axes>"
      ]
     },
     "metadata": {},
     "output_type": "display_data"
    },
    {
     "data": {
      "image/png": "[encoded data removed]",
      "text/plain": [
       "<Figure size 1440x720 with 4 Axes>"
      ]
     },
     "metadata": {
      "needs_background": "light"
     },
     "output_type": "display_data"
    }
   ],
   "source": [
    "epochs = range(1, 11)\n",
    "\n",
    "plt.clf() \n",
    "\n",
    "plt.figure(figsize=(20,10))\n",
    "plt.subplots_adjust(wspace=0.35, hspace=0.35)\n",
    "\n",
    "plt.subplot(221)\n",
    "plt.plot(epochs, model1_acc, 'b', label='LSTM')\n",
    "plt.plot(epochs, model2_acc, 'r', label='1-D CNN')\n",
    "plt.plot(epochs, model3_acc, 'g', label='GlobalMaxPooling1D')\n",
    "plt.title('Training acc')\n",
    "plt.xlabel('Epochs')\n",
    "plt.ylabel('Accuracy')\n",
    "plt.legend()\n",
    "\n",
    "plt.subplot(222)\n",
    "plt.plot(epochs, model1_vacc, 'b', label='LSTM')\n",
    "plt.plot(epochs, model2_vacc, 'r', label='1-D CNN')\n",
    "plt.plot(epochs, model3_vacc, 'g', label='GlobalMaxPooling1D')\n",
    "plt.title('Validation acc')\n",
    "plt.xlabel('Epochs')\n",
    "plt.ylabel('Accuracy')\n",
    "plt.legend()\n",
    "\n",
    "\n",
    "plt.subplot(223)\n",
    "plt.plot(epochs, model1_loss, 'b', label='LSTM')\n",
    "plt.plot(epochs, model2_loss, 'r', label='1-D CNN')\n",
    "plt.plot(epochs, model3_loss, 'g', label='GlobalMaxPooling1D')\n",
    "plt.title('Training loss')\n",
    "plt.xlabel('Epochs')\n",
    "plt.ylabel('Loss')\n",
    "plt.legend()\n",
    "\n",
    "\n",
    "plt.subplot(224)\n",
    "plt.plot(epochs, model1_val_loss, 'b', label='LSTM')\n",
    "plt.plot(epochs, model2_val_loss, 'r', label='1-D CNN')\n",
    "plt.plot(epochs, model3_val_loss, 'g', label='GlobalMaxPooling1D')\n",
    "plt.title('Validation loss')\n",
    "plt.xlabel('Epochs')\n",
    "plt.ylabel('Loss')\n",
    "plt.legend()\n",
    "\n",
    "\n",
    "plt.show()"
   ]
  },
  {
   "cell_type": "markdown",
   "id": "equal-truth",
   "metadata": {},
   "source": [
    "- 먼저 `LSTM`, `1D-CNN`, `GlobalMaxPooling1D 3` 세가지 모델의 Training acc, training loss, validation acc, validation loss를 하나의 그래프로 나타내어 비교해보았다.\n",
    "<br>\n",
    "<br>\n",
    "- 1-D CNN\n",
    "    - Training acc에서 가장 높은 수준의 acc를 보였으며, Training loss 값도 가장 낮았고 점진적으로 하향하는 모습을 볼 수 있다.\n",
    "    - 하지만 Validation 그래프를 보면 LSTM에 비해 acc가 낮고 점차적으로 하향하는 모습을 볼 수 있다.\n",
    "    - 또한 validation loss를 보면 loss 값이 epoch가 커질수록 급경사 형태로 상향되며 가장 높은 loss를 나타내는 것을 볼 수 있다.\n",
    "<br>\n",
    "<br>\n",
    "- LSTM\n",
    "    - Training acc 에서는 1-D CNN에 비해 낮은 수준의 acc를 보이지만 수치 상으로 보았을 때 0.85 이상의 acc를 보인다. \n",
    "    - Training loss를 보면 1-D CNN보다 loss 값이 높지만 점진적으로 하향하는 모습을 볼 수 있다.\n",
    "    - Validation acc에서도 0.85 이상의 acc를 보이는 것을 볼 수 있으며, loss 값도 세 모델 중 가장 낮은 것을 볼 수 있다.\n",
    "    <br><br>\n",
    "- GlobalMaxPooling1D\n",
    "    - Training 결과를 보면 세 모델 중 가장 낮은 acc와 가장 높은 loss 값을 유지하는 것을 알 수 있다.\n",
    "    - vlaidation 결과에서도 마찬가지의 결과를 보였다.\n",
    "    <br><br>\n",
    "- 위 데이터들로만 판단했을 때는 `LSTM`이 해당 데이터에 가장 적합한 모델이라고 느껴졌다. \n",
    "---\n",
    "\n",
    "\n",
    "### 5-2.  'Adam', 'SGD', 'RMSprop', 'Adagrad', 'Adamax'  비교하기 (Training & Validation)"
   ]
  },
  {
   "cell_type": "code",
   "execution_count": 41,
   "id": "latest-breath",
   "metadata": {},
   "outputs": [
    {
     "data": {
      "text/plain": [
       "<Figure size 432x288 with 0 Axes>"
      ]
     },
     "metadata": {},
     "output_type": "display_data"
    },
    {
     "data": {
      "image/png": "[encoded data removed]",
      "text/plain": [
       "<Figure size 1440x720 with 4 Axes>"
      ]
     },
     "metadata": {
      "needs_background": "light"
     },
     "output_type": "display_data"
    }
   ],
   "source": [
    "epochs = range(1, 11)\n",
    "\n",
    "plt.clf() \n",
    "\n",
    "plt.figure(figsize=(20,10))\n",
    "plt.subplots_adjust(wspace=0.35, hspace=0.35)\n",
    "\n",
    "plt.subplot(221)\n",
    "plt.plot(epochs, model1_acc, 'b', label='Adam')\n",
    "plt.plot(epochs, model4_acc, 'r', label='SGD')\n",
    "plt.plot(epochs, model5_acc, 'g', label='RMSprop')\n",
    "plt.plot(epochs, model6_acc, 'm', label='Adagrad')\n",
    "plt.plot(epochs, model7_acc, 'c', label='Adamax')\n",
    "plt.title('Training acc')\n",
    "plt.xlabel('Epochs')\n",
    "plt.ylabel('Accuracy')\n",
    "plt.legend()\n",
    "\n",
    "plt.subplot(222)\n",
    "plt.plot(epochs, model1_vacc, 'b', label='Adam')\n",
    "plt.plot(epochs, model4_vacc, 'r', label='SGD')\n",
    "plt.plot(epochs, model5_vacc, 'g', label='RMSprop')\n",
    "plt.plot(epochs, model6_vacc, 'm', label='Adagrad')\n",
    "plt.plot(epochs, model7_vacc, 'c', label='Adamax')\n",
    "plt.title('Validation acc')\n",
    "plt.xlabel('Epochs')\n",
    "plt.ylabel('Accuracy')\n",
    "plt.legend()\n",
    "\n",
    "\n",
    "plt.subplot(223)\n",
    "plt.plot(epochs, model1_loss, 'b', label='Adam')\n",
    "plt.plot(epochs, model4_loss, 'r', label='SGD')\n",
    "plt.plot(epochs, model5_loss, 'g', label='RMSprop')\n",
    "plt.plot(epochs, model6_loss, 'm', label='Adagrad')\n",
    "plt.plot(epochs, model7_loss, 'c', label='Adamax')\n",
    "plt.title('Training loss')\n",
    "plt.xlabel('Epochs')\n",
    "plt.ylabel('Loss')\n",
    "plt.legend()\n",
    "\n",
    "\n",
    "plt.subplot(224)\n",
    "plt.plot(epochs, model1_val_loss, 'b', label='Adam')\n",
    "plt.plot(epochs, model4_val_loss, 'r', label='SGD')\n",
    "plt.plot(epochs, model5_val_loss, 'g', label='RMSprop')\n",
    "plt.plot(epochs, model6_val_loss, 'm', label='Adagrad')\n",
    "plt.plot(epochs, model7_val_loss, 'c', label='Adamax')\n",
    "plt.title('Validation loss')\n",
    "plt.xlabel('Epochs')\n",
    "plt.ylabel('Loss')\n",
    "plt.legend()\n",
    "\n",
    "\n",
    "plt.show()"
   ]
  },
  {
   "cell_type": "markdown",
   "id": "changed-award",
   "metadata": {},
   "source": [
    "- 가장 좋은 성능을 보인다고 판단 된 `LSTM`에 풀잎스쿨에서 배운 옵티마이저를 여러개 적용해서 비교해보았다.\n",
    "- 옵티마이저는 'Adam', 'SGD', 'RMSprop', 'Adagrad', 'Adamax'를 사용했다.\n",
    "<br><br>\n",
    "- Training acc & loss\n",
    "    - `Adam`과 `RMSprop`, `Adamax`가 높은 acc를 보이는 것을 알 수 있으며, loss 값 역시도 두 옵티마이저를 적용했을 때 상대적으로 낮은 것을 알 수 있다.\n",
    "    - Training 결과를 보면  `Adam`과 `RMSprop`, `Adamax`를 제외한 모델들은 acc가 매우 낮고, loss 값이 큰 것을 보아 해당 데이터에 적합하지 않다고 생각된다.\n",
    "    <br><br>\n",
    "- Validation acc & loss\n",
    "    - validation에서도 역시  `Adam`과 `RMSprop`, `Adamax`가 우세하였으며, 다른 모델들은 적합하지 않아 보인다.\n",
    "    - `Adam`은 training 에서는 acc, loss 면에서 `RMSprop` 보다 미세하게 우세하였으나, validation에서는 그 반대의 모습을 보이고 있는 점이 흥미로웠다.\n",
    "\n",
    "---\n",
    "\n",
    "### 5-3.  `LSTM`, `1D-CNN`, `GlobalMaxPooling1D 3`  비교하기 (Test)\n",
    "- 그렇다면 test 결과는 어땠을까?\n",
    "-  `LSTM`, `1D-CNN`, `GlobalMaxPooling1D 3` 3가지 모델은 먼저 비교해보자"
   ]
  },
  {
   "cell_type": "code",
   "execution_count": 42,
   "id": "treated-inquiry",
   "metadata": {},
   "outputs": [
    {
     "data": {
      "image/png": "[encoded data removed]",
      "text/plain": [
       "<Figure size 1080x504 with 2 Axes>"
      ]
     },
     "metadata": {
      "needs_background": "light"
     },
     "output_type": "display_data"
    }
   ],
   "source": [
    "x = np.arange(3)\n",
    "label1 = ['LSTM', '1-D CNN', 'GlobalMaxPooling1D']\n",
    "test_accs1 = [m1_tacc, m2_tacc, m3_tacc]\n",
    "test_loss1 = [m1_tloss, m2_tloss, m3_tloss]\n",
    "colors = ['y', 'dodgerblue', 'C2']\n",
    "\n",
    "plt.figure(figsize=(15,7))\n",
    "plt.subplots_adjust(wspace=0.35, hspace=0.35)\n",
    "\n",
    "plt.subplot(121)\n",
    "plt.bar(x, test_accs1, color=colors)\n",
    "plt.xticks(x, label1)\n",
    "plt.title('Test acc')\n",
    "plt.ylabel('Accuracy')\n",
    "\n",
    "plt.subplot(122)\n",
    "plt.bar(x, test_loss1, color=colors)\n",
    "plt.xticks(x, label1)\n",
    "plt.title('Test loss')\n",
    "plt.ylabel('Loss')\n",
    "\n",
    "plt.show()"
   ]
  },
  {
   "cell_type": "markdown",
   "id": "auburn-victim",
   "metadata": {},
   "source": [
    "- 막대형 그래프로  `LSTM`, `1D-CNN`, `GlobalMaxPooling1D 3` 모델들을 비교해보았다.\n",
    "- test 결과에서 `LSTM`이 가장 높은 acc 와 가장 낮은 loss 값을 보였다.\n",
    "\n",
    "---\n",
    "\n",
    "### 5-2.  'Adam', 'SGD', 'RMSprop', 'Adagrad', 'Adamax'  비교하기 (Test)\n",
    "옵티마이저를 다르게 적용한 LSTM들의 test 결과도 확인해보자"
   ]
  },
  {
   "cell_type": "code",
   "execution_count": 43,
   "id": "apparent-undergraduate",
   "metadata": {},
   "outputs": [
    {
     "data": {
      "image/png": "[encoded data removed]",
      "text/plain": [
       "<Figure size 1080x504 with 2 Axes>"
      ]
     },
     "metadata": {
      "needs_background": "light"
     },
     "output_type": "display_data"
    }
   ],
   "source": [
    "z = np.arange(5)\n",
    "label2 = ['Adam', 'SGD','RMSprop', 'Adagrad', 'Adamax']\n",
    "test_accs2 = [m1_tacc, m4_tacc, m5_tacc, m6_tacc, m7_tacc]\n",
    "test_loss2 = [m1_tloss, m4_tloss, m5_tloss, m6_tloss, m7_tloss]\n",
    "colors = ['y', 'dodgerblue', 'C2', 'C3', 'C4']\n",
    "\n",
    "plt.figure(figsize=(15,7))\n",
    "plt.subplots_adjust(wspace=0.35, hspace=0.35)\n",
    "\n",
    "plt.subplot(121)\n",
    "plt.bar(z, test_accs2, color=colors)\n",
    "plt.xticks(z, label2)\n",
    "plt.title('Test acc')\n",
    "plt.ylabel('Accuracy')\n",
    "\n",
    "plt.subplot(122)\n",
    "plt.bar(z, test_loss2, color=colors)\n",
    "plt.xticks(z, label2)\n",
    "plt.title('Test loss')\n",
    "plt.ylabel('Loss')\n",
    "\n",
    "\n",
    "\n",
    "plt.show()"
   ]
  },
  {
   "cell_type": "markdown",
   "id": "unlikely-drinking",
   "metadata": {},
   "source": [
    "- 옵티마이저들도 역시 막대형 그래프로 test 결과를 비교해보았다.\n",
    "- `RMSprop`이 가장 높은 acc와 loss를 보였으며, 그 다음으로는 `Adam`과 `Adamax`가 비슷한 성능으로 우세하였다.\n",
    "- test 결과에서도 역시 세 모델을 제외한 나머지 모델들의 성능은 좋지 못했다.\n",
    "\n",
    "--- \n",
    "### 전체 모델 test 결과 비교하기"
   ]
  },
  {
   "cell_type": "code",
   "execution_count": 45,
   "id": "soviet-brother",
   "metadata": {
    "scrolled": true
   },
   "outputs": [
    {
     "data": {
      "image/png": "[encoded data removed]",
      "text/plain": [
       "<Figure size 1080x720 with 1 Axes>"
      ]
     },
     "metadata": {
      "needs_background": "light"
     },
     "output_type": "display_data"
    }
   ],
   "source": [
    "k = np.arange(7)\n",
    "label3 = ['LSTM Adam', '1-D CNN', 'GlobalMaxPooling1D', 'LSTM-SGD','LSTM-RMSprop', 'LSTM-Adagrad', 'LSTM-Adamax']\n",
    "test_accs3 = [m1_tacc, m2_tacc, m3_tacc, m4_tacc, m5_tacc, m6_tacc, m7_tacc]\n",
    "test_loss3 = [m1_tloss, m2_tloss, m3_tloss, m4_tloss, m5_tloss, m6_tloss, m7_tloss]\n",
    "colors = ['y', 'dodgerblue', 'C2', 'C3', 'C4', 'C5', \"C7\"]\n",
    "\n",
    "plt.figure(figsize=(15,10))\n",
    "plt.subplots_adjust(wspace=0.35, hspace=0.35)\n",
    "\n",
    "plt.subplot(211)\n",
    "plt.bar(k, test_accs3, color=colors)\n",
    "plt.bar(k, test_loss3, color='r')\n",
    "plt.xticks(k, label3)\n",
    "plt.title('Test Result')\n",
    "plt.ylabel('Accuracy & Loss')\n",
    "\n",
    "plt.show()"
   ]
  },
  {
   "cell_type": "markdown",
   "id": "stable-international",
   "metadata": {},
   "source": [
    "- 전체 모델들의 test 결과를 시각화 해보았다.\n",
    "- 붉은 색으로 표시된 것은 test loss 값이며, 나머지 색상들은 모두 test acc를 나타낸다.\n",
    "- 전체 모델 중 **`LSTM`에 `RMSprop`을 사용한 모델이 test acc 0.8531, test loss 0.3407 가장 성능이 좋은 것으로 나타났다.**"
   ]
  },
  {
   "cell_type": "markdown",
   "id": "paperback-fence",
   "metadata": {},
   "source": [
    "---\n",
    "## 7. 학습된 Embedding 레이어 분석"
   ]
  },
  {
   "cell_type": "code",
   "execution_count": 20,
   "id": "offshore-scheduling",
   "metadata": {},
   "outputs": [
    {
     "name": "stdout",
     "output_type": "stream",
     "text": [
      "(10001, 4)\n"
     ]
    }
   ],
   "source": [
    "embedding_layer = model.layers[0]\n",
    "weights = embedding_layer.get_weights()[0]\n",
    "print(weights.shape)  "
   ]
  },
  {
   "cell_type": "code",
   "execution_count": 21,
   "id": "arctic-munich",
   "metadata": {},
   "outputs": [],
   "source": [
    "import os\n",
    "\n",
    "# 학습한 Embedding 파라미터를 파일에 써서 저장합니다. \n",
    "word2vec_file_path = os.getenv('HOME')+'/aiffel/sentiment_classification/data/word2vec.txt'\n",
    "f = open(word2vec_file_path, 'w')\n",
    "f.write('{} {}\\n'.format(len(index_to_word)-4, word_vector_dim))  # 몇개의 벡터를 얼마 사이즈로 기재할지 타이틀을 씁니다.\n",
    "\n",
    "# 단어 개수(에서 특수문자 4개는 제외하고)만큼의 워드 벡터를 파일에 기록합니다. \n",
    "vectors = model.get_weights()[0]\n",
    "for i in range(4,len(index_to_word)):\n",
    "    f.write('{} {}\\n'.format(index_to_word[i], ' '.join(map(str, list(vectors[i, :])))))\n",
    "f.close()"
   ]
  },
  {
   "cell_type": "code",
   "execution_count": 22,
   "id": "intelligent-mining",
   "metadata": {},
   "outputs": [],
   "source": [
    "from gensim.models.keyedvectors import Word2VecKeyedVectors\n",
    "\n",
    "word_vectors = Word2VecKeyedVectors.load_word2vec_format(word2vec_file_path, binary=False)"
   ]
  },
  {
   "cell_type": "code",
   "execution_count": 23,
   "id": "czech-brazil",
   "metadata": {},
   "outputs": [
    {
     "data": {
      "text/plain": [
       "[('짠해', 0.9999656081199646),\n",
       " ('삶', 0.999783992767334),\n",
       " ('벤', 0.9997737407684326),\n",
       " ('덜덜', 0.9997439980506897),\n",
       " ('박용우', 0.9997013807296753),\n",
       " ('이정현', 0.999628484249115),\n",
       " ('매혹', 0.9995113015174866),\n",
       " ('담긴', 0.9994324445724487),\n",
       " ('기뻤', 0.9993832111358643),\n",
       " ('금성무', 0.9993435740470886)]"
      ]
     },
     "execution_count": 23,
     "metadata": {},
     "output_type": "execute_result"
    }
   ],
   "source": [
    "word_vectors.similar_by_word(\"사랑\")"
   ]
  },
  {
   "cell_type": "code",
   "execution_count": 24,
   "id": "electoral-russia",
   "metadata": {},
   "outputs": [
    {
     "data": {
      "text/plain": [
       "[('남긴', 0.9998047351837158),\n",
       " ('실제', 0.9997484087944031),\n",
       " ('문자', 0.9997034072875977),\n",
       " ('돋', 0.999535083770752),\n",
       " ('짧', 0.9995003938674927),\n",
       " ('EBS', 0.9994606375694275),\n",
       " ('상상력', 0.9993327260017395),\n",
       " ('자격', 0.9992017149925232),\n",
       " ('극도', 0.9990943670272827),\n",
       " ('감동', 0.9989983439445496)]"
      ]
     },
     "execution_count": 24,
     "metadata": {},
     "output_type": "execute_result"
    }
   ],
   "source": [
    "word_vectors.similar_by_word(\"죽음\")"
   ]
  },
  {
   "cell_type": "code",
   "execution_count": 25,
   "id": "informal-essay",
   "metadata": {},
   "outputs": [
    {
     "data": {
      "text/plain": [
       "[('공중', 0.9997889995574951),\n",
       " ('비롯', 0.9997423887252808),\n",
       " ('선장', 0.9995591640472412),\n",
       " ('너머', 0.9995328783988953),\n",
       " ('도박', 0.9991116523742676),\n",
       " ('so', 0.9990561604499817),\n",
       " ('이소룡', 0.9990420937538147),\n",
       " ('오프닝', 0.9987783432006836),\n",
       " ('자세', 0.9987423419952393),\n",
       " ('엘리베이터', 0.9987382292747498)]"
      ]
     },
     "execution_count": 25,
     "metadata": {},
     "output_type": "execute_result"
    }
   ],
   "source": [
    "word_vectors.similar_by_word(\"행복\")"
   ]
  },
  {
   "cell_type": "markdown",
   "id": "removed-copying",
   "metadata": {},
   "source": [
    "- Word2Vec이 영어로 되어있다보니 한글 단어로 유사한 단어를 찾기에 어려움이 느껴진다."
   ]
  },
  {
   "cell_type": "markdown",
   "id": "exciting-politics",
   "metadata": {},
   "source": [
    "---\n",
    "\n",
    "## 8. 한국어 Word2Vec 임베딩 활용하여 성능 개선\n",
    "- 한국어 버전의 Word2Vec을 활용하기 위해서는 반드시 !! gensim 버전을 확인해야한다.\n",
    "- 계속 오류가 나타나서 해결하려고 많은 시간을 보냈는데 버전만 다운그레이드 해주면 되는 문제였다.\n",
    "- gensim 3.8.3으로 버전을 변경한 후 적용하니 ko.bin 파일을 제대로 불러올 수 있었다."
   ]
  },
  {
   "cell_type": "code",
   "execution_count": 26,
   "id": "administrative-poetry",
   "metadata": {
    "scrolled": true
   },
   "outputs": [
    {
     "name": "stdout",
     "output_type": "stream",
     "text": [
      "Requirement already satisfied: gensim==3.8.3 in /opt/conda/lib/python3.7/site-packages (3.8.3)\n",
      "Requirement already satisfied: numpy>=1.11.3 in /opt/conda/lib/python3.7/site-packages (from gensim==3.8.3) (1.19.5)\n",
      "Requirement already satisfied: smart-open>=1.8.1 in /opt/conda/lib/python3.7/site-packages (from gensim==3.8.3) (4.1.2)\n",
      "Requirement already satisfied: scipy>=0.18.1 in /opt/conda/lib/python3.7/site-packages (from gensim==3.8.3) (1.4.1)\n",
      "Requirement already satisfied: six>=1.5.0 in /opt/conda/lib/python3.7/site-packages (from gensim==3.8.3) (1.15.0)\n",
      "\u001b[33mWARNING: You are using pip version 20.3.3; however, version 21.3 is available.\n",
      "You should consider upgrading via the '/opt/conda/bin/python3.7 -m pip install --upgrade pip' command.\u001b[0m\n"
     ]
    }
   ],
   "source": [
    "!pip install gensim==3.8.3"
   ]
  },
  {
   "cell_type": "markdown",
   "id": "sonic-dinner",
   "metadata": {},
   "source": [
    "- gensim 버전 변경이 잘 되었는지 확인"
   ]
  },
  {
   "cell_type": "code",
   "execution_count": 27,
   "id": "complimentary-dependence",
   "metadata": {},
   "outputs": [
    {
     "data": {
      "text/plain": [
       "'3.8.3'"
      ]
     },
     "execution_count": 27,
     "metadata": {},
     "output_type": "execute_result"
    }
   ],
   "source": [
    "import gensim\n",
    "gensim.__version__"
   ]
  },
  {
   "cell_type": "code",
   "execution_count": 28,
   "id": "relevant-denver",
   "metadata": {},
   "outputs": [],
   "source": [
    "import gensim\n",
    "from gensim.models import KeyedVectors\n",
    "from gensim.models import Word2Vec\n",
    "word2vec_path = os.getenv('HOME')+'/aiffel/sentiment_classification/data/ko.bin'"
   ]
  },
  {
   "cell_type": "code",
   "execution_count": 29,
   "id": "aggregate-melbourne",
   "metadata": {},
   "outputs": [
    {
     "name": "stderr",
     "output_type": "stream",
     "text": [
      "/opt/conda/lib/python3.7/site-packages/ipykernel_launcher.py:2: DeprecationWarning: Call to deprecated `__getitem__` (Method will be removed in 4.0.0, use self.wv.__getitem__() instead).\n",
      "  \n"
     ]
    },
    {
     "data": {
      "text/plain": [
       "array([-1.3740246 , -1.7353463 ,  3.3915305 , -2.569253  , -1.4016607 ,\n",
       "        1.4556127 ,  0.9414557 ,  1.9207907 ,  0.16471806,  0.4838317 ,\n",
       "       -0.8547181 ,  2.0879807 ,  0.86741775,  0.87539405, -0.09962013,\n",
       "        0.22928311, -1.1858722 ,  0.00858838,  1.4999928 , -0.16196461,\n",
       "       -0.35184434, -0.92390764,  1.0849575 ,  0.3025011 ,  2.7021565 ,\n",
       "       -1.0263684 ,  0.32864776, -0.76589465, -2.510981  , -0.66225356,\n",
       "        2.8434615 ,  0.50130975, -1.021874  , -1.4366034 ,  1.1110784 ,\n",
       "        0.5812605 , -0.5830406 , -0.5785423 ,  1.3634988 ,  2.3074338 ,\n",
       "       -1.4314893 ,  0.45745876,  1.1073523 , -3.2135262 , -0.2898375 ,\n",
       "       -1.1622221 ,  1.2369208 , -0.7622987 , -0.37757635,  1.1376442 ,\n",
       "        0.01065568, -0.69105595,  1.5159112 ,  1.1534518 , -1.0119992 ,\n",
       "       -0.5757404 ,  1.1349088 , -1.1289831 ,  0.13004152,  2.0451715 ,\n",
       "       -0.23940353,  1.3604902 ,  0.72700524,  0.32545742,  1.0612459 ,\n",
       "        0.42252553,  1.1442151 ,  2.8774905 ,  2.4377263 , -1.340305  ,\n",
       "        0.12629706, -0.07772489, -0.59053177, -0.19007324,  0.1396541 ,\n",
       "       -1.8655105 ,  0.9401054 ,  0.5150856 ,  0.7795373 , -0.86505556,\n",
       "        0.11842118, -1.8303713 ,  1.337177  , -1.0102932 , -0.37180334,\n",
       "        0.00893255, -0.49141577, -1.05802   , -2.5987291 ,  0.9731856 ,\n",
       "        0.34080654, -2.5973568 ,  1.0046519 , -1.3914212 , -0.6504351 ,\n",
       "       -0.9010805 , -1.1341541 ,  0.75565654,  1.2941337 ,  0.0880572 ,\n",
       "       -1.0341461 , -0.1750075 , -0.01880708, -1.0835075 , -2.0333962 ,\n",
       "        1.1372623 ,  1.0626172 , -1.8369784 , -2.2662086 , -3.382057  ,\n",
       "        1.6751666 , -0.2988223 , -0.25563756, -1.5594274 ,  0.6313433 ,\n",
       "       -1.2667153 , -1.6857744 , -1.0949599 ,  0.7742313 , -0.6095523 ,\n",
       "        3.19503   ,  0.13200459,  1.7937473 , -2.8782516 ,  1.3821276 ,\n",
       "        2.2895143 ,  0.0741943 , -0.41046414,  1.438796  ,  0.19373988,\n",
       "        1.4294034 ,  1.5025262 ,  1.4849502 ,  1.5754777 ,  2.7793512 ,\n",
       "       -0.6885003 , -0.30154693, -1.708323  ,  1.1030879 , -2.2597387 ,\n",
       "        1.1909146 ,  2.4399316 ,  0.3990314 ,  0.904154  ,  0.5454401 ,\n",
       "       -1.3235748 , -0.64812386,  0.22390233,  0.9657619 , -0.47360668,\n",
       "       -0.10278235, -1.0679734 , -0.91414386,  0.92069   ,  0.3549338 ,\n",
       "        0.32858834,  0.84870636,  3.596926  , -1.6651102 ,  0.23658653,\n",
       "        1.0515738 ,  0.40531915, -0.773514  , -0.93460965, -0.3946274 ,\n",
       "       -1.5657727 ,  1.183652  ,  2.5277    ,  0.57700926,  1.7051374 ,\n",
       "       -1.8249958 , -2.0328498 ,  0.6617798 ,  0.85747904,  0.31782728,\n",
       "       -1.1660796 ,  0.32923874,  2.2055087 , -0.12782003,  2.0455444 ,\n",
       "       -0.1724252 ,  0.46001154,  1.559042  , -1.6152996 , -0.84242785,\n",
       "        0.7553168 ,  0.39734274,  0.07714175,  0.05610155,  0.32837135,\n",
       "        1.0220716 ,  1.3816743 ,  0.8049544 ,  0.28728685, -0.97610044,\n",
       "        0.8861181 , -0.01250968, -1.4845604 , -1.5236791 , -1.5451258 ],\n",
       "      dtype=float32)"
      ]
     },
     "execution_count": 29,
     "metadata": {},
     "output_type": "execute_result"
    }
   ],
   "source": [
    "word2vec = gensim.models.Word2Vec.load(word2vec_path)\n",
    "vector = word2vec['사랑'] \n",
    "vector"
   ]
  },
  {
   "cell_type": "code",
   "execution_count": 30,
   "id": "narrative-image",
   "metadata": {},
   "outputs": [
    {
     "data": {
      "text/plain": [
       "[('슬픔', 0.7216662764549255),\n",
       " ('행복', 0.6759077310562134),\n",
       " ('절망', 0.6468985080718994),\n",
       " ('기쁨', 0.6458414196968079),\n",
       " ('이별', 0.6334798336029053),\n",
       " ('추억', 0.6320937275886536),\n",
       " ('인생', 0.6216273307800293),\n",
       " ('애정', 0.6206069588661194),\n",
       " ('연인', 0.6186063289642334),\n",
       " ('유혹', 0.5965287685394287)]"
      ]
     },
     "execution_count": 30,
     "metadata": {},
     "output_type": "execute_result"
    }
   ],
   "source": [
    "word2vec.wv.most_similar(\"사랑\")"
   ]
  },
  {
   "cell_type": "code",
   "execution_count": 31,
   "id": "ranking-thanks",
   "metadata": {},
   "outputs": [
    {
     "data": {
      "text/plain": [
       "[('운명', 0.6403501629829407),\n",
       " ('슬픔', 0.6214146614074707),\n",
       " ('영혼', 0.5676152110099792),\n",
       " ('괴로움', 0.5649088621139526),\n",
       " ('악몽', 0.5648330450057983),\n",
       " ('아픔', 0.5566291809082031),\n",
       " ('고난', 0.5450730323791504),\n",
       " ('시련', 0.543346643447876),\n",
       " ('세상', 0.542243480682373),\n",
       " ('죄책감', 0.5393192768096924)]"
      ]
     },
     "execution_count": 31,
     "metadata": {},
     "output_type": "execute_result"
    }
   ],
   "source": [
    "word2vec.wv.most_similar(\"죽음\")"
   ]
  },
  {
   "cell_type": "code",
   "execution_count": 32,
   "id": "interested-penguin",
   "metadata": {
    "scrolled": true
   },
   "outputs": [
    {
     "data": {
      "text/plain": [
       "[('사랑', 0.6759077310562134),\n",
       " ('기쁨', 0.6493781805038452),\n",
       " ('즐거움', 0.6396492719650269),\n",
       " ('삶', 0.6299898028373718),\n",
       " ('젊음', 0.6187379360198975),\n",
       " ('즐겁', 0.6027448177337646),\n",
       " ('인생', 0.6002243161201477),\n",
       " ('존엄', 0.5952589511871338),\n",
       " ('고독', 0.5938762426376343),\n",
       " ('불행', 0.5894461870193481)]"
      ]
     },
     "execution_count": 32,
     "metadata": {},
     "output_type": "execute_result"
    }
   ],
   "source": [
    "word2vec.wv.most_similar(\"행복\")"
   ]
  },
  {
   "cell_type": "markdown",
   "id": "bigger-priest",
   "metadata": {},
   "source": [
    "- 앞서 사용했던 키워드를 그대로 사용하였지만, 한국어 Word2Vec을 활용하니 보다 유의미한 결과가 나오는 것을 확인할 수 있다.\n",
    "---\n",
    "### 모델 학습\n",
    "이전 모델들 중 가장 성능이 좋다고 판단되었던 `LSTM +RMSprop`, `LSTM +Adam`모델로 학습을 진행하였다."
   ]
  },
  {
   "cell_type": "markdown",
   "id": "ordinary-hormone",
   "metadata": {},
   "source": [
    "#### LSTM + Adam"
   ]
  },
  {
   "cell_type": "code",
   "execution_count": 48,
   "id": "educational-vegetation",
   "metadata": {},
   "outputs": [
    {
     "name": "stderr",
     "output_type": "stream",
     "text": [
      "/opt/conda/lib/python3.7/site-packages/ipykernel_launcher.py:7: DeprecationWarning: Call to deprecated `__contains__` (Method will be removed in 4.0.0, use self.wv.__contains__() instead).\n",
      "  import sys\n",
      "/opt/conda/lib/python3.7/site-packages/ipykernel_launcher.py:8: DeprecationWarning: Call to deprecated `__getitem__` (Method will be removed in 4.0.0, use self.wv.__getitem__() instead).\n",
      "  \n"
     ]
    }
   ],
   "source": [
    "vocab_size = 10000    # 어휘 사전의 크기입니다(10,000개의 단어)\n",
    "word_vector_dim = 200  # 워드 벡터의 차원수\n",
    "embedding_matrix = np.random.rand(vocab_size, word_vector_dim)\n",
    "\n",
    "# embedding_matrix에 Word2Vec 워드 벡터를 단어 하나씩마다 차례차례 카피한다.\n",
    "for i in range(4,vocab_size):\n",
    "    if index_to_word[i] in word2vec:\n",
    "        embedding_matrix[i] = word2vec[index_to_word[i]]"
   ]
  },
  {
   "cell_type": "code",
   "execution_count": 49,
   "id": "funded-trust",
   "metadata": {},
   "outputs": [
    {
     "name": "stdout",
     "output_type": "stream",
     "text": [
      "Model: \"sequential_4\"\n",
      "_________________________________________________________________\n",
      "Layer (type)                 Output Shape              Param #   \n",
      "=================================================================\n",
      "embedding_3 (Embedding)      (None, 40, 200)           2000000   \n",
      "_________________________________________________________________\n",
      "lstm_3 (LSTM)                (None, 8)                 6688      \n",
      "_________________________________________________________________\n",
      "dense_6 (Dense)              (None, 8)                 72        \n",
      "_________________________________________________________________\n",
      "dense_7 (Dense)              (None, 1)                 9         \n",
      "=================================================================\n",
      "Total params: 2,006,769\n",
      "Trainable params: 2,006,769\n",
      "Non-trainable params: 0\n",
      "_________________________________________________________________\n"
     ]
    }
   ],
   "source": [
    "from tensorflow.keras.initializers import Constant\n",
    "# 모델 구성\n",
    "model = keras.Sequential()\n",
    "model.add(keras.layers.Embedding(vocab_size,\n",
    "                                 word_vector_dim, \n",
    "                                 embeddings_initializer=Constant(embedding_matrix),  # 카피한 임베딩을 여기서 활용\n",
    "                                 input_length=maxlen, \n",
    "                                 trainable=True))\n",
    "model.add(keras.layers.LSTM(8))   # 가장 널리 쓰이는 RNN인 LSTM 레이어를 사용하였습니다. 이때 LSTM state 벡터의 차원수는 8로 하였습니다. (변경 가능)\n",
    "model.add(keras.layers.Dense(8, activation='relu'))\n",
    "model.add(keras.layers.Dense(1, activation='sigmoid'))  # 최종 출력은 긍정/부정을 나타내는 1dim 입니다.\n",
    "\n",
    "model.summary()"
   ]
  },
  {
   "cell_type": "code",
   "execution_count": 50,
   "id": "physical-arrangement",
   "metadata": {},
   "outputs": [
    {
     "name": "stdout",
     "output_type": "stream",
     "text": [
      "Epoch 1/10\n",
      "1115/1115 [==============================] - 23s 19ms/step - loss: 0.6234 - accuracy: 0.6037 - val_loss: 0.3850 - val_accuracy: 0.8351\n",
      "Epoch 2/10\n",
      "1115/1115 [==============================] - 20s 18ms/step - loss: 0.3604 - accuracy: 0.8460 - val_loss: 0.3345 - val_accuracy: 0.8603\n",
      "Epoch 3/10\n",
      "1115/1115 [==============================] - 20s 18ms/step - loss: 0.3063 - accuracy: 0.8744 - val_loss: 0.3254 - val_accuracy: 0.8577\n",
      "Epoch 4/10\n",
      "1115/1115 [==============================] - 20s 18ms/step - loss: 0.2756 - accuracy: 0.8872 - val_loss: 0.3219 - val_accuracy: 0.8569\n",
      "Epoch 5/10\n",
      "1115/1115 [==============================] - 21s 18ms/step - loss: 0.2590 - accuracy: 0.8951 - val_loss: 0.3314 - val_accuracy: 0.8569\n",
      "Epoch 6/10\n",
      "1115/1115 [==============================] - 21s 19ms/step - loss: 0.2417 - accuracy: 0.9036 - val_loss: 0.3367 - val_accuracy: 0.8577\n",
      "Epoch 7/10\n",
      "1115/1115 [==============================] - 21s 18ms/step - loss: 0.2206 - accuracy: 0.9136 - val_loss: 0.3553 - val_accuracy: 0.8543\n",
      "Epoch 8/10\n",
      "1115/1115 [==============================] - 20s 18ms/step - loss: 0.2087 - accuracy: 0.9185 - val_loss: 0.3653 - val_accuracy: 0.8617\n",
      "Epoch 9/10\n",
      "1115/1115 [==============================] - 20s 18ms/step - loss: 0.1912 - accuracy: 0.9258 - val_loss: 0.3717 - val_accuracy: 0.8520\n",
      "Epoch 10/10\n",
      "1115/1115 [==============================] - 21s 18ms/step - loss: 0.1808 - accuracy: 0.9318 - val_loss: 0.3941 - val_accuracy: 0.8514\n"
     ]
    }
   ],
   "source": [
    "model.compile(optimizer='Adam',\n",
    "              loss='binary_crossentropy',\n",
    "              metrics=['accuracy'])\n",
    "              \n",
    "epochs=10  # 몇 epoch를 훈련하면 좋을지 결과를 보면서 바꾸어 봅시다. \n",
    "\n",
    "history8 = model.fit(partial_x_train,\n",
    "                    partial_y_train,\n",
    "                    epochs=epochs,\n",
    "                    batch_size=128,\n",
    "                    validation_data=(x_val, y_val),\n",
    "                    verbose=1)"
   ]
  },
  {
   "cell_type": "code",
   "execution_count": 51,
   "id": "unsigned-thong",
   "metadata": {},
   "outputs": [
    {
     "name": "stdout",
     "output_type": "stream",
     "text": [
      "1537/1537 - 5s - loss: 0.4160 - accuracy: 0.8431\n",
      "[0.416003555059433, 0.8431352376937866]\n"
     ]
    }
   ],
   "source": [
    "results8 = model.evaluate(X_test,  y_test, verbose=2)\n",
    "\n",
    "print(results8)"
   ]
  },
  {
   "cell_type": "code",
   "execution_count": 78,
   "id": "unlikely-nevada",
   "metadata": {},
   "outputs": [],
   "source": [
    "history8_dict = history8.history"
   ]
  },
  {
   "cell_type": "code",
   "execution_count": 80,
   "id": "indoor-plaza",
   "metadata": {},
   "outputs": [
    {
     "data": {
      "image/png": "[encoded data removed]",
      "text/plain": [
       "<Figure size 1080x360 with 2 Axes>"
      ]
     },
     "metadata": {
      "needs_background": "light"
     },
     "output_type": "display_data"
    }
   ],
   "source": [
    "acc8 = history8_dict['accuracy']\n",
    "val_acc8 = history8_dict['val_accuracy']\n",
    "loss8 = history8_dict['loss']\n",
    "val_loss8 = history8_dict['val_loss']\n",
    "\n",
    "epochs = range(1, len(acc8) + 1)\n",
    "\n",
    "plt.figure(figsize=(15,5))\n",
    "\n",
    "plt.subplot(1,2,1)\n",
    "plt.plot(epochs, loss8, 'bo', label='Training loss')\n",
    "plt.plot(epochs, val_loss8, 'b', label='Validation loss')\n",
    "plt.title('Training and validation loss')\n",
    "plt.xlabel('Epochs')\n",
    "plt.ylabel('Loss')\n",
    "plt.legend()\n",
    "\n",
    "plt.subplot(1,2,2)\n",
    "plt.plot(epochs, acc8, 'ro', label='Training acc')\n",
    "plt.plot(epochs, val_acc8, 'r', label='Validation acc')\n",
    "plt.title('Training and validation accuracy')\n",
    "plt.xlabel('Epochs')\n",
    "plt.ylabel('Accuracy')\n",
    "plt.legend()\n",
    "\n",
    "plt.show()"
   ]
  },
  {
   "cell_type": "markdown",
   "id": "pharmaceutical-sacramento",
   "metadata": {},
   "source": [
    "- LSTM에 Adam을 적용한 모델의 Training & Validation 결과를 보자.\n",
    "- 먼저 loss 값을 보면 training loss는 점차적으로 줄어가지만, validation은 하강하는 양상을 보이다가 다시 증가하는 것을 볼 수 있다. \n",
    "- accuracy 를 보면 training acc는 점차적으로 상향하는 형태를 보이지만, validation은 큰 변동이 없는 것으로 보인다."
   ]
  },
  {
   "cell_type": "code",
   "execution_count": 54,
   "id": "upset-shaft",
   "metadata": {},
   "outputs": [
    {
     "name": "stdout",
     "output_type": "stream",
     "text": [
      "Model: \"sequential_5\"\n",
      "_________________________________________________________________\n",
      "Layer (type)                 Output Shape              Param #   \n",
      "=================================================================\n",
      "embedding_4 (Embedding)      (None, 40, 200)           2000000   \n",
      "_________________________________________________________________\n",
      "lstm_4 (LSTM)                (None, 8)                 6688      \n",
      "_________________________________________________________________\n",
      "dense_8 (Dense)              (None, 8)                 72        \n",
      "_________________________________________________________________\n",
      "dense_9 (Dense)              (None, 1)                 9         \n",
      "=================================================================\n",
      "Total params: 2,006,769\n",
      "Trainable params: 2,006,769\n",
      "Non-trainable params: 0\n",
      "_________________________________________________________________\n"
     ]
    }
   ],
   "source": [
    "# 모델 구성\n",
    "model = keras.Sequential()\n",
    "model.add(keras.layers.Embedding(vocab_size,\n",
    "                                 word_vector_dim, \n",
    "                                 embeddings_initializer=Constant(embedding_matrix),  # 카피한 임베딩을 여기서 활용\n",
    "                                 input_length=maxlen, \n",
    "                                 trainable=True))\n",
    "model.add(keras.layers.LSTM(8))   # 가장 널리 쓰이는 RNN인 LSTM 레이어를 사용하였습니다. 이때 LSTM state 벡터의 차원수는 8로 하였습니다. (변경 가능)\n",
    "model.add(keras.layers.Dense(8, activation='relu'))\n",
    "model.add(keras.layers.Dense(1, activation='sigmoid'))  # 최종 출력은 긍정/부정을 나타내는 1dim 입니다.\n",
    "\n",
    "model.summary()"
   ]
  },
  {
   "cell_type": "code",
   "execution_count": 55,
   "id": "finished-cycling",
   "metadata": {},
   "outputs": [
    {
     "name": "stdout",
     "output_type": "stream",
     "text": [
      "Epoch 1/10\n",
      "1115/1115 [==============================] - 17s 13ms/step - loss: 0.6172 - accuracy: 0.6168 - val_loss: 0.3700 - val_accuracy: 0.8351\n",
      "Epoch 2/10\n",
      "1115/1115 [==============================] - 15s 14ms/step - loss: 0.3651 - accuracy: 0.8389 - val_loss: 0.3341 - val_accuracy: 0.8549\n",
      "Epoch 3/10\n",
      "1115/1115 [==============================] - 15s 14ms/step - loss: 0.3308 - accuracy: 0.8589 - val_loss: 0.3202 - val_accuracy: 0.8666\n",
      "Epoch 4/10\n",
      "1115/1115 [==============================] - 15s 14ms/step - loss: 0.3101 - accuracy: 0.8687 - val_loss: 0.3206 - val_accuracy: 0.8657\n",
      "Epoch 5/10\n",
      "1115/1115 [==============================] - 15s 14ms/step - loss: 0.3010 - accuracy: 0.8727 - val_loss: 0.3103 - val_accuracy: 0.8686\n",
      "Epoch 6/10\n",
      "1115/1115 [==============================] - 15s 14ms/step - loss: 0.2896 - accuracy: 0.8783 - val_loss: 0.3149 - val_accuracy: 0.8726\n",
      "Epoch 7/10\n",
      "1115/1115 [==============================] - 15s 14ms/step - loss: 0.2786 - accuracy: 0.8832 - val_loss: 0.3089 - val_accuracy: 0.8711\n",
      "Epoch 8/10\n",
      "1115/1115 [==============================] - 15s 14ms/step - loss: 0.2730 - accuracy: 0.8861 - val_loss: 0.3114 - val_accuracy: 0.8691\n",
      "Epoch 9/10\n",
      "1115/1115 [==============================] - 15s 13ms/step - loss: 0.2640 - accuracy: 0.8905 - val_loss: 0.3147 - val_accuracy: 0.8706\n",
      "Epoch 10/10\n",
      "1115/1115 [==============================] - 14s 13ms/step - loss: 0.2595 - accuracy: 0.8927 - val_loss: 0.3142 - val_accuracy: 0.8663\n"
     ]
    }
   ],
   "source": [
    "model.compile(optimizer='RMSprop',\n",
    "              loss='binary_crossentropy',\n",
    "              metrics=['accuracy'])\n",
    "              \n",
    "epochs=10  # 몇 epoch를 훈련하면 좋을지 결과를 보면서 바꾸어 봅시다. \n",
    "\n",
    "history9 = model.fit(partial_x_train,\n",
    "                    partial_y_train,\n",
    "                    epochs=epochs,\n",
    "                    batch_size=128,\n",
    "                    validation_data=(x_val, y_val),\n",
    "                    verbose=1)"
   ]
  },
  {
   "cell_type": "code",
   "execution_count": 56,
   "id": "placed-dress",
   "metadata": {},
   "outputs": [
    {
     "name": "stdout",
     "output_type": "stream",
     "text": [
      "1537/1537 - 5s - loss: 0.3268 - accuracy: 0.8586\n",
      "[0.3267643451690674, 0.858555257320404]\n"
     ]
    }
   ],
   "source": [
    "results9 = model.evaluate(X_test,  y_test, verbose=2)\n",
    "\n",
    "print(results9)"
   ]
  },
  {
   "cell_type": "code",
   "execution_count": 57,
   "id": "celtic-cycle",
   "metadata": {},
   "outputs": [],
   "source": [
    "history9_dict = history9.history"
   ]
  },
  {
   "cell_type": "code",
   "execution_count": 81,
   "id": "pointed-announcement",
   "metadata": {},
   "outputs": [
    {
     "data": {
      "image/png": "[encoded data removed]",
      "text/plain": [
       "<Figure size 1080x360 with 2 Axes>"
      ]
     },
     "metadata": {
      "needs_background": "light"
     },
     "output_type": "display_data"
    }
   ],
   "source": [
    "acc9 = history9_dict['accuracy']\n",
    "val_acc9 = history9_dict['val_accuracy']\n",
    "loss9 = history9_dict['loss']\n",
    "val_loss9 = history9_dict['val_loss']\n",
    "\n",
    "epochs = range(1, len(acc9) + 1)\n",
    "\n",
    "plt.figure(figsize=(15,5))\n",
    "\n",
    "plt.subplot(1,2,1)\n",
    "plt.plot(epochs, loss9, 'bo', label='Training loss')\n",
    "plt.plot(epochs, val_loss9, 'b', label='Validation loss')\n",
    "plt.title('Training and validation loss')\n",
    "plt.xlabel('Epochs')\n",
    "plt.ylabel('Loss')\n",
    "plt.legend()\n",
    "\n",
    "plt.subplot(1,2,2)\n",
    "plt.plot(epochs, acc9, 'ro', label='Training acc')\n",
    "plt.plot(epochs, val_acc9, 'r', label='Validation acc')\n",
    "plt.title('Training and validation accuracy')\n",
    "plt.xlabel('Epochs')\n",
    "plt.ylabel('Accuracy')\n",
    "plt.legend()\n",
    "\n",
    "plt.show()"
   ]
  },
  {
   "cell_type": "markdown",
   "id": "disabled-familiar",
   "metadata": {},
   "source": [
    "- LSTM에 RMSprop을 적용한 모델의 training & validation 결과를 확인해보자.\n",
    "- training loss는 하향하는 모습, 그리고 validation loss는 하향하다가 일정 수준을 유지하는 모습을 보인다.\n",
    "- training acc는 상향하는 모습, validation acc는 역시 상향하다가 일정한 값을 유지하는 것을 볼 수 있다."
   ]
  },
  {
   "cell_type": "code",
   "execution_count": 59,
   "id": "filled-merit",
   "metadata": {
    "scrolled": false
   },
   "outputs": [
    {
     "data": {
      "text/plain": [
       "<matplotlib.legend.Legend at 0x7f3f4b3a4250>"
      ]
     },
     "execution_count": 59,
     "metadata": {},
     "output_type": "execute_result"
    },
    {
     "data": {
      "text/plain": [
       "<Figure size 432x288 with 0 Axes>"
      ]
     },
     "metadata": {},
     "output_type": "display_data"
    },
    {
     "data": {
      "image/png": "[encoded data removed]",
      "text/plain": [
       "<Figure size 1080x720 with 4 Axes>"
      ]
     },
     "metadata": {
      "needs_background": "light"
     },
     "output_type": "display_data"
    }
   ],
   "source": [
    "epochs = range(1, len(acc9) + 1)\n",
    "\n",
    "plt.clf() \n",
    "\n",
    "plt.figure(figsize=(15, 10))\n",
    "plt.subplots_adjust(wspace=0.35, hspace=0.35)\n",
    "\n",
    "plt.subplot(221)\n",
    "plt.plot(epochs, acc8, 'b', label='LSTM + Adam')\n",
    "plt.plot(epochs, acc9, 'r', label='LSTM + RMSprop')\n",
    "plt.title('Training acc')\n",
    "plt.xlabel('Epochs')\n",
    "plt.ylabel('Accuracy')\n",
    "plt.legend()\n",
    "\n",
    "plt.subplot(222)\n",
    "plt.plot(epochs, val_acc8, 'b', label='LSTM + Adam')\n",
    "plt.plot(epochs, val_acc9, 'r', label='LSTM + RMSprop')\n",
    "plt.title('Validation acc')\n",
    "plt.xlabel('Epochs')\n",
    "plt.ylabel('Accuracy')\n",
    "plt.legend()\n",
    "\n",
    "plt.subplot(223)\n",
    "plt.plot(epochs, loss8, 'b', label='LSTM + Adam')\n",
    "plt.plot(epochs, loss9, 'r', label='LSTM + RMSprop')\n",
    "plt.title('Training loss')\n",
    "plt.xlabel('Epochs')\n",
    "plt.ylabel('Loss')\n",
    "plt.legend()\n",
    "\n",
    "\n",
    "plt.subplot(224)\n",
    "plt.plot(epochs, val_loss8, 'b', label='LSTM + Adam')\n",
    "plt.plot(epochs, val_loss9, 'r', label='LSTM + RMSprop')\n",
    "plt.title('Validation loss')\n",
    "plt.xlabel('Epochs')\n",
    "plt.ylabel('Loss')\n",
    "plt.legend()"
   ]
  },
  {
   "cell_type": "markdown",
   "id": "antique-nursing",
   "metadata": {},
   "source": [
    "- 두 모델의 training & validation 결과를 함께 보자.\n",
    "- 이번에도 역시 Training 결과에서는 Adam을 적용한 모델이 우세하지만, validation에서는 RMSprop을 적용한 모델이 더 우세한 것을 볼 수 있다.\n",
    "- 아무래도 LSTM 모델에는 RMSprop을 사용하는 것이 효과가 좋은 것 같다."
   ]
  },
  {
   "cell_type": "code",
   "execution_count": 74,
   "id": "absolute-choice",
   "metadata": {
    "scrolled": false
   },
   "outputs": [
    {
     "data": {
      "image/png": "[encoded data removed]",
      "text/plain": [
       "<Figure size 1440x720 with 1 Axes>"
      ]
     },
     "metadata": {
      "needs_background": "light"
     },
     "output_type": "display_data"
    }
   ],
   "source": [
    "m1_tacc = results1[1]\n",
    "m1_tloss = results1[0]\n",
    "\n",
    "m5_tacc = results5[1]\n",
    "m5_tloss = results5[0]\n",
    "\n",
    "tloss8=results8[0]\n",
    "tloss9=results9[0]\n",
    "tacc8=results8[1]\n",
    "tacc9=results9[1]\n",
    "\n",
    "k = np.arange(4)\n",
    "label3 = ['LSTM + Adam(En)', 'LSTM + Adam(ko)', 'LSTM + RMSprop(En)', 'LSTM + RMSprop(ko)']\n",
    "test_accs4 = [m1_tacc, tacc8, m5_tacc, tacc9]\n",
    "test_loss4 = [m1_tloss, tloss8, m5_tloss, tloss9]\n",
    "colors = ['C7', 'dodgerblue', 'C4', 'C1']\n",
    "\n",
    "plt.figure(figsize=(20,10))\n",
    "\n",
    "plt.subplot(111)\n",
    "plt.barh(k, test_accs4, color=colors)\n",
    "plt.barh(k, test_loss4, color='r')\n",
    "plt.yticks(k, label3)\n",
    "plt.xlim([0,1])\n",
    "plt.title('Test Result')\n",
    "plt.xlabel('Accuracy & Loss')\n",
    "\n",
    "plt.show()"
   ]
  },
  {
   "cell_type": "code",
   "execution_count": 77,
   "id": "little-prison",
   "metadata": {},
   "outputs": [
    {
     "name": "stdout",
     "output_type": "stream",
     "text": [
      "LSTM + Adam(En) -  test acc:0.8440710306167603, test loss: 0.3856655955314636\n",
      "LSTM + Adam(ko) -  test acc:0.8431352376937866, test loss: 0.416003555059433\n",
      "LSTM + RMSprop(En) -  test acc:0.8506011366844177, test loss: 0.34131869673728943\n",
      "LSTM + RMSprop(ko) -  test acc:0.858555257320404, test loss: 0.3267643451690674\n"
     ]
    }
   ],
   "source": [
    "for i in range(4):\n",
    "    print(\"{} -  test acc:{}, test loss: {}\".format(label3[i], test_accs4[i], test_loss4[i])) "
   ]
  },
  {
   "cell_type": "markdown",
   "id": "precious-ferry",
   "metadata": {},
   "source": [
    "-  위 그래프와 수치를 통해 한국어 Word2Vec을 활용한 효과를 확인해보자.\n",
    "- 위 결과들은 각 모델들의 test acc와 test loss 를 나타낸 것이다.\n",
    "- LSTM+Adam 모델들에서는 미세하지만 결과가 더 안좋게 나왔다.\n",
    "- LSTM+RMSprop 모델들에서는 미세하지만 ko 모델의 acc는 상승하였고, loss도 줄어들은 것을 볼 수 있다."
   ]
  },
  {
   "cell_type": "markdown",
   "id": "matched-motel",
   "metadata": {},
   "source": [
    "---\n",
    "## 9. 평가\n",
    "\n"
   ]
  },
  {
   "cell_type": "markdown",
   "id": "changing-rover",
   "metadata": {},
   "source": [
    "\n",
    "\n",
    "|  **No.**  |  **구분** | <center> **내용** </center> |\n",
    "|:----:|:----:|:----|\n",
    "| **01** | **평가 문항** | 1. 다양한 방법으로 Text Classification 태스크를 성공적으로 구현하였다. |\n",
    "| **02** | **상세 기준** | 3가지 이상의 모델이 성공적으로 시도됨 |\n",
    "| **03** | <center>**나의 평가**</center> | 'LSTM Adam', '1-D CNN', 'GlobalMaxPooling1D', 'LSTM-SGD','LSTM-RMSprop', 'LSTM-Adagrad', 'LSTM-Adamax'로 총 7개의 모델을 사용하여 테스트 해보았음 |\n",
    "\n",
    "\n",
    "|  **No.**  | **구분** | <center>**내용**</center> |\n",
    "|:----:|:----:|:----|\n",
    "| **01** | **평가 문항** | 2. gensim을 활용하여 자체학습된 혹은 사전학습된 임베딩 레이어를 분석하였다. |\n",
    "| **02** | **상세 기준** | gensim의 유사단어 찾기를 활용하여 자체학습한 임베딩과 사전학습 임베딩을 적절히 분석함 |\n",
    "| **03** | **나의 평가** | gensim을 이용하여 유사 단어를 확인해보았으나, 제시한 단어와 크게 관련되지 않은 단어들이 높은 유사도를 가진 것으로 결과가 나왔다. 이는 영어 Word2Vec를 활용해서 인것으로 생각되어 한국어 Word2Vec을 사용하였다. 결과적으로 제시된 단어와 유사한 단어들이 출력된 것을 확인할 수 있었다.|\n",
    "\n",
    "\n",
    "\n",
    "|  **No.** | **구분** | <center>**내용** </center> |\n",
    "|:----:|:----:|:----|\n",
    "| **01** | **평가 문항** | 3. 한국어 Word2Vec을 활용하여 가시적인 성능향상을 달성했다. |\n",
    "| **02** | **상세 기준** | 네이버 영화리뷰 데이터 감성분석 정확도를 85% 이상 달성함 |\n",
    "| **03** | **나의 평가** | 한국어 Word2Vec을 활용하여 LSTM+RMSprop의 accracy를 높이고 loss 값을 낮췄다. 괄목할만한 결과는 아니었지만 성능 향상이 보였던 부분이 있었다. 하지만 LSTM+Adam 모델에서는 오히려 결과값이 안좋게 나왔다. 이 부분은 조금 더 공부해서 확인해봐야할 것 같다. 결과적으로는  LSTM+RMSprop 모델을 통해 정확도 85% 이상의 결과를 달성하였다.|\n",
    "    \n"
   ]
  },
  {
   "cell_type": "markdown",
   "id": "supported-sunrise",
   "metadata": {},
   "source": [
    "--- \n",
    "\n",
    "## 10. 회고\n",
    "\n"
   ]
  },
  {
   "cell_type": "markdown",
   "id": "satellite-philadelphia",
   "metadata": {},
   "source": [
    "- 이번 프로젝트를 진행하면서 이전에 배운 내용들을 많이 찾아봤다. 그 만큼 학습해온 내용을 복합적으로 많이 사용했던 것 같고, 몰랐던 부분들을 알게 된 것 같아서 좋았던 것 같다.\n",
    "- 특히 프로젝트를 진행하면서 에러가 정말 많이 났다. 에러를 해결하기 위해 서치를 많이 해봤지만 모든 오류를 해결하기엔 어려움이 있었다. \n",
    "- '그럼 어떻게 해결했는가?' 라고 묻는다면 ... 작성한 코드를 정말 오래보니 답이 나왔다. 이 부분에서 정말 크게 배웠다.\n",
    "- 코드를 작성할 때 무지성으로 작성하지않고 내 코드에 대해서 정확한 이해를 해야하고, 맞는 흐름으로 작성하고 있는지도 체크해가야 한다는 생각이 들었다.\n",
    "- 이번 프로젝트를 한 모든 순간이 그 동안 배운 것을 정리하고, 새로운 함수나 모듈을 알게 되고, 내 코드 리뷰도 매우 중요하다는 사실 등을 배운 귀하고 의미있었던 시간이었던 것 같다."
   ]
  },
  {
   "cell_type": "markdown",
   "id": "dramatic-damages",
   "metadata": {},
   "source": [
    "---\n",
    "## 참고자료\n",
    "\n",
    "[Pandas-DataFrame에서 행 삭제 및 추가](https://blog.naver.com/PostView.nhn?blogId=rising_n_falling&logNo=221629326893)"
   ]
  }
 ],
 "metadata": {
  "kernelspec": {
   "display_name": "Python 3",
   "language": "python",
   "name": "python3"
  },
  "language_info": {
   "codemirror_mode": {
    "name": "ipython",
    "version": 3
   },
   "file_extension": ".py",
   "mimetype": "text/x-python",
   "name": "python",
   "nbconvert_exporter": "python",
   "pygments_lexer": "ipython3",
   "version": "3.7.9"
  }
 },
 "nbformat": 4,
 "nbformat_minor": 5
}
